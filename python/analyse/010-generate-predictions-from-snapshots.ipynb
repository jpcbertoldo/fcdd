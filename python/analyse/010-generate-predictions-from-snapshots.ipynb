{
 "cells": [
  {
   "cell_type": "markdown",
   "id": "2434603f-0033-421b-b4c0-9bf014ed69ce",
   "metadata": {},
   "source": [
    "# generate predictions from snapshots"
   ]
  },
  {
   "cell_type": "code",
   "execution_count": null,
   "id": "cbdba5c9",
   "metadata": {},
   "outputs": [],
   "source": []
  },
  {
   "cell_type": "markdown",
   "id": "e3177b81-d523-4310-bce0-148567546571",
   "metadata": {},
   "source": [
    "# setup"
   ]
  },
  {
   "cell_type": "code",
   "execution_count": 1,
   "id": "a062205c-4337-4225-bc51-a6f54b1bddaa",
   "metadata": {},
   "outputs": [],
   "source": [
    "# make a cell print all the outputs instead of just the last one\n",
    "from IPython.core.interactiveshell import InteractiveShell\n",
    "InteractiveShell.ast_node_interactivity = \"all\""
   ]
  },
  {
   "cell_type": "code",
   "execution_count": 2,
   "id": "e5700969-d2c4-4e98-9d97-25929e89c4a8",
   "metadata": {},
   "outputs": [],
   "source": [
    "from pathlib import Path\n",
    "\n",
    "FIGS_DIR = Path(\".\") / \"figs\"\n",
    "FIGS_DIR.mkdir(exist_ok=True)\n",
    "\n",
    "DATA_DIR = Path(\".\") / \"data\"\n",
    "DATA_DIR.mkdir(exist_ok=True)\n",
    "\n",
    "SNAPSHOTS_DIR = Path(\"../../data/\") / \"snapshots-gen-img\"\n",
    "assert SNAPSHOTS_DIR.exists()\n",
    "\n",
    "MVTECAD_DIR= Path.home() / \"data/mvtec\"\n",
    "assert MVTECAD_DIR.exists()\n",
    "\n",
    "RECORDS_FPATH = DATA_DIR / \"009-generate-predictions-from-snapshots.pkl\"\n"
   ]
  },
  {
   "cell_type": "markdown",
   "id": "eeb65432",
   "metadata": {},
   "source": [
    "# get snapshots"
   ]
  },
  {
   "cell_type": "code",
   "execution_count": 70,
   "id": "9ac6f263-8445-489a-be98-4526acd6ffbe",
   "metadata": {},
   "outputs": [],
   "source": [
    "import numpy as np\n",
    "from numpy import ndarray\n",
    "from typing import Dict, Union\n",
    "from pathlib import Path\n",
    "import json\n",
    "import re\n",
    "from datetime import timedelta, datetime\n",
    "import numpy as np\n",
    "from numpy import ndarray\n",
    "from typing import Dict, Union, List\n",
    "from pathlib import Path\n",
    "import json\n",
    "import numpy as np\n",
    "from numpy import ndarray\n",
    "from typing import Dict, Union\n",
    "from pathlib import Path\n",
    "import json\n",
    "import re\n",
    "import copy\n",
    "from typing import List\n",
    "\n",
    "\n",
    "# this is to get the strings associated to the classes in the fcdd code\n",
    "# copied from: fcdd/python/fcdd/datasets/__init__.py\n",
    "# inside function `str_labels`\n",
    "# commit: 9f268d8fd2fee33a5c5f38cdfb781da927bdb614\n",
    "CLASS_LABELS = {\n",
    "    'cifar10': ['airplane', 'automobile', 'bird', 'cat', 'deer', 'dog', 'frog', 'horse', 'ship', 'truck'],\n",
    "    'fmnist': [\n",
    "        't-shirt/top', 'trouser', 'pullover', 'dress', 'coat', 'sandal', 'shirt', 'sneaker', 'bag', 'ankle boot'\n",
    "    ],\n",
    "    'mvtec': [\n",
    "        'bottle', 'cable', 'capsule', 'carpet', 'grid', 'hazelnut', 'leather',\n",
    "        'metal_nut', 'pill', 'screw', 'tile', 'toothbrush', 'transistor',\n",
    "        'wood', 'zipper'\n",
    "    ],\n",
    "    # 'imagenet': deepcopy(ADImageNet.ad_classes),\n",
    "    # this one forwards to: fcdd/python/fcdd/datasets/imagenet.py\n",
    "    # in: ADImageNet.ad_classes\n",
    "    # at the same commit as above\n",
    "    'imagenet': ['acorn', 'airliner', 'ambulance', 'American alligator', 'banjo', 'barn', 'bikini', 'digital clock',\n",
    "                  'dragonfly', 'dumbbell', 'forklift', 'goblet', 'grand piano', 'hotdog', 'hourglass', 'manhole cover',\n",
    "                  'mosque', 'nail', 'parking meter', 'pillow', 'revolver', 'dial telephone', 'schooner',\n",
    "                  'snowmobile', 'soccer ball', 'stingray', 'strawberry', 'tank', 'toaster', 'volcano'],\n",
    "    'pascalvoc': ['horse'],\n",
    "}\n",
    "\n",
    "def get_classes_labels_order(dataset: str) -> List[str]:\n",
    "    return copy.deepcopy(CLASS_LABELS[dataset])\n",
    "\n",
    "def get_class_label(class_dirname: str, dataset: str) -> str:\n",
    "    return CLASS_LABELS[dataset][int(class_dirname.lstrip(\"normal_\"))]\n",
    "\n",
    "class MissingFileInExperiment(FileNotFoundError):\n",
    "    pass\n",
    "\n",
    "class UnfinishedExperiment(Exception):\n",
    "    pass\n",
    "\n",
    "def get_snapshots(experiment_dir: Path) -> Dict[str, Union[str, float, ndarray]]:\n",
    "    \"\"\"\n",
    "    :param experiment_dir: path to the experiment directory\n",
    "    \"\"\"\n",
    "    snapshots_dir = experiment_dir / \"training_snapshots\"\n",
    "    \n",
    "    snapshots = []\n",
    "    for snashotpath in snapshots_dir.glob(\"snapshotepoch=*.pt\"):\n",
    "        snapshot_name = snashotpath.name\n",
    "        epoch = int(snashotpath.stem.split(\"=\")[1]) \n",
    "        snapshots.append({\n",
    "            \"fpath\": snashotpath,\n",
    "            \"snapshot_name\": snapshot_name,\n",
    "            \"epoch\": epoch,\n",
    "        })\n",
    "        \n",
    "    return snapshots\n",
    "\n",
    "\n",
    "def get_all(path: Path, dataset: str) -> List[Dict[str, Union[str, float, ndarray]]]:\n",
    "    \n",
    "    \"\"\"\n",
    "    :param path: a folder that contains dirs like 'fcdd_20211220193242_fmnist_' \n",
    "                 a whole experiment on a dataset with all iterations and nominal classes inside, \n",
    "                 the structure should look like\n",
    "                 \n",
    "                path/\n",
    "                path/normal_0\n",
    "                path/normal_1\n",
    "                ...\n",
    "                path/normal_9/\n",
    "                path/normal_9/it_0\n",
    "                ...\n",
    "                path/normal_9/it_4/roc.json\n",
    "    \"\"\"\n",
    "    assert path.is_dir()\n",
    "    assert dataset in CLASS_LABELS\n",
    "    \n",
    "    snapshots = []\n",
    "    \n",
    "    # 0th level: the runs, e.g. fcdd_20211220193242_fmnist_\n",
    "    for rundir in path.glob(\"*\"):\n",
    "        \n",
    "        print(f\"{rundir.name=}\")\n",
    "        if not rundir.is_dir():\n",
    "            continue\n",
    "\n",
    "        # first level: classes\n",
    "        for classdir in rundir.glob(\"normal_*\"):\n",
    "            \n",
    "            print(f\"{classdir.name=}\")\n",
    "            if not classdir.is_dir():\n",
    "                continue\n",
    "\n",
    "            # second level: iterations\n",
    "            for iterdir in classdir.glob(\"it_*\"):\n",
    "\n",
    "                print(f\"{iterdir.name=}\")\n",
    "                if not iterdir.is_dir():\n",
    "                    continue\n",
    "\n",
    "                try: \n",
    "                    experiment_snapshots = get_snapshots(iterdir)\n",
    "\n",
    "                except UnfinishedExperiment as ex:\n",
    "                    print(f\"experiment in {iterdir=} seems to be unfinished, it'll be ignored\")\n",
    "                    continue\n",
    "                \n",
    "                for snap in experiment_snapshots:\n",
    "                    print\n",
    "                    snapshots.append({\n",
    "                        **snap,\n",
    "                        **{\n",
    "                            \"rootdir\": path,\n",
    "                            \"rundir\": rundir,\n",
    "                            \"classdir\": classdir,\n",
    "                            \"iterdir\": iterdir,\n",
    "                            \"rundir_name\": rundir.name,\n",
    "                            \"classdir_name\": classdir.name,\n",
    "                            \"class_idx\": int(classdir.name.split(\"_\")[1]),\n",
    "                            \"class_label\": get_class_label(classdir.name, dataset),\n",
    "                            \"iterdir_name\": iterdir.name,\n",
    "                            \"iter_idx\": int(iterdir.name.split(\"_\")[1]),\n",
    "                        },\n",
    "                    })\n",
    "                    \n",
    "            print(30 * \"-\")\n",
    "\n",
    "    return snapshots\n",
    "\n",
    "\n",
    "# get_all(path=SNAPSHOTS_DIR, dataset=\"mvtec\")"
   ]
  },
  {
   "cell_type": "code",
   "execution_count": 71,
   "id": "a1210af5-5436-4560-9234-90e56927ca5f",
   "metadata": {},
   "outputs": [
    {
     "name": "stdout",
     "output_type": "stream",
     "text": [
      "loading records\n",
      "couldn't find records, recomputing\n",
      "rundir.name='fcdd_20220202002148_snapshots2_node24_job3040465__mvtec_'\n",
      "classdir.name='normal_3'\n",
      "iterdir.name='it_0'\n",
      "------------------------------\n"
     ]
    },
    {
     "data": {
      "text/plain": [
       "'len(records)=14'"
      ]
     },
     "execution_count": 71,
     "metadata": {},
     "output_type": "execute_result"
    }
   ],
   "source": [
    "import copy\n",
    "import pickle\n",
    "\n",
    "try:\n",
    "    del records\n",
    "    \n",
    "except NameError:\n",
    "    pass\n",
    "\n",
    "try:\n",
    "    print(\"loading records\")\n",
    "    with RECORDS_FPATH.open(\"rw\") as f:\n",
    "        records = pickle.load(f)\n",
    "        \n",
    "except:\n",
    "    \n",
    "    print(\"couldn't find records, recomputing\")\n",
    "    records = get_all(path=SNAPSHOTS_DIR, dataset=\"mvtec\")\n",
    "\n",
    "    # print(\"saving records\")\n",
    "    # with RECORDS_FPATH.open(\"wb\") as f:\n",
    "    #     pickle.dump(records, f)\n",
    "        \n",
    "f\"{len(records)=}\""
   ]
  },
  {
   "cell_type": "code",
   "execution_count": 76,
   "id": "429a46bb",
   "metadata": {},
   "outputs": [
    {
     "data": {
      "text/html": [
       "<div>\n",
       "<style scoped>\n",
       "    .dataframe tbody tr th:only-of-type {\n",
       "        vertical-align: middle;\n",
       "    }\n",
       "\n",
       "    .dataframe tbody tr th {\n",
       "        vertical-align: top;\n",
       "    }\n",
       "\n",
       "    .dataframe thead th {\n",
       "        text-align: right;\n",
       "    }\n",
       "</style>\n",
       "<table border=\"1\" class=\"dataframe\">\n",
       "  <thead>\n",
       "    <tr style=\"text-align: right;\">\n",
       "      <th></th>\n",
       "      <th></th>\n",
       "      <th></th>\n",
       "      <th></th>\n",
       "      <th>fpath</th>\n",
       "      <th>snapshot_name</th>\n",
       "      <th>rootdir</th>\n",
       "      <th>class_idx</th>\n",
       "    </tr>\n",
       "    <tr>\n",
       "      <th>rundir_name</th>\n",
       "      <th>class_label</th>\n",
       "      <th>iter_idx</th>\n",
       "      <th>epoch</th>\n",
       "      <th></th>\n",
       "      <th></th>\n",
       "      <th></th>\n",
       "      <th></th>\n",
       "    </tr>\n",
       "  </thead>\n",
       "  <tbody>\n",
       "    <tr>\n",
       "      <th rowspan=\"5\" valign=\"top\">fcdd_20220202002148_snapshots2_node24_job3040465__mvtec_</th>\n",
       "      <th rowspan=\"5\" valign=\"top\">carpet</th>\n",
       "      <th rowspan=\"5\" valign=\"top\">0</th>\n",
       "      <th>49</th>\n",
       "      <td>../../data/snapshots-gen-img/fcdd_202202020021...</td>\n",
       "      <td>snapshotepoch=00049.pt</td>\n",
       "      <td>../../data/snapshots-gen-img</td>\n",
       "      <td>3</td>\n",
       "    </tr>\n",
       "    <tr>\n",
       "      <th>10</th>\n",
       "      <td>../../data/snapshots-gen-img/fcdd_202202020021...</td>\n",
       "      <td>snapshotepoch=00010.pt</td>\n",
       "      <td>../../data/snapshots-gen-img</td>\n",
       "      <td>3</td>\n",
       "    </tr>\n",
       "    <tr>\n",
       "      <th>13</th>\n",
       "      <td>../../data/snapshots-gen-img/fcdd_202202020021...</td>\n",
       "      <td>snapshotepoch=00013.pt</td>\n",
       "      <td>../../data/snapshots-gen-img</td>\n",
       "      <td>3</td>\n",
       "    </tr>\n",
       "    <tr>\n",
       "      <th>24</th>\n",
       "      <td>../../data/snapshots-gen-img/fcdd_202202020021...</td>\n",
       "      <td>snapshotepoch=00024.pt</td>\n",
       "      <td>../../data/snapshots-gen-img</td>\n",
       "      <td>3</td>\n",
       "    </tr>\n",
       "    <tr>\n",
       "      <th>39</th>\n",
       "      <td>../../data/snapshots-gen-img/fcdd_202202020021...</td>\n",
       "      <td>snapshotepoch=00039.pt</td>\n",
       "      <td>../../data/snapshots-gen-img</td>\n",
       "      <td>3</td>\n",
       "    </tr>\n",
       "  </tbody>\n",
       "</table>\n",
       "</div>"
      ],
      "text/plain": [
       "                                                                                                                           fpath  \\\n",
       "rundir_name                                        class_label iter_idx epoch                                                      \n",
       "fcdd_20220202002148_snapshots2_node24_job304046... carpet      0        49     ../../data/snapshots-gen-img/fcdd_202202020021...   \n",
       "                                                                        10     ../../data/snapshots-gen-img/fcdd_202202020021...   \n",
       "                                                                        13     ../../data/snapshots-gen-img/fcdd_202202020021...   \n",
       "                                                                        24     ../../data/snapshots-gen-img/fcdd_202202020021...   \n",
       "                                                                        39     ../../data/snapshots-gen-img/fcdd_202202020021...   \n",
       "\n",
       "                                                                                        snapshot_name  \\\n",
       "rundir_name                                        class_label iter_idx epoch                           \n",
       "fcdd_20220202002148_snapshots2_node24_job304046... carpet      0        49     snapshotepoch=00049.pt   \n",
       "                                                                        10     snapshotepoch=00010.pt   \n",
       "                                                                        13     snapshotepoch=00013.pt   \n",
       "                                                                        24     snapshotepoch=00024.pt   \n",
       "                                                                        39     snapshotepoch=00039.pt   \n",
       "\n",
       "                                                                                                    rootdir  \\\n",
       "rundir_name                                        class_label iter_idx epoch                                 \n",
       "fcdd_20220202002148_snapshots2_node24_job304046... carpet      0        49     ../../data/snapshots-gen-img   \n",
       "                                                                        10     ../../data/snapshots-gen-img   \n",
       "                                                                        13     ../../data/snapshots-gen-img   \n",
       "                                                                        24     ../../data/snapshots-gen-img   \n",
       "                                                                        39     ../../data/snapshots-gen-img   \n",
       "\n",
       "                                                                               class_idx  \n",
       "rundir_name                                        class_label iter_idx epoch             \n",
       "fcdd_20220202002148_snapshots2_node24_job304046... carpet      0        49             3  \n",
       "                                                                        10             3  \n",
       "                                                                        13             3  \n",
       "                                                                        24             3  \n",
       "                                                                        39             3  "
      ]
     },
     "execution_count": 76,
     "metadata": {},
     "output_type": "execute_result"
    }
   ],
   "source": [
    "import pandas as pd\n",
    "index_cols = [\"rundir_name\", \"class_label\", \"iter_idx\", \"epoch\"]\n",
    "drop_cols = [\"rundir\", \"classdir\", \"iterdir\", \"classdir_name\", \"iterdir_name\"]\n",
    "df_snapshots = pd.DataFrame.from_records(data=records).set_index(index_cols).drop(columns=drop_cols)\n",
    "df_snapshots.head(5)"
   ]
  },
  {
   "cell_type": "markdown",
   "id": "9598c9e2-c9fa-4a88-bbc2-74bfaa5109a7",
   "metadata": {},
   "source": [
    "# select examples"
   ]
  },
  {
   "cell_type": "markdown",
   "id": "33ccd84d",
   "metadata": {},
   "source": [
    "## find dataset images"
   ]
  },
  {
   "cell_type": "code",
   "execution_count": 49,
   "id": "668c56f9",
   "metadata": {},
   "outputs": [
    {
     "name": "stdout",
     "output_type": "stream",
     "text": [
      "classdir.name='tile'\n",
      "testdir.name='test'\n",
      "typedir.name='gray_stroke'\n",
      "len(img_paths)=16\n",
      "typedir.name='rough'\n",
      "len(img_paths)=15\n",
      "typedir.name='crack'\n",
      "len(img_paths)=17\n",
      "typedir.name='good'\n",
      "len(img_paths)=33\n",
      "typedir.name='glue_strip'\n",
      "len(img_paths)=18\n",
      "typedir.name='oil'\n",
      "len(img_paths)=18\n",
      "traindir.name='train'\n",
      "------------------------------\n",
      "classdir.name='metal_nut'\n",
      "testdir.name='test'\n",
      "typedir.name='scratch'\n",
      "len(img_paths)=23\n",
      "typedir.name='bent'\n",
      "len(img_paths)=25\n",
      "typedir.name='color'\n",
      "len(img_paths)=22\n",
      "typedir.name='good'\n",
      "len(img_paths)=22\n",
      "typedir.name='flip'\n",
      "len(img_paths)=23\n",
      "traindir.name='train'\n",
      "------------------------------\n",
      "classdir.name='pill'\n",
      "testdir.name='test'\n",
      "typedir.name='pill_type'\n",
      "len(img_paths)=9\n",
      "typedir.name='scratch'\n",
      "len(img_paths)=24\n",
      "typedir.name='combined'\n",
      "len(img_paths)=17\n",
      "typedir.name='color'\n",
      "len(img_paths)=25\n",
      "typedir.name='crack'\n",
      "len(img_paths)=26\n",
      "typedir.name='good'\n",
      "len(img_paths)=26\n",
      "typedir.name='faulty_imprint'\n",
      "len(img_paths)=19\n",
      "typedir.name='contamination'\n",
      "len(img_paths)=21\n",
      "traindir.name='train'\n",
      "------------------------------\n",
      "classdir.name='hazelnut'\n",
      "testdir.name='test'\n",
      "typedir.name='print'\n",
      "len(img_paths)=17\n",
      "typedir.name='cut'\n",
      "len(img_paths)=17\n",
      "typedir.name='crack'\n",
      "len(img_paths)=18\n",
      "typedir.name='good'\n",
      "len(img_paths)=40\n",
      "typedir.name='hole'\n",
      "len(img_paths)=18\n",
      "traindir.name='train'\n",
      "------------------------------\n",
      "classdir.name='zipper'\n",
      "testdir.name='test'\n",
      "typedir.name='squeezed_teeth'\n",
      "len(img_paths)=16\n",
      "typedir.name='combined'\n",
      "len(img_paths)=16\n",
      "typedir.name='broken_teeth'\n",
      "len(img_paths)=19\n",
      "typedir.name='rough'\n",
      "len(img_paths)=17\n",
      "typedir.name='good'\n",
      "len(img_paths)=32\n",
      "typedir.name='split_teeth'\n",
      "len(img_paths)=18\n",
      "typedir.name='fabric_interior'\n",
      "len(img_paths)=16\n",
      "typedir.name='fabric_border'\n",
      "len(img_paths)=17\n",
      "traindir.name='train'\n",
      "------------------------------\n",
      "classdir.name='toothbrush'\n",
      "testdir.name='test'\n",
      "typedir.name='good'\n",
      "len(img_paths)=12\n",
      "typedir.name='defective'\n",
      "len(img_paths)=30\n",
      "traindir.name='train'\n",
      "------------------------------\n",
      "classdir.name='screw'\n",
      "testdir.name='test'\n",
      "typedir.name='thread_top'\n",
      "len(img_paths)=23\n",
      "typedir.name='good'\n",
      "len(img_paths)=41\n",
      "typedir.name='thread_side'\n",
      "len(img_paths)=23\n",
      "typedir.name='manipulated_front'\n",
      "len(img_paths)=24\n",
      "typedir.name='scratch_head'\n",
      "len(img_paths)=24\n",
      "typedir.name='scratch_neck'\n",
      "len(img_paths)=25\n",
      "traindir.name='train'\n",
      "------------------------------\n",
      "classdir.name='bottle'\n",
      "testdir.name='test'\n",
      "typedir.name='good'\n",
      "len(img_paths)=20\n",
      "typedir.name='contamination'\n",
      "len(img_paths)=21\n",
      "typedir.name='broken_large'\n",
      "len(img_paths)=20\n",
      "typedir.name='broken_small'\n",
      "len(img_paths)=22\n",
      "traindir.name='train'\n",
      "------------------------------\n",
      "classdir.name='cable'\n",
      "testdir.name='test'\n",
      "typedir.name='missing_wire'\n",
      "len(img_paths)=10\n",
      "typedir.name='missing_cable'\n",
      "len(img_paths)=12\n",
      "typedir.name='cut_outer_insulation'\n",
      "len(img_paths)=10\n",
      "typedir.name='bent_wire'\n",
      "len(img_paths)=13\n",
      "typedir.name='combined'\n",
      "len(img_paths)=11\n",
      "typedir.name='good'\n",
      "len(img_paths)=58\n",
      "typedir.name='cable_swap'\n",
      "len(img_paths)=12\n",
      "typedir.name='cut_inner_insulation'\n",
      "len(img_paths)=14\n",
      "typedir.name='poke_insulation'\n",
      "len(img_paths)=10\n",
      "traindir.name='train'\n",
      "------------------------------\n",
      "classdir.name='transistor'\n",
      "testdir.name='test'\n",
      "typedir.name='misplaced'\n",
      "len(img_paths)=10\n",
      "typedir.name='bent_lead'\n",
      "len(img_paths)=10\n",
      "typedir.name='good'\n",
      "len(img_paths)=60\n",
      "typedir.name='damaged_case'\n",
      "len(img_paths)=10\n",
      "typedir.name='cut_lead'\n",
      "len(img_paths)=10\n",
      "traindir.name='train'\n",
      "------------------------------\n",
      "classdir.name='grid'\n",
      "testdir.name='test'\n",
      "typedir.name='broken'\n",
      "len(img_paths)=12\n",
      "typedir.name='bent'\n",
      "len(img_paths)=12\n",
      "typedir.name='thread'\n",
      "len(img_paths)=11\n",
      "typedir.name='good'\n",
      "len(img_paths)=21\n",
      "typedir.name='glue'\n",
      "len(img_paths)=11\n",
      "typedir.name='metal_contamination'\n",
      "len(img_paths)=11\n",
      "traindir.name='train'\n",
      "------------------------------\n",
      "classdir.name='leather'\n",
      "testdir.name='test'\n",
      "typedir.name='cut'\n",
      "len(img_paths)=19\n",
      "typedir.name='color'\n",
      "len(img_paths)=19\n",
      "typedir.name='good'\n",
      "len(img_paths)=32\n",
      "typedir.name='glue'\n",
      "len(img_paths)=19\n",
      "typedir.name='poke'\n",
      "len(img_paths)=18\n",
      "typedir.name='fold'\n",
      "len(img_paths)=17\n",
      "traindir.name='train'\n",
      "------------------------------\n",
      "classdir.name='wood'\n",
      "testdir.name='test'\n",
      "typedir.name='scratch'\n",
      "len(img_paths)=21\n",
      "typedir.name='combined'\n",
      "len(img_paths)=11\n",
      "typedir.name='color'\n",
      "len(img_paths)=8\n",
      "typedir.name='good'\n",
      "len(img_paths)=19\n",
      "typedir.name='liquid'\n",
      "len(img_paths)=10\n",
      "typedir.name='hole'\n",
      "len(img_paths)=10\n",
      "traindir.name='train'\n",
      "------------------------------\n",
      "classdir.name='capsule'\n",
      "testdir.name='test'\n",
      "typedir.name='scratch'\n",
      "len(img_paths)=23\n",
      "typedir.name='crack'\n",
      "len(img_paths)=23\n",
      "typedir.name='good'\n",
      "len(img_paths)=23\n",
      "typedir.name='squeeze'\n",
      "len(img_paths)=20\n",
      "typedir.name='faulty_imprint'\n",
      "len(img_paths)=22\n",
      "typedir.name='poke'\n",
      "len(img_paths)=21\n",
      "traindir.name='train'\n",
      "------------------------------\n",
      "classdir.name='carpet'\n",
      "testdir.name='test'\n",
      "typedir.name='cut'\n",
      "len(img_paths)=17\n",
      "typedir.name='color'\n",
      "len(img_paths)=19\n",
      "typedir.name='thread'\n",
      "len(img_paths)=19\n",
      "typedir.name='good'\n",
      "len(img_paths)=28\n",
      "typedir.name='metal_contamination'\n",
      "len(img_paths)=17\n",
      "typedir.name='hole'\n",
      "len(img_paths)=17\n",
      "traindir.name='train'\n",
      "------------------------------\n",
      "len(imgs)=5354\n"
     ]
    }
   ],
   "source": [
    "IMAGES_GLOB = \"*.png\"\n",
    "\n",
    "imgs = []\n",
    "\n",
    "for classdir in MVTECAD_DIR.glob(\"*\"):\n",
    "    \n",
    "    if not classdir.is_dir():\n",
    "        continue    \n",
    "    \n",
    "    print(f\"{classdir.name=}\")\n",
    "    \n",
    "    testdir = classdir / \"test\"\n",
    "    traindir = classdir / \"train\"\n",
    "    \n",
    "    if not testdir.exists() and not traindir.exists():\n",
    "        continue\n",
    "    \n",
    "    print(f\"{testdir.name=}\")    \n",
    "    \n",
    "    for typedir in testdir.glob(\"*\"):\n",
    "        \n",
    "        if not typedir.is_dir():\n",
    "            continue\n",
    "        \n",
    "        print(f\"{typedir.name=}\")\n",
    "        \n",
    "        img_paths = list(typedir.glob(IMAGES_GLOB))\n",
    "        \n",
    "        if len(img_paths) == 0:\n",
    "            print(\"empty dir\")\n",
    "            continue  \n",
    "        \n",
    "        print(f\"{len(img_paths)=}\")      \n",
    "        \n",
    "        for imgpath in img_paths:\n",
    "            imgs.append({\n",
    "                \"imgpath\": imgpath,\n",
    "                \"class\": classdir.name,\n",
    "                \"type\": typedir.name,\n",
    "                \"set\": \"test\",\n",
    "                \"imgidx\": int(imgpath.stem),\n",
    "            })\n",
    "            \n",
    "    print(f\"{traindir.name=}\")\n",
    "    \n",
    "    img_paths = list((traindir / \"good\").glob(IMAGES_GLOB))\n",
    "    \n",
    "    if len(img_paths) == 0:\n",
    "        print(\"empty dir\")\n",
    "\n",
    "    else:\n",
    "        for imgpath in img_paths:\n",
    "            imgs.append({\n",
    "                \"imgpath\": imgpath,\n",
    "                \"class\": classdir.name,\n",
    "                \"type\": \"good\",\n",
    "                \"set\": \"train\",\n",
    "                \"imgidx\": int(imgpath.stem),\n",
    "            })    \n",
    "    \n",
    "    print(30 * \"-\")\n",
    "\n",
    "print(f\"{len(imgs)=}\")"
   ]
  },
  {
   "cell_type": "code",
   "execution_count": 78,
   "id": "3d740236",
   "metadata": {},
   "outputs": [
    {
     "data": {
      "text/html": [
       "<div>\n",
       "<style scoped>\n",
       "    .dataframe tbody tr th:only-of-type {\n",
       "        vertical-align: middle;\n",
       "    }\n",
       "\n",
       "    .dataframe tbody tr th {\n",
       "        vertical-align: top;\n",
       "    }\n",
       "\n",
       "    .dataframe thead th {\n",
       "        text-align: right;\n",
       "    }\n",
       "</style>\n",
       "<table border=\"1\" class=\"dataframe\">\n",
       "  <thead>\n",
       "    <tr style=\"text-align: right;\">\n",
       "      <th></th>\n",
       "      <th></th>\n",
       "      <th></th>\n",
       "      <th></th>\n",
       "      <th>imgpath</th>\n",
       "    </tr>\n",
       "    <tr>\n",
       "      <th>class</th>\n",
       "      <th>set</th>\n",
       "      <th>type</th>\n",
       "      <th>imgidx</th>\n",
       "      <th></th>\n",
       "    </tr>\n",
       "  </thead>\n",
       "  <tbody>\n",
       "    <tr>\n",
       "      <th rowspan=\"5\" valign=\"top\">tile</th>\n",
       "      <th rowspan=\"5\" valign=\"top\">test</th>\n",
       "      <th rowspan=\"5\" valign=\"top\">gray_stroke</th>\n",
       "      <th>9</th>\n",
       "      <td>/home/jcasagrandebertoldo/data/mvtec/tile/test...</td>\n",
       "    </tr>\n",
       "    <tr>\n",
       "      <th>10</th>\n",
       "      <td>/home/jcasagrandebertoldo/data/mvtec/tile/test...</td>\n",
       "    </tr>\n",
       "    <tr>\n",
       "      <th>14</th>\n",
       "      <td>/home/jcasagrandebertoldo/data/mvtec/tile/test...</td>\n",
       "    </tr>\n",
       "    <tr>\n",
       "      <th>15</th>\n",
       "      <td>/home/jcasagrandebertoldo/data/mvtec/tile/test...</td>\n",
       "    </tr>\n",
       "    <tr>\n",
       "      <th>0</th>\n",
       "      <td>/home/jcasagrandebertoldo/data/mvtec/tile/test...</td>\n",
       "    </tr>\n",
       "    <tr>\n",
       "      <th>...</th>\n",
       "      <th>...</th>\n",
       "      <th>...</th>\n",
       "      <th>...</th>\n",
       "      <td>...</td>\n",
       "    </tr>\n",
       "    <tr>\n",
       "      <th rowspan=\"5\" valign=\"top\">carpet</th>\n",
       "      <th rowspan=\"5\" valign=\"top\">train</th>\n",
       "      <th rowspan=\"5\" valign=\"top\">good</th>\n",
       "      <th>51</th>\n",
       "      <td>/home/jcasagrandebertoldo/data/mvtec/carpet/tr...</td>\n",
       "    </tr>\n",
       "    <tr>\n",
       "      <th>187</th>\n",
       "      <td>/home/jcasagrandebertoldo/data/mvtec/carpet/tr...</td>\n",
       "    </tr>\n",
       "    <tr>\n",
       "      <th>183</th>\n",
       "      <td>/home/jcasagrandebertoldo/data/mvtec/carpet/tr...</td>\n",
       "    </tr>\n",
       "    <tr>\n",
       "      <th>206</th>\n",
       "      <td>/home/jcasagrandebertoldo/data/mvtec/carpet/tr...</td>\n",
       "    </tr>\n",
       "    <tr>\n",
       "      <th>94</th>\n",
       "      <td>/home/jcasagrandebertoldo/data/mvtec/carpet/tr...</td>\n",
       "    </tr>\n",
       "  </tbody>\n",
       "</table>\n",
       "<p>5354 rows × 1 columns</p>\n",
       "</div>"
      ],
      "text/plain": [
       "                                                                           imgpath\n",
       "class  set   type        imgidx                                                   \n",
       "tile   test  gray_stroke 9       /home/jcasagrandebertoldo/data/mvtec/tile/test...\n",
       "                         10      /home/jcasagrandebertoldo/data/mvtec/tile/test...\n",
       "                         14      /home/jcasagrandebertoldo/data/mvtec/tile/test...\n",
       "                         15      /home/jcasagrandebertoldo/data/mvtec/tile/test...\n",
       "                         0       /home/jcasagrandebertoldo/data/mvtec/tile/test...\n",
       "...                                                                            ...\n",
       "carpet train good        51      /home/jcasagrandebertoldo/data/mvtec/carpet/tr...\n",
       "                         187     /home/jcasagrandebertoldo/data/mvtec/carpet/tr...\n",
       "                         183     /home/jcasagrandebertoldo/data/mvtec/carpet/tr...\n",
       "                         206     /home/jcasagrandebertoldo/data/mvtec/carpet/tr...\n",
       "                         94      /home/jcasagrandebertoldo/data/mvtec/carpet/tr...\n",
       "\n",
       "[5354 rows x 1 columns]"
      ]
     },
     "execution_count": 78,
     "metadata": {},
     "output_type": "execute_result"
    }
   ],
   "source": [
    "import pandas as pd\n",
    "imgs = pd.DataFrame.from_records(data=imgs).set_index([\"class\", \"set\", \"type\", \"imgidx\"])\n",
    "imgs"
   ]
  },
  {
   "cell_type": "markdown",
   "id": "d87f2a29",
   "metadata": {},
   "source": [
    "## select"
   ]
  },
  {
   "cell_type": "code",
   "execution_count": 114,
   "id": "ee4a7b62",
   "metadata": {},
   "outputs": [
    {
     "data": {
      "text/html": [
       "<div>\n",
       "<style scoped>\n",
       "    .dataframe tbody tr th:only-of-type {\n",
       "        vertical-align: middle;\n",
       "    }\n",
       "\n",
       "    .dataframe tbody tr th {\n",
       "        vertical-align: top;\n",
       "    }\n",
       "\n",
       "    .dataframe thead tr th {\n",
       "        text-align: left;\n",
       "    }\n",
       "\n",
       "    .dataframe thead tr:last-of-type th {\n",
       "        text-align: right;\n",
       "    }\n",
       "</style>\n",
       "<table border=\"1\" class=\"dataframe\">\n",
       "  <thead>\n",
       "    <tr>\n",
       "      <th></th>\n",
       "      <th></th>\n",
       "      <th colspan=\"2\" halign=\"left\">imgidx</th>\n",
       "    </tr>\n",
       "    <tr>\n",
       "      <th></th>\n",
       "      <th></th>\n",
       "      <th>min</th>\n",
       "      <th>max</th>\n",
       "    </tr>\n",
       "    <tr>\n",
       "      <th>set</th>\n",
       "      <th>type</th>\n",
       "      <th></th>\n",
       "      <th></th>\n",
       "    </tr>\n",
       "  </thead>\n",
       "  <tbody>\n",
       "    <tr>\n",
       "      <th rowspan=\"6\" valign=\"top\">test</th>\n",
       "      <th>color</th>\n",
       "      <td>0</td>\n",
       "      <td>18</td>\n",
       "    </tr>\n",
       "    <tr>\n",
       "      <th>cut</th>\n",
       "      <td>0</td>\n",
       "      <td>16</td>\n",
       "    </tr>\n",
       "    <tr>\n",
       "      <th>good</th>\n",
       "      <td>0</td>\n",
       "      <td>27</td>\n",
       "    </tr>\n",
       "    <tr>\n",
       "      <th>hole</th>\n",
       "      <td>0</td>\n",
       "      <td>16</td>\n",
       "    </tr>\n",
       "    <tr>\n",
       "      <th>metal_contamination</th>\n",
       "      <td>0</td>\n",
       "      <td>16</td>\n",
       "    </tr>\n",
       "    <tr>\n",
       "      <th>thread</th>\n",
       "      <td>0</td>\n",
       "      <td>18</td>\n",
       "    </tr>\n",
       "    <tr>\n",
       "      <th>train</th>\n",
       "      <th>good</th>\n",
       "      <td>0</td>\n",
       "      <td>279</td>\n",
       "    </tr>\n",
       "  </tbody>\n",
       "</table>\n",
       "</div>"
      ],
      "text/plain": [
       "                          imgidx     \n",
       "                             min  max\n",
       "set   type                           \n",
       "test  color                    0   18\n",
       "      cut                      0   16\n",
       "      good                     0   27\n",
       "      hole                     0   16\n",
       "      metal_contamination      0   16\n",
       "      thread                   0   18\n",
       "train good                     0  279"
      ]
     },
     "execution_count": 114,
     "metadata": {},
     "output_type": "execute_result"
    }
   ],
   "source": [
    "from pandas import DataFrame\n",
    "\n",
    "selected_class = \"carpet\"\n",
    "\n",
    "class_imgs = imgs.loc[selected_class]\n",
    "\n",
    "def get_indices_summary(df_: DataFrame) -> DataFrame:\n",
    "    return df_.reset_index()[df_.index.names].groupby(df_.index.names[0:2]).agg([\"min\", \"max\"])\n",
    "\n",
    "get_indices_summary(class_imgs)\n",
    "\n",
    "# print('test')\n",
    "# get_indices_summary(test_imgs).T\n"
   ]
  },
  {
   "cell_type": "code",
   "execution_count": 115,
   "id": "2632e645",
   "metadata": {},
   "outputs": [],
   "source": [
    "display_imgs = class_imgs.loc[[\n",
    "    (\"train\", \"good\", 0),\n",
    "]]"
   ]
  },
  {
   "cell_type": "code",
   "execution_count": 112,
   "id": "3608eea2",
   "metadata": {},
   "outputs": [
    {
     "data": {
      "text/plain": [
       "1"
      ]
     },
     "execution_count": 112,
     "metadata": {},
     "output_type": "execute_result"
    }
   ],
   "source": [
    "import matplotlib.pyplot as plt\n",
    "fig, axs = plt.subplots(nrows=2, ncols=2, figsize=(10, 5))"
   ]
  },
  {
   "cell_type": "markdown",
   "id": "3b6bc647",
   "metadata": {},
   "source": [
    "# generate explanations\n",
    "\n",
    "I based stuff on the script `fcdd/python/fcdd/runners/run_prediction_with_snapshot.py`.\n"
   ]
  },
  {
   "cell_type": "code",
   "execution_count": 7,
   "id": "a8704fb9-48de-4b3f-8e5e-e9ebcbd83d82",
   "metadata": {},
   "outputs": [],
   "source": [
    "record = records[0]\n",
    "snapshots = record[\"snapshots\"]\n",
    "snapshot = snapshots[0]\n",
    "epoch = snapshot[\"epoch\"]\n",
    "fpath = snapshot[\"fpath\"]"
   ]
  },
  {
   "cell_type": "code",
   "execution_count": 8,
   "id": "7082373c-f301-4ed9-a8a0-257e60564a9f",
   "metadata": {},
   "outputs": [],
   "source": [
    "import torch\n",
    "import torchvision.transforms as transforms\n",
    "from torch.utils.data.dataloader import DataLoader"
   ]
  },
  {
   "cell_type": "code",
   "execution_count": 9,
   "id": "64f34b5f-5765-4467-8bc5-6238cf1516df",
   "metadata": {},
   "outputs": [],
   "source": [
    "%load_ext autoreload"
   ]
  },
  {
   "cell_type": "code",
   "execution_count": 10,
   "id": "f6054ae0-0071-4daf-8373-10ed78edbdc9",
   "metadata": {},
   "outputs": [],
   "source": [
    "%autoreload 2\n",
    "from fcdd.training.fcdd import FCDDTrainer\n",
    "from fcdd.models.fcdd_cnn_224 import FCDD_CNN224_VGG_F\n",
    "from fcdd.datasets.image_folder import ImageFolder\n",
    "from fcdd.datasets.preprocessing import local_contrast_normalization\n",
    "from fcdd.util.logging import Logger"
   ]
  },
  {
   "cell_type": "code",
   "execution_count": 11,
   "id": "5fdcd3e6-902c-4cdd-a4d1-6bc67f0e3656",
   "metadata": {},
   "outputs": [],
   "source": [
    "min_max_l1 = [\n",
    "    [(-1.3336724042892456, -1.3107913732528687, -1.2445921897888184),\n",
    "     (1.3779616355895996, 1.3779616355895996, 1.3779616355895996)],\n",
    "    [(-2.2404820919036865, -2.3387579917907715, -2.2896201610565186),\n",
    "     (4.573435306549072, 4.573435306549072, 4.573435306549072)],\n",
    "    [(-3.184587001800537, -3.164201259613037, -3.1392977237701416),\n",
    "     (1.6995097398757935, 1.6011602878570557, 1.5209171772003174)],\n",
    "    [(-3.0334954261779785, -2.958242416381836, -2.7701096534729004),\n",
    "     (6.503103256225586, 5.875098705291748, 5.814228057861328)],\n",
    "    [(-3.100773334503174, -3.100773334503174, -3.100773334503174),\n",
    "     (4.27892541885376, 4.27892541885376, 4.27892541885376)],\n",
    "    [(-3.6565306186676025, -3.507692813873291, -2.7635035514831543),\n",
    "     (18.966819763183594, 21.64590072631836, 26.408710479736328)],\n",
    "    [(-1.5192601680755615, -2.2068002223968506, -2.3948357105255127),\n",
    "     (11.564697265625, 10.976534843444824, 10.378695487976074)],\n",
    "    [(-1.3207964897155762, -1.2889339923858643, -1.148416519165039),\n",
    "     (6.854909896850586, 6.854909896850586, 6.854909896850586)],\n",
    "    [(-0.9883341193199158, -0.9822461605072021, -0.9288841485977173),\n",
    "     (2.290637969970703, 2.4007883071899414, 2.3044068813323975)],\n",
    "    [(-7.236185073852539, -7.236185073852539, -7.236185073852539),\n",
    "     (3.3777384757995605, 3.3777384757995605, 3.3777384757995605)],\n",
    "    [(-3.2036616802215576, -3.221003532409668, -3.305514335632324),\n",
    "     (7.022546768188477, 6.115569114685059, 6.310940742492676)],\n",
    "    [(-0.8915618658065796, -0.8669204115867615, -0.8002046346664429),\n",
    "     (4.4255571365356445, 4.642300128936768, 4.305730819702148)],\n",
    "    [(-1.9086798429489136, -2.0004451274871826, -1.929288387298584),\n",
    "     (5.463134765625, 5.463134765625, 5.463134765625)],\n",
    "    [(-2.9547364711761475, -3.17536997795105, -3.143850803375244),\n",
    "     (5.305514812469482, 4.535006523132324, 3.3618252277374268)],\n",
    "    [(-1.2906527519226074, -1.2906527519226074, -1.2906527519226074),\n",
    "     (2.515115737915039, 2.515115737915039, 2.515115737915039)]\n",
    "]"
   ]
  },
  {
   "cell_type": "code",
   "execution_count": 12,
   "id": "ded767a3-1f5b-473e-be04-3b22a59a98ae",
   "metadata": {},
   "outputs": [],
   "source": [
    "net = FCDD_CNN224_VGG_F((3, 224, 224), bias=True)"
   ]
  },
  {
   "cell_type": "code",
   "execution_count": 13,
   "id": "2da44dc0-83c7-4c6f-a18a-62b8dc435e1a",
   "metadata": {},
   "outputs": [],
   "source": [
    "from fcdd.datasets import load_dataset\n",
    "from fcdd.runners.run_mvtec import MvtecConfig\n",
    "from argparse import ArgumentParser"
   ]
  },
  {
   "cell_type": "code",
   "execution_count": 14,
   "id": "ac722d25-3678-411d-acd3-aba03467e5b8",
   "metadata": {},
   "outputs": [],
   "source": [
    "parser = ArgumentParser()\n",
    "parser = MvtecConfig()(parser)\n",
    "dftargs = parser.parse_args(\"\")"
   ]
  },
  {
   "cell_type": "code",
   "execution_count": 15,
   "id": "605a9e46-0616-40f4-b907-3d9bfde328b7",
   "metadata": {},
   "outputs": [
    {
     "data": {
      "text/plain": [
       "Namespace(logdir='../../data/results/fcdd_{t}', logdir_suffix='', datadir='../../data/datasets', viz_ids=None, readme='', objective='fcdd', batch_size=16, epochs=200, workers=4, learning_rate=0.001, weight_decay=0.0001, optimizer_type='sgd', scheduler_type='lambda', lr_sched_param=[0.985], load=None, dataset='mvtec', net='FCDD_CNN224_VGG_F', preproc='lcnaug1', acc_batches=8, bias=True, cuda=True, supervise_mode='malformed_normal', noise_mode='confetti', oe_limit=inf, online_supervision=True, nominal_label=0, blur_heatmaps=False, gauss_std=12, quantile=0.99, resdown=64, it=5, cls_restrictions=None, snapshots_training=None)"
      ]
     },
     "execution_count": 15,
     "metadata": {},
     "output_type": "execute_result"
    }
   ],
   "source": [
    "dftargs"
   ]
  },
  {
   "cell_type": "code",
   "execution_count": 16,
   "id": "700000ce-3ca0-493a-b43e-ccff79d5f001",
   "metadata": {},
   "outputs": [
    {
     "data": {
      "text/plain": [
       "{'rootdir': PosixPath('../../data/snapshots-gen-img'),\n",
       " 'rundir': PosixPath('../../data/snapshots-gen-img/fcdd_20220202002148_snapshots2_node24_job3040465__mvtec_'),\n",
       " 'classdir': PosixPath('../../data/snapshots-gen-img/fcdd_20220202002148_snapshots2_node24_job3040465__mvtec_/normal_3'),\n",
       " 'iterdir': PosixPath('../../data/snapshots-gen-img/fcdd_20220202002148_snapshots2_node24_job3040465__mvtec_/normal_3/it_0'),\n",
       " 'rundir_name': 'fcdd_20220202002148_snapshots2_node24_job3040465__mvtec_',\n",
       " 'classdir_name': 'normal_3',\n",
       " 'class_idx': 3,\n",
       " 'iterdir_name': 'it_0',\n",
       " 'iter_idx': 0}"
      ]
     },
     "execution_count": 16,
     "metadata": {},
     "output_type": "execute_result"
    }
   ],
   "source": [
    "import copy\n",
    "r = copy.deepcopy(record)\n",
    "del r['snapshots']\n",
    "r"
   ]
  },
  {
   "cell_type": "code",
   "execution_count": 17,
   "id": "052057cb-6481-4b7e-be07-98605a78b70d",
   "metadata": {},
   "outputs": [
    {
     "data": {
      "text/plain": [
       "\"normal_class_label='carpet'\""
      ]
     },
     "execution_count": 17,
     "metadata": {},
     "output_type": "execute_result"
    }
   ],
   "source": [
    "normal_class = record[\"class_idx\"]\n",
    "normal_class_label = get_class_label(record[\"classdir_name\"], dataset=\"mvtec\")\n",
    "f\"{normal_class_label=}\""
   ]
  },
  {
   "cell_type": "code",
   "execution_count": 18,
   "id": "e2e1b681-ef14-4e4b-84c0-ddd5262a89f4",
   "metadata": {},
   "outputs": [
    {
     "name": "stderr",
     "output_type": "stream",
     "text": [
      "/home/jcasagrandebertoldo/miniconda3/envs/fcdd_rc21/lib/python3.9/site-packages/torchvision/transforms/transforms.py:280: UserWarning: Argument interpolation should be of type InterpolationMode instead of int. Please, use InterpolationMode enum.\n",
      "  warnings.warn(\n"
     ]
    },
    {
     "name": "stdout",
     "output_type": "stream",
     "text": [
      "Files already downloaded.\n",
      "Loading dataset from data/mvtec/admvtec_240x240.pt...\n",
      "Dataset complete.\n",
      "Files already downloaded.\n",
      "Loading dataset from data/mvtec/admvtec_240x240.pt...\n",
      "Dataset complete.\n"
     ]
    }
   ],
   "source": [
    "ds = load_dataset(\n",
    "    dataset_name=\"mvtec\",\n",
    "    data_path=DATA_DIR,\n",
    "    normal_class=normal_class,\n",
    "    preproc=dftargs.preproc,\n",
    "    supervise_mode=dftargs.supervise_mode,\n",
    "    noise_mode=dftargs.noise_mode,\n",
    "    online_supervision=True,\n",
    "    nominal_label=dftargs.nominal_label,\n",
    "    oe_limit=dftargs.oe_limit,\n",
    "    logger=None,\n",
    ")"
   ]
  },
  {
   "cell_type": "code",
   "execution_count": 19,
   "id": "f3ffcd8e-68f9-4024-80dd-aed1109721db",
   "metadata": {},
   "outputs": [],
   "source": [
    "# Use the same test transform as was used for training the snapshot (e.g., for mvtec, per default, the following)\n",
    "transform = transforms.Compose([\n",
    "    transforms.Resize(224),\n",
    "    transforms.CenterCrop(224),\n",
    "    transforms.ToTensor(),\n",
    "    transforms.Lambda(lambda x: local_contrast_normalization(x, scale='l1')),\n",
    "    transforms.Normalize(\n",
    "        min_max_l1[normal_class][0],\n",
    "        [ma - mi for ma, mi in zip(min_max_l1[normal_class][1], min_max_l1[normal_class][0])]\n",
    "    )\n",
    "])"
   ]
  },
  {
   "cell_type": "code",
   "execution_count": 20,
   "id": "ac696b42-a550-4a65-ab32-5880d016b77a",
   "metadata": {},
   "outputs": [],
   "source": [
    "TEST_IMGS_DIR = Path(\"../../data/\") / \"snapshots_test_images\" / \"carpet\""
   ]
  },
  {
   "cell_type": "code",
   "execution_count": 21,
   "id": "dacbf276-78f9-452e-9367-b6a6657243e5",
   "metadata": {},
   "outputs": [],
   "source": [
    "ds = ImageFolder(TEST_IMGS_DIR, transform, transforms.Lambda(lambda x: 0))"
   ]
  },
  {
   "cell_type": "code",
   "execution_count": 22,
   "id": "6247e7bb-e0a6-48b7-9048-3f06a4d10ab2",
   "metadata": {},
   "outputs": [],
   "source": [
    "loader = DataLoader(ds, batch_size=16, num_workers=0)"
   ]
  },
  {
   "cell_type": "code",
   "execution_count": 23,
   "id": "1bc215f6-b2d5-4a0e-a930-9f1e2cc6c7f3",
   "metadata": {},
   "outputs": [],
   "source": [
    "import time"
   ]
  },
  {
   "cell_type": "code",
   "execution_count": 24,
   "id": "aab54f6a-590a-4d18-aa00-d5338652eef7",
   "metadata": {},
   "outputs": [
    {
     "data": {
      "text/plain": [
       "PosixPath('../../data/snapshots_test_images/carpet_preds_1643974442')"
      ]
     },
     "execution_count": 24,
     "metadata": {},
     "output_type": "execute_result"
    }
   ],
   "source": [
    "OUTPUTS_DIR = TEST_IMGS_DIR.parent / f\"{TEST_IMGS_DIR.name}_preds_{int(time.time())}\"\n",
    "OUTPUTS_DIR"
   ]
  },
  {
   "cell_type": "code",
   "execution_count": 25,
   "id": "7b6ec750-1497-4744-9d64-3ebcf5e7a2de",
   "metadata": {},
   "outputs": [],
   "source": [
    "# [optional] to generate heatmaps, define a logger (with the path where the heatmaps should be saved to) and a quantile\n",
    "exp_start_time = int(time.time())\n",
    "logger = Logger(str(OUTPUTS_DIR), exp_start_time=exp_start_time)\n",
    "quantile = 0.97"
   ]
  },
  {
   "cell_type": "code",
   "execution_count": 26,
   "id": "28af44dc-da1d-4163-9fc4-ebe99ab9d7d7",
   "metadata": {},
   "outputs": [],
   "source": [
    "trainer = FCDDTrainer(net, None, None, (None, None), logger, 'fcdd', 8, quantile, 224)"
   ]
  },
  {
   "cell_type": "code",
   "execution_count": 27,
   "id": "fcf7d4d2-1c76-4611-abce-debeb8114aef",
   "metadata": {},
   "outputs": [
    {
     "name": "stdout",
     "output_type": "stream",
     "text": [
      "Loaded net_state, opt_state, sched_state with starting epoch 49 for fcdd.training.fcdd.FCDDTrainer\n"
     ]
    },
    {
     "data": {
      "text/plain": [
       "49"
      ]
     },
     "execution_count": 27,
     "metadata": {},
     "output_type": "execute_result"
    }
   ],
   "source": [
    "trainer.load(str(snapshot[\"fpath\"]), cpu=True)"
   ]
  },
  {
   "cell_type": "code",
   "execution_count": 28,
   "id": "0df82c90-b835-4ad9-9d1f-c1a5f2ae9bbd",
   "metadata": {},
   "outputs": [],
   "source": [
    "trainer.net.eval();"
   ]
  },
  {
   "cell_type": "code",
   "execution_count": 29,
   "id": "91c1c550-aced-4287-8f18-a79fa6fa9afd",
   "metadata": {},
   "outputs": [],
   "source": [
    "all_anomaly_scores, all_inputs, all_labels = [], [], []\n",
    "for inputs, labels in loader:\n",
    "    # inputs = inputs.cuda()\n",
    "    with torch.no_grad():\n",
    "        outputs = trainer.net(inputs)\n",
    "        anomaly_scores = trainer.anomaly_score(trainer.loss(outputs, inputs, labels, reduce='none'))\n",
    "        anomaly_scores = trainer.net.receptive_upsample(anomaly_scores, reception=True, std=8, cpu=False)\n",
    "        all_anomaly_scores.append(anomaly_scores.cpu())\n",
    "        all_inputs.append(inputs.cpu())\n",
    "        all_labels.append(labels)\n",
    "\n",
    "\n",
    "all_inputs = torch.cat(all_inputs)\n",
    "all_labels = torch.cat(all_labels)"
   ]
  },
  {
   "cell_type": "code",
   "execution_count": 30,
   "id": "06126727-8c7a-4114-a1a0-2bf9058c39e2",
   "metadata": {},
   "outputs": [
    {
     "name": "stdout",
     "output_type": "stream",
     "text": [
      "tensor([0.0014, 0.0011, 0.0012, 0.0010, 0.0013, 0.0012, 0.0012, 0.0012, 0.0017,\n",
      "        0.0010, 0.0012, 0.0010, 0.0012, 0.0008, 0.0010, 0.0009, 0.0019, 0.0017,\n",
      "        0.0021, 0.0013, 0.0013, 0.0012, 0.0011, 0.0011, 0.0013, 0.0016, 0.0013,\n",
      "        0.0012, 0.0024, 0.0019, 0.0018, 0.0016, 0.0014, 0.0011, 0.0013, 0.0014,\n",
      "        0.0011, 0.0009, 0.0017, 0.0016, 0.0017, 0.0015, 0.0019, 0.0022, 0.0019,\n",
      "        0.0019, 0.0008, 0.0009, 0.0020, 0.0017, 0.0016, 0.0019, 0.0011, 0.0009,\n",
      "        0.0009, 0.0010, 0.0010, 0.0010, 0.0010, 0.0008, 0.0010, 0.0011, 0.0010,\n",
      "        0.0011, 0.0011, 0.0010, 0.0010, 0.0014, 0.0011, 0.0015, 0.0017, 0.0014,\n",
      "        0.0013, 0.0011, 0.0014, 0.0013, 0.0013, 0.0014, 0.0012, 0.0013, 0.0011,\n",
      "        0.0016, 0.0016, 0.0015, 0.0014, 0.0028, 0.0027, 0.0029, 0.0027, 0.0027,\n",
      "        0.0024, 0.0025, 0.0020, 0.0011, 0.0015, 0.0010, 0.0011, 0.0013, 0.0012,\n",
      "        0.0009])\n"
     ]
    }
   ],
   "source": [
    "# all_anomaly_scores will be a tensor containing pixel-wise anomaly scores for all images\n",
    "all_anomaly_scores = torch.cat(all_anomaly_scores)\n",
    "\n",
    "# transform the pixel-wise anomaly scores to sample-wise anomaly scores\n",
    "print(trainer.reduce_ascore(all_anomaly_scores))"
   ]
  },
  {
   "cell_type": "code",
   "execution_count": 31,
   "id": "f92e9958-8258-4cb6-992d-59aa955a0065",
   "metadata": {},
   "outputs": [],
   "source": [
    "# show_per_cls defines the maximum number of samples in the heatmaps figures.\n",
    "# The heatmap_paper_xxx.png figures, which sort the heatmaps by their anomaly score,\n",
    "# use only up to a third of show_per_cls samples.\n",
    "trainer.heatmap_generation(all_labels.tolist(), all_anomaly_scores, all_inputs, show_per_cls=1000)"
   ]
  },
  {
   "cell_type": "markdown",
   "id": "d86baf4c-2c33-4e21-b7aa-34f8327e9bc2",
   "metadata": {},
   "source": [
    "# putting it into a function"
   ]
  },
  {
   "cell_type": "code",
   "execution_count": 32,
   "id": "568f4a59-8337-4e2b-bd65-16ffa3779709",
   "metadata": {},
   "outputs": [],
   "source": [
    "record = records[0]\n",
    "snapshots = record[\"snapshots\"]\n",
    "snapshot = snapshots[0]\n",
    "epoch = snapshot[\"epoch\"]\n",
    "fpath = snapshot[\"fpath\"]"
   ]
  },
  {
   "cell_type": "code",
   "execution_count": 33,
   "id": "4ceaf493-758f-4726-927e-2b99a24531fd",
   "metadata": {},
   "outputs": [
    {
     "ename": "SyntaxError",
     "evalue": "invalid syntax (775443857.py, line 3)",
     "output_type": "error",
     "traceback": [
      "\u001b[0;36m  File \u001b[0;32m\"/tmp/ipykernel_421781/775443857.py\"\u001b[0;36m, line \u001b[0;32m3\u001b[0m\n\u001b[0;31m    def generate_preds(snapshot_fpath: Path) ->\u001b[0m\n\u001b[0m                                                ^\u001b[0m\n\u001b[0;31mSyntaxError\u001b[0m\u001b[0;31m:\u001b[0m invalid syntax\n"
     ]
    }
   ],
   "source": [
    "from pathlib import Path\n",
    "\n",
    "def generate_preds(snapshot_fpath: Path) -> "
   ]
  },
  {
   "cell_type": "code",
   "execution_count": null,
   "id": "06252233-6d0d-41f5-8e22-099dfad45843",
   "metadata": {},
   "outputs": [],
   "source": []
  },
  {
   "cell_type": "code",
   "execution_count": null,
   "id": "7648a87c-d0c9-4156-a97d-b753410a9efa",
   "metadata": {},
   "outputs": [],
   "source": [
    "import torch\n",
    "import torchvision.transforms as transforms\n",
    "from torch.utils.data.dataloader import DataLoader"
   ]
  },
  {
   "cell_type": "code",
   "execution_count": null,
   "id": "139dc1b1-8ee5-4e7a-b6c9-87fcaa805d1c",
   "metadata": {},
   "outputs": [],
   "source": [
    "%load_ext autoreload"
   ]
  },
  {
   "cell_type": "code",
   "execution_count": null,
   "id": "18c114d6-f855-4701-beb5-270b6d7bb21a",
   "metadata": {},
   "outputs": [],
   "source": [
    "%autoreload 2\n",
    "from fcdd.training.fcdd import FCDDTrainer\n",
    "from fcdd.models.fcdd_cnn_224 import FCDD_CNN224_VGG_F\n",
    "from fcdd.datasets.image_folder import ImageFolder\n",
    "from fcdd.datasets.preprocessing import local_contrast_normalization\n",
    "from fcdd.util.logging import Logger"
   ]
  },
  {
   "cell_type": "code",
   "execution_count": null,
   "id": "c10e6da5-dcee-442e-a040-32ad78563c41",
   "metadata": {},
   "outputs": [],
   "source": [
    "min_max_l1 = [\n",
    "    [(-1.3336724042892456, -1.3107913732528687, -1.2445921897888184),\n",
    "     (1.3779616355895996, 1.3779616355895996, 1.3779616355895996)],\n",
    "    [(-2.2404820919036865, -2.3387579917907715, -2.2896201610565186),\n",
    "     (4.573435306549072, 4.573435306549072, 4.573435306549072)],\n",
    "    [(-3.184587001800537, -3.164201259613037, -3.1392977237701416),\n",
    "     (1.6995097398757935, 1.6011602878570557, 1.5209171772003174)],\n",
    "    [(-3.0334954261779785, -2.958242416381836, -2.7701096534729004),\n",
    "     (6.503103256225586, 5.875098705291748, 5.814228057861328)],\n",
    "    [(-3.100773334503174, -3.100773334503174, -3.100773334503174),\n",
    "     (4.27892541885376, 4.27892541885376, 4.27892541885376)],\n",
    "    [(-3.6565306186676025, -3.507692813873291, -2.7635035514831543),\n",
    "     (18.966819763183594, 21.64590072631836, 26.408710479736328)],\n",
    "    [(-1.5192601680755615, -2.2068002223968506, -2.3948357105255127),\n",
    "     (11.564697265625, 10.976534843444824, 10.378695487976074)],\n",
    "    [(-1.3207964897155762, -1.2889339923858643, -1.148416519165039),\n",
    "     (6.854909896850586, 6.854909896850586, 6.854909896850586)],\n",
    "    [(-0.9883341193199158, -0.9822461605072021, -0.9288841485977173),\n",
    "     (2.290637969970703, 2.4007883071899414, 2.3044068813323975)],\n",
    "    [(-7.236185073852539, -7.236185073852539, -7.236185073852539),\n",
    "     (3.3777384757995605, 3.3777384757995605, 3.3777384757995605)],\n",
    "    [(-3.2036616802215576, -3.221003532409668, -3.305514335632324),\n",
    "     (7.022546768188477, 6.115569114685059, 6.310940742492676)],\n",
    "    [(-0.8915618658065796, -0.8669204115867615, -0.8002046346664429),\n",
    "     (4.4255571365356445, 4.642300128936768, 4.305730819702148)],\n",
    "    [(-1.9086798429489136, -2.0004451274871826, -1.929288387298584),\n",
    "     (5.463134765625, 5.463134765625, 5.463134765625)],\n",
    "    [(-2.9547364711761475, -3.17536997795105, -3.143850803375244),\n",
    "     (5.305514812469482, 4.535006523132324, 3.3618252277374268)],\n",
    "    [(-1.2906527519226074, -1.2906527519226074, -1.2906527519226074),\n",
    "     (2.515115737915039, 2.515115737915039, 2.515115737915039)]\n",
    "]"
   ]
  },
  {
   "cell_type": "code",
   "execution_count": null,
   "id": "eb9926f5-66a4-4f73-90e5-196c20b43732",
   "metadata": {},
   "outputs": [],
   "source": [
    "net = FCDD_CNN224_VGG_F((3, 224, 224), bias=True)"
   ]
  },
  {
   "cell_type": "code",
   "execution_count": null,
   "id": "240b73cf-b9ff-4b1f-b62c-0376f329d1d8",
   "metadata": {},
   "outputs": [],
   "source": [
    "from fcdd.datasets import load_dataset\n",
    "from fcdd.runners.run_mvtec import MvtecConfig\n",
    "from argparse import ArgumentParser"
   ]
  },
  {
   "cell_type": "code",
   "execution_count": null,
   "id": "258e3c43-e4d2-48aa-8f2d-c7e1c9d8acab",
   "metadata": {},
   "outputs": [],
   "source": [
    "parser = ArgumentParser()\n",
    "parser = MvtecConfig()(parser)\n",
    "dftargs = parser.parse_args(\"\")"
   ]
  },
  {
   "cell_type": "code",
   "execution_count": null,
   "id": "7654927f-d8ff-4039-bf3e-c68192921147",
   "metadata": {},
   "outputs": [],
   "source": [
    "dftargs"
   ]
  },
  {
   "cell_type": "code",
   "execution_count": null,
   "id": "cb9ef00d-af8c-4396-9903-03e3bc16f639",
   "metadata": {},
   "outputs": [],
   "source": [
    "import copy\n",
    "r = copy.deepcopy(record)\n",
    "del r['snapshots']\n",
    "r"
   ]
  },
  {
   "cell_type": "code",
   "execution_count": null,
   "id": "d790d18f-a8e4-40ae-a020-a3d66ef31659",
   "metadata": {},
   "outputs": [],
   "source": [
    "normal_class = record[\"class_idx\"]\n",
    "normal_class_label = get_class_label(record[\"classdir_name\"], dataset=\"mvtec\")\n",
    "f\"{normal_class_label=}\""
   ]
  },
  {
   "cell_type": "code",
   "execution_count": null,
   "id": "7562db24-ea75-411d-91b8-6697899cabf5",
   "metadata": {},
   "outputs": [],
   "source": [
    "ds = load_dataset(\n",
    "    dataset_name=\"mvtec\",\n",
    "    data_path=DATA_DIR,\n",
    "    normal_class=normal_class,\n",
    "    preproc=dftargs.preproc,\n",
    "    supervise_mode=dftargs.supervise_mode,\n",
    "    noise_mode=dftargs.noise_mode,\n",
    "    online_supervision=True,\n",
    "    nominal_label=dftargs.nominal_label,\n",
    "    oe_limit=dftargs.oe_limit,\n",
    "    logger=None,\n",
    ")"
   ]
  },
  {
   "cell_type": "code",
   "execution_count": null,
   "id": "82b8175b-d860-4f5f-bf7f-a86ea3760c5a",
   "metadata": {},
   "outputs": [],
   "source": [
    "# Use the same test transform as was used for training the snapshot (e.g., for mvtec, per default, the following)\n",
    "transform = transforms.Compose([\n",
    "    transforms.Resize(224),\n",
    "    transforms.CenterCrop(224),\n",
    "    transforms.ToTensor(),\n",
    "    transforms.Lambda(lambda x: local_contrast_normalization(x, scale='l1')),\n",
    "    transforms.Normalize(\n",
    "        min_max_l1[normal_class][0],\n",
    "        [ma - mi for ma, mi in zip(min_max_l1[normal_class][1], min_max_l1[normal_class][0])]\n",
    "    )\n",
    "])"
   ]
  },
  {
   "cell_type": "code",
   "execution_count": null,
   "id": "739fbf85-4930-4307-9f36-d367932f7d22",
   "metadata": {},
   "outputs": [],
   "source": [
    "TEST_IMGS_DIR = Path(\"../../data/\") / \"snapshots_test_images\" / \"carpet\""
   ]
  },
  {
   "cell_type": "code",
   "execution_count": null,
   "id": "bde8d7b3-8145-46ee-bc6e-306be452b61c",
   "metadata": {},
   "outputs": [],
   "source": [
    "ds = ImageFolder(TEST_IMGS_DIR, transform, transforms.Lambda(lambda x: 0))"
   ]
  },
  {
   "cell_type": "code",
   "execution_count": null,
   "id": "a97716a1-1ca2-4082-8c21-f3f0c9c76815",
   "metadata": {},
   "outputs": [],
   "source": [
    "loader = DataLoader(ds, batch_size=16, num_workers=0)"
   ]
  },
  {
   "cell_type": "code",
   "execution_count": null,
   "id": "23183b6c-cf8d-4472-806e-ab811634e67b",
   "metadata": {},
   "outputs": [],
   "source": [
    "import time"
   ]
  },
  {
   "cell_type": "code",
   "execution_count": null,
   "id": "24a3adb9-56ac-4f2c-9369-21d24dd56653",
   "metadata": {},
   "outputs": [],
   "source": [
    "OUTPUTS_DIR = TEST_IMGS_DIR.parent / f\"{TEST_IMGS_DIR.name}_preds_{int(time.time())}\"\n",
    "OUTPUTS_DIR"
   ]
  },
  {
   "cell_type": "code",
   "execution_count": null,
   "id": "93309af4-7f3a-4b14-a76d-8516e8f08aa6",
   "metadata": {},
   "outputs": [],
   "source": [
    "# [optional] to generate heatmaps, define a logger (with the path where the heatmaps should be saved to) and a quantile\n",
    "exp_start_time = int(time.time())\n",
    "logger = Logger(str(OUTPUTS_DIR), exp_start_time=exp_start_time)\n",
    "quantile = 0.97"
   ]
  },
  {
   "cell_type": "code",
   "execution_count": null,
   "id": "fcb381ff-d4ef-4164-b8d6-27fb4b694192",
   "metadata": {},
   "outputs": [],
   "source": [
    "trainer = FCDDTrainer(net, None, None, (None, None), logger, 'fcdd', 8, quantile, 224)"
   ]
  },
  {
   "cell_type": "code",
   "execution_count": null,
   "id": "f06405eb-99f3-4ea1-9eb6-74dac612ad87",
   "metadata": {},
   "outputs": [],
   "source": [
    "trainer.load(str(snapshot[\"fpath\"]), cpu=True)"
   ]
  },
  {
   "cell_type": "code",
   "execution_count": null,
   "id": "61588db2-b6d3-46df-9b6b-d61be73dc722",
   "metadata": {},
   "outputs": [],
   "source": [
    "trainer.net.eval();"
   ]
  },
  {
   "cell_type": "code",
   "execution_count": null,
   "id": "a6f39192-b791-4f9a-8363-547997e12dcd",
   "metadata": {},
   "outputs": [],
   "source": [
    "all_anomaly_scores, all_inputs, all_labels = [], [], []\n",
    "for inputs, labels in loader:\n",
    "    # inputs = inputs.cuda()\n",
    "    with torch.no_grad():\n",
    "        outputs = trainer.net(inputs)\n",
    "        anomaly_scores = trainer.anomaly_score(trainer.loss(outputs, inputs, labels, reduce='none'))\n",
    "        anomaly_scores = trainer.net.receptive_upsample(anomaly_scores, reception=True, std=8, cpu=False)\n",
    "        all_anomaly_scores.append(anomaly_scores.cpu())\n",
    "        all_inputs.append(inputs.cpu())\n",
    "        all_labels.append(labels)\n",
    "\n",
    "\n",
    "all_inputs = torch.cat(all_inputs)\n",
    "all_labels = torch.cat(all_labels)"
   ]
  },
  {
   "cell_type": "code",
   "execution_count": null,
   "id": "ad6b7424-909f-429f-a9f1-cee406f3cbcd",
   "metadata": {},
   "outputs": [],
   "source": [
    "# all_anomaly_scores will be a tensor containing pixel-wise anomaly scores for all images\n",
    "all_anomaly_scores = torch.cat(all_anomaly_scores)\n",
    "\n",
    "# transform the pixel-wise anomaly scores to sample-wise anomaly scores\n",
    "print(trainer.reduce_ascore(all_anomaly_scores))"
   ]
  },
  {
   "cell_type": "code",
   "execution_count": null,
   "id": "6db417c4-27be-4fb3-9be1-067147e67590",
   "metadata": {},
   "outputs": [],
   "source": [
    "# show_per_cls defines the maximum number of samples in the heatmaps figures.\n",
    "# The heatmap_paper_xxx.png figures, which sort the heatmaps by their anomaly score,\n",
    "# use only up to a third of show_per_cls samples.\n",
    "trainer.heatmap_generation(all_labels.tolist(), all_anomaly_scores, all_inputs, show_per_cls=1000)"
   ]
  },
  {
   "cell_type": "code",
   "execution_count": null,
   "id": "c8fb8baa-ceaa-4cf5-ac8b-5515b2cf5986",
   "metadata": {},
   "outputs": [],
   "source": []
  }
 ],
 "metadata": {
  "interpreter": {
   "hash": "78181b3e58aa6a151401e812a33d7555f113170bb44bb5ccde3174dd89fef907"
  },
  "kernelspec": {
   "display_name": "fcdd_rc21",
   "language": "python",
   "name": "python3"
  },
  "language_info": {
   "codemirror_mode": {
    "name": "ipython",
    "version": 3
   },
   "file_extension": ".py",
   "mimetype": "text/x-python",
   "name": "python",
   "nbconvert_exporter": "python",
   "pygments_lexer": "ipython3",
   "version": "3.9.7"
  }
 },
 "nbformat": 4,
 "nbformat_minor": 5
}

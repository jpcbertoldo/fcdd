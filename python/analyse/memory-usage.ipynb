{
 "cells": [
  {
   "cell_type": "markdown",
   "id": "6bb8d167-b59b-4e91-bcda-c2c66b78e5e0",
   "metadata": {},
   "source": [
    "# memory usage\n",
    "\n",
    "get the max memory usage found when running `fcdd/python/scripts/launch-check-memory.sh`"
   ]
  },
  {
   "cell_type": "code",
   "execution_count": 1,
   "id": "228d5570-41ba-4261-85cd-31afa5d681de",
   "metadata": {},
   "outputs": [],
   "source": [
    "# setup\n",
    "\n",
    "# make a cell print all the outputs instead of just the last one\n",
    "from IPython.core.interactiveshell import InteractiveShell\n",
    "InteractiveShell.ast_node_interactivity = \"all\"\n",
    "\n",
    "from pathlib import Path"
   ]
  },
  {
   "cell_type": "code",
   "execution_count": 2,
   "id": "4d06e6c9-7460-48d9-810e-57ed953d2871",
   "metadata": {},
   "outputs": [
    {
     "data": {
      "text/plain": [
       "'/home/bertoldo/repos/fcdd/python/analyse'"
      ]
     },
     "execution_count": 2,
     "metadata": {},
     "output_type": "execute_result"
    },
    {
     "name": "stdout",
     "output_type": "stream",
     "text": [
      "ln: failed to create symbolic link './fcdd-memory-usage': File exists\n"
     ]
    }
   ],
   "source": [
    "%pwd\n",
    "!ln -s /home/bertoldo/log/fcdd-memory-usage"
   ]
  },
  {
   "cell_type": "code",
   "execution_count": 3,
   "id": "9fb4d0a1-9e42-41f5-84cb-48db9b9dcf2a",
   "metadata": {},
   "outputs": [
    {
     "name": "stdout",
     "output_type": "stream",
     "text": [
      "cifar10.2022-01-26-18-05-18.gpu.log\n",
      "cifar10.2022-01-26-18-05-18.mem.log\n",
      "fmnist.2022-01-26-17-58-19.gpu.log\n",
      "fmnist.2022-01-26-17-58-19.mem.log\n",
      "mvtec-unsupervised.2022-01-26-18-16-50.gpu.log\n",
      "mvtec-unsupervised.2022-01-26-18-16-50.mem.log\n",
      "pascalvoc.2022-01-26-18-13-16.gpu.log\n",
      "pascalvoc.2022-01-26-18-13-16.mem.log\n"
     ]
    }
   ],
   "source": [
    "%ls fcdd-memory-usage/"
   ]
  },
  {
   "cell_type": "code",
   "execution_count": 17,
   "id": "802b1bc6-0415-448f-815d-27db42adc415",
   "metadata": {},
   "outputs": [],
   "source": [
    "LOGS_DIR = Path(\"fcdd-memory-usage\")\n",
    "\n",
    "logs = [\n",
    "    \"cifar10.2022-01-26-18-05-18.gpu.log\",\n",
    "    \"cifar10.2022-01-26-18-05-18.mem.log\",\n",
    "    \"fmnist.2022-01-26-17-58-19.gpu.log\",\n",
    "    \"fmnist.2022-01-26-17-58-19.mem.log\",\n",
    "    # \"mvtec-unsupervised.2022-01-26-18-16-50.gpu.log\",\n",
    "    # \"mvtec-unsupervised.2022-01-26-18-16-50.mem.log\",\n",
    "    \"pascalvoc.2022-01-26-18-13-16.gpu.log\",\n",
    "    \"pascalvoc.2022-01-26-18-13-16.mem.log\",\n",
    "]\n",
    "\n",
    "from pathlib import Path\n",
    "from collections import defaultdict\n",
    "\n",
    "logs = [LOGS_DIR / p for p in logs]\n",
    "\n",
    "tmp = defaultdict(dict)\n",
    "\n",
    "for log in logs:\n",
    "    dataset, _, gpu_or_mem, _ = log.name.split(\".\")\n",
    "    tmp[dataset][f\"{gpu_or_mem}.fpath\"] = log\n",
    "\n",
    "logs = dict(tmp)\n",
    "del tmp"
   ]
  },
  {
   "cell_type": "code",
   "execution_count": 18,
   "id": "6d7a6976-796d-4d96-8b8b-c057a839b4d5",
   "metadata": {},
   "outputs": [
    {
     "data": {
      "text/plain": [
       "PosixPath('fcdd-memory-usage/fmnist.2022-01-26-17-58-19.mem.log')"
      ]
     },
     "execution_count": 18,
     "metadata": {},
     "output_type": "execute_result"
    },
    {
     "data": {
      "text/plain": [
       "'  time :     cpu % -      vms(G)     rss(G)'"
      ]
     },
     "execution_count": 18,
     "metadata": {},
     "output_type": "execute_result"
    },
    {
     "data": {
      "text/plain": [
       "'     1 :  116.90 % -          7          0'"
      ]
     },
     "execution_count": 18,
     "metadata": {},
     "output_type": "execute_result"
    }
   ],
   "source": [
    "p = logs[\"fmnist\"][\"mem.fpath\"]\n",
    "p\n",
    "p.read_text().split(\"\\n\")[0]\n",
    "p.read_text().split(\"\\n\")[1]\n",
    "del p"
   ]
  },
  {
   "cell_type": "code",
   "execution_count": 19,
   "id": "86baab5e-8efc-43f1-8aaf-141d2fd66eaf",
   "metadata": {},
   "outputs": [],
   "source": [
    "import numpy as np\n",
    "from numpy import ndarray\n",
    "from typing import Tuple\n",
    "\n",
    "\n",
    "def get_mem(fpath: Path) -> Tuple[ndarray]:\n",
    "    \"\"\"\n",
    "    :param fpath: points to a file \".mem.log\", \n",
    "                  outputs of the script \"pid-monitor.py\" in my .dotfiles\n",
    "\n",
    "    output memory values are in GB\n",
    "    \"\"\"\n",
    "    values = [\n",
    "        [\n",
    "            # pid-monitor.py already gives values in GB\n",
    "            float(s) \n",
    "            for s in l.split(\"-\")[1].strip().split(\" \")\n",
    "            if s != \"\"\n",
    "        ]\n",
    "        for l in fpath.read_text().split(\"\\n\")[1:]  # skip header\n",
    "        if l  # avoid empty lines\n",
    "    ]\n",
    "\n",
    "    values = np.array(values)\n",
    "    vir, mem = values[:, 0], values[:, 1]\n",
    "    return vir, mem\n",
    "    "
   ]
  },
  {
   "cell_type": "code",
   "execution_count": 20,
   "id": "87cbe2ce-3ebb-4d87-8f06-d0e1f17edc84",
   "metadata": {},
   "outputs": [
    {
     "data": {
      "text/plain": [
       "PosixPath('fcdd-memory-usage/fmnist.2022-01-26-17-58-19.gpu.log')"
      ]
     },
     "execution_count": 20,
     "metadata": {},
     "output_type": "execute_result"
    },
    {
     "data": {
      "text/plain": [
       "'cuda                 Wed Jan 26 17:58:19 2022  440.118.02'"
      ]
     },
     "execution_count": 20,
     "metadata": {},
     "output_type": "execute_result"
    }
   ],
   "source": [
    "p = logs[\"fmnist\"][\"gpu.fpath\"]\n",
    "p\n",
    "p.read_text().split(\"\\n\")[0]\n",
    "del p"
   ]
  },
  {
   "cell_type": "code",
   "execution_count": 21,
   "id": "85bfb5be-83cc-462a-9faf-e89c663774e3",
   "metadata": {},
   "outputs": [],
   "source": [
    "def get_gpu(fpath: Path) -> Tuple[ndarray]:\n",
    "    \"\"\"\n",
    "    :param fpath: points to a file \".gpu.log\", \n",
    "                  outputs of the command \"gpustat ... >> file.gpu.log\"\n",
    "                  \n",
    "    output memory values are in GB\n",
    "    \"\"\"\n",
    "    USER = \"bertoldo\"\n",
    "    return np.array([\n",
    "        # this incomprehenssible line is just successively splitting\n",
    "        # the line and geting either the text to the left ([0]) or right ([-1])\n",
    "        # and the \"/1024\" in the end is to convert the values to from MB to GB\n",
    "        int(l.split(\"|\")[-1].split(f\"{USER}:python/\")[-1].split(\"(\")[-1].split(\"M)\")[0]) / 1024\n",
    "        for l in fpath.read_text().split(\"\\n\")\n",
    "        if f\"{USER}:python\" in l\n",
    "    ])"
   ]
  },
  {
   "cell_type": "code",
   "execution_count": 22,
   "id": "a85ec44f-dfec-4b12-89b1-c3432df7130a",
   "metadata": {},
   "outputs": [],
   "source": [
    "for log in logs.values():\n",
    "    log[\"mem.vir\"], log[\"mem.mem\"] = get_mem(log[\"mem.fpath\"])\n",
    "    log[\"gpu\"] = get_gpu(log[\"gpu.fpath\"])    "
   ]
  },
  {
   "cell_type": "code",
   "execution_count": 26,
   "id": "8c9f1318-e55f-4b1f-9efa-5b87640ae03f",
   "metadata": {},
   "outputs": [],
   "source": [
    "from matplotlib import pyplot as plt"
   ]
  },
  {
   "cell_type": "code",
   "execution_count": 50,
   "id": "06f688b3-9736-46a6-bf9f-2686635d2e99",
   "metadata": {},
   "outputs": [
    {
     "data": {
      "text/plain": [
       "[<matplotlib.lines.Line2D at 0x7fae75ee4700>]"
      ]
     },
     "execution_count": 50,
     "metadata": {},
     "output_type": "execute_result"
    },
    {
     "data": {
      "text/plain": [
       "[<matplotlib.lines.Line2D at 0x7fae75ee4ac0>]"
      ]
     },
     "execution_count": 50,
     "metadata": {},
     "output_type": "execute_result"
    },
    {
     "data": {
      "text/plain": [
       "<matplotlib.legend.Legend at 0x7fae75ee4cd0>"
      ]
     },
     "execution_count": 50,
     "metadata": {},
     "output_type": "execute_result"
    },
    {
     "data": {
      "text/plain": [
       "Text(0.5, 1.0, 'cpu memory usage (GB)')"
      ]
     },
     "execution_count": 50,
     "metadata": {},
     "output_type": "execute_result"
    },
    {
     "data": {
      "text/plain": [
       "[<matplotlib.lines.Line2D at 0x7fae75e85df0>]"
      ]
     },
     "execution_count": 50,
     "metadata": {},
     "output_type": "execute_result"
    },
    {
     "data": {
      "text/plain": [
       "<matplotlib.legend.Legend at 0x7fae76079f70>"
      ]
     },
     "execution_count": 50,
     "metadata": {},
     "output_type": "execute_result"
    },
    {
     "data": {
      "text/plain": [
       "Text(0.5, 1.0, 'gpu memory usage (GB)')"
      ]
     },
     "execution_count": 50,
     "metadata": {},
     "output_type": "execute_result"
    },
    {
     "data": {
      "text/plain": [
       "Text(0.5, 0.98, \"dataset='cifar10'\")"
      ]
     },
     "execution_count": 50,
     "metadata": {},
     "output_type": "execute_result"
    },
    {
     "data": {
      "text/plain": [
       "[<matplotlib.lines.Line2D at 0x7fae761653d0>]"
      ]
     },
     "execution_count": 50,
     "metadata": {},
     "output_type": "execute_result"
    },
    {
     "data": {
      "text/plain": [
       "[<matplotlib.lines.Line2D at 0x7fae76165790>]"
      ]
     },
     "execution_count": 50,
     "metadata": {},
     "output_type": "execute_result"
    },
    {
     "data": {
      "text/plain": [
       "<matplotlib.legend.Legend at 0x7fae761659a0>"
      ]
     },
     "execution_count": 50,
     "metadata": {},
     "output_type": "execute_result"
    },
    {
     "data": {
      "text/plain": [
       "Text(0.5, 1.0, 'cpu memory usage (GB)')"
      ]
     },
     "execution_count": 50,
     "metadata": {},
     "output_type": "execute_result"
    },
    {
     "data": {
      "text/plain": [
       "[<matplotlib.lines.Line2D at 0x7fae75ef9be0>]"
      ]
     },
     "execution_count": 50,
     "metadata": {},
     "output_type": "execute_result"
    },
    {
     "data": {
      "text/plain": [
       "<matplotlib.legend.Legend at 0x7fae76165b20>"
      ]
     },
     "execution_count": 50,
     "metadata": {},
     "output_type": "execute_result"
    },
    {
     "data": {
      "text/plain": [
       "Text(0.5, 1.0, 'gpu memory usage (GB)')"
      ]
     },
     "execution_count": 50,
     "metadata": {},
     "output_type": "execute_result"
    },
    {
     "data": {
      "text/plain": [
       "Text(0.5, 0.98, \"dataset='fmnist'\")"
      ]
     },
     "execution_count": 50,
     "metadata": {},
     "output_type": "execute_result"
    },
    {
     "data": {
      "text/plain": [
       "[<matplotlib.lines.Line2D at 0x7fae75d393d0>]"
      ]
     },
     "execution_count": 50,
     "metadata": {},
     "output_type": "execute_result"
    },
    {
     "data": {
      "text/plain": [
       "[<matplotlib.lines.Line2D at 0x7fae75d39670>]"
      ]
     },
     "execution_count": 50,
     "metadata": {},
     "output_type": "execute_result"
    },
    {
     "data": {
      "text/plain": [
       "<matplotlib.legend.Legend at 0x7fae75e3da00>"
      ]
     },
     "execution_count": 50,
     "metadata": {},
     "output_type": "execute_result"
    },
    {
     "data": {
      "text/plain": [
       "Text(0.5, 1.0, 'cpu memory usage (GB)')"
      ]
     },
     "execution_count": 50,
     "metadata": {},
     "output_type": "execute_result"
    },
    {
     "data": {
      "text/plain": [
       "[<matplotlib.lines.Line2D at 0x7fae75d3e4c0>]"
      ]
     },
     "execution_count": 50,
     "metadata": {},
     "output_type": "execute_result"
    },
    {
     "data": {
      "text/plain": [
       "<matplotlib.legend.Legend at 0x7fae75d2d4c0>"
      ]
     },
     "execution_count": 50,
     "metadata": {},
     "output_type": "execute_result"
    },
    {
     "data": {
      "text/plain": [
       "Text(0.5, 1.0, 'gpu memory usage (GB)')"
      ]
     },
     "execution_count": 50,
     "metadata": {},
     "output_type": "execute_result"
    },
    {
     "data": {
      "text/plain": [
       "Text(0.5, 0.98, \"dataset='pascalvoc'\")"
      ]
     },
     "execution_count": 50,
     "metadata": {},
     "output_type": "execute_result"
    },
    {
     "data": {
      "image/png": "[encoded data removed]",
      "text/plain": [
       "<Figure size 576x432 with 2 Axes>"
      ]
     },
     "metadata": {
      "needs_background": "light"
     },
     "output_type": "display_data"
    },
    {
     "data": {
      "image/png": "[encoded data removed]",
      "text/plain": [
       "<Figure size 576x432 with 2 Axes>"
      ]
     },
     "metadata": {
      "needs_background": "light"
     },
     "output_type": "display_data"
    },
    {
     "data": {
      "image/png": "[encoded data removed]",
      "text/plain": [
       "<Figure size 576x432 with 2 Axes>"
      ]
     },
     "metadata": {
      "needs_background": "light"
     },
     "output_type": "display_data"
    }
   ],
   "source": [
    "\n",
    "for dataset, data in logs.items():\n",
    "    vir = data[\"mem.vir\"]\n",
    "    mem = data[\"mem.mem\"]\n",
    "    gpu = data[\"gpu\"]\n",
    "    \n",
    "    fig, axs = plt.subplots(2, 1, figsize=(8, 6))\n",
    "    ax_mem, ax_gpu = axs\n",
    "    \n",
    "    ax_mem.plot(vir, label=f\"vir (max={np.max(vir)})\")\n",
    "    ax_mem.plot(mem, label=f\"mem (max={np.max(mem)})\")\n",
    "    ax_mem.legend()\n",
    "    ax_mem.set_title(\"cpu memory usage (GB)\")\n",
    "    \n",
    "    ax_gpu.plot(gpu, label=f\"gpu (max={np.max(gpu):.2f})\")\n",
    "    ax_gpu.legend()\n",
    "    ax_gpu.set_title(\"gpu memory usage (GB)\")\n",
    "    \n",
    "    fig.suptitle(f\"{dataset=}\")\n",
    "    fig.set_tight_layout(True)\n"
   ]
  },
  {
   "cell_type": "code",
   "execution_count": null,
   "id": "b585ee62-5555-47a7-a5e7-3ee0d9dd2dc7",
   "metadata": {},
   "outputs": [],
   "source": []
  }
 ],
 "metadata": {
  "kernelspec": {
   "display_name": "genv",
   "language": "python",
   "name": "genv"
  },
  "language_info": {
   "codemirror_mode": {
    "name": "ipython",
    "version": 3
   },
   "file_extension": ".py",
   "mimetype": "text/x-python",
   "name": "python",
   "nbconvert_exporter": "python",
   "pygments_lexer": "ipython3",
   "version": "3.9.7"
  }
 },
 "nbformat": 4,
 "nbformat_minor": 5
}

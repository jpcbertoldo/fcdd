{
 "cells": [
  {
   "cell_type": "markdown",
   "metadata": {},
   "source": [
    "# [project page](https://wandb.ai/mines-paristech-cmm/fcdd-mvtec-bmvc)\n",
    "\n",
    "i will fix some runs and add the hist avg of roc and avg precision"
   ]
  },
  {
   "cell_type": "code",
   "execution_count": 2,
   "metadata": {},
   "outputs": [],
   "source": [
    "# make a cell print all the outputs instead of just the last one\n",
    "from IPython.core.interactiveshell import InteractiveShell\n",
    "InteractiveShell.ast_node_interactivity = \"all\""
   ]
  },
  {
   "cell_type": "markdown",
   "metadata": {},
   "source": [
    "# get runs"
   ]
  },
  {
   "cell_type": "code",
   "execution_count": 3,
   "metadata": {},
   "outputs": [
    {
     "data": {
      "text/plain": [
       "(920, 6)"
      ]
     },
     "execution_count": 3,
     "metadata": {},
     "output_type": "execute_result"
    },
    {
     "data": {
      "text/plain": [
       "Index(['summary', 'config', 'name', 'tags', 'id', 'state'], dtype='object')"
      ]
     },
     "execution_count": 3,
     "metadata": {},
     "output_type": "execute_result"
    }
   ],
   "source": [
    "WANDB_ENTITY = \"mines-paristech-cmm\"\n",
    "WANDB_PROJECT = \"fcdd-mvtec-bmvc\"\n",
    "WANDB_ENTITY_PROJECT = f\"{WANDB_ENTITY}/{WANDB_PROJECT}\"\n",
    "\n",
    "WANDB_SWEEP_ID = None\n",
    "WANDB_SWEEP_PATH = f\"{WANDB_ENTITY_PROJECT}/{WANDB_SWEEP_ID}\" if WANDB_SWEEP_ID else None\n",
    "\n",
    "import wandb\n",
    "api = wandb.Api()\n",
    "\n",
    "runs = api.runs(WANDB_ENTITY_PROJECT)\n",
    "# sweep = api.sweep(WANDB_SWEEP_PATH)\n",
    "# runs = sweep.runs\n",
    "\n",
    "from collections import defaultdict\n",
    "lists = defaultdict(list)\n",
    "\n",
    "def append_to_list(key, value):\n",
    "    lists[key].append(value)\n",
    "\n",
    "for run in runs: \n",
    "    append_to_list(\"summary\", run.summary._json_dict)\n",
    "    append_to_list(\"config\", {k: v for k,v in run.config.items() if not k.startswith('_')})\n",
    "    append_to_list(\"name\", run.name)\n",
    "    append_to_list(\"tags\", run.tags)\n",
    "    append_to_list(\"id\", run.id)\n",
    "    append_to_list(\"state\", run.state)\n",
    "    \n",
    "import pandas as pd\n",
    "runs_df = pd.DataFrame.from_dict(data=lists)\n",
    "\n",
    "runs_df.shape\n",
    "runs_df.columns"
   ]
  },
  {
   "cell_type": "code",
   "execution_count": 4,
   "metadata": {},
   "outputs": [
    {
     "data": {
      "text/plain": [
       "'_runtime   _step   _timestamp   _wandb   avg-precision-accumulated   batch_size_effective   epoch   loss_empirical_cdf_clip_threshold   mvtec_class_type   normal_class_fullqualified   normal_class_label   test/avg-precision   test/histogram-of-loss_maps   test/histogram-of-score_maps   test/histogram-superposed-per-class-of-loss_maps   test/histogram-superposed-per-class-of-score_maps   test/images-heatmaps-table   test/loss   test/loss-anomalous-mean   test/loss-normals-mean   test/per-instance-value-of-loss_maps   test/per-instance-value-of-score_maps   test/precision-recall-curve_table   test/roc-auc   test/roc-curve_table   test/score-anomalous-mean   test/score-mean   test/score-normals-mean   train/learning_rate_scheduler_idx=0   train/loss   train/loss-anomalous-mean   train/loss-normals-mean   train/score-anomalous-mean   train/score-mean   train/score-normals-mean   trainer/global_step   validate/avg-precision   validate/avg-precision/history-mean   validate/loss   validate/loss-anomalous-mean   validate/loss-normals-mean   validate/roc-auc   validate/roc-auc/history-mean   validate/score-anomalous-mean   validate/score-mean   validate/score-normals-mean'"
      ]
     },
     "execution_count": 4,
     "metadata": {},
     "output_type": "execute_result"
    },
    {
     "data": {
      "text/plain": [
       "'batch_size   confighash_dataset_class_supervise   confighash_dataset_class_supervise_loss   confighash_dataset_class_supervise_loss_model   confighash_dataset_class_supervise_model   confighash_full   confighash_slurm   cuda_visible_devices   datadir   dataset   epochs   in_shape   it   learning_rate   lightning_accelerator   lightning_accumulate_grad_batches   lightning_check_val_every_n_epoch   lightning_deterministic   lightning_gradient_clip_algorithm   lightning_gradient_clip_val   lightning_model_summary_max_depth   lightning_ndevices   lightning_precision   lightning_profiler   lightning_strategy   logdir   loss   loss_name   lr   model   model_name   net_shape   normal_class   nparallel-runs   nworkers   optimizer   optimizer_name   pid   pin_memory   preprocessing   preview_nimages   raw_shape   real_anomaly_limit   root   scheduler   scheduler_name   scheduler_parameters   script_start_time   script_version   seed   seeds_str   slurm_array_job_id   slurm_array_task_id   slurm_cluster_name   slurm_job_gpus   slurm_job_id   slurm_job_name   slurm_job_partition   slurm_job_user   slurm_submit_host   slurm_task_pid   slurmd_nodename   supervise_mode   test   wandb_log_histogram_loss   wandb_log_histogram_score   wandb_log_image_heatmap_contrast_percentiles   wandb_log_image_heatmap_nsamples   wandb_log_image_heatmap_resolution   wandb_log_percentiles_score   wandb_log_perinstance_mean_loss   wandb_log_perinstance_mean_score   wandb_log_pr   wandb_log_roc   wandb_profile   wandb_watch   wandb_watch_log_freq   weight_decay'"
      ]
     },
     "execution_count": 4,
     "metadata": {},
     "output_type": "execute_result"
    }
   ],
   "source": [
    "summary_keys = sorted(set.union(*runs_df[\"summary\"].apply(lambda x: set(x.keys())).tolist()))\n",
    "\"   \".join(summary_keys)\n",
    "\n",
    "config_keys = sorted(set.union(*runs_df[\"config\"].apply(lambda x: set(x.keys())).tolist()))\n",
    "\"   \".join(config_keys)"
   ]
  },
  {
   "cell_type": "markdown",
   "metadata": {},
   "source": [
    "# filter runs"
   ]
  },
  {
   "cell_type": "code",
   "execution_count": 5,
   "metadata": {},
   "outputs": [
    {
     "data": {
      "text/plain": [
       "(920, 6)"
      ]
     },
     "execution_count": 5,
     "metadata": {},
     "output_type": "execute_result"
    }
   ],
   "source": [
    "runs_df_filtered = runs_df\n",
    "\n",
    "get_only_finished = runs_df['state'] == 'finished'\n",
    "runs_df_filtered = runs_df_filtered[get_only_finished]\n",
    "\n",
    "select_epoch_is_last = runs_df[\"summary\"].apply(lambda s: s.get(\"epoch\", None)) == 500\n",
    "runs_df_filtered = runs_df_filtered[select_epoch_is_last]\n",
    "\n",
    "runs_df_filtered.shape"
   ]
  },
  {
   "cell_type": "markdown",
   "metadata": {},
   "source": [
    "# make new columns"
   ]
  },
  {
   "cell_type": "code",
   "execution_count": 6,
   "metadata": {},
   "outputs": [
    {
     "data": {
      "text/plain": [
       "Index(['summary', 'config', 'name', 'tags', 'id', 'state', 'loss',\n",
       "       'supervise_mode', 'normal_class', 'scheduler_parameters',\n",
       "       'normal_class_fullqualified', 'loss_empirical_cdf_clip_threshold'],\n",
       "      dtype='object')"
      ]
     },
     "execution_count": 6,
     "metadata": {},
     "output_type": "execute_result"
    }
   ],
   "source": [
    "import numpy as np\n",
    "\n",
    "def extract(df, from_column, key):\n",
    "    return df[from_column].apply(lambda x: x.get(key, None))\n",
    "\n",
    "\n",
    "def get_history(df, key):\n",
    "    return \n",
    "\n",
    "df = runs_df_filtered\n",
    "\n",
    "df[\"loss\"] = extract(df, \"config\", \"loss\")\n",
    "df[\"supervise_mode\"] = extract(df, \"config\", \"supervise_mode\")\n",
    "df[\"normal_class\"] = extract(df, \"config\", \"normal_class\")\n",
    "df[\"scheduler_parameters\"] = extract(df, \"config\", \"scheduler_parameters\")\n",
    "\n",
    "df[\"normal_class_fullqualified\"] = extract(df, \"summary\", \"normal_class_fullqualified\")\n",
    "df[\"loss_empirical_cdf_clip_threshold\"] = extract(df, \"summary\", \"loss_empirical_cdf_clip_threshold\")\n",
    "\n",
    "del df\n",
    "\n",
    "runs_df_filtered.columns"
   ]
  },
  {
   "cell_type": "markdown",
   "metadata": {},
   "source": [
    "# categorical vals "
   ]
  },
  {
   "cell_type": "code",
   "execution_count": 7,
   "metadata": {},
   "outputs": [
    {
     "data": {
      "text/plain": [
       "['old-fcdd',\n",
       " 'pixelwise-batch-avg',\n",
       " 'pixelwise-batch-avg-clip-score-cdf-adaptive']"
      ]
     },
     "execution_count": 7,
     "metadata": {},
     "output_type": "execute_result"
    },
    {
     "data": {
      "text/plain": [
       "['synthetic-anomaly-confetti', 'real-anomaly']"
      ]
     },
     "execution_count": 7,
     "metadata": {},
     "output_type": "execute_result"
    },
    {
     "data": {
      "text/plain": [
       "['mvtec_14_zipper',\n",
       " 'mvtec_13_wood',\n",
       " 'mvtec_12_transistor',\n",
       " 'mvtec_11_toothbrush',\n",
       " 'mvtec_10_tile',\n",
       " 'mvtec_06_leather',\n",
       " 'mvtec_04_grid',\n",
       " 'mvtec_09_screw',\n",
       " 'mvtec_08_pill',\n",
       " 'mvtec_07_metal_nut',\n",
       " 'mvtec_05_hazelnut',\n",
       " 'mvtec_03_carpet',\n",
       " 'mvtec_02_capsule',\n",
       " 'mvtec_01_cable',\n",
       " 'mvtec_00_bottle']"
      ]
     },
     "execution_count": 7,
     "metadata": {},
     "output_type": "execute_result"
    },
    {
     "data": {
      "text/plain": [
       "[(0.985,), (0.9985,)]"
      ]
     },
     "execution_count": 7,
     "metadata": {},
     "output_type": "execute_result"
    },
    {
     "data": {
      "text/plain": [
       "[nan, 0.15, 0.05]"
      ]
     },
     "execution_count": 7,
     "metadata": {},
     "output_type": "execute_result"
    }
   ],
   "source": [
    "runs_df_filtered[\"loss\"].unique().tolist()\n",
    "runs_df_filtered[\"supervise_mode\"].unique().tolist()\n",
    "runs_df_filtered[\"normal_class_fullqualified\"].unique().tolist()\n",
    "runs_df_filtered[\"scheduler_parameters\"].apply(tuple).unique().tolist()\n",
    "runs_df_filtered[\"loss_empirical_cdf_clip_threshold\"].unique().tolist()"
   ]
  },
  {
   "cell_type": "markdown",
   "metadata": {},
   "source": [
    "# get metric histories"
   ]
  },
  {
   "cell_type": "code",
   "execution_count": 8,
   "metadata": {},
   "outputs": [
    {
     "name": "stderr",
     "output_type": "stream",
     "text": [
      " 73% (678 of 920) |################      | Elapsed Time: 0:08:26 ETA:   0:03:03\u001b[34m\u001b[1mwandb\u001b[0m: \u001b[33mWARNING\u001b[0m A graphql request initiated by the public wandb API timed out (timeout=9 sec). Create a new API with an integer timeout larger than 9, e.g., `api = wandb.Api(timeout=19)` to increase the graphql timeout.\n",
      " 79% (733 of 920) |#################     | Elapsed Time: 0:09:22 ETA:   0:02:26\u001b[34m\u001b[1mwandb\u001b[0m: \u001b[33mWARNING\u001b[0m A graphql request initiated by the public wandb API timed out (timeout=9 sec). Create a new API with an integer timeout larger than 9, e.g., `api = wandb.Api(timeout=19)` to increase the graphql timeout.\n",
      "100% (920 of 920) |######################| Elapsed Time: 0:12:09 Time:  0:12:09\n"
     ]
    },
    {
     "ename": "ValueError",
     "evalue": "Columns must be same length as key",
     "output_type": "error",
     "traceback": [
      "\u001b[0;31m---------------------------------------------------------------------------\u001b[0m",
      "\u001b[0;31mValueError\u001b[0m                                Traceback (most recent call last)",
      "\u001b[1;32m/home/bertoldo/fcdd/2022-07-bmvc/03-proj-fcdd-mvtec-bmvc-add-histavg-and-fix-cdf-param.ipynb Cell 13\u001b[0m in \u001b[0;36m<cell line: 14>\u001b[0;34m()\u001b[0m\n\u001b[1;32m     <a href='vscode-notebook-cell://ssh-remote%2Bcuda/home/bertoldo/fcdd/2022-07-bmvc/03-proj-fcdd-mvtec-bmvc-add-histavg-and-fix-cdf-param.ipynb#ch0000012vscode-remote?line=10'>11</a>\u001b[0m     hists_per_run\u001b[39m.\u001b[39mappend([np\u001b[39m.\u001b[39marray([dic[key] \u001b[39mfor\u001b[39;00m dic \u001b[39min\u001b[39;00m hist]) \u001b[39mfor\u001b[39;00m key \u001b[39min\u001b[39;00m keys])\n\u001b[1;32m     <a href='vscode-notebook-cell://ssh-remote%2Bcuda/home/bertoldo/fcdd/2022-07-bmvc/03-proj-fcdd-mvtec-bmvc-add-histavg-and-fix-cdf-param.ipynb#ch0000012vscode-remote?line=12'>13</a>\u001b[0m \u001b[39m# transpose the list of lists\u001b[39;00m\n\u001b[0;32m---> <a href='vscode-notebook-cell://ssh-remote%2Bcuda/home/bertoldo/fcdd/2022-07-bmvc/03-proj-fcdd-mvtec-bmvc-add-histavg-and-fix-cdf-param.ipynb#ch0000012vscode-remote?line=13'>14</a>\u001b[0m df[keys] \u001b[39m=\u001b[39m \u001b[39mlist\u001b[39m(\u001b[39mmap\u001b[39m(\u001b[39mlist\u001b[39m, \u001b[39mzip\u001b[39m(\u001b[39m*\u001b[39mhists_per_run)))\n\u001b[1;32m     <a href='vscode-notebook-cell://ssh-remote%2Bcuda/home/bertoldo/fcdd/2022-07-bmvc/03-proj-fcdd-mvtec-bmvc-add-histavg-and-fix-cdf-param.ipynb#ch0000012vscode-remote?line=15'>16</a>\u001b[0m \u001b[39mdel\u001b[39;00m df\n",
      "File \u001b[0;32m~/miniconda3/envs/genv/lib/python3.9/site-packages/pandas/core/frame.py:3643\u001b[0m, in \u001b[0;36mDataFrame.__setitem__\u001b[0;34m(self, key, value)\u001b[0m\n\u001b[1;32m   3641\u001b[0m     \u001b[39mself\u001b[39m\u001b[39m.\u001b[39m_setitem_frame(key, value)\n\u001b[1;32m   3642\u001b[0m \u001b[39melif\u001b[39;00m \u001b[39misinstance\u001b[39m(key, (Series, np\u001b[39m.\u001b[39mndarray, \u001b[39mlist\u001b[39m, Index)):\n\u001b[0;32m-> 3643\u001b[0m     \u001b[39mself\u001b[39;49m\u001b[39m.\u001b[39;49m_setitem_array(key, value)\n\u001b[1;32m   3644\u001b[0m \u001b[39melif\u001b[39;00m \u001b[39misinstance\u001b[39m(value, DataFrame):\n\u001b[1;32m   3645\u001b[0m     \u001b[39mself\u001b[39m\u001b[39m.\u001b[39m_set_item_frame_value(key, value)\n",
      "File \u001b[0;32m~/miniconda3/envs/genv/lib/python3.9/site-packages/pandas/core/frame.py:3699\u001b[0m, in \u001b[0;36mDataFrame._setitem_array\u001b[0;34m(self, key, value)\u001b[0m\n\u001b[1;32m   3696\u001b[0m \u001b[39melif\u001b[39;00m np\u001b[39m.\u001b[39mndim(value) \u001b[39m>\u001b[39m \u001b[39m1\u001b[39m:\n\u001b[1;32m   3697\u001b[0m     \u001b[39m# list of lists\u001b[39;00m\n\u001b[1;32m   3698\u001b[0m     value \u001b[39m=\u001b[39m DataFrame(value)\u001b[39m.\u001b[39mvalues\n\u001b[0;32m-> 3699\u001b[0m     \u001b[39mreturn\u001b[39;00m \u001b[39mself\u001b[39;49m\u001b[39m.\u001b[39;49m_setitem_array(key, value)\n\u001b[1;32m   3701\u001b[0m \u001b[39melse\u001b[39;00m:\n\u001b[1;32m   3702\u001b[0m     \u001b[39mself\u001b[39m\u001b[39m.\u001b[39m_iset_not_inplace(key, value)\n",
      "File \u001b[0;32m~/miniconda3/envs/genv/lib/python3.9/site-packages/pandas/core/frame.py:3694\u001b[0m, in \u001b[0;36mDataFrame._setitem_array\u001b[0;34m(self, key, value)\u001b[0m\n\u001b[1;32m   3691\u001b[0m         \u001b[39mself\u001b[39m[col] \u001b[39m=\u001b[39m value\n\u001b[1;32m   3693\u001b[0m \u001b[39melif\u001b[39;00m \u001b[39misinstance\u001b[39m(value, np\u001b[39m.\u001b[39mndarray) \u001b[39mand\u001b[39;00m value\u001b[39m.\u001b[39mndim \u001b[39m==\u001b[39m \u001b[39m2\u001b[39m:\n\u001b[0;32m-> 3694\u001b[0m     \u001b[39mself\u001b[39;49m\u001b[39m.\u001b[39;49m_iset_not_inplace(key, value)\n\u001b[1;32m   3696\u001b[0m \u001b[39melif\u001b[39;00m np\u001b[39m.\u001b[39mndim(value) \u001b[39m>\u001b[39m \u001b[39m1\u001b[39m:\n\u001b[1;32m   3697\u001b[0m     \u001b[39m# list of lists\u001b[39;00m\n\u001b[1;32m   3698\u001b[0m     value \u001b[39m=\u001b[39m DataFrame(value)\u001b[39m.\u001b[39mvalues\n",
      "File \u001b[0;32m~/miniconda3/envs/genv/lib/python3.9/site-packages/pandas/core/frame.py:3721\u001b[0m, in \u001b[0;36mDataFrame._iset_not_inplace\u001b[0;34m(self, key, value)\u001b[0m\n\u001b[1;32m   3719\u001b[0m \u001b[39mif\u001b[39;00m \u001b[39mself\u001b[39m\u001b[39m.\u001b[39mcolumns\u001b[39m.\u001b[39mis_unique:\n\u001b[1;32m   3720\u001b[0m     \u001b[39mif\u001b[39;00m np\u001b[39m.\u001b[39mshape(value)[\u001b[39m-\u001b[39m\u001b[39m1\u001b[39m] \u001b[39m!=\u001b[39m \u001b[39mlen\u001b[39m(key):\n\u001b[0;32m-> 3721\u001b[0m         \u001b[39mraise\u001b[39;00m \u001b[39mValueError\u001b[39;00m(\u001b[39m\"\u001b[39m\u001b[39mColumns must be same length as key\u001b[39m\u001b[39m\"\u001b[39m)\n\u001b[1;32m   3723\u001b[0m     \u001b[39mfor\u001b[39;00m i, col \u001b[39min\u001b[39;00m \u001b[39menumerate\u001b[39m(key):\n\u001b[1;32m   3724\u001b[0m         \u001b[39mself\u001b[39m[col] \u001b[39m=\u001b[39m igetitem(value, i)\n",
      "\u001b[0;31mValueError\u001b[0m: Columns must be same length as key"
     ]
    }
   ],
   "source": [
    "import progressbar\n",
    "\n",
    "df = runs_df_filtered\n",
    "keys = [\"validate/roc-auc\", \"validate/avg-precision\"]\n",
    "\n",
    "# get history of signals\n",
    "hists_per_run = []\n",
    "for run_id in progressbar.progressbar(df[\"id\"], max_value=df.shape[0]):\n",
    "    run = api.run(f\"{WANDB_ENTITY_PROJECT}/{run_id}\")\n",
    "    hist = run.scan_history(keys=keys)\n",
    "    hists_per_run.append([np.array([dic[key] for dic in hist]) for key in keys])\n",
    "\n",
    "# transpose the list of lists\n",
    "hists_per_run = list(map(list, zip(*hists_per_run)))\n",
    "\n",
    "\n",
    "for key, list_ in zip(keys, hists_per_run):\n",
    "    df[key] = list_\n",
    "    \n",
    "del df"
   ]
  },
  {
   "cell_type": "markdown",
   "metadata": {},
   "source": [
    "# correct missing config of cdf loss"
   ]
  },
  {
   "cell_type": "code",
   "execution_count": 21,
   "metadata": {},
   "outputs": [
    {
     "data": {
      "text/plain": [
       "300"
      ]
     },
     "execution_count": 21,
     "metadata": {},
     "output_type": "execute_result"
    },
    {
     "data": {
      "text/plain": [
       "620"
      ]
     },
     "execution_count": 21,
     "metadata": {},
     "output_type": "execute_result"
    },
    {
     "data": {
      "text/plain": [
       "0"
      ]
     },
     "execution_count": 21,
     "metadata": {},
     "output_type": "execute_result"
    }
   ],
   "source": [
    "sel_cdf_loss = runs_df_filtered[\"loss\"] == 'pixelwise-batch-avg-clip-score-cdf-adaptive'\n",
    "sel_cdf_loss.sum()\n",
    "\n",
    "sel_cdf_param_nan = runs_df_filtered[\"loss_empirical_cdf_clip_threshold\"].isna()\n",
    "sel_cdf_param_nan.sum()\n",
    "\n",
    "sel = sel_cdf_loss & sel_cdf_param_nan\n",
    "sel.sum()\n",
    "\n",
    "runs_df_filtered.loc[sel, \"loss_empirical_cdf_clip_threshold\"] = 0.05"
   ]
  },
  {
   "cell_type": "markdown",
   "metadata": {},
   "source": [
    "# check cases with more experiments than expected"
   ]
  },
  {
   "cell_type": "code",
   "execution_count": 33,
   "metadata": {},
   "outputs": [
    {
     "data": {
      "text/plain": [
       "320"
      ]
     },
     "execution_count": 33,
     "metadata": {},
     "output_type": "execute_result"
    },
    {
     "data": {
      "text/plain": [
       "470"
      ]
     },
     "execution_count": 33,
     "metadata": {},
     "output_type": "execute_result"
    },
    {
     "data": {
      "text/plain": [
       "140"
      ]
     },
     "execution_count": 33,
     "metadata": {},
     "output_type": "execute_result"
    },
    {
     "data": {
      "text/plain": [
       "40"
      ]
     },
     "execution_count": 33,
     "metadata": {},
     "output_type": "execute_result"
    },
    {
     "name": "stderr",
     "output_type": "stream",
     "text": [
      "/tmp/ipykernel_9338/701335707.py:15: SettingWithCopyWarning: \n",
      "A value is trying to be set on a copy of a slice from a DataFrame.\n",
      "Try using .loc[row_indexer,col_indexer] = value instead\n",
      "\n",
      "See the caveats in the documentation: https://pandas.pydata.org/pandas-docs/stable/user_guide/indexing.html#returning-a-view-versus-a-copy\n",
      "  df[\"seed\"] = extract(df, \"config\", \"seed\")\n"
     ]
    }
   ],
   "source": [
    "sel_cdf_loss = runs_df_filtered[\"loss\"] == 'pixelwise-batch-avg'\n",
    "sel_cdf_loss.sum()\n",
    "\n",
    "sel_supervise_confetti = runs_df_filtered[\"supervise_mode\"] == 'synthetic-anomaly-confetti'\n",
    "sel_supervise_confetti.sum()\n",
    "\n",
    "sel_classes = runs_df_filtered[\"normal_class\"].isin((10, 11))\n",
    "sel_classes.sum()\n",
    "\n",
    "sel = sel_cdf_loss & sel_supervise_confetti & sel_classes\n",
    "sel.sum()\n",
    "\n",
    "df = runs_df_filtered[sel]\n",
    "\n",
    "df[\"seed\"] = extract(df, \"config\", \"seed\")\n",
    "\n",
    "# del df"
   ]
  },
  {
   "cell_type": "code",
   "execution_count": 37,
   "metadata": {},
   "outputs": [
    {
     "data": {
      "text/plain": [
       "(30,)"
      ]
     },
     "execution_count": 37,
     "metadata": {},
     "output_type": "execute_result"
    }
   ],
   "source": [
    "df[\"seed\"].unique().shape"
   ]
  },
  {
   "cell_type": "code",
   "execution_count": 40,
   "metadata": {},
   "outputs": [
    {
     "data": {
      "text/html": [
       "<div>\n",
       "<style scoped>\n",
       "    .dataframe tbody tr th:only-of-type {\n",
       "        vertical-align: middle;\n",
       "    }\n",
       "\n",
       "    .dataframe tbody tr th {\n",
       "        vertical-align: top;\n",
       "    }\n",
       "\n",
       "    .dataframe thead th {\n",
       "        text-align: right;\n",
       "    }\n",
       "</style>\n",
       "<table border=\"1\" class=\"dataframe\">\n",
       "  <thead>\n",
       "    <tr style=\"text-align: right;\">\n",
       "      <th>seed</th>\n",
       "      <th>2.073017e+17</th>\n",
       "      <th>5.487489e+17</th>\n",
       "      <th>1.536156e+18</th>\n",
       "      <th>1.736773e+18</th>\n",
       "      <th>2.576420e+18</th>\n",
       "      <th>2.605296e+18</th>\n",
       "      <th>2.684910e+18</th>\n",
       "      <th>3.472026e+18</th>\n",
       "      <th>4.514424e+18</th>\n",
       "      <th>4.904857e+18</th>\n",
       "      <th>...</th>\n",
       "      <th>1.160324e+19</th>\n",
       "      <th>1.209402e+19</th>\n",
       "      <th>1.323703e+19</th>\n",
       "      <th>1.449257e+19</th>\n",
       "      <th>1.502808e+19</th>\n",
       "      <th>1.581556e+19</th>\n",
       "      <th>1.698671e+19</th>\n",
       "      <th>1.706821e+19</th>\n",
       "      <th>1.757524e+19</th>\n",
       "      <th>1.834008e+19</th>\n",
       "    </tr>\n",
       "  </thead>\n",
       "  <tbody>\n",
       "    <tr>\n",
       "      <th>id</th>\n",
       "      <td>1</td>\n",
       "      <td>2</td>\n",
       "      <td>1</td>\n",
       "      <td>1</td>\n",
       "      <td>2</td>\n",
       "      <td>2</td>\n",
       "      <td>1</td>\n",
       "      <td>2</td>\n",
       "      <td>2</td>\n",
       "      <td>1</td>\n",
       "      <td>...</td>\n",
       "      <td>1</td>\n",
       "      <td>1</td>\n",
       "      <td>2</td>\n",
       "      <td>1</td>\n",
       "      <td>1</td>\n",
       "      <td>1</td>\n",
       "      <td>1</td>\n",
       "      <td>1</td>\n",
       "      <td>2</td>\n",
       "      <td>2</td>\n",
       "    </tr>\n",
       "  </tbody>\n",
       "</table>\n",
       "<p>1 rows × 30 columns</p>\n",
       "</div>"
      ],
      "text/plain": [
       "seed  2.073017e+17  5.487489e+17  1.536156e+18  1.736773e+18  2.576420e+18  \\\n",
       "id               1             2             1             1             2   \n",
       "\n",
       "seed  2.605296e+18  2.684910e+18  3.472026e+18  4.514424e+18  4.904857e+18  \\\n",
       "id               2             1             2             2             1   \n",
       "\n",
       "seed  ...  1.160324e+19  1.209402e+19  1.323703e+19  1.449257e+19  \\\n",
       "id    ...             1             1             2             1   \n",
       "\n",
       "seed  1.502808e+19  1.581556e+19  1.698671e+19  1.706821e+19  1.757524e+19  \\\n",
       "id               1             1             1             1             2   \n",
       "\n",
       "seed  1.834008e+19  \n",
       "id               2  \n",
       "\n",
       "[1 rows x 30 columns]"
      ]
     },
     "execution_count": 40,
     "metadata": {},
     "output_type": "execute_result"
    }
   ],
   "source": [
    "df[[\"id\", \"seed\"]].groupby(\"seed\").count().T"
   ]
  },
  {
   "cell_type": "code",
   "execution_count": 56,
   "metadata": {},
   "outputs": [
    {
     "data": {
      "text/plain": [
       "seed\n",
       "5.487489e+17    [3kxv6iqk]\n",
       "2.576420e+18    [3pkk6qim]\n",
       "2.605296e+18    [3ay1d7l0]\n",
       "3.472026e+18    [2qqxqx2d]\n",
       "4.514424e+18    [kow8fxsn]\n",
       "8.709818e+18    [ulrrcwkp]\n",
       "1.068624e+19    [8pjieo54]\n",
       "1.323703e+19    [3kh94h9f]\n",
       "1.757524e+19    [2r9e4z64]\n",
       "1.834008e+19    [9t01mbo7]\n",
       "dtype: object"
      ]
     },
     "execution_count": 56,
     "metadata": {},
     "output_type": "execute_result"
    }
   ],
   "source": [
    "df_dupes = df[[\"id\", \"seed\"]].groupby(\"seed\").apply(lambda x: sorted(set(x[\"id\"])))\n",
    "df_dupes = df_dupes[df_dupes.apply(len) > 1]\n",
    "df_dupes = df_dupes.apply(lambda x: x[1:])\n",
    "df_dupes"
   ]
  },
  {
   "cell_type": "markdown",
   "metadata": {},
   "source": [
    "## add tag `deleteme` duplicates"
   ]
  },
  {
   "cell_type": "code",
   "execution_count": 62,
   "metadata": {},
   "outputs": [
    {
     "data": {
      "text/plain": [
       "['3kxv6iqk',\n",
       " '3pkk6qim',\n",
       " '3ay1d7l0',\n",
       " '2qqxqx2d',\n",
       " 'kow8fxsn',\n",
       " 'ulrrcwkp',\n",
       " '8pjieo54',\n",
       " '3kh94h9f',\n",
       " '2r9e4z64',\n",
       " '9t01mbo7']"
      ]
     },
     "execution_count": 62,
     "metadata": {},
     "output_type": "execute_result"
    }
   ],
   "source": [
    "ids_to_delete = [id_ for duped_ids in df_dupes for id_ in duped_ids]\n",
    "ids_to_delete"
   ]
  },
  {
   "cell_type": "code",
   "execution_count": 66,
   "metadata": {},
   "outputs": [
    {
     "name": "stderr",
     "output_type": "stream",
     "text": [
      "100% (10 of 10) |########################| Elapsed Time: 0:00:04 Time:  0:00:04\n"
     ]
    }
   ],
   "source": [
    "import progressbar\n",
    "for runid in progressbar.progressbar(ids_to_delete):\n",
    "    run = api.run(f\"{WANDB_ENTITY_PROJECT}/{runid}\")\n",
    "    run.tags = run.tags + [\"deleteme\", ]\n",
    "    run.save()"
   ]
  },
  {
   "cell_type": "markdown",
   "metadata": {},
   "source": [
    "i deleted them in the wandb web page"
   ]
  },
  {
   "cell_type": "markdown",
   "metadata": {},
   "source": [
    "there are still 10 extra runs but i will just leave them there, this shouldn't be harmful"
   ]
  },
  {
   "cell_type": "code",
   "execution_count": 67,
   "metadata": {},
   "outputs": [],
   "source": [
    "runs_df_filtered = runs_df_filtered[~runs_df_filtered[\"id\"].isin(ids_to_delete)]"
   ]
  },
  {
   "cell_type": "code",
   "execution_count": 68,
   "metadata": {},
   "outputs": [
    {
     "data": {
      "text/plain": [
       "(910, 16)"
      ]
     },
     "execution_count": 68,
     "metadata": {},
     "output_type": "execute_result"
    }
   ],
   "source": [
    "runs_df_filtered.shape"
   ]
  },
  {
   "cell_type": "markdown",
   "metadata": {},
   "source": [
    "# create histavg metrics"
   ]
  },
  {
   "cell_type": "code",
   "execution_count": 69,
   "metadata": {},
   "outputs": [
    {
     "name": "stderr",
     "output_type": "stream",
     "text": [
      "/tmp/ipykernel_9338/1649431263.py:9: SettingWithCopyWarning: \n",
      "A value is trying to be set on a copy of a slice from a DataFrame.\n",
      "Try using .loc[row_indexer,col_indexer] = value instead\n",
      "\n",
      "See the caveats in the documentation: https://pandas.pydata.org/pandas-docs/stable/user_guide/indexing.html#returning-a-view-versus-a-copy\n",
      "  df[mhistavg] = df[m].apply(lambda x: np.mean(x))\n"
     ]
    }
   ],
   "source": [
    "df = runs_df_filtered\n",
    "\n",
    "metrics = [\"validate/roc-auc\", \"validate/avg-precision\"]\n",
    "histavg_metrics = []\n",
    "\n",
    "for m in metrics:\n",
    "    mhistavg = f\"{m}-histavg\"\n",
    "    histavg_metrics.append(mhistavg)\n",
    "    df[mhistavg] = df[m].apply(lambda x: np.mean(x))\n",
    "    \n",
    "del df"
   ]
  },
  {
   "cell_type": "code",
   "execution_count": 70,
   "metadata": {},
   "outputs": [
    {
     "data": {
      "text/plain": [
       "Index(['summary', 'config', 'name', 'tags', 'id', 'state', 'loss',\n",
       "       'supervise_mode', 'normal_class', 'scheduler_parameters',\n",
       "       'normal_class_fullqualified', 'loss_empirical_cdf_clip_threshold',\n",
       "       'validate/roc-auc', 'validate/avg-precision',\n",
       "       'validate/roc-auc-histavg', 'validate/avg-precision-histavg'],\n",
       "      dtype='object')"
      ]
     },
     "execution_count": 70,
     "metadata": {},
     "output_type": "execute_result"
    },
    {
     "data": {
      "text/html": [
       "<div>\n",
       "<style scoped>\n",
       "    .dataframe tbody tr th:only-of-type {\n",
       "        vertical-align: middle;\n",
       "    }\n",
       "\n",
       "    .dataframe tbody tr th {\n",
       "        vertical-align: top;\n",
       "    }\n",
       "\n",
       "    .dataframe thead th {\n",
       "        text-align: right;\n",
       "    }\n",
       "</style>\n",
       "<table border=\"1\" class=\"dataframe\">\n",
       "  <thead>\n",
       "    <tr style=\"text-align: right;\">\n",
       "      <th></th>\n",
       "      <th>validate/roc-auc-histavg</th>\n",
       "      <th>validate/avg-precision-histavg</th>\n",
       "    </tr>\n",
       "  </thead>\n",
       "  <tbody>\n",
       "    <tr>\n",
       "      <th>0</th>\n",
       "      <td>0.512464</td>\n",
       "      <td>0.022857</td>\n",
       "    </tr>\n",
       "    <tr>\n",
       "      <th>1</th>\n",
       "      <td>0.684338</td>\n",
       "      <td>0.042929</td>\n",
       "    </tr>\n",
       "    <tr>\n",
       "      <th>2</th>\n",
       "      <td>0.839538</td>\n",
       "      <td>0.157677</td>\n",
       "    </tr>\n",
       "    <tr>\n",
       "      <th>3</th>\n",
       "      <td>0.899011</td>\n",
       "      <td>0.415261</td>\n",
       "    </tr>\n",
       "    <tr>\n",
       "      <th>4</th>\n",
       "      <td>0.873073</td>\n",
       "      <td>0.411040</td>\n",
       "    </tr>\n",
       "  </tbody>\n",
       "</table>\n",
       "</div>"
      ],
      "text/plain": [
       "   validate/roc-auc-histavg  validate/avg-precision-histavg\n",
       "0                  0.512464                        0.022857\n",
       "1                  0.684338                        0.042929\n",
       "2                  0.839538                        0.157677\n",
       "3                  0.899011                        0.415261\n",
       "4                  0.873073                        0.411040"
      ]
     },
     "execution_count": 70,
     "metadata": {},
     "output_type": "execute_result"
    }
   ],
   "source": [
    "runs_df_filtered.columns\n",
    "runs_df_filtered[histavg_metrics].head()"
   ]
  },
  {
   "cell_type": "code",
   "execution_count": 71,
   "metadata": {},
   "outputs": [
    {
     "data": {
      "text/plain": [
       "(910, 16)"
      ]
     },
     "execution_count": 71,
     "metadata": {},
     "output_type": "execute_result"
    }
   ],
   "source": [
    "runs_df_filtered.shape"
   ]
  },
  {
   "cell_type": "markdown",
   "metadata": {},
   "source": [
    "# update runs"
   ]
  },
  {
   "cell_type": "code",
   "execution_count": 73,
   "metadata": {},
   "outputs": [
    {
     "name": "stderr",
     "output_type": "stream",
     "text": [
      "100% (910 of 910) |######################| Elapsed Time: 0:10:09 Time:  0:10:09\n"
     ]
    }
   ],
   "source": [
    "import progressbar\n",
    "\n",
    "def update_run(runid: str, df_row, metric_key: str):\n",
    "    run = api.run(f\"{WANDB_ENTITY_PROJECT}/{runid}\")\n",
    "    \n",
    "    run.summary.update({\n",
    "        \"loss_empirical_cdf_clip_threshold\": df_row[\"loss_empirical_cdf_clip_threshold\"],\n",
    "        **{m: df_row[m] for m in histavg_metrics},\n",
    "    })\n",
    "    run.save()\n",
    "\n",
    "for rowidx, row in progressbar.progressbar(runs_df_filtered.iterrows(), max_value=runs_df_filtered.shape[0]):\n",
    "    update_run(row['id'], row, \"validate/avg-precision\")"
   ]
  },
  {
   "cell_type": "code",
   "execution_count": null,
   "metadata": {},
   "outputs": [],
   "source": []
  }
 ],
 "metadata": {
  "kernelspec": {
   "display_name": "Python 3.9.7 ('genv')",
   "language": "python",
   "name": "python3"
  },
  "language_info": {
   "codemirror_mode": {
    "name": "ipython",
    "version": 3
   },
   "file_extension": ".py",
   "mimetype": "text/x-python",
   "name": "python",
   "nbconvert_exporter": "python",
   "pygments_lexer": "ipython3",
   "version": "3.9.7"
  },
  "orig_nbformat": 4,
  "vscode": {
   "interpreter": {
    "hash": "e172fda16549f1520ae99fe3216fecc634563c3ca5dea275926ce257d88dd6e1"
   }
  }
 },
 "nbformat": 4,
 "nbformat_minor": 2
}

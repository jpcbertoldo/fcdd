{
 "cells": [
  {
   "cell_type": "markdown",
   "id": "2434603f-0033-421b-b4c0-9bf014ed69ce",
   "metadata": {},
   "source": [
    "# generate predictions from snapshots"
   ]
  },
  {
   "cell_type": "markdown",
   "id": "e3177b81-d523-4310-bce0-148567546571",
   "metadata": {},
   "source": [
    "# setup"
   ]
  },
  {
   "cell_type": "code",
   "execution_count": 1,
   "id": "54179854-ee16-4384-b3e7-7ad89fe64b90",
   "metadata": {},
   "outputs": [],
   "source": [
    "# make a cell print all the outputs instead of just the last one\n",
    "from IPython.core.interactiveshell import InteractiveShell\n",
    "InteractiveShell.ast_node_interactivity = \"all\"\n",
    "\n",
    "from pathlib import Path"
   ]
  },
  {
   "cell_type": "code",
   "execution_count": 2,
   "id": "096b70cc-1369-451c-a852-2d1f44d7ca4c",
   "metadata": {},
   "outputs": [],
   "source": [
    "FIGS_DIR = Path(\".\") / \"figs\"\n",
    "FIGS_DIR.mkdir(exist_ok=True)"
   ]
  },
  {
   "cell_type": "code",
   "execution_count": 3,
   "id": "33946323-35bb-4e08-8e3e-e8f0e0c465f6",
   "metadata": {},
   "outputs": [],
   "source": [
    "DATA_DIR = Path(\".\") / \"data\""
   ]
  },
  {
   "cell_type": "code",
   "execution_count": 4,
   "id": "fdbd0dc0-1dca-4494-a1df-0c02906c0215",
   "metadata": {},
   "outputs": [],
   "source": [
    "DATA_DIR.mkdir(exist_ok=True)"
   ]
  },
  {
   "cell_type": "code",
   "execution_count": 5,
   "id": "f65d89c0-7409-4d4c-af4e-3c4e1e3a8cf7",
   "metadata": {},
   "outputs": [],
   "source": [
    "SNAPSHOTS_DIR = Path(\"../../data/\") / \"snapshots-gen-img\""
   ]
  },
  {
   "cell_type": "code",
   "execution_count": 6,
   "id": "4ec1e5d5-5aad-45a4-94d8-1aa31a8a9c9e",
   "metadata": {},
   "outputs": [],
   "source": [
    "RECORDS_FPATH = DATA_DIR / \"009-generate-predictions-from-snapshots.pkl\""
   ]
  },
  {
   "cell_type": "markdown",
   "id": "95b16f9c-6721-439c-8499-183e64c2dca8",
   "metadata": {},
   "source": [
    "# functions"
   ]
  },
  {
   "cell_type": "code",
   "execution_count": 7,
   "id": "9ac6f263-8445-489a-be98-4526acd6ffbe",
   "metadata": {},
   "outputs": [],
   "source": [
    "import numpy as np\n",
    "from numpy import ndarray\n",
    "from typing import Dict, Union\n",
    "from pathlib import Path\n",
    "import json\n",
    "import re\n",
    "from datetime import timedelta, datetime\n",
    "import numpy as np\n",
    "from numpy import ndarray\n",
    "from typing import Dict, Union, List\n",
    "from pathlib import Path\n",
    "import json\n",
    "import numpy as np\n",
    "from numpy import ndarray\n",
    "from typing import Dict, Union\n",
    "from pathlib import Path\n",
    "import json\n",
    "import re\n",
    "import copy\n",
    "from typing import List\n",
    "\n",
    "\n",
    "# this is to get the strings associated to the classes in the fcdd code\n",
    "# copied from: fcdd/python/fcdd/datasets/__init__.py\n",
    "# inside function `str_labels`\n",
    "# commit: 9f268d8fd2fee33a5c5f38cdfb781da927bdb614\n",
    "CLASS_LABELS = {\n",
    "    'cifar10': ['airplane', 'automobile', 'bird', 'cat', 'deer', 'dog', 'frog', 'horse', 'ship', 'truck'],\n",
    "    'fmnist': [\n",
    "        't-shirt/top', 'trouser', 'pullover', 'dress', 'coat', 'sandal', 'shirt', 'sneaker', 'bag', 'ankle boot'\n",
    "    ],\n",
    "    'mvtec': [\n",
    "        'bottle', 'cable', 'capsule', 'carpet', 'grid', 'hazelnut', 'leather',\n",
    "        'metal_nut', 'pill', 'screw', 'tile', 'toothbrush', 'transistor',\n",
    "        'wood', 'zipper'\n",
    "    ],\n",
    "    # 'imagenet': deepcopy(ADImageNet.ad_classes),\n",
    "    # this one forwards to: fcdd/python/fcdd/datasets/imagenet.py\n",
    "    # in: ADImageNet.ad_classes\n",
    "    # at the same commit as above\n",
    "    'imagenet': ['acorn', 'airliner', 'ambulance', 'American alligator', 'banjo', 'barn', 'bikini', 'digital clock',\n",
    "                  'dragonfly', 'dumbbell', 'forklift', 'goblet', 'grand piano', 'hotdog', 'hourglass', 'manhole cover',\n",
    "                  'mosque', 'nail', 'parking meter', 'pillow', 'revolver', 'dial telephone', 'schooner',\n",
    "                  'snowmobile', 'soccer ball', 'stingray', 'strawberry', 'tank', 'toaster', 'volcano'],\n",
    "    'pascalvoc': ['horse'],\n",
    "}\n",
    "\n",
    "def get_classes_labels_order(dataset: str) -> List[str]:\n",
    "    return copy.deepcopy(CLASS_LABELS[dataset])\n",
    "\n",
    "def get_class_label(class_dirname: str, dataset: str) -> str:\n",
    "    return CLASS_LABELS[dataset][int(class_dirname.lstrip(\"normal_\"))]\n",
    "\n",
    "class MissingFileInExperiment(FileNotFoundError):\n",
    "    pass\n",
    "\n",
    "class UnfinishedExperiment(Exception):\n",
    "    pass\n",
    "\n",
    "def get_snapshots(experiment_dir: Path) -> Dict[str, Union[str, float, ndarray]]:\n",
    "    \"\"\"\n",
    "    :param experiment_dir: path to the experiment directory\n",
    "    \"\"\"\n",
    "    snapshots_dir = experiment_dir / \"training_snapshots\"\n",
    "    \n",
    "    snapshots = []\n",
    "    for snashotpath in snapshots_dir.glob(\"snapshotepoch=*.pt\"):\n",
    "        snapshot_name = snashotpath.name\n",
    "        epoch = int(snashotpath.stem.split(\"=\")[1]) \n",
    "        snapshots.append({\n",
    "            \"fpath\": snashotpath,\n",
    "            \"snapshot_name\": snapshot_name,\n",
    "            \"epoch\": epoch,\n",
    "        })\n",
    "        \n",
    "    return {\n",
    "        \"snapshots\": snapshots,\n",
    "    }\n",
    "\n",
    "\n",
    "def get_all(path: Path, dataset: str) -> List[Dict[str, Union[str, float, ndarray]]]:\n",
    "    \n",
    "    \"\"\"\n",
    "    :param path: a folder that contains dirs like 'fcdd_20211220193242_fmnist_' \n",
    "                 a whole experiment on a dataset with all iterations and nominal classes inside, \n",
    "                 the structure should look like\n",
    "                 \n",
    "                path/\n",
    "                path/normal_0\n",
    "                path/normal_1\n",
    "                ...\n",
    "                path/normal_9/\n",
    "                path/normal_9/it_0\n",
    "                ...\n",
    "                path/normal_9/it_4/roc.json\n",
    "    \"\"\"\n",
    "    assert path.is_dir()\n",
    "    assert dataset in CLASS_LABELS\n",
    "    \n",
    "    experiments = []\n",
    "    \n",
    "    # 0th level: the runs, e.g. fcdd_20211220193242_fmnist_\n",
    "    for rundir in path.glob(\"*\"):\n",
    "        \n",
    "        print(f\"{rundir.name=}\")\n",
    "        if not rundir.is_dir():\n",
    "            continue\n",
    "\n",
    "        # first level: classes\n",
    "        for classdir in rundir.glob(\"normal_*\"):\n",
    "            \n",
    "            print(f\"{classdir.name=}\")\n",
    "            if not classdir.is_dir():\n",
    "                continue\n",
    "\n",
    "            # second level: iterations\n",
    "            for iterdir in classdir.glob(\"it_*\"):\n",
    "\n",
    "                print(f\"{iterdir.name=}\")\n",
    "                if not iterdir.is_dir():\n",
    "                    continue\n",
    "\n",
    "                try: \n",
    "                    experiments.append({\n",
    "                        **get_snapshots(iterdir),\n",
    "                        **{\n",
    "                            \"rootdir\": path,\n",
    "                            \"rundir\": rundir,\n",
    "                            \"classdir\": classdir,\n",
    "                            \"iterdir\": iterdir,\n",
    "                            \"rundir_name\": rundir.name,\n",
    "                            \"classdir_name\": classdir.name,\n",
    "                            \"class_idx\": int(classdir.name.split(\"_\")[1]),\n",
    "                            \"iterdir_name\": iterdir.name,\n",
    "                            \"iter_idx\": int(iterdir.name.split(\"_\")[1]),\n",
    "                        },\n",
    "                    })\n",
    "\n",
    "                except UnfinishedExperiment as ex:\n",
    "                    print(f\"experiment in {iterdir=} seems to be unfinished, it'll be ignored\")\n",
    "                    continue\n",
    "                    \n",
    "            print(30 * \"-\")\n",
    "\n",
    "    return experiments\n",
    "\n",
    "\n",
    "# get_all(path=SNAPSHOTS_DIR, dataset=\"mvtec\")"
   ]
  },
  {
   "cell_type": "markdown",
   "id": "039316d0-62fe-4893-8127-4435e3e34837",
   "metadata": {},
   "source": [
    "# data"
   ]
  },
  {
   "cell_type": "code",
   "execution_count": 8,
   "id": "a1210af5-5436-4560-9234-90e56927ca5f",
   "metadata": {},
   "outputs": [
    {
     "name": "stdout",
     "output_type": "stream",
     "text": [
      "loading records\n",
      "couldn't find records, recomputing\n",
      "rundir.name='fcdd_20220202002148_snapshots2_node24_job3040465__mvtec_'\n",
      "classdir.name='normal_3'\n",
      "iterdir.name='it_0'\n",
      "------------------------------\n",
      "saving records\n"
     ]
    },
    {
     "data": {
      "text/plain": [
       "'len(records)=1'"
      ]
     },
     "execution_count": 8,
     "metadata": {},
     "output_type": "execute_result"
    }
   ],
   "source": [
    "import copy\n",
    "import pickle\n",
    "\n",
    "try:\n",
    "    del records\n",
    "except NameError:\n",
    "    pass\n",
    "\n",
    "try:\n",
    "    print(\"loading records\")\n",
    "    # pandas cannot reload multindex properly\n",
    "    # src: https://stackoverflow.com/a/55474405/9582881\n",
    "    with RECORDS_FPATH.open(\"r\") as f:\n",
    "        records = pickle.load(f)\n",
    "except:\n",
    "    \n",
    "    print(\"couldn't find records, recomputing\")\n",
    "    records = get_all(path=SNAPSHOTS_DIR, dataset=\"mvtec\")\n",
    "\n",
    "    print(\"saving records\")\n",
    "    with RECORDS_FPATH.open(\"wb\") as f:\n",
    "        pickle.dump(records, f)\n",
    "        \n",
    "f\"{len(records)=}\""
   ]
  },
  {
   "cell_type": "markdown",
   "id": "9598c9e2-c9fa-4a88-bbc2-74bfaa5109a7",
   "metadata": {},
   "source": [
    "# generate one image\n",
    "\n",
    "I based stuff on the script `fcdd/python/fcdd/runners/run_prediction_with_snapshot.py`.\n"
   ]
  },
  {
   "cell_type": "code",
   "execution_count": 9,
   "id": "a8704fb9-48de-4b3f-8e5e-e9ebcbd83d82",
   "metadata": {},
   "outputs": [],
   "source": [
    "record = records[0]\n",
    "snapshots = record[\"snapshots\"]\n",
    "snapshot = snapshots[0]\n",
    "epoch = snapshot[\"epoch\"]\n",
    "fpath = snapshot[\"fpath\"]"
   ]
  },
  {
   "cell_type": "code",
   "execution_count": 10,
   "id": "7082373c-f301-4ed9-a8a0-257e60564a9f",
   "metadata": {},
   "outputs": [],
   "source": [
    "import torch\n",
    "import torchvision.transforms as transforms\n",
    "from torch.utils.data.dataloader import DataLoader"
   ]
  },
  {
   "cell_type": "code",
   "execution_count": 11,
   "id": "64f34b5f-5765-4467-8bc5-6238cf1516df",
   "metadata": {},
   "outputs": [],
   "source": [
    "%load_ext autoreload"
   ]
  },
  {
   "cell_type": "code",
   "execution_count": 12,
   "id": "f6054ae0-0071-4daf-8373-10ed78edbdc9",
   "metadata": {},
   "outputs": [],
   "source": [
    "%autoreload 2\n",
    "from fcdd.training.fcdd import FCDDTrainer\n",
    "from fcdd.models.fcdd_cnn_224 import FCDD_CNN224_VGG_F\n",
    "from fcdd.datasets.image_folder import ImageFolder\n",
    "from fcdd.datasets.preprocessing import local_contrast_normalization\n",
    "from fcdd.util.logging import Logger"
   ]
  },
  {
   "cell_type": "code",
   "execution_count": 13,
   "id": "5fdcd3e6-902c-4cdd-a4d1-6bc67f0e3656",
   "metadata": {},
   "outputs": [],
   "source": [
    "min_max_l1 = [\n",
    "    [(-1.3336724042892456, -1.3107913732528687, -1.2445921897888184),\n",
    "     (1.3779616355895996, 1.3779616355895996, 1.3779616355895996)],\n",
    "    [(-2.2404820919036865, -2.3387579917907715, -2.2896201610565186),\n",
    "     (4.573435306549072, 4.573435306549072, 4.573435306549072)],\n",
    "    [(-3.184587001800537, -3.164201259613037, -3.1392977237701416),\n",
    "     (1.6995097398757935, 1.6011602878570557, 1.5209171772003174)],\n",
    "    [(-3.0334954261779785, -2.958242416381836, -2.7701096534729004),\n",
    "     (6.503103256225586, 5.875098705291748, 5.814228057861328)],\n",
    "    [(-3.100773334503174, -3.100773334503174, -3.100773334503174),\n",
    "     (4.27892541885376, 4.27892541885376, 4.27892541885376)],\n",
    "    [(-3.6565306186676025, -3.507692813873291, -2.7635035514831543),\n",
    "     (18.966819763183594, 21.64590072631836, 26.408710479736328)],\n",
    "    [(-1.5192601680755615, -2.2068002223968506, -2.3948357105255127),\n",
    "     (11.564697265625, 10.976534843444824, 10.378695487976074)],\n",
    "    [(-1.3207964897155762, -1.2889339923858643, -1.148416519165039),\n",
    "     (6.854909896850586, 6.854909896850586, 6.854909896850586)],\n",
    "    [(-0.9883341193199158, -0.9822461605072021, -0.9288841485977173),\n",
    "     (2.290637969970703, 2.4007883071899414, 2.3044068813323975)],\n",
    "    [(-7.236185073852539, -7.236185073852539, -7.236185073852539),\n",
    "     (3.3777384757995605, 3.3777384757995605, 3.3777384757995605)],\n",
    "    [(-3.2036616802215576, -3.221003532409668, -3.305514335632324),\n",
    "     (7.022546768188477, 6.115569114685059, 6.310940742492676)],\n",
    "    [(-0.8915618658065796, -0.8669204115867615, -0.8002046346664429),\n",
    "     (4.4255571365356445, 4.642300128936768, 4.305730819702148)],\n",
    "    [(-1.9086798429489136, -2.0004451274871826, -1.929288387298584),\n",
    "     (5.463134765625, 5.463134765625, 5.463134765625)],\n",
    "    [(-2.9547364711761475, -3.17536997795105, -3.143850803375244),\n",
    "     (5.305514812469482, 4.535006523132324, 3.3618252277374268)],\n",
    "    [(-1.2906527519226074, -1.2906527519226074, -1.2906527519226074),\n",
    "     (2.515115737915039, 2.515115737915039, 2.515115737915039)]\n",
    "]"
   ]
  },
  {
   "cell_type": "code",
   "execution_count": 14,
   "id": "ded767a3-1f5b-473e-be04-3b22a59a98ae",
   "metadata": {},
   "outputs": [],
   "source": [
    "net = FCDD_CNN224_VGG_F((3, 224, 224), bias=True)"
   ]
  },
  {
   "cell_type": "code",
   "execution_count": 15,
   "id": "2da44dc0-83c7-4c6f-a18a-62b8dc435e1a",
   "metadata": {},
   "outputs": [],
   "source": [
    "from fcdd.datasets import load_dataset\n",
    "from fcdd.runners.run_mvtec import MvtecConfig\n",
    "from argparse import ArgumentParser"
   ]
  },
  {
   "cell_type": "code",
   "execution_count": 16,
   "id": "ac722d25-3678-411d-acd3-aba03467e5b8",
   "metadata": {},
   "outputs": [],
   "source": [
    "parser = ArgumentParser()\n",
    "parser = MvtecConfig()(parser)\n",
    "dftargs = parser.parse_args(\"\")"
   ]
  },
  {
   "cell_type": "code",
   "execution_count": 17,
   "id": "605a9e46-0616-40f4-b907-3d9bfde328b7",
   "metadata": {},
   "outputs": [
    {
     "data": {
      "text/plain": [
       "Namespace(logdir='../../data/results/fcdd_{t}', logdir_suffix='', datadir='../../data/datasets', viz_ids=None, readme='', objective='fcdd', batch_size=16, epochs=200, workers=4, learning_rate=0.001, weight_decay=0.0001, optimizer_type='sgd', scheduler_type='lambda', lr_sched_param=[0.985], load=None, dataset='mvtec', net='FCDD_CNN224_VGG_F', preproc='lcnaug1', acc_batches=8, bias=True, cuda=True, supervise_mode='malformed_normal', noise_mode='confetti', oe_limit=inf, online_supervision=True, nominal_label=0, blur_heatmaps=False, gauss_std=12, quantile=0.99, resdown=64, it=5, cls_restrictions=None, snapshots_training=None)"
      ]
     },
     "execution_count": 17,
     "metadata": {},
     "output_type": "execute_result"
    }
   ],
   "source": [
    "dftargs"
   ]
  },
  {
   "cell_type": "code",
   "execution_count": 18,
   "id": "700000ce-3ca0-493a-b43e-ccff79d5f001",
   "metadata": {},
   "outputs": [
    {
     "data": {
      "text/plain": [
       "{'rootdir': PosixPath('../../data/snapshots-gen-img'),\n",
       " 'rundir': PosixPath('../../data/snapshots-gen-img/fcdd_20220202002148_snapshots2_node24_job3040465__mvtec_'),\n",
       " 'classdir': PosixPath('../../data/snapshots-gen-img/fcdd_20220202002148_snapshots2_node24_job3040465__mvtec_/normal_3'),\n",
       " 'iterdir': PosixPath('../../data/snapshots-gen-img/fcdd_20220202002148_snapshots2_node24_job3040465__mvtec_/normal_3/it_0'),\n",
       " 'rundir_name': 'fcdd_20220202002148_snapshots2_node24_job3040465__mvtec_',\n",
       " 'classdir_name': 'normal_3',\n",
       " 'class_idx': 3,\n",
       " 'iterdir_name': 'it_0',\n",
       " 'iter_idx': 0}"
      ]
     },
     "execution_count": 18,
     "metadata": {},
     "output_type": "execute_result"
    }
   ],
   "source": [
    "import copy\n",
    "r = copy.deepcopy(record)\n",
    "del r['snapshots']\n",
    "r"
   ]
  },
  {
   "cell_type": "code",
   "execution_count": 19,
   "id": "052057cb-6481-4b7e-be07-98605a78b70d",
   "metadata": {},
   "outputs": [
    {
     "data": {
      "text/plain": [
       "\"normal_class_label='carpet'\""
      ]
     },
     "execution_count": 19,
     "metadata": {},
     "output_type": "execute_result"
    }
   ],
   "source": [
    "normal_class = record[\"class_idx\"]\n",
    "normal_class_label = get_class_label(record[\"classdir_name\"], dataset=\"mvtec\")\n",
    "f\"{normal_class_label=}\""
   ]
  },
  {
   "cell_type": "code",
   "execution_count": 20,
   "id": "e2e1b681-ef14-4e4b-84c0-ddd5262a89f4",
   "metadata": {},
   "outputs": [
    {
     "name": "stderr",
     "output_type": "stream",
     "text": [
      "/home/jcasagrandebertoldo/miniconda3/envs/fcdd_rc21/lib/python3.9/site-packages/torchvision/transforms/transforms.py:280: UserWarning: Argument interpolation should be of type InterpolationMode instead of int. Please, use InterpolationMode enum.\n",
      "  warnings.warn(\n"
     ]
    },
    {
     "name": "stdout",
     "output_type": "stream",
     "text": [
      "Files already downloaded.\n",
      "Loading dataset from data/mvtec/admvtec_240x240.pt...\n",
      "Dataset complete.\n",
      "Files already downloaded.\n",
      "Loading dataset from data/mvtec/admvtec_240x240.pt...\n",
      "Dataset complete.\n"
     ]
    }
   ],
   "source": [
    "ds = load_dataset(\n",
    "    dataset_name=\"mvtec\",\n",
    "    data_path=DATA_DIR,\n",
    "    normal_class=normal_class,\n",
    "    preproc=dftargs.preproc,\n",
    "    supervise_mode=dftargs.supervise_mode,\n",
    "    noise_mode=dftargs.noise_mode,\n",
    "    online_supervision=True,\n",
    "    nominal_label=dftargs.nominal_label,\n",
    "    oe_limit=dftargs.oe_limit,\n",
    "    logger=None,\n",
    ")"
   ]
  },
  {
   "cell_type": "code",
   "execution_count": 21,
   "id": "f3ffcd8e-68f9-4024-80dd-aed1109721db",
   "metadata": {},
   "outputs": [],
   "source": [
    "# Use the same test transform as was used for training the snapshot (e.g., for mvtec, per default, the following)\n",
    "transform = transforms.Compose([\n",
    "    transforms.Resize(224),\n",
    "    transforms.CenterCrop(224),\n",
    "    transforms.ToTensor(),\n",
    "    transforms.Lambda(lambda x: local_contrast_normalization(x, scale='l1')),\n",
    "    transforms.Normalize(\n",
    "        min_max_l1[normal_class][0],\n",
    "        [ma - mi for ma, mi in zip(min_max_l1[normal_class][1], min_max_l1[normal_class][0])]\n",
    "    )\n",
    "])"
   ]
  },
  {
   "cell_type": "code",
   "execution_count": 22,
   "id": "ac696b42-a550-4a65-ab32-5880d016b77a",
   "metadata": {},
   "outputs": [],
   "source": [
    "TEST_IMGS_DIR = Path(\"../../data/\") / \"snapshots_test_images\" / \"carpet\""
   ]
  },
  {
   "cell_type": "code",
   "execution_count": 23,
   "id": "dacbf276-78f9-452e-9367-b6a6657243e5",
   "metadata": {},
   "outputs": [],
   "source": [
    "ds = ImageFolder(TEST_IMGS_DIR, transform, transforms.Lambda(lambda x: 0))"
   ]
  },
  {
   "cell_type": "code",
   "execution_count": 24,
   "id": "6247e7bb-e0a6-48b7-9048-3f06a4d10ab2",
   "metadata": {},
   "outputs": [],
   "source": [
    "loader = DataLoader(ds, batch_size=16, num_workers=0)"
   ]
  },
  {
   "cell_type": "code",
   "execution_count": 48,
   "id": "1bc215f6-b2d5-4a0e-a930-9f1e2cc6c7f3",
   "metadata": {},
   "outputs": [],
   "source": [
    "import time"
   ]
  },
  {
   "cell_type": "code",
   "execution_count": 49,
   "id": "aab54f6a-590a-4d18-aa00-d5338652eef7",
   "metadata": {},
   "outputs": [
    {
     "data": {
      "text/plain": [
       "PosixPath('../../data/snapshots_test_images/carpet_preds_1643900192')"
      ]
     },
     "execution_count": 49,
     "metadata": {},
     "output_type": "execute_result"
    }
   ],
   "source": [
    "OUTPUTS_DIR = TEST_IMGS_DIR.parent / f\"{TEST_IMGS_DIR.name}_preds_{int(time.time())}\"\n",
    "OUTPUTS_DIR"
   ]
  },
  {
   "cell_type": "code",
   "execution_count": 51,
   "id": "7b6ec750-1497-4744-9d64-3ebcf5e7a2de",
   "metadata": {},
   "outputs": [],
   "source": [
    "# [optional] to generate heatmaps, define a logger (with the path where the heatmaps should be saved to) and a quantile\n",
    "exp_start_time = int(time.time())\n",
    "logger = Logger(str(OUTPUTS_DIR), exp_start_time=exp_start_time)\n",
    "quantile = 0.97"
   ]
  },
  {
   "cell_type": "code",
   "execution_count": 52,
   "id": "28af44dc-da1d-4163-9fc4-ebe99ab9d7d7",
   "metadata": {},
   "outputs": [],
   "source": [
    "trainer = FCDDTrainer(net, None, None, (None, None), logger, 'fcdd', 8, quantile, 224)"
   ]
  },
  {
   "cell_type": "code",
   "execution_count": 53,
   "id": "fcf7d4d2-1c76-4611-abce-debeb8114aef",
   "metadata": {},
   "outputs": [
    {
     "name": "stdout",
     "output_type": "stream",
     "text": [
      "Loaded net_state, opt_state, sched_state with starting epoch 49 for fcdd.training.fcdd.FCDDTrainer\n"
     ]
    },
    {
     "data": {
      "text/plain": [
       "49"
      ]
     },
     "execution_count": 53,
     "metadata": {},
     "output_type": "execute_result"
    }
   ],
   "source": [
    "trainer.load(str(snapshot[\"fpath\"]), cpu=True)"
   ]
  },
  {
   "cell_type": "code",
   "execution_count": 54,
   "id": "0df82c90-b835-4ad9-9d1f-c1a5f2ae9bbd",
   "metadata": {},
   "outputs": [],
   "source": [
    "trainer.net.eval();"
   ]
  },
  {
   "cell_type": "code",
   "execution_count": 55,
   "id": "91c1c550-aced-4287-8f18-a79fa6fa9afd",
   "metadata": {},
   "outputs": [],
   "source": [
    "all_anomaly_scores, all_inputs, all_labels = [], [], []\n",
    "for inputs, labels in loader:\n",
    "    # inputs = inputs.cuda()\n",
    "    with torch.no_grad():\n",
    "        outputs = trainer.net(inputs)\n",
    "        anomaly_scores = trainer.anomaly_score(trainer.loss(outputs, inputs, labels, reduce='none'))\n",
    "        anomaly_scores = trainer.net.receptive_upsample(anomaly_scores, reception=True, std=8, cpu=False)\n",
    "        all_anomaly_scores.append(anomaly_scores.cpu())\n",
    "        all_inputs.append(inputs.cpu())\n",
    "        all_labels.append(labels)\n",
    "\n",
    "\n",
    "all_inputs = torch.cat(all_inputs)\n",
    "all_labels = torch.cat(all_labels)"
   ]
  },
  {
   "cell_type": "code",
   "execution_count": 56,
   "id": "06126727-8c7a-4114-a1a0-2bf9058c39e2",
   "metadata": {},
   "outputs": [
    {
     "name": "stdout",
     "output_type": "stream",
     "text": [
      "tensor([0.0014, 0.0011, 0.0012, 0.0010, 0.0013, 0.0012, 0.0012, 0.0012, 0.0017,\n",
      "        0.0010, 0.0012, 0.0010, 0.0012, 0.0008, 0.0010, 0.0009, 0.0019, 0.0017,\n",
      "        0.0021, 0.0013, 0.0013, 0.0012, 0.0011, 0.0011, 0.0013, 0.0016, 0.0013,\n",
      "        0.0012, 0.0024, 0.0019, 0.0018, 0.0016, 0.0014, 0.0011, 0.0013, 0.0014,\n",
      "        0.0011, 0.0009, 0.0017, 0.0016, 0.0017, 0.0015, 0.0019, 0.0022, 0.0019,\n",
      "        0.0019, 0.0008, 0.0009, 0.0020, 0.0017, 0.0016, 0.0019, 0.0011, 0.0009,\n",
      "        0.0009, 0.0010, 0.0010, 0.0010, 0.0010, 0.0008, 0.0010, 0.0011, 0.0010,\n",
      "        0.0011, 0.0011, 0.0010, 0.0010, 0.0014, 0.0011, 0.0015, 0.0017, 0.0014,\n",
      "        0.0013, 0.0011, 0.0014, 0.0013, 0.0013, 0.0014, 0.0012, 0.0013, 0.0011,\n",
      "        0.0016, 0.0016, 0.0015, 0.0014, 0.0028, 0.0027, 0.0029, 0.0027, 0.0027,\n",
      "        0.0024, 0.0025, 0.0020, 0.0011, 0.0015, 0.0010, 0.0011, 0.0013, 0.0012,\n",
      "        0.0009])\n"
     ]
    }
   ],
   "source": [
    "# all_anomaly_scores will be a tensor containing pixel-wise anomaly scores for all images\n",
    "all_anomaly_scores = torch.cat(all_anomaly_scores)\n",
    "\n",
    "# transform the pixel-wise anomaly scores to sample-wise anomaly scores\n",
    "print(trainer.reduce_ascore(all_anomaly_scores))"
   ]
  },
  {
   "cell_type": "code",
   "execution_count": 57,
   "id": "f92e9958-8258-4cb6-992d-59aa955a0065",
   "metadata": {},
   "outputs": [],
   "source": [
    "# show_per_cls defines the maximum number of samples in the heatmaps figures.\n",
    "# The heatmap_paper_xxx.png figures, which sort the heatmaps by their anomaly score,\n",
    "# use only up to a third of show_per_cls samples.\n",
    "trainer.heatmap_generation(all_labels.tolist(), all_anomaly_scores, all_inputs, show_per_cls=1000)"
   ]
  },
  {
   "cell_type": "markdown",
   "id": "d86baf4c-2c33-4e21-b7aa-34f8327e9bc2",
   "metadata": {},
   "source": [
    "# putting it into a function"
   ]
  },
  {
   "cell_type": "code",
   "execution_count": null,
   "id": "568f4a59-8337-4e2b-bd65-16ffa3779709",
   "metadata": {},
   "outputs": [],
   "source": [
    "record = records[0]\n",
    "snapshots = record[\"snapshots\"]\n",
    "snapshot = snapshots[0]\n",
    "epoch = snapshot[\"epoch\"]\n",
    "fpath = snapshot[\"fpath\"]"
   ]
  },
  {
   "cell_type": "code",
   "execution_count": null,
   "id": "4ceaf493-758f-4726-927e-2b99a24531fd",
   "metadata": {},
   "outputs": [],
   "source": [
    "from pathlib import Path\n",
    "\n",
    "def generate_preds(snapshot_fpath: Path) -> "
   ]
  },
  {
   "cell_type": "markdown",
   "id": "9f6212d3-02c9-4c6b-aa33-df7881166775",
   "metadata": {},
   "source": [
    "never mind this notebook, let's move forward to a cleaner one (010)"
   ]
  }
 ],
 "metadata": {
  "kernelspec": {
   "display_name": "fcdd_rc21",
   "language": "python",
   "name": "fcdd_rc21"
  },
  "language_info": {
   "codemirror_mode": {
    "name": "ipython",
    "version": 3
   },
   "file_extension": ".py",
   "mimetype": "text/x-python",
   "name": "python",
   "nbconvert_exporter": "python",
   "pygments_lexer": "ipython3",
   "version": "3.9.7"
  }
 },
 "nbformat": 4,
 "nbformat_minor": 5
}

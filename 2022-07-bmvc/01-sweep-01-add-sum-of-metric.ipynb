{
 "cells": [
  {
   "cell_type": "markdown",
   "metadata": {},
   "source": [
    "# get runs"
   ]
  },
  {
   "cell_type": "code",
   "execution_count": 1,
   "metadata": {},
   "outputs": [],
   "source": [
    "import numpy as np"
   ]
  },
  {
   "cell_type": "code",
   "execution_count": 12,
   "metadata": {},
   "outputs": [],
   "source": [
    "\n",
    "WANDB_ENTITY = \"mines-paristech-cmm\"\n",
    "WANDB_PROJECT = \"fcdd-mvtec-bmvc\"\n",
    "WANDB_ENTITY_PROJECT = f\"{WANDB_ENTITY}/{WANDB_PROJECT}\""
   ]
  },
  {
   "cell_type": "code",
   "execution_count": 5,
   "metadata": {},
   "outputs": [],
   "source": [
    "import pandas as pd \n",
    "import wandb\n",
    "api = wandb.Api()\n",
    "\n",
    "# Project is specified by <entity/project-name>\n",
    "runs = api.runs(WANDB_ENTITY_PROJECT)\n",
    "\n",
    "# sweep = api.sweep(path/to/sweep)\n",
    "# sweep = api.sweep(\"mines-paristech-cmm/unetdd-mvtec-00/7e6qg2bj\")\n",
    "# runs = sweep.runs"
   ]
  },
  {
   "cell_type": "code",
   "execution_count": 6,
   "metadata": {},
   "outputs": [],
   "source": [
    "summary_list, config_list, name_list = [], [], []\n",
    "tags_list = []\n",
    "ids_list = []\n",
    "state_list = []\n",
    "\n",
    "for run in runs: \n",
    "    summary_list.append(run.summary._json_dict)\n",
    "    config_list.append(\n",
    "        {k: v for k,v in run.config.items()\n",
    "          if not k.startswith('_')})\n",
    "    name_list.append(run.name)\n",
    "    tags_list.append(run.tags)\n",
    "    ids_list.append(run.id)\n",
    "    state_list.append(run.state)\n",
    "    \n",
    "runs_df = pd.DataFrame({\n",
    "    \"summary\": summary_list,\n",
    "    \"config\": config_list,\n",
    "    \"name\": name_list,\n",
    "    'tags': tags_list,\n",
    "    'id': ids_list,\n",
    "    'state': state_list,\n",
    "})"
   ]
  },
  {
   "cell_type": "code",
   "execution_count": 7,
   "metadata": {},
   "outputs": [
    {
     "data": {
      "text/plain": [
       "(849, 6)"
      ]
     },
     "execution_count": 7,
     "metadata": {},
     "output_type": "execute_result"
    }
   ],
   "source": [
    "runs_df.shape"
   ]
  },
  {
   "cell_type": "code",
   "execution_count": 8,
   "metadata": {},
   "outputs": [
    {
     "data": {
      "text/plain": [
       "Index(['summary', 'config', 'name', 'tags', 'id', 'state'], dtype='object')"
      ]
     },
     "execution_count": 8,
     "metadata": {},
     "output_type": "execute_result"
    }
   ],
   "source": [
    "runs_df.columns"
   ]
  },
  {
   "cell_type": "markdown",
   "metadata": {},
   "source": [
    "# filter runs"
   ]
  },
  {
   "cell_type": "code",
   "execution_count": 9,
   "metadata": {},
   "outputs": [
    {
     "data": {
      "text/plain": [
       "(849, 6)"
      ]
     },
     "execution_count": 9,
     "metadata": {},
     "output_type": "execute_result"
    }
   ],
   "source": [
    "runs_df_filtered = runs_df\n",
    "\n",
    "get_only_finished = runs_df['state'] == 'finished'\n",
    "runs_df_filtered = runs_df_filtered[get_only_finished]\n",
    "\n",
    "# select_epoch_is_last = runs_df[\"summary\"].apply(lambda s: s.get(\"epoch\", None)) == 600\n",
    "select_epoch_is_last = runs_df[\"summary\"].apply(lambda s: s.get(\"epoch\", None)) == 500\n",
    "runs_df_filtered = runs_df_filtered[select_epoch_is_last]\n",
    "\n",
    "runs_df_filtered.shape"
   ]
  },
  {
   "cell_type": "code",
   "execution_count": 10,
   "metadata": {},
   "outputs": [
    {
     "data": {
      "text/plain": [
       "dict_keys(['normal_class_label', '_timestamp', 'train/score-anomalous-mean', 'train/score-mean', 'batch_size_effective', 'test/loss-normals-mean', 'test/images-heatmaps-table', 'test/histogram-of-loss_maps', 'test/score-anomalous-mean', '_wandb', 'test/roc-curve_table', 'epoch', 'validate/loss-anomalous-mean', 'validate/score-mean', 'validate/avg-precision', 'test/per-instance-value-of-score_maps', '_runtime', 'validate/roc-auc', 'test/histogram-superposed-per-class-of-loss_maps', 'train/score-normals-mean', 'test/score-mean', 'train/learning_rate_scheduler_idx=0', 'test/score-normals-mean', 'test/histogram-superposed-per-class-of-score_maps', 'test/per-instance-value-of-loss_maps', 'test/loss', 'train/loss', 'test/roc-auc', 'trainer/global_step', 'validate/loss-normals-mean', 'normal_class_fullqualified', 'validate/score-normals-mean', 'mvtec_class_type', 'test/precision-recall-curve_table', '_step', 'validate/loss', 'test/histogram-of-score_maps', 'validate/score-anomalous-mean', 'test/loss-anomalous-mean', 'test/avg-precision', 'train/loss-anomalous-mean', 'loss_empirical_cdf_clip_threshold', 'train/loss-normals-mean'])"
      ]
     },
     "execution_count": 10,
     "metadata": {},
     "output_type": "execute_result"
    }
   ],
   "source": [
    "runs_df_filtered[\"summary\"].iloc[0].keys()\n"
   ]
  },
  {
   "cell_type": "code",
   "execution_count": 11,
   "metadata": {},
   "outputs": [
    {
     "data": {
      "text/plain": [
       "dict_keys(['it', 'lr', 'pid', 'loss', 'root', 'seed', 'test', 'model', 'epochs', 'logdir', 'datadir', 'dataset', 'in_shape', 'nworkers', 'loss_name', 'net_shape', 'optimizer', 'raw_shape', 'scheduler', 'seeds_str', 'batch_size', 'model_name', 'pin_memory', 'wandb_watch', 'normal_class', 'slurm_job_id', 'wandb_log_pr', 'weight_decay', 'learning_rate', 'preprocessing', 'wandb_log_roc', 'wandb_profile', 'nparallel-runs', 'optimizer_name', 'scheduler_name', 'script_version', 'slurm_job_gpus', 'slurm_job_name', 'slurm_job_user', 'slurm_task_pid', 'supervise_mode', 'confighash_full', 'preview_nimages', 'slurmd_nodename', 'confighash_slurm', 'script_start_time', 'slurm_submit_host', 'lightning_ndevices', 'lightning_profiler', 'lightning_strategy', 'real_anomaly_limit', 'slurm_array_job_id', 'slurm_cluster_name', 'lightning_precision', 'slurm_array_task_id', 'slurm_job_partition', 'cuda_visible_devices', 'scheduler_parameters', 'wandb_watch_log_freq', 'lightning_accelerator', 'lightning_deterministic', 'wandb_log_histogram_loss', 'wandb_log_histogram_score', 'lightning_gradient_clip_val', 'wandb_log_percentiles_score', 'wandb_log_perinstance_mean_loss', 'wandb_log_image_heatmap_nsamples', 'wandb_log_perinstance_mean_score', 'lightning_accumulate_grad_batches', 'lightning_check_val_every_n_epoch', 'lightning_gradient_clip_algorithm', 'lightning_model_summary_max_depth', 'confighash_dataset_class_supervise', 'wandb_log_image_heatmap_resolution', 'confighash_dataset_class_supervise_loss', 'confighash_dataset_class_supervise_model', 'confighash_dataset_class_supervise_loss_model'])"
      ]
     },
     "execution_count": 11,
     "metadata": {},
     "output_type": "execute_result"
    }
   ],
   "source": [
    "runs_df_filtered[\"config\"].iloc[0].keys()"
   ]
  },
  {
   "cell_type": "markdown",
   "metadata": {},
   "source": [
    "# add metric to  a single run"
   ]
  },
  {
   "cell_type": "code",
   "execution_count": 13,
   "metadata": {},
   "outputs": [],
   "source": [
    "run = runs_df_filtered.iloc[0]\n",
    "runid = run['id']\n",
    "run = api.run(f\"{WANDB_ENTITY_PROJECT}/{run['id']}\")"
   ]
  },
  {
   "cell_type": "code",
   "execution_count": 22,
   "metadata": {},
   "outputs": [
    {
     "data": {
      "text/plain": [
       "[{'validate/roc-auc': 0.7250649891099328},\n",
       " {'validate/roc-auc': 0.7540135593220338},\n",
       " {'validate/roc-auc': 0.7728921099707616},\n",
       " {'validate/roc-auc': 0.7457266672016692},\n",
       " {'validate/roc-auc': 0.811452975563405},\n",
       " {'validate/roc-auc': 0.780856181880109},\n",
       " {'validate/roc-auc': 0.8328185190650904},\n",
       " {'validate/roc-auc': 0.8237350423519921},\n",
       " {'validate/roc-auc': 0.8450002225090116},\n",
       " {'validate/roc-auc': 0.8181997190054496},\n",
       " {'validate/roc-auc': 0.8332574530743031},\n",
       " {'validate/roc-auc': 0.823275196789628},\n",
       " {'validate/roc-auc': 0.8674414172217318},\n",
       " {'validate/roc-auc': 0.8629119975011016},\n",
       " {'validate/roc-auc': 0.8688023191643561},\n",
       " {'validate/roc-auc': 0.8747629942542317},\n",
       " {'validate/roc-auc': 0.8607292650255824},\n",
       " {'validate/roc-auc': 0.8740421652421653},\n",
       " {'validate/roc-auc': 0.8491225794596581},\n",
       " {'validate/roc-auc': 0.8678864307698663},\n",
       " {'validate/roc-auc': 0.875084803256445},\n",
       " {'validate/roc-auc': 0.8935174721940382},\n",
       " {'validate/roc-auc': 0.8362076423202772},\n",
       " {'validate/roc-auc': 0.8567328855494839},\n",
       " {'validate/roc-auc': 0.8933896072154562},\n",
       " {'validate/roc-auc': 0.9046426145186336},\n",
       " {'validate/roc-auc': 0.8624586650902439},\n",
       " {'validate/roc-auc': 0.8914064791617579},\n",
       " {'validate/roc-auc': 0.8837113444031123},\n",
       " {'validate/roc-auc': 0.9094489890415187},\n",
       " {'validate/roc-auc': 0.8982956882522309},\n",
       " {'validate/roc-auc': 0.9485676844450269},\n",
       " {'validate/roc-auc': 0.9329913756254558},\n",
       " {'validate/roc-auc': 0.9562682535848394},\n",
       " {'validate/roc-auc': 0.9392596723885067},\n",
       " {'validate/roc-auc': 0.9640363192994772},\n",
       " {'validate/roc-auc': 0.9591920972339203},\n",
       " {'validate/roc-auc': 0.9592479444821603},\n",
       " {'validate/roc-auc': 0.9730326669917113},\n",
       " {'validate/roc-auc': 0.9528333898880217},\n",
       " {'validate/roc-auc': 0.936265233914297},\n",
       " {'validate/roc-auc': 0.9427663472607293},\n",
       " {'validate/roc-auc': 0.9478974358974359},\n",
       " {'validate/roc-auc': 0.9530050933786078},\n",
       " {'validate/roc-auc': 0.9254301708289439},\n",
       " {'validate/roc-auc': 0.9460767663043478},\n",
       " {'validate/roc-auc': 0.943998045910916},\n",
       " {'validate/roc-auc': 0.9220283712861503},\n",
       " {'validate/roc-auc': 0.9364688470496894},\n",
       " {'validate/roc-auc': 0.9174133090115708}]"
      ]
     },
     "execution_count": 22,
     "metadata": {},
     "output_type": "execute_result"
    }
   ],
   "source": [
    "list(run.scan_history(keys=[\"validate/roc-auc\"]))\n",
    "# list(run.scan_history(keys=[\"validate/avg-precision\"]))"
   ]
  },
  {
   "cell_type": "code",
   "execution_count": 16,
   "metadata": {},
   "outputs": [
    {
     "data": {
      "text/plain": [
       "10.6085615573058"
      ]
     },
     "execution_count": 16,
     "metadata": {},
     "output_type": "execute_result"
    }
   ],
   "source": [
    "metric_history = np.array(list(dic[\"validate/avg-precision\"] for dic in run.scan_history(keys=[\"validate/avg-precision\"])))\n",
    "# assert metric_history.shape == (60,), f\"Expected shape (600,), got {metric_history.shape}\"\n",
    "assert metric_history.shape == (50,), f\"Expected shape (600,), got {metric_history.shape}\"\n",
    "metric_history_accumulated = metric_history.sum()\n",
    "metric_history_accumulated"
   ]
  },
  {
   "cell_type": "code",
   "execution_count": 17,
   "metadata": {},
   "outputs": [],
   "source": [
    "run.summary.update({\"avg-precision-accumulated\": metric_history_accumulated})"
   ]
  },
  {
   "cell_type": "code",
   "execution_count": 18,
   "metadata": {},
   "outputs": [
    {
     "data": {
      "text/plain": [
       "10.6085615573058"
      ]
     },
     "execution_count": 18,
     "metadata": {},
     "output_type": "execute_result"
    }
   ],
   "source": [
    "run = runs_df_filtered.iloc[0]\n",
    "runid = run['id']\n",
    "run = api.run(f\"{WANDB_ENTITY_PROJECT}/{runid}\")\n",
    "run.summary[\"avg-precision-accumulated\"]"
   ]
  },
  {
   "cell_type": "markdown",
   "metadata": {},
   "source": [
    "# apply to all runs"
   ]
  },
  {
   "cell_type": "code",
   "execution_count": 23,
   "metadata": {},
   "outputs": [
    {
     "name": "stderr",
     "output_type": "stream",
     "text": [
      " 23% (196 of 849) |#####                 | Elapsed Time: 0:07:31 ETA:   0:24:11\u001b[34m\u001b[1mwandb\u001b[0m: \u001b[33mWARNING\u001b[0m A graphql request initiated by the public wandb API timed out (timeout=9 sec). Create a new API with an integer timeout larger than 9, e.g., `api = wandb.Api(timeout=19)` to increase the graphql timeout.\n",
      " 74% (629 of 849) |################      | Elapsed Time: 0:24:46 ETA:   0:33:55\u001b[34m\u001b[1mwandb\u001b[0m: \u001b[33mWARNING\u001b[0m A graphql request initiated by the public wandb API timed out (timeout=9 sec). Create a new API with an integer timeout larger than 9, e.g., `api = wandb.Api(timeout=19)` to increase the graphql timeout.\n",
      "100% (849 of 849) |######################| Elapsed Time: 0:33:08 Time:  0:33:08\n"
     ]
    }
   ],
   "source": [
    "import progressbar\n",
    "\n",
    "def update_summary_with_accumulated_metric(runid: str, metric_key: str):\n",
    "    run = api.run(f\"{WANDB_ENTITY_PROJECT}/{runid}\")\n",
    "    metric_history = np.array(list(dic[metric_key] for dic in run.scan_history(keys=[metric_key])))\n",
    "    # assert metric_history.shape == (60,), f\"Expected shape (60,), got {metric_history.shape}\"\n",
    "    assert metric_history.shape == (50,), f\"Expected shape (50,), got {metric_history.shape}\"\n",
    "    metric_history_accumulated = metric_history.sum()\n",
    "    metric_history_mean = metric_history.mean()\n",
    "    run.summary.update({\n",
    "        # f\"{metric_key}/history-accumulated\": metric_history_accumulated,\n",
    "        f\"{metric_key}/history-mean\": metric_history_mean,\n",
    "    })\n",
    "    run.save()\n",
    "\n",
    "for rowidx, row in progressbar.progressbar(runs_df_filtered.iterrows(), max_value=runs_df_filtered.shape[0]):\n",
    "    update_summary_with_accumulated_metric(row['id'], \"validate/avg-precision\")\n",
    "    update_summary_with_accumulated_metric(row['id'], \"validate/roc-auc\")"
   ]
  },
  {
   "cell_type": "code",
   "execution_count": null,
   "metadata": {},
   "outputs": [],
   "source": []
  }
 ],
 "metadata": {
  "kernelspec": {
   "display_name": "Python 3.9.7 ('genv')",
   "language": "python",
   "name": "python3"
  },
  "language_info": {
   "codemirror_mode": {
    "name": "ipython",
    "version": 3
   },
   "file_extension": ".py",
   "mimetype": "text/x-python",
   "name": "python",
   "nbconvert_exporter": "python",
   "pygments_lexer": "ipython3",
   "version": "3.9.7"
  },
  "orig_nbformat": 4,
  "vscode": {
   "interpreter": {
    "hash": "e172fda16549f1520ae99fe3216fecc634563c3ca5dea275926ce257d88dd6e1"
   }
  }
 },
 "nbformat": 4,
 "nbformat_minor": 2
}

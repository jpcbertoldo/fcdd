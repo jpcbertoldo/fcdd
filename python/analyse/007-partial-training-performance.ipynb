{
 "cells": [
  {
   "cell_type": "markdown",
   "id": "04826156-98a0-487e-94f6-70d69ac485f9",
   "metadata": {},
   "source": [
    "# experimets variability\n",
    "\n",
    "I want to have a visual of the variability of the experiments"
   ]
  },
  {
   "cell_type": "markdown",
   "id": "52a8fadf-e825-4123-ba1d-dab81ab742a4",
   "metadata": {},
   "source": [
    "# setup"
   ]
  },
  {
   "cell_type": "code",
   "execution_count": 1,
   "id": "b5b0cf65-b442-4853-88d7-51acbb3b98f1",
   "metadata": {},
   "outputs": [],
   "source": [
    "# make a cell print all the outputs instead of just the last one\n",
    "from IPython.core.interactiveshell import InteractiveShell\n",
    "InteractiveShell.ast_node_interactivity = \"all\"\n",
    "\n",
    "from pathlib import Path"
   ]
  },
  {
   "cell_type": "code",
   "execution_count": 2,
   "id": "d58f53ac-b2a5-462c-aaad-ec52705b86a9",
   "metadata": {},
   "outputs": [],
   "source": [
    "FIGS_DIR = Path(\".\") / \"figs\"\n",
    "FIGS_DIR.mkdir(exist_ok=True)\n",
    "\n",
    "DATA_DIR = Path(\".\") / \"data\"\n",
    "DATA_DIR.mkdir(exist_ok=True)"
   ]
  },
  {
   "cell_type": "markdown",
   "id": "786c71cb-f427-4c26-adc6-121141ae56a9",
   "metadata": {
    "tags": []
   },
   "source": [
    "Let's first check that I have all the runs. "
   ]
  },
  {
   "cell_type": "markdown",
   "id": "93f476a9-ebc4-403f-a1ab-2c640d1b521d",
   "metadata": {},
   "source": [
    "## data\n",
    "\n",
    "i create a link to where the data really is in a directory `data` parallel to the notebook\n",
    "\n",
    "if things are moved away, make the link point to the right place"
   ]
  },
  {
   "cell_type": "code",
   "execution_count": 3,
   "id": "67987fec-3924-4946-9c6d-f93069f66a72",
   "metadata": {},
   "outputs": [
    {
     "data": {
      "text/plain": [
       "'/home/jcasagrandebertoldo/repos/fcdd/python/analyse'"
      ]
     },
     "execution_count": 3,
     "metadata": {},
     "output_type": "execute_result"
    },
    {
     "name": "stdout",
     "output_type": "stream",
     "text": [
      "\u001b[0m\u001b[01;34mfcdd_20220128151925_mvtec_\u001b[0m/  \u001b[01;34mfcdd_20220129015207_mvtec_\u001b[0m/\n",
      "\u001b[01;34mfcdd_20220128151943_mvtec_\u001b[0m/  \u001b[01;34mfcdd_20220129015306_mvtec_\u001b[0m/\n",
      "\u001b[01;34mfcdd_20220128161900_mvtec_\u001b[0m/  \u001b[01;34mfcdd_20220129015906_mvtec_\u001b[0m/\n",
      "\u001b[01;34mfcdd_20220128162359_mvtec_\u001b[0m/  \u001b[01;34mfcdd_20220129015907_mvtec_\u001b[0m/\n",
      "\u001b[01;34mfcdd_20220128201934_mvtec_\u001b[0m/  \u001b[01;34mfcdd_20220129020205_mvtec_\u001b[0m/\n",
      "\u001b[01;34mfcdd_20220128201940_mvtec_\u001b[0m/  \u001b[01;34mfcdd_20220129020405_mvtec_\u001b[0m/\n",
      "\u001b[01;34mfcdd_20220128202031_mvtec_\u001b[0m/  \u001b[01;34mfcdd_20220129020436_mvtec_\u001b[0m/\n",
      "\u001b[01;34mfcdd_20220128202036_mvtec_\u001b[0m/  \u001b[01;34mfcdd_20220129020605_mvtec_\u001b[0m/\n",
      "\u001b[01;34mfcdd_20220128202346_mvtec_\u001b[0m/  \u001b[01;34mfcdd_20220129020805_mvtec_\u001b[0m/\n",
      "\u001b[01;34mfcdd_20220128202458_mvtec_\u001b[0m/  \u001b[01;34mfcdd_20220129020836_mvtec_\u001b[0m/\n",
      "\u001b[01;34mfcdd_20220128202517_mvtec_\u001b[0m/  \u001b[01;34mfcdd_20220129021236_mvtec_\u001b[0m/\n",
      "\u001b[01;34mfcdd_20220128212141_mvtec_\u001b[0m/  \u001b[01;34mfcdd_20220129021305_mvtec_\u001b[0m/\n",
      "\u001b[01;34mfcdd_20220128213237_mvtec_\u001b[0m/  \u001b[01;34mfcdd_20220129025848_mvtec_\u001b[0m/\n",
      "\u001b[01;34mfcdd_20220128213835_mvtec_\u001b[0m/  \u001b[01;34mfcdd_20220129032914_mvtec_\u001b[0m/\n",
      "\u001b[01;34mfcdd_20220128213837_mvtec_\u001b[0m/  \u001b[01;34mfcdd_20220129040248_mvtec_\u001b[0m/\n",
      "\u001b[01;34mfcdd_20220128224407_mvtec_\u001b[0m/  \u001b[01;34mfcdd_20220129043320_mvtec_\u001b[0m/\n",
      "\u001b[01;34mfcdd_20220128224408_mvtec_\u001b[0m/  \u001b[01;34mfcdd_20220129050443_mvtec_\u001b[0m/\n",
      "\u001b[01;34mfcdd_20220128224537_mvtec_\u001b[0m/  \u001b[01;34mfcdd_20220129060146_mvtec_\u001b[0m/\n",
      "\u001b[01;34mfcdd_20220129004837_mvtec_\u001b[0m/  \u001b[01;34mfcdd_20220129070859_mvtec_\u001b[0m/\n",
      "\u001b[01;34mfcdd_20220129015111_mvtec_\u001b[0m/  \u001b[01;34mfcdd_20220129073952_mvtec_\u001b[0m/\n",
      "\u001b[01;34mfcdd_20220129015204_mvtec_\u001b[0m/\n"
     ]
    }
   ],
   "source": [
    "%pwd\n",
    "%ls ../../data/results-snapshots/"
   ]
  },
  {
   "cell_type": "code",
   "execution_count": 4,
   "id": "c98f22f9-9fbd-4816-bfc1-fa54bf1cb61f",
   "metadata": {},
   "outputs": [
    {
     "name": "stdout",
     "output_type": "stream",
     "text": [
      "/home/jcasagrandebertoldo/repos/fcdd/python/analyse/data\n",
      "ln: failed to create symbolic link './results-snapshots': File exists\n",
      "/home/jcasagrandebertoldo/repos/fcdd/python/analyse\n"
     ]
    }
   ],
   "source": [
    "%mkdir -p data\n",
    "%cd data\n",
    "!ln -s ../../../data/results-snapshots/ \n",
    "%cd .."
   ]
  },
  {
   "cell_type": "code",
   "execution_count": 5,
   "id": "18a991ef-6344-4a8e-aafa-b1fc2ef873bf",
   "metadata": {},
   "outputs": [
    {
     "name": "stdout",
     "output_type": "stream",
     "text": [
      "\u001b[0m\u001b[01;34mfcdd_20220128151925_mvtec_\u001b[0m/  \u001b[01;34mfcdd_20220129015207_mvtec_\u001b[0m/\n",
      "\u001b[01;34mfcdd_20220128151943_mvtec_\u001b[0m/  \u001b[01;34mfcdd_20220129015306_mvtec_\u001b[0m/\n",
      "\u001b[01;34mfcdd_20220128161900_mvtec_\u001b[0m/  \u001b[01;34mfcdd_20220129015906_mvtec_\u001b[0m/\n",
      "\u001b[01;34mfcdd_20220128162359_mvtec_\u001b[0m/  \u001b[01;34mfcdd_20220129015907_mvtec_\u001b[0m/\n",
      "\u001b[01;34mfcdd_20220128201934_mvtec_\u001b[0m/  \u001b[01;34mfcdd_20220129020205_mvtec_\u001b[0m/\n",
      "\u001b[01;34mfcdd_20220128201940_mvtec_\u001b[0m/  \u001b[01;34mfcdd_20220129020405_mvtec_\u001b[0m/\n",
      "\u001b[01;34mfcdd_20220128202031_mvtec_\u001b[0m/  \u001b[01;34mfcdd_20220129020436_mvtec_\u001b[0m/\n",
      "\u001b[01;34mfcdd_20220128202036_mvtec_\u001b[0m/  \u001b[01;34mfcdd_20220129020605_mvtec_\u001b[0m/\n",
      "\u001b[01;34mfcdd_20220128202346_mvtec_\u001b[0m/  \u001b[01;34mfcdd_20220129020805_mvtec_\u001b[0m/\n",
      "\u001b[01;34mfcdd_20220128202458_mvtec_\u001b[0m/  \u001b[01;34mfcdd_20220129020836_mvtec_\u001b[0m/\n",
      "\u001b[01;34mfcdd_20220128202517_mvtec_\u001b[0m/  \u001b[01;34mfcdd_20220129021236_mvtec_\u001b[0m/\n",
      "\u001b[01;34mfcdd_20220128212141_mvtec_\u001b[0m/  \u001b[01;34mfcdd_20220129021305_mvtec_\u001b[0m/\n",
      "\u001b[01;34mfcdd_20220128213237_mvtec_\u001b[0m/  \u001b[01;34mfcdd_20220129025848_mvtec_\u001b[0m/\n",
      "\u001b[01;34mfcdd_20220128213835_mvtec_\u001b[0m/  \u001b[01;34mfcdd_20220129032914_mvtec_\u001b[0m/\n",
      "\u001b[01;34mfcdd_20220128213837_mvtec_\u001b[0m/  \u001b[01;34mfcdd_20220129040248_mvtec_\u001b[0m/\n",
      "\u001b[01;34mfcdd_20220128224407_mvtec_\u001b[0m/  \u001b[01;34mfcdd_20220129043320_mvtec_\u001b[0m/\n",
      "\u001b[01;34mfcdd_20220128224408_mvtec_\u001b[0m/  \u001b[01;34mfcdd_20220129050443_mvtec_\u001b[0m/\n",
      "\u001b[01;34mfcdd_20220128224537_mvtec_\u001b[0m/  \u001b[01;34mfcdd_20220129060146_mvtec_\u001b[0m/\n",
      "\u001b[01;34mfcdd_20220129004837_mvtec_\u001b[0m/  \u001b[01;34mfcdd_20220129070859_mvtec_\u001b[0m/\n",
      "\u001b[01;34mfcdd_20220129015111_mvtec_\u001b[0m/  \u001b[01;34mfcdd_20220129073952_mvtec_\u001b[0m/\n",
      "\u001b[01;34mfcdd_20220129015204_mvtec_\u001b[0m/\n"
     ]
    }
   ],
   "source": [
    "%ls data/results-snapshots/ "
   ]
  },
  {
   "cell_type": "markdown",
   "id": "78b15659-8560-4bad-b642-3d85e7580259",
   "metadata": {},
   "source": [
    "## funcs"
   ]
  },
  {
   "cell_type": "code",
   "execution_count": 13,
   "id": "d6b42ee1-5979-40ea-acda-287acccc2a2c",
   "metadata": {},
   "outputs": [],
   "source": [
    "import numpy as np\n",
    "from numpy import ndarray\n",
    "from typing import Dict, Union\n",
    "from pathlib import Path\n",
    "import json\n",
    "import re\n",
    "from datetime import timedelta, datetime\n",
    "import numpy as np\n",
    "from numpy import ndarray\n",
    "from typing import Dict, Union\n",
    "from pathlib import Path\n",
    "import json\n",
    "import numpy as np\n",
    "from numpy import ndarray\n",
    "from typing import Dict, Union\n",
    "from pathlib import Path\n",
    "import json\n",
    "import re\n",
    "import copy\n",
    "from typing import List\n",
    "\n",
    "\n",
    "# this is to get the strings associated to the classes in the fcdd code\n",
    "# copied from: fcdd/python/fcdd/datasets/__init__.py\n",
    "# inside function `str_labels`\n",
    "# commit: 9f268d8fd2fee33a5c5f38cdfb781da927bdb614\n",
    "CLASS_LABELS = {\n",
    "    'cifar10': ['airplane', 'automobile', 'bird', 'cat', 'deer', 'dog', 'frog', 'horse', 'ship', 'truck'],\n",
    "    'fmnist': [\n",
    "        't-shirt/top', 'trouser', 'pullover', 'dress', 'coat', 'sandal', 'shirt', 'sneaker', 'bag', 'ankle boot'\n",
    "    ],\n",
    "    'mvtec': [\n",
    "        'bottle', 'cable', 'capsule', 'carpet', 'grid', 'hazelnut', 'leather',\n",
    "        'metal_nut', 'pill', 'screw', 'tile', 'toothbrush', 'transistor',\n",
    "        'wood', 'zipper'\n",
    "    ],\n",
    "    # 'imagenet': deepcopy(ADImageNet.ad_classes),\n",
    "    # this one forwards to: fcdd/python/fcdd/datasets/imagenet.py\n",
    "    # in: ADImageNet.ad_classes\n",
    "    # at the same commit as above\n",
    "    'imagenet': ['acorn', 'airliner', 'ambulance', 'American alligator', 'banjo', 'barn', 'bikini', 'digital clock',\n",
    "                  'dragonfly', 'dumbbell', 'forklift', 'goblet', 'grand piano', 'hotdog', 'hourglass', 'manhole cover',\n",
    "                  'mosque', 'nail', 'parking meter', 'pillow', 'revolver', 'dial telephone', 'schooner',\n",
    "                  'snowmobile', 'soccer ball', 'stingray', 'strawberry', 'tank', 'toaster', 'volcano'],\n",
    "    'pascalvoc': ['horse'],\n",
    "}\n",
    "\n",
    "\n",
    "def get_classes_labels_order(dataset: str) -> List[str]:\n",
    "    return copy.deepcopy(CLASS_LABELS[dataset])\n",
    "\n",
    "\n",
    "def get_class_label(class_dirname: str, dataset: str) -> str:\n",
    "    return CLASS_LABELS[dataset][int(class_dirname.lstrip(\"normal_\"))]\n",
    "\n",
    "\n",
    "class MissingFileInExperiment(FileNotFoundError):\n",
    "    pass\n",
    "\n",
    "\n",
    "class UnfinishedExperiment(Exception):\n",
    "    pass\n",
    "\n",
    "\n",
    "def get_training_time(path: Path) -> Dict[str, float]:\n",
    "    \"\"\"\n",
    "    The is printed in `log.txt` as \n",
    "        START: 21-12-2021 22:46:18 \n",
    "        DURATION: 1:13:29.009893 \n",
    "    so this function parses that file.\n",
    "    \n",
    "    :param path: points to the 'log.txt' file inside an experiment (dataset + class + iteration)\n",
    "    \n",
    "    # simple test\n",
    "    TEST_PATH = Path(\"../../data/results/mvtec/supervised_merged/normal_0/it_0/log.txt\")\n",
    "    get_training_time(TEST_PATH)\n",
    "    del TEST_PATH\n",
    "    \"\"\"\n",
    "    DURATION_LINE_REGEX = r\"^DURATION: (.+) $\"\n",
    "    DELTA_DATETIME_FORMAT = \"%H:%M:%S.%f\"\n",
    "        \n",
    "    try:\n",
    "        # src: https://stackoverflow.com/a/1327389/9582881\n",
    "        search = re.search(DURATION_LINE_REGEX, path.read_text(), re.MULTILINE)\n",
    "    except Exception as ex:\n",
    "        raise MissingFileInExperiment(ex)\n",
    "        \n",
    "    assert search is not None\n",
    "    delta_str = search.group(1)\n",
    "    assert delta_str != \"\"\n",
    "    # src: https://stackoverflow.com/a/12352624/9582881\n",
    "    t = datetime.strptime(delta_str, DELTA_DATETIME_FORMAT)\n",
    "    delta = timedelta(hours=t.hour, minutes=t.minute, seconds=t.second)\n",
    "    assert delta > timedelta(0)\n",
    "    return {\"training_timedelta\": delta}\n",
    "\n",
    "\n",
    "def get_roc(path: Path) -> Dict[str, Union[float, ndarray]]:\n",
    "    \"\"\"\n",
    "    :param path: points to the 'roc.json' file inside an experiment (dataset + class + iteration)\n",
    "    \"\"\"\n",
    "    ROC_JSON_EXPECTED_KEYS = {\"tpr\", \"fpr\", \"ths\", \"auc\"}\n",
    "    ROC_JSON_LISTS = {\"tpr\", \"fpr\", \"ths\"}\n",
    "    \n",
    "    try:\n",
    "        with path.open(\"r\") as json_file:\n",
    "            payload = json.load(json_file)\n",
    "    except FileNotFoundError as ex:\n",
    "        raise MissingFileInExperiment(ex)\n",
    "    \n",
    "    assert type(payload) == dict, f\"{type(payload)=}\"\n",
    "    assert set(payload.keys()) == ROC_JSON_EXPECTED_KEYS, f\"{set(payload.keys())=}\"\n",
    "    \n",
    "    # transform the lists in ndarrays\n",
    "    for list_key in ROC_JSON_LISTS:\n",
    "        list_obj = payload[list_key]\n",
    "        assert type(list_obj) == list, f\"{type(list_obj)=}\"\n",
    "        payload[list_key] = np.array(list_obj)\n",
    "        \n",
    "    return payload\n",
    "\n",
    "\n",
    "def get_pixelwise_rocs_from_logtxt(path: Path) -> Dict[str, List[float]]:\n",
    "    \"\"\"\n",
    "    The pixel-wise roc is often lost in mvtec because the images are big so the json\n",
    "    with all the tpr/fpr/ths would be too big (there's a limit of 10MB somewhere in the code)\n",
    "    but the pixel-wise ROC-AUC is printed in `log.txt` as like\n",
    "    ##### GTMAP ROC TEST SCORE 0.9562439079836628 #####\n",
    "    so this function parses that file.\n",
    "    \n",
    "    :param path: points to the 'log.txt' file inside an experiment (dataset + class + iteration)\n",
    "    \"\"\"\n",
    "    # \"gtmap\" = \"pixel-wise\" here\n",
    "    # i got the floating point pattern in stackoverflow\n",
    "    # src: https://stackoverflow.com/a/12643073/9582881\n",
    "    GTMAP_ROC_LINE_REGEX = r\"##### GTMAP ROC TEST SCORE (([0-9]*[.])?[0-9]+) #####\"\n",
    "    \n",
    "    try:\n",
    "        # src: https://stackoverflow.com/a/1327389/9582881\n",
    "        founds = re.findall(GTMAP_ROC_LINE_REGEX, path.read_text())\n",
    "\n",
    "    except Exception as ex:\n",
    "        raise MissingFileInExperiment(ex)\n",
    "\n",
    "    assert len(founds) > 0\n",
    "    vals = [float(f[0]) for f in founds]\n",
    "    for val in vals:\n",
    "        assert 1 >= val >= 0   \n",
    "    return [{\"auc\": val} for val in vals]\n",
    "\n",
    "\n",
    "def get_snapshot_rocs(path: Path) -> Dict[str, Union[int, float, ndarray]]:\n",
    "    \"\"\"\n",
    "    :param path: points to the 'training_tests' dir inside an experiment (dataset + class + iteration),\n",
    "                 that dir should contain subirs named like 'epoch=00000', each with a 'roc.json' inside\n",
    "    \"\"\"\n",
    "    try:\n",
    "        assert path.exists(), f\"{path=}\"\n",
    "    except AssertionError as ex:\n",
    "        raise UnfinishedExperiment(ex)\n",
    "    epoch_dirs = path.glob(\"epoch=*\")\n",
    "    snapshot_recs = {}\n",
    "    for dir_ in epoch_dirs:\n",
    "        epoch = int(dir_.name.split(\"=\")[1])\n",
    "        snapshot_recs[epoch] = {**get_roc(dir_ / \"roc.json\"), **{\"epoch\": epoch}}\n",
    "    return snapshot_recs\n",
    "\n",
    "\n",
    "def build_experiment_payload(experiment_dir: Path, dataset: str) -> Dict[str, Union[str, float, ndarray]]:\n",
    "    \"\"\"\n",
    "    :param experiment_dir: path to the experiment directory\n",
    "    \"\"\"\n",
    "    normal_class_str = experiment_dir.parent.name\n",
    "    roc_json_path = experiment_dir / \"roc.json\"\n",
    "    log_txt_path = experiment_dir / \"log.txt\"\n",
    "    \n",
    "    try:\n",
    "        training_time: dict = get_training_time(log_txt_path)\n",
    "    \n",
    "    except MissingFileInExperiment as ex:\n",
    "        \n",
    "        # if it doesn't have log.txt with the training time it means that the training didn't complete\n",
    "        raise UnfinishedExperiment(ex)\n",
    "        \n",
    "    try:\n",
    "        roc_ret = get_roc(roc_json_path).items()\n",
    "    \n",
    "    except MissingFileInExperiment as ex:\n",
    "        \n",
    "        # if it doesn't have roc.json it means that the training didn't complete\n",
    "        raise UnfinishedExperiment(ex)\n",
    "        \n",
    "    pixelwise_roc_pdf_path = experiment_dir / \"gtmap_roc_curve.pdf\"\n",
    "    snapshot_training_tests = experiment_dir / \"training_tests\"\n",
    "    \n",
    "    if not pixelwise_roc_pdf_path.exists():\n",
    "        raise UnfinishedExperiment(str(experiment_dir))\n",
    "\n",
    "    snapshot_rocs = get_snapshot_rocs(snapshot_training_tests)\n",
    "    nsnapshots = len(snapshot_rocs)\n",
    "\n",
    "    try:\n",
    "        pixel_rocs = get_pixelwise_rocs_from_logtxt(log_txt_path)\n",
    "        \n",
    "    except MissingFileInExperiment as ex:\n",
    "        \n",
    "        # if it doesn't have log.txt it means that the training didn't complete\n",
    "        raise UnfinishedExperiment(ex)\n",
    "        \n",
    "    except UnfinishedExperiment as ex:\n",
    "        raise ex\n",
    "    \n",
    "    if len(pixel_rocs) != nsnapshots + 1:  \n",
    "        # +1 is because there is the final measure as well\n",
    "        raise UnfinishedExperiment(str(experiment_dir))\n",
    "    \n",
    "    snapshots_pixel_rocs, final_pixel_roc = pixel_rocs[:-1], pixel_rocs[-1]\n",
    "    \n",
    "    snapshots = {}\n",
    "    for snapshot_epoch, snapshot_pixel_roc in zip(sorted(snapshot_rocs), snapshots_pixel_rocs):\n",
    "        snapshots[snapshot_epoch] = {\n",
    "            **{\n",
    "                f\"sample_roc.{k}\": v\n",
    "                for k, v in snapshot_rocs[snapshot_epoch].items()\n",
    "            },\n",
    "            **{\n",
    "                f\"pixel_roc.{k}\": v\n",
    "                for k, v in snapshot_pixel_roc.items()\n",
    "            },\n",
    "        }\n",
    "        \n",
    "    return {\n",
    "        \"experiment\": experiment_dir.parent.parent.name,\n",
    "        \"normal_class\": normal_class_str,\n",
    "        \"it\": experiment_dir.name,\n",
    "        \"dir\": experiment_dir,\n",
    "        \"normal_class_label\": get_class_label(normal_class_str, dataset),\n",
    "        **training_time,\n",
    "        **{\n",
    "            # this is a renaming so sample_roc/pixel_roc won't conflict\n",
    "            f\"sample_roc.{key}\": val \n",
    "            for key, val in roc_ret\n",
    "        },\n",
    "        **{\n",
    "            f\"pixel_roc.{key}\": val \n",
    "            for key, val in final_pixel_roc.items()\n",
    "        },\n",
    "        \"snapshots\": snapshots,\n",
    "    }\n",
    "\n",
    "\n",
    "def get_all_experiments_data(path: Path, dataset: str) -> Dict[str, Dict[str, Union[str, float, ndarray]]]:\n",
    "    \n",
    "    \"\"\"\n",
    "    :param path: a folder that looks like 'fcdd_20211220193242_fmnist_' \n",
    "                 a whole experiment on a dataset with all iterations and nominal classes inside, \n",
    "                 the structure should look like\n",
    "                 \n",
    "                path/\n",
    "                path/normal_0\n",
    "                path/normal_1\n",
    "                ...\n",
    "                path/normal_9/\n",
    "                path/normal_9/it_0\n",
    "                ...\n",
    "                path/normal_9/it_4/roc.json\n",
    "    \"\"\"\n",
    "    assert path.is_dir()\n",
    "    assert dataset in CLASS_LABELS\n",
    "    \n",
    "    experiments = {}\n",
    "    \n",
    "    # first level: classes\n",
    "    for dirpath in path.glob(\"normal_*\"):\n",
    "        \n",
    "        if not dirpath.is_dir():\n",
    "            continue\n",
    "\n",
    "        # second level: iterations\n",
    "        for iterpath in dirpath.glob(\"it_*\"):\n",
    "            \n",
    "            if not iterpath.is_dir():\n",
    "                continue\n",
    "        \n",
    "            key = f\"{path.name}.{iterpath.parent.name}.{iterpath.name}\"\n",
    "            \n",
    "            try: \n",
    "                experiments[key] = {\n",
    "                    **build_experiment_payload(iterpath, dataset=dataset),\n",
    "                    **{\"key\": key},\n",
    "                }\n",
    "                \n",
    "            except UnfinishedExperiment as ex:\n",
    "                print(f\"experiment {key=} in {path.name=} seems to be unfinished, it'll be ignored\")\n",
    "                continue\n",
    "    \n",
    "    return experiments\n",
    "\n",
    "\n",
    "# # some simple tests\n",
    "# TEST_PATH = Path(\"data/results-snapshots/fcdd_20220129073952_mvtec_/normal_8/it_0\")\n",
    "# build_experiment_payload(TEST_PATH, dataset=\"mvtec\")\n",
    "# del TEST_PATH\n",
    "\n",
    "# TEST_PATH = Path(\"data/results-snapshots/fcdd_20220129073952_mvtec_/\")\n",
    "# all_dicts = get_all_experiments_data(TEST_PATH, dataset=\"mvtec\")\n",
    "# len(all_dicts)\n",
    "# all_dicts[sorted(all_dicts)[0]]\n",
    "# del TEST_PATH, all_dicts"
   ]
  },
  {
   "cell_type": "markdown",
   "id": "fb96395a-b5e5-4723-8434-6bf76a91e9bd",
   "metadata": {},
   "source": [
    "# gather data"
   ]
  },
  {
   "cell_type": "code",
   "execution_count": 14,
   "id": "74dcd906-48eb-49f2-847c-3b03e6c211be",
   "metadata": {},
   "outputs": [
    {
     "name": "stdout",
     "output_type": "stream",
     "text": [
      "\u001b[0m\u001b[01;34mfcdd_20220128151925_mvtec_\u001b[0m/  \u001b[01;34mfcdd_20220129015207_mvtec_\u001b[0m/\n",
      "\u001b[01;34mfcdd_20220128151943_mvtec_\u001b[0m/  \u001b[01;34mfcdd_20220129015306_mvtec_\u001b[0m/\n",
      "\u001b[01;34mfcdd_20220128161900_mvtec_\u001b[0m/  \u001b[01;34mfcdd_20220129015906_mvtec_\u001b[0m/\n",
      "\u001b[01;34mfcdd_20220128162359_mvtec_\u001b[0m/  \u001b[01;34mfcdd_20220129015907_mvtec_\u001b[0m/\n",
      "\u001b[01;34mfcdd_20220128201934_mvtec_\u001b[0m/  \u001b[01;34mfcdd_20220129020205_mvtec_\u001b[0m/\n",
      "\u001b[01;34mfcdd_20220128201940_mvtec_\u001b[0m/  \u001b[01;34mfcdd_20220129020405_mvtec_\u001b[0m/\n",
      "\u001b[01;34mfcdd_20220128202031_mvtec_\u001b[0m/  \u001b[01;34mfcdd_20220129020436_mvtec_\u001b[0m/\n",
      "\u001b[01;34mfcdd_20220128202036_mvtec_\u001b[0m/  \u001b[01;34mfcdd_20220129020605_mvtec_\u001b[0m/\n",
      "\u001b[01;34mfcdd_20220128202346_mvtec_\u001b[0m/  \u001b[01;34mfcdd_20220129020805_mvtec_\u001b[0m/\n",
      "\u001b[01;34mfcdd_20220128202458_mvtec_\u001b[0m/  \u001b[01;34mfcdd_20220129020836_mvtec_\u001b[0m/\n",
      "\u001b[01;34mfcdd_20220128202517_mvtec_\u001b[0m/  \u001b[01;34mfcdd_20220129021236_mvtec_\u001b[0m/\n",
      "\u001b[01;34mfcdd_20220128212141_mvtec_\u001b[0m/  \u001b[01;34mfcdd_20220129021305_mvtec_\u001b[0m/\n",
      "\u001b[01;34mfcdd_20220128213237_mvtec_\u001b[0m/  \u001b[01;34mfcdd_20220129025848_mvtec_\u001b[0m/\n",
      "\u001b[01;34mfcdd_20220128213835_mvtec_\u001b[0m/  \u001b[01;34mfcdd_20220129032914_mvtec_\u001b[0m/\n",
      "\u001b[01;34mfcdd_20220128213837_mvtec_\u001b[0m/  \u001b[01;34mfcdd_20220129040248_mvtec_\u001b[0m/\n",
      "\u001b[01;34mfcdd_20220128224407_mvtec_\u001b[0m/  \u001b[01;34mfcdd_20220129043320_mvtec_\u001b[0m/\n",
      "\u001b[01;34mfcdd_20220128224408_mvtec_\u001b[0m/  \u001b[01;34mfcdd_20220129050443_mvtec_\u001b[0m/\n",
      "\u001b[01;34mfcdd_20220128224537_mvtec_\u001b[0m/  \u001b[01;34mfcdd_20220129060146_mvtec_\u001b[0m/\n",
      "\u001b[01;34mfcdd_20220129004837_mvtec_\u001b[0m/  \u001b[01;34mfcdd_20220129070859_mvtec_\u001b[0m/\n",
      "\u001b[01;34mfcdd_20220129015111_mvtec_\u001b[0m/  \u001b[01;34mfcdd_20220129073952_mvtec_\u001b[0m/\n",
      "\u001b[01;34mfcdd_20220129015204_mvtec_\u001b[0m/\n"
     ]
    }
   ],
   "source": [
    "%ls data/results-snapshots/"
   ]
  },
  {
   "cell_type": "code",
   "execution_count": 15,
   "id": "07294a97-4677-4f95-85df-ddd38152c97d",
   "metadata": {},
   "outputs": [],
   "source": [
    "DF_FPATH = Path(\"data\") / \"007-partial-training-performance.df.json\"\n",
    "DF_INDEXNAMES_FPATH = DF_FPATH.parent / f\"{DF_FPATH.stem}.index-names.json\""
   ]
  },
  {
   "cell_type": "code",
   "execution_count": 16,
   "id": "2de7f618-15a7-4e4b-826f-001ec6717cc9",
   "metadata": {},
   "outputs": [
    {
     "name": "stdout",
     "output_type": "stream",
     "text": [
      "loading df\n",
      "couldn't find df, recomputing\n",
      "experiment key='fcdd_20220128201940_mvtec_.normal_11.it_0' in path.name='fcdd_20220128201940_mvtec_' seems to be unfinished, it'll be ignored\n",
      "experiment key='fcdd_20220128213835_mvtec_.normal_11.it_1' in path.name='fcdd_20220128213835_mvtec_' seems to be unfinished, it'll be ignored\n",
      "experiment key='fcdd_20220129015907_mvtec_.normal_10.it_0' in path.name='fcdd_20220129015907_mvtec_' seems to be unfinished, it'll be ignored\n",
      "experiment key='fcdd_20220128202031_mvtec_.normal_0.it_0' in path.name='fcdd_20220128202031_mvtec_' seems to be unfinished, it'll be ignored\n",
      "experiment key='fcdd_20220128202458_mvtec_.normal_8.it_0' in path.name='fcdd_20220128202458_mvtec_' seems to be unfinished, it'll be ignored\n",
      "experiment key='fcdd_20220128224408_mvtec_.normal_0.it_1' in path.name='fcdd_20220128224408_mvtec_' seems to be unfinished, it'll be ignored\n",
      "experiment key='fcdd_20220128224537_mvtec_.normal_8.it_1' in path.name='fcdd_20220128224537_mvtec_' seems to be unfinished, it'll be ignored\n",
      "experiment key='fcdd_20220128202517_mvtec_.normal_8.it_0' in path.name='fcdd_20220128202517_mvtec_' seems to be unfinished, it'll be ignored\n",
      "experiment key='fcdd_20220129021236_mvtec_.normal_6.it_0' in path.name='fcdd_20220129021236_mvtec_' seems to be unfinished, it'll be ignored\n",
      "experiment key='fcdd_20220128202036_mvtec_.normal_0.it_0' in path.name='fcdd_20220128202036_mvtec_' seems to be unfinished, it'll be ignored\n",
      "experiment key='fcdd_20220129020805_mvtec_.normal_6.it_0' in path.name='fcdd_20220129020805_mvtec_' seems to be unfinished, it'll be ignored\n",
      "experiment key='fcdd_20220129015906_mvtec_.normal_3.it_0' in path.name='fcdd_20220129015906_mvtec_' seems to be unfinished, it'll be ignored\n",
      "experiment key='fcdd_20220128224407_mvtec_.normal_0.it_1' in path.name='fcdd_20220128224407_mvtec_' seems to be unfinished, it'll be ignored\n",
      "experiment key='fcdd_20220129015111_mvtec_.normal_8.it_1' in path.name='fcdd_20220129015111_mvtec_' seems to be unfinished, it'll be ignored\n",
      "experiment key='fcdd_20220129004837_mvtec_.normal_8.it_1' in path.name='fcdd_20220129004837_mvtec_' seems to be unfinished, it'll be ignored\n",
      "experiment key='fcdd_20220129020836_mvtec_.normal_6.it_0' in path.name='fcdd_20220129020836_mvtec_' seems to be unfinished, it'll be ignored\n",
      "experiment key='fcdd_20220129021305_mvtec_.normal_6.it_0' in path.name='fcdd_20220129021305_mvtec_' seems to be unfinished, it'll be ignored\n",
      "experiment key='fcdd_20220129020205_mvtec_.normal_10.it_0' in path.name='fcdd_20220129020205_mvtec_' seems to be unfinished, it'll be ignored\n",
      "experiment key='fcdd_20220128201934_mvtec_.normal_11.it_0' in path.name='fcdd_20220128201934_mvtec_' seems to be unfinished, it'll be ignored\n",
      "experiment key='fcdd_20220129020605_mvtec_.normal_6.it_0' in path.name='fcdd_20220129020605_mvtec_' seems to be unfinished, it'll be ignored\n",
      "experiment key='fcdd_20220129020405_mvtec_.normal_10.it_0' in path.name='fcdd_20220129020405_mvtec_' seems to be unfinished, it'll be ignored\n",
      "experiment key='fcdd_20220128202346_mvtec_.normal_8.it_0' in path.name='fcdd_20220128202346_mvtec_' seems to be unfinished, it'll be ignored\n",
      "experiment key='fcdd_20220129015207_mvtec_.normal_3.it_0' in path.name='fcdd_20220129015207_mvtec_' seems to be unfinished, it'll be ignored\n",
      "experiment key='fcdd_20220128212141_mvtec_.normal_8.it_0' in path.name='fcdd_20220128212141_mvtec_' seems to be unfinished, it'll be ignored\n",
      "experiment key='fcdd_20220128213237_mvtec_.normal_8.it_0' in path.name='fcdd_20220128213237_mvtec_' seems to be unfinished, it'll be ignored\n",
      "experiment key='fcdd_20220129015204_mvtec_.normal_3.it_0' in path.name='fcdd_20220129015204_mvtec_' seems to be unfinished, it'll be ignored\n",
      "experiment key='fcdd_20220129020436_mvtec_.normal_10.it_0' in path.name='fcdd_20220129020436_mvtec_' seems to be unfinished, it'll be ignored\n",
      "experiment key='fcdd_20220128162359_mvtec_.normal_8.it_0' in path.name='fcdd_20220128162359_mvtec_' seems to be unfinished, it'll be ignored\n",
      "experiment key='fcdd_20220128213837_mvtec_.normal_11.it_1' in path.name='fcdd_20220128213837_mvtec_' seems to be unfinished, it'll be ignored\n",
      "experiment key='fcdd_20220128213837_mvtec_.normal_0.it_1' in path.name='fcdd_20220128213837_mvtec_' seems to be unfinished, it'll be ignored\n",
      "saving df\n"
     ]
    },
    {
     "data": {
      "text/html": [
       "<div>\n",
       "<style scoped>\n",
       "    .dataframe tbody tr th:only-of-type {\n",
       "        vertical-align: middle;\n",
       "    }\n",
       "\n",
       "    .dataframe tbody tr th {\n",
       "        vertical-align: top;\n",
       "    }\n",
       "\n",
       "    .dataframe thead th {\n",
       "        text-align: right;\n",
       "    }\n",
       "</style>\n",
       "<table border=\"1\" class=\"dataframe\">\n",
       "  <thead>\n",
       "    <tr style=\"text-align: right;\">\n",
       "      <th></th>\n",
       "      <th></th>\n",
       "      <th>training_timedelta</th>\n",
       "      <th>sample_roc.auc</th>\n",
       "      <th>pixel_roc.auc</th>\n",
       "      <th>epoch=00000.sample_roc.auc</th>\n",
       "      <th>epoch=00000.sample_roc.epoch</th>\n",
       "      <th>epoch=00000.pixel_roc.auc</th>\n",
       "      <th>epoch=00001.sample_roc.auc</th>\n",
       "      <th>epoch=00001.sample_roc.epoch</th>\n",
       "      <th>epoch=00001.pixel_roc.auc</th>\n",
       "      <th>epoch=00002.sample_roc.auc</th>\n",
       "      <th>...</th>\n",
       "      <th>epoch=00019.pixel_roc.auc</th>\n",
       "      <th>epoch=00049.sample_roc.auc</th>\n",
       "      <th>epoch=00049.sample_roc.epoch</th>\n",
       "      <th>epoch=00049.pixel_roc.auc</th>\n",
       "      <th>epoch=00099.sample_roc.auc</th>\n",
       "      <th>epoch=00099.sample_roc.epoch</th>\n",
       "      <th>epoch=00099.pixel_roc.auc</th>\n",
       "      <th>epoch=00199.sample_roc.auc</th>\n",
       "      <th>epoch=00199.sample_roc.epoch</th>\n",
       "      <th>epoch=00199.pixel_roc.auc</th>\n",
       "    </tr>\n",
       "    <tr>\n",
       "      <th>normal_class_label</th>\n",
       "      <th>it</th>\n",
       "      <th></th>\n",
       "      <th></th>\n",
       "      <th></th>\n",
       "      <th></th>\n",
       "      <th></th>\n",
       "      <th></th>\n",
       "      <th></th>\n",
       "      <th></th>\n",
       "      <th></th>\n",
       "      <th></th>\n",
       "      <th></th>\n",
       "      <th></th>\n",
       "      <th></th>\n",
       "      <th></th>\n",
       "      <th></th>\n",
       "      <th></th>\n",
       "      <th></th>\n",
       "      <th></th>\n",
       "      <th></th>\n",
       "      <th></th>\n",
       "      <th></th>\n",
       "    </tr>\n",
       "  </thead>\n",
       "  <tbody>\n",
       "    <tr>\n",
       "      <th>toothbrush</th>\n",
       "      <th>it_0</th>\n",
       "      <td>0 days 01:02:43</td>\n",
       "      <td>0.441667</td>\n",
       "      <td>0.566823</td>\n",
       "      <td>0.383333</td>\n",
       "      <td>0</td>\n",
       "      <td>0.442976</td>\n",
       "      <td>0.372222</td>\n",
       "      <td>1</td>\n",
       "      <td>0.496424</td>\n",
       "      <td>0.375</td>\n",
       "      <td>...</td>\n",
       "      <td>0.655371</td>\n",
       "      <td>0.447222</td>\n",
       "      <td>49</td>\n",
       "      <td>0.638918</td>\n",
       "      <td>0.444444</td>\n",
       "      <td>99</td>\n",
       "      <td>0.574155</td>\n",
       "      <td>0.441667</td>\n",
       "      <td>199</td>\n",
       "      <td>0.566823</td>\n",
       "    </tr>\n",
       "    <tr>\n",
       "      <th>bottle</th>\n",
       "      <th>it_0</th>\n",
       "      <td>0 days 03:07:15</td>\n",
       "      <td>0.776984</td>\n",
       "      <td>0.84352</td>\n",
       "      <td>0.437302</td>\n",
       "      <td>0</td>\n",
       "      <td>0.487539</td>\n",
       "      <td>0.429365</td>\n",
       "      <td>1</td>\n",
       "      <td>0.509645</td>\n",
       "      <td>0.477778</td>\n",
       "      <td>...</td>\n",
       "      <td>0.626321</td>\n",
       "      <td>0.652381</td>\n",
       "      <td>49</td>\n",
       "      <td>0.769711</td>\n",
       "      <td>0.734921</td>\n",
       "      <td>99</td>\n",
       "      <td>0.82361</td>\n",
       "      <td>0.776984</td>\n",
       "      <td>199</td>\n",
       "      <td>0.84352</td>\n",
       "    </tr>\n",
       "  </tbody>\n",
       "</table>\n",
       "<p>2 rows × 30 columns</p>\n",
       "</div>"
      ],
      "text/plain": [
       "                        training_timedelta sample_roc.auc pixel_roc.auc  \\\n",
       "normal_class_label it                                                     \n",
       "toothbrush         it_0    0 days 01:02:43       0.441667      0.566823   \n",
       "bottle             it_0    0 days 03:07:15       0.776984       0.84352   \n",
       "\n",
       "                        epoch=00000.sample_roc.auc  \\\n",
       "normal_class_label it                                \n",
       "toothbrush         it_0                   0.383333   \n",
       "bottle             it_0                   0.437302   \n",
       "\n",
       "                        epoch=00000.sample_roc.epoch  \\\n",
       "normal_class_label it                                  \n",
       "toothbrush         it_0                            0   \n",
       "bottle             it_0                            0   \n",
       "\n",
       "                        epoch=00000.pixel_roc.auc epoch=00001.sample_roc.auc  \\\n",
       "normal_class_label it                                                          \n",
       "toothbrush         it_0                  0.442976                   0.372222   \n",
       "bottle             it_0                  0.487539                   0.429365   \n",
       "\n",
       "                        epoch=00001.sample_roc.epoch  \\\n",
       "normal_class_label it                                  \n",
       "toothbrush         it_0                            1   \n",
       "bottle             it_0                            1   \n",
       "\n",
       "                        epoch=00001.pixel_roc.auc epoch=00002.sample_roc.auc  \\\n",
       "normal_class_label it                                                          \n",
       "toothbrush         it_0                  0.496424                      0.375   \n",
       "bottle             it_0                  0.509645                   0.477778   \n",
       "\n",
       "                         ... epoch=00019.pixel_roc.auc  \\\n",
       "normal_class_label it    ...                             \n",
       "toothbrush         it_0  ...                  0.655371   \n",
       "bottle             it_0  ...                  0.626321   \n",
       "\n",
       "                        epoch=00049.sample_roc.auc  \\\n",
       "normal_class_label it                                \n",
       "toothbrush         it_0                   0.447222   \n",
       "bottle             it_0                   0.652381   \n",
       "\n",
       "                        epoch=00049.sample_roc.epoch  \\\n",
       "normal_class_label it                                  \n",
       "toothbrush         it_0                           49   \n",
       "bottle             it_0                           49   \n",
       "\n",
       "                        epoch=00049.pixel_roc.auc epoch=00099.sample_roc.auc  \\\n",
       "normal_class_label it                                                          \n",
       "toothbrush         it_0                  0.638918                   0.444444   \n",
       "bottle             it_0                  0.769711                   0.734921   \n",
       "\n",
       "                        epoch=00099.sample_roc.epoch  \\\n",
       "normal_class_label it                                  \n",
       "toothbrush         it_0                           99   \n",
       "bottle             it_0                           99   \n",
       "\n",
       "                        epoch=00099.pixel_roc.auc epoch=00199.sample_roc.auc  \\\n",
       "normal_class_label it                                                          \n",
       "toothbrush         it_0                  0.574155                   0.441667   \n",
       "bottle             it_0                   0.82361                   0.776984   \n",
       "\n",
       "                        epoch=00199.sample_roc.epoch epoch=00199.pixel_roc.auc  \n",
       "normal_class_label it                                                           \n",
       "toothbrush         it_0                          199                  0.566823  \n",
       "bottle             it_0                          199                   0.84352  \n",
       "\n",
       "[2 rows x 30 columns]"
      ]
     },
     "execution_count": 16,
     "metadata": {},
     "output_type": "execute_result"
    },
    {
     "data": {
      "text/html": [
       "<div>\n",
       "<style scoped>\n",
       "    .dataframe tbody tr th:only-of-type {\n",
       "        vertical-align: middle;\n",
       "    }\n",
       "\n",
       "    .dataframe tbody tr th {\n",
       "        vertical-align: top;\n",
       "    }\n",
       "\n",
       "    .dataframe thead th {\n",
       "        text-align: right;\n",
       "    }\n",
       "</style>\n",
       "<table border=\"1\" class=\"dataframe\">\n",
       "  <thead>\n",
       "    <tr style=\"text-align: right;\">\n",
       "      <th></th>\n",
       "      <th></th>\n",
       "      <th>training_timedelta</th>\n",
       "      <th>sample_roc.auc</th>\n",
       "      <th>pixel_roc.auc</th>\n",
       "      <th>epoch=00000.sample_roc.auc</th>\n",
       "      <th>epoch=00000.sample_roc.epoch</th>\n",
       "      <th>epoch=00000.pixel_roc.auc</th>\n",
       "      <th>epoch=00001.sample_roc.auc</th>\n",
       "      <th>epoch=00001.sample_roc.epoch</th>\n",
       "      <th>epoch=00001.pixel_roc.auc</th>\n",
       "      <th>epoch=00002.sample_roc.auc</th>\n",
       "      <th>...</th>\n",
       "      <th>epoch=00019.pixel_roc.auc</th>\n",
       "      <th>epoch=00049.sample_roc.auc</th>\n",
       "      <th>epoch=00049.sample_roc.epoch</th>\n",
       "      <th>epoch=00049.pixel_roc.auc</th>\n",
       "      <th>epoch=00099.sample_roc.auc</th>\n",
       "      <th>epoch=00099.sample_roc.epoch</th>\n",
       "      <th>epoch=00099.pixel_roc.auc</th>\n",
       "      <th>epoch=00199.sample_roc.auc</th>\n",
       "      <th>epoch=00199.sample_roc.epoch</th>\n",
       "      <th>epoch=00199.pixel_roc.auc</th>\n",
       "    </tr>\n",
       "    <tr>\n",
       "      <th>normal_class_label</th>\n",
       "      <th>it</th>\n",
       "      <th></th>\n",
       "      <th></th>\n",
       "      <th></th>\n",
       "      <th></th>\n",
       "      <th></th>\n",
       "      <th></th>\n",
       "      <th></th>\n",
       "      <th></th>\n",
       "      <th></th>\n",
       "      <th></th>\n",
       "      <th></th>\n",
       "      <th></th>\n",
       "      <th></th>\n",
       "      <th></th>\n",
       "      <th></th>\n",
       "      <th></th>\n",
       "      <th></th>\n",
       "      <th></th>\n",
       "      <th></th>\n",
       "      <th></th>\n",
       "      <th></th>\n",
       "    </tr>\n",
       "  </thead>\n",
       "  <tbody>\n",
       "    <tr>\n",
       "      <th rowspan=\"2\" valign=\"top\">pill</th>\n",
       "      <th>it_0</th>\n",
       "      <td>0 days 04:05:53</td>\n",
       "      <td>0.736498</td>\n",
       "      <td>0.865321</td>\n",
       "      <td>0.58838</td>\n",
       "      <td>0</td>\n",
       "      <td>0.725127</td>\n",
       "      <td>0.677578</td>\n",
       "      <td>1</td>\n",
       "      <td>0.794239</td>\n",
       "      <td>0.721768</td>\n",
       "      <td>...</td>\n",
       "      <td>0.708</td>\n",
       "      <td>0.652482</td>\n",
       "      <td>49</td>\n",
       "      <td>0.820472</td>\n",
       "      <td>0.708947</td>\n",
       "      <td>99</td>\n",
       "      <td>0.854622</td>\n",
       "      <td>0.736498</td>\n",
       "      <td>199</td>\n",
       "      <td>0.865321</td>\n",
       "    </tr>\n",
       "    <tr>\n",
       "      <th>it_0</th>\n",
       "      <td>0 days 04:05:45</td>\n",
       "      <td>0.774686</td>\n",
       "      <td>0.809816</td>\n",
       "      <td>0.458811</td>\n",
       "      <td>0</td>\n",
       "      <td>0.556626</td>\n",
       "      <td>0.499454</td>\n",
       "      <td>1</td>\n",
       "      <td>0.640025</td>\n",
       "      <td>0.506547</td>\n",
       "      <td>...</td>\n",
       "      <td>0.722918</td>\n",
       "      <td>0.726678</td>\n",
       "      <td>49</td>\n",
       "      <td>0.771134</td>\n",
       "      <td>0.760229</td>\n",
       "      <td>99</td>\n",
       "      <td>0.797705</td>\n",
       "      <td>0.774686</td>\n",
       "      <td>199</td>\n",
       "      <td>0.809816</td>\n",
       "    </tr>\n",
       "  </tbody>\n",
       "</table>\n",
       "<p>2 rows × 30 columns</p>\n",
       "</div>"
      ],
      "text/plain": [
       "                        training_timedelta sample_roc.auc pixel_roc.auc  \\\n",
       "normal_class_label it                                                     \n",
       "pill               it_0    0 days 04:05:53       0.736498      0.865321   \n",
       "                   it_0    0 days 04:05:45       0.774686      0.809816   \n",
       "\n",
       "                        epoch=00000.sample_roc.auc  \\\n",
       "normal_class_label it                                \n",
       "pill               it_0                    0.58838   \n",
       "                   it_0                   0.458811   \n",
       "\n",
       "                        epoch=00000.sample_roc.epoch  \\\n",
       "normal_class_label it                                  \n",
       "pill               it_0                            0   \n",
       "                   it_0                            0   \n",
       "\n",
       "                        epoch=00000.pixel_roc.auc epoch=00001.sample_roc.auc  \\\n",
       "normal_class_label it                                                          \n",
       "pill               it_0                  0.725127                   0.677578   \n",
       "                   it_0                  0.556626                   0.499454   \n",
       "\n",
       "                        epoch=00001.sample_roc.epoch  \\\n",
       "normal_class_label it                                  \n",
       "pill               it_0                            1   \n",
       "                   it_0                            1   \n",
       "\n",
       "                        epoch=00001.pixel_roc.auc epoch=00002.sample_roc.auc  \\\n",
       "normal_class_label it                                                          \n",
       "pill               it_0                  0.794239                   0.721768   \n",
       "                   it_0                  0.640025                   0.506547   \n",
       "\n",
       "                         ... epoch=00019.pixel_roc.auc  \\\n",
       "normal_class_label it    ...                             \n",
       "pill               it_0  ...                     0.708   \n",
       "                   it_0  ...                  0.722918   \n",
       "\n",
       "                        epoch=00049.sample_roc.auc  \\\n",
       "normal_class_label it                                \n",
       "pill               it_0                   0.652482   \n",
       "                   it_0                   0.726678   \n",
       "\n",
       "                        epoch=00049.sample_roc.epoch  \\\n",
       "normal_class_label it                                  \n",
       "pill               it_0                           49   \n",
       "                   it_0                           49   \n",
       "\n",
       "                        epoch=00049.pixel_roc.auc epoch=00099.sample_roc.auc  \\\n",
       "normal_class_label it                                                          \n",
       "pill               it_0                  0.820472                   0.708947   \n",
       "                   it_0                  0.771134                   0.760229   \n",
       "\n",
       "                        epoch=00099.sample_roc.epoch  \\\n",
       "normal_class_label it                                  \n",
       "pill               it_0                           99   \n",
       "                   it_0                           99   \n",
       "\n",
       "                        epoch=00099.pixel_roc.auc epoch=00199.sample_roc.auc  \\\n",
       "normal_class_label it                                                          \n",
       "pill               it_0                  0.854622                   0.736498   \n",
       "                   it_0                  0.797705                   0.774686   \n",
       "\n",
       "                        epoch=00199.sample_roc.epoch epoch=00199.pixel_roc.auc  \n",
       "normal_class_label it                                                           \n",
       "pill               it_0                          199                  0.865321  \n",
       "                   it_0                          199                  0.809816  \n",
       "\n",
       "[2 rows x 30 columns]"
      ]
     },
     "execution_count": 16,
     "metadata": {},
     "output_type": "execute_result"
    }
   ],
   "source": [
    "import copy\n",
    "import pandas as pd\n",
    "\n",
    "try:\n",
    "    print(\"loading df\")\n",
    "    # pandas cannot reload multindex properly\n",
    "    # src: https://stackoverflow.com/a/55474405/9582881\n",
    "    df = pd.read_json(DF_FPATH).set_index(pd.read_json(DF_INDEXNAMES_FPATH)[0].values.tolist())    \n",
    "    \n",
    "except:\n",
    "    print(\"couldn't find df, recomputing\")\n",
    "    \n",
    "    EXPERIMENTS_DIR = Path(\"data/results-snapshots/\")\n",
    "    \n",
    "    # variable\n",
    "    records = {\n",
    "        rec: record\n",
    "        for exp in EXPERIMENTS_DIR.glob(\"*\")\n",
    "        for rec, record in get_all_experiments_data(exp, dataset=\"mvtec\").items()\n",
    "    }\n",
    "    \n",
    "    for _, rec in records.items():\n",
    "                \n",
    "        for epoch, snap_rec in rec[\"snapshots\"].items():\n",
    "            for k, v in snap_rec.items():\n",
    "                rec[f\"{epoch=:05d}.{k}\"] = v\n",
    "        \n",
    "        del rec[\"snapshots\"]\n",
    "        \n",
    "        # get rid of arrays\n",
    "        for k in list(rec.keys()):\n",
    "            if k.endswith(\".tpr\") or k.endswith(\".fpr\") or k.endswith(\".ths\"):\n",
    "                del rec[k]\n",
    "\n",
    "    drop_columns = [\"dir\", \"key\", \"index\", \"normal_class\", \"experiment\"]\n",
    "    df = pd.DataFrame.from_records(data=records).T \\\n",
    "                                    .reset_index() \\\n",
    "                                    .drop(columns=drop_columns) \\\n",
    "                                    .set_index([\"normal_class_label\", \"it\"])\n",
    "    \n",
    "    print(\"saving df\")\n",
    "    # pandas cannot reload multindex properly\n",
    "    # src: https://stackoverflow.com/a/55474405/9582881\n",
    "    # pd.DataFrame(df.index.names).to_json(DF_INDEXNAMES_FPATH)\n",
    "    # df.reset_index().to_json(DF_FPATH)\n",
    "\n",
    "df.head(2)\n",
    "df.tail(2)"
   ]
  },
  {
   "cell_type": "markdown",
   "id": "0fc31e4d-7560-43db-a27f-8d1e0aa89347",
   "metadata": {},
   "source": [
    "## basic checks\n",
    "\n",
    "- number of classes\n",
    "- number of iterations\n"
   ]
  },
  {
   "cell_type": "code",
   "execution_count": 17,
   "id": "9974c375-260a-4dc6-add6-ab55f30486d2",
   "metadata": {},
   "outputs": [
    {
     "data": {
      "text/html": [
       "<div>\n",
       "<style scoped>\n",
       "    .dataframe tbody tr th:only-of-type {\n",
       "        vertical-align: middle;\n",
       "    }\n",
       "\n",
       "    .dataframe tbody tr th {\n",
       "        vertical-align: top;\n",
       "    }\n",
       "\n",
       "    .dataframe thead th {\n",
       "        text-align: right;\n",
       "    }\n",
       "</style>\n",
       "<table border=\"1\" class=\"dataframe\">\n",
       "  <thead>\n",
       "    <tr style=\"text-align: right;\">\n",
       "      <th></th>\n",
       "      <th>normal_class_label</th>\n",
       "      <th>it</th>\n",
       "    </tr>\n",
       "  </thead>\n",
       "  <tbody>\n",
       "    <tr>\n",
       "      <th>count</th>\n",
       "      <td>17</td>\n",
       "      <td>17</td>\n",
       "    </tr>\n",
       "    <tr>\n",
       "      <th>unique</th>\n",
       "      <td>3</td>\n",
       "      <td>1</td>\n",
       "    </tr>\n",
       "    <tr>\n",
       "      <th>top</th>\n",
       "      <td>bottle</td>\n",
       "      <td>it_0</td>\n",
       "    </tr>\n",
       "    <tr>\n",
       "      <th>freq</th>\n",
       "      <td>6</td>\n",
       "      <td>17</td>\n",
       "    </tr>\n",
       "  </tbody>\n",
       "</table>\n",
       "</div>"
      ],
      "text/plain": [
       "       normal_class_label    it\n",
       "count                  17    17\n",
       "unique                  3     1\n",
       "top                bottle  it_0\n",
       "freq                    6    17"
      ]
     },
     "execution_count": 17,
     "metadata": {},
     "output_type": "execute_result"
    }
   ],
   "source": [
    "df.reset_index()[df.index.names].describe()"
   ]
  },
  {
   "cell_type": "code",
   "execution_count": 18,
   "id": "df19228f-660c-4ebc-b816-4fd507da12e8",
   "metadata": {},
   "outputs": [
    {
     "data": {
      "text/html": [
       "<div>\n",
       "<style scoped>\n",
       "    .dataframe tbody tr th:only-of-type {\n",
       "        vertical-align: middle;\n",
       "    }\n",
       "\n",
       "    .dataframe tbody tr th {\n",
       "        vertical-align: top;\n",
       "    }\n",
       "\n",
       "    .dataframe thead tr th {\n",
       "        text-align: left;\n",
       "    }\n",
       "\n",
       "    .dataframe thead tr:last-of-type th {\n",
       "        text-align: right;\n",
       "    }\n",
       "</style>\n",
       "<table border=\"1\" class=\"dataframe\">\n",
       "  <thead>\n",
       "    <tr>\n",
       "      <th></th>\n",
       "      <th colspan=\"4\" halign=\"left\">it</th>\n",
       "    </tr>\n",
       "    <tr>\n",
       "      <th></th>\n",
       "      <th>count</th>\n",
       "      <th>unique</th>\n",
       "      <th>top</th>\n",
       "      <th>freq</th>\n",
       "    </tr>\n",
       "    <tr>\n",
       "      <th>normal_class_label</th>\n",
       "      <th></th>\n",
       "      <th></th>\n",
       "      <th></th>\n",
       "      <th></th>\n",
       "    </tr>\n",
       "  </thead>\n",
       "  <tbody>\n",
       "    <tr>\n",
       "      <th>bottle</th>\n",
       "      <td>6</td>\n",
       "      <td>1</td>\n",
       "      <td>it_0</td>\n",
       "      <td>6</td>\n",
       "    </tr>\n",
       "    <tr>\n",
       "      <th>pill</th>\n",
       "      <td>6</td>\n",
       "      <td>1</td>\n",
       "      <td>it_0</td>\n",
       "      <td>6</td>\n",
       "    </tr>\n",
       "    <tr>\n",
       "      <th>toothbrush</th>\n",
       "      <td>5</td>\n",
       "      <td>1</td>\n",
       "      <td>it_0</td>\n",
       "      <td>5</td>\n",
       "    </tr>\n",
       "  </tbody>\n",
       "</table>\n",
       "</div>"
      ],
      "text/plain": [
       "                      it                  \n",
       "                   count unique   top freq\n",
       "normal_class_label                        \n",
       "bottle                 6      1  it_0    6\n",
       "pill                   6      1  it_0    6\n",
       "toothbrush             5      1  it_0    5"
      ]
     },
     "execution_count": 18,
     "metadata": {},
     "output_type": "execute_result"
    }
   ],
   "source": [
    "df.reset_index().groupby(\"normal_class_label\")[df.index.names[1:]].describe()"
   ]
  },
  {
   "cell_type": "markdown",
   "id": "19c8726c-7d0f-4096-b1ca-30f7e5d6cc52",
   "metadata": {},
   "source": [
    "# plot per experiment"
   ]
  },
  {
   "cell_type": "code",
   "execution_count": 19,
   "id": "1610a37c-b0c1-4e62-a835-a7f4591e0ed7",
   "metadata": {},
   "outputs": [
    {
     "data": {
      "text/html": [
       "<div>\n",
       "<style scoped>\n",
       "    .dataframe tbody tr th:only-of-type {\n",
       "        vertical-align: middle;\n",
       "    }\n",
       "\n",
       "    .dataframe tbody tr th {\n",
       "        vertical-align: top;\n",
       "    }\n",
       "\n",
       "    .dataframe thead th {\n",
       "        text-align: right;\n",
       "    }\n",
       "</style>\n",
       "<table border=\"1\" class=\"dataframe\">\n",
       "  <thead>\n",
       "    <tr style=\"text-align: right;\">\n",
       "      <th></th>\n",
       "      <th></th>\n",
       "      <th>training_timedelta</th>\n",
       "      <th>sample_roc.auc</th>\n",
       "      <th>pixel_roc.auc</th>\n",
       "      <th>epoch=00000.sample_roc.auc</th>\n",
       "      <th>epoch=00000.sample_roc.epoch</th>\n",
       "      <th>epoch=00000.pixel_roc.auc</th>\n",
       "      <th>epoch=00001.sample_roc.auc</th>\n",
       "      <th>epoch=00001.sample_roc.epoch</th>\n",
       "      <th>epoch=00001.pixel_roc.auc</th>\n",
       "      <th>epoch=00002.sample_roc.auc</th>\n",
       "      <th>...</th>\n",
       "      <th>epoch=00019.pixel_roc.auc</th>\n",
       "      <th>epoch=00049.sample_roc.auc</th>\n",
       "      <th>epoch=00049.sample_roc.epoch</th>\n",
       "      <th>epoch=00049.pixel_roc.auc</th>\n",
       "      <th>epoch=00099.sample_roc.auc</th>\n",
       "      <th>epoch=00099.sample_roc.epoch</th>\n",
       "      <th>epoch=00099.pixel_roc.auc</th>\n",
       "      <th>epoch=00199.sample_roc.auc</th>\n",
       "      <th>epoch=00199.sample_roc.epoch</th>\n",
       "      <th>epoch=00199.pixel_roc.auc</th>\n",
       "    </tr>\n",
       "    <tr>\n",
       "      <th>normal_class_label</th>\n",
       "      <th>it</th>\n",
       "      <th></th>\n",
       "      <th></th>\n",
       "      <th></th>\n",
       "      <th></th>\n",
       "      <th></th>\n",
       "      <th></th>\n",
       "      <th></th>\n",
       "      <th></th>\n",
       "      <th></th>\n",
       "      <th></th>\n",
       "      <th></th>\n",
       "      <th></th>\n",
       "      <th></th>\n",
       "      <th></th>\n",
       "      <th></th>\n",
       "      <th></th>\n",
       "      <th></th>\n",
       "      <th></th>\n",
       "      <th></th>\n",
       "      <th></th>\n",
       "      <th></th>\n",
       "    </tr>\n",
       "  </thead>\n",
       "  <tbody>\n",
       "    <tr>\n",
       "      <th>toothbrush</th>\n",
       "      <th>it_0</th>\n",
       "      <td>0 days 01:02:43</td>\n",
       "      <td>0.441667</td>\n",
       "      <td>0.566823</td>\n",
       "      <td>0.383333</td>\n",
       "      <td>0</td>\n",
       "      <td>0.442976</td>\n",
       "      <td>0.372222</td>\n",
       "      <td>1</td>\n",
       "      <td>0.496424</td>\n",
       "      <td>0.375</td>\n",
       "      <td>...</td>\n",
       "      <td>0.655371</td>\n",
       "      <td>0.447222</td>\n",
       "      <td>49</td>\n",
       "      <td>0.638918</td>\n",
       "      <td>0.444444</td>\n",
       "      <td>99</td>\n",
       "      <td>0.574155</td>\n",
       "      <td>0.441667</td>\n",
       "      <td>199</td>\n",
       "      <td>0.566823</td>\n",
       "    </tr>\n",
       "    <tr>\n",
       "      <th>bottle</th>\n",
       "      <th>it_0</th>\n",
       "      <td>0 days 03:07:15</td>\n",
       "      <td>0.776984</td>\n",
       "      <td>0.84352</td>\n",
       "      <td>0.437302</td>\n",
       "      <td>0</td>\n",
       "      <td>0.487539</td>\n",
       "      <td>0.429365</td>\n",
       "      <td>1</td>\n",
       "      <td>0.509645</td>\n",
       "      <td>0.477778</td>\n",
       "      <td>...</td>\n",
       "      <td>0.626321</td>\n",
       "      <td>0.652381</td>\n",
       "      <td>49</td>\n",
       "      <td>0.769711</td>\n",
       "      <td>0.734921</td>\n",
       "      <td>99</td>\n",
       "      <td>0.82361</td>\n",
       "      <td>0.776984</td>\n",
       "      <td>199</td>\n",
       "      <td>0.84352</td>\n",
       "    </tr>\n",
       "    <tr>\n",
       "      <th>toothbrush</th>\n",
       "      <th>it_0</th>\n",
       "      <td>0 days 01:05:16</td>\n",
       "      <td>0.575</td>\n",
       "      <td>0.658524</td>\n",
       "      <td>0.686111</td>\n",
       "      <td>0</td>\n",
       "      <td>0.584892</td>\n",
       "      <td>0.483333</td>\n",
       "      <td>1</td>\n",
       "      <td>0.621517</td>\n",
       "      <td>0.486111</td>\n",
       "      <td>...</td>\n",
       "      <td>0.739722</td>\n",
       "      <td>0.608333</td>\n",
       "      <td>49</td>\n",
       "      <td>0.742534</td>\n",
       "      <td>0.613889</td>\n",
       "      <td>99</td>\n",
       "      <td>0.650239</td>\n",
       "      <td>0.575</td>\n",
       "      <td>199</td>\n",
       "      <td>0.658524</td>\n",
       "    </tr>\n",
       "    <tr>\n",
       "      <th rowspan=\"2\" valign=\"top\">bottle</th>\n",
       "      <th>it_0</th>\n",
       "      <td>0 days 03:04:31</td>\n",
       "      <td>0.792063</td>\n",
       "      <td>0.768532</td>\n",
       "      <td>0.254762</td>\n",
       "      <td>0</td>\n",
       "      <td>0.536866</td>\n",
       "      <td>0.253175</td>\n",
       "      <td>1</td>\n",
       "      <td>0.55115</td>\n",
       "      <td>0.259524</td>\n",
       "      <td>...</td>\n",
       "      <td>0.587303</td>\n",
       "      <td>0.763492</td>\n",
       "      <td>49</td>\n",
       "      <td>0.705485</td>\n",
       "      <td>0.780159</td>\n",
       "      <td>99</td>\n",
       "      <td>0.749496</td>\n",
       "      <td>0.792063</td>\n",
       "      <td>199</td>\n",
       "      <td>0.768532</td>\n",
       "    </tr>\n",
       "    <tr>\n",
       "      <th>it_0</th>\n",
       "      <td>0 days 03:05:33</td>\n",
       "      <td>0.793651</td>\n",
       "      <td>0.766604</td>\n",
       "      <td>0.557937</td>\n",
       "      <td>0</td>\n",
       "      <td>0.655776</td>\n",
       "      <td>0.553175</td>\n",
       "      <td>1</td>\n",
       "      <td>0.677146</td>\n",
       "      <td>0.58254</td>\n",
       "      <td>...</td>\n",
       "      <td>0.555521</td>\n",
       "      <td>0.756349</td>\n",
       "      <td>49</td>\n",
       "      <td>0.669671</td>\n",
       "      <td>0.77619</td>\n",
       "      <td>99</td>\n",
       "      <td>0.735594</td>\n",
       "      <td>0.793651</td>\n",
       "      <td>199</td>\n",
       "      <td>0.766604</td>\n",
       "    </tr>\n",
       "    <tr>\n",
       "      <th rowspan=\"3\" valign=\"top\">pill</th>\n",
       "      <th>it_0</th>\n",
       "      <td>0 days 04:08:17</td>\n",
       "      <td>0.679487</td>\n",
       "      <td>0.87943</td>\n",
       "      <td>0.41162</td>\n",
       "      <td>0</td>\n",
       "      <td>0.619958</td>\n",
       "      <td>0.461538</td>\n",
       "      <td>1</td>\n",
       "      <td>0.692585</td>\n",
       "      <td>0.77305</td>\n",
       "      <td>...</td>\n",
       "      <td>0.753698</td>\n",
       "      <td>0.582379</td>\n",
       "      <td>49</td>\n",
       "      <td>0.844443</td>\n",
       "      <td>0.650846</td>\n",
       "      <td>99</td>\n",
       "      <td>0.870854</td>\n",
       "      <td>0.679487</td>\n",
       "      <td>199</td>\n",
       "      <td>0.87943</td>\n",
       "    </tr>\n",
       "    <tr>\n",
       "      <th>it_0</th>\n",
       "      <td>0 days 04:12:10</td>\n",
       "      <td>0.759411</td>\n",
       "      <td>0.874106</td>\n",
       "      <td>0.668303</td>\n",
       "      <td>0</td>\n",
       "      <td>0.719096</td>\n",
       "      <td>0.680033</td>\n",
       "      <td>1</td>\n",
       "      <td>0.773645</td>\n",
       "      <td>0.719585</td>\n",
       "      <td>...</td>\n",
       "      <td>0.720391</td>\n",
       "      <td>0.645936</td>\n",
       "      <td>49</td>\n",
       "      <td>0.826866</td>\n",
       "      <td>0.723404</td>\n",
       "      <td>99</td>\n",
       "      <td>0.861854</td>\n",
       "      <td>0.759411</td>\n",
       "      <td>199</td>\n",
       "      <td>0.874106</td>\n",
       "    </tr>\n",
       "    <tr>\n",
       "      <th>it_0</th>\n",
       "      <td>0 days 04:06:37</td>\n",
       "      <td>0.712493</td>\n",
       "      <td>0.814896</td>\n",
       "      <td>0.477632</td>\n",
       "      <td>0</td>\n",
       "      <td>0.580954</td>\n",
       "      <td>0.526459</td>\n",
       "      <td>1</td>\n",
       "      <td>0.632942</td>\n",
       "      <td>0.590016</td>\n",
       "      <td>...</td>\n",
       "      <td>0.751892</td>\n",
       "      <td>0.67485</td>\n",
       "      <td>49</td>\n",
       "      <td>0.789665</td>\n",
       "      <td>0.695581</td>\n",
       "      <td>99</td>\n",
       "      <td>0.806999</td>\n",
       "      <td>0.712493</td>\n",
       "      <td>199</td>\n",
       "      <td>0.814896</td>\n",
       "    </tr>\n",
       "    <tr>\n",
       "      <th rowspan=\"3\" valign=\"top\">toothbrush</th>\n",
       "      <th>it_0</th>\n",
       "      <td>0 days 01:04:18</td>\n",
       "      <td>0.733333</td>\n",
       "      <td>0.659851</td>\n",
       "      <td>0.436111</td>\n",
       "      <td>0</td>\n",
       "      <td>0.702456</td>\n",
       "      <td>0.425</td>\n",
       "      <td>1</td>\n",
       "      <td>0.74553</td>\n",
       "      <td>0.427778</td>\n",
       "      <td>...</td>\n",
       "      <td>0.845288</td>\n",
       "      <td>0.794444</td>\n",
       "      <td>49</td>\n",
       "      <td>0.833852</td>\n",
       "      <td>0.816667</td>\n",
       "      <td>99</td>\n",
       "      <td>0.637239</td>\n",
       "      <td>0.733333</td>\n",
       "      <td>199</td>\n",
       "      <td>0.659851</td>\n",
       "    </tr>\n",
       "    <tr>\n",
       "      <th>it_0</th>\n",
       "      <td>0 days 01:02:37</td>\n",
       "      <td>0.611111</td>\n",
       "      <td>0.824026</td>\n",
       "      <td>0.447222</td>\n",
       "      <td>0</td>\n",
       "      <td>0.591177</td>\n",
       "      <td>0.45</td>\n",
       "      <td>1</td>\n",
       "      <td>0.671588</td>\n",
       "      <td>0.455556</td>\n",
       "      <td>...</td>\n",
       "      <td>0.832849</td>\n",
       "      <td>0.7</td>\n",
       "      <td>49</td>\n",
       "      <td>0.881608</td>\n",
       "      <td>0.65</td>\n",
       "      <td>99</td>\n",
       "      <td>0.82984</td>\n",
       "      <td>0.611111</td>\n",
       "      <td>199</td>\n",
       "      <td>0.824026</td>\n",
       "    </tr>\n",
       "    <tr>\n",
       "      <th>it_0</th>\n",
       "      <td>0 days 01:02:43</td>\n",
       "      <td>0.638889</td>\n",
       "      <td>0.824208</td>\n",
       "      <td>0.525</td>\n",
       "      <td>0</td>\n",
       "      <td>0.724635</td>\n",
       "      <td>0.511111</td>\n",
       "      <td>1</td>\n",
       "      <td>0.770005</td>\n",
       "      <td>0.508333</td>\n",
       "      <td>...</td>\n",
       "      <td>0.835145</td>\n",
       "      <td>0.616667</td>\n",
       "      <td>49</td>\n",
       "      <td>0.838799</td>\n",
       "      <td>0.630556</td>\n",
       "      <td>99</td>\n",
       "      <td>0.826367</td>\n",
       "      <td>0.638889</td>\n",
       "      <td>199</td>\n",
       "      <td>0.824208</td>\n",
       "    </tr>\n",
       "    <tr>\n",
       "      <th rowspan=\"3\" valign=\"top\">bottle</th>\n",
       "      <th>it_0</th>\n",
       "      <td>0 days 03:03:46</td>\n",
       "      <td>0.7</td>\n",
       "      <td>0.647109</td>\n",
       "      <td>0.487302</td>\n",
       "      <td>0</td>\n",
       "      <td>0.601397</td>\n",
       "      <td>0.492063</td>\n",
       "      <td>1</td>\n",
       "      <td>0.619548</td>\n",
       "      <td>0.530952</td>\n",
       "      <td>...</td>\n",
       "      <td>0.502244</td>\n",
       "      <td>0.661905</td>\n",
       "      <td>49</td>\n",
       "      <td>0.573283</td>\n",
       "      <td>0.680159</td>\n",
       "      <td>99</td>\n",
       "      <td>0.621725</td>\n",
       "      <td>0.7</td>\n",
       "      <td>199</td>\n",
       "      <td>0.647109</td>\n",
       "    </tr>\n",
       "    <tr>\n",
       "      <th>it_0</th>\n",
       "      <td>0 days 03:04:07</td>\n",
       "      <td>0.645238</td>\n",
       "      <td>0.711322</td>\n",
       "      <td>0.394444</td>\n",
       "      <td>0</td>\n",
       "      <td>0.555213</td>\n",
       "      <td>0.403968</td>\n",
       "      <td>1</td>\n",
       "      <td>0.57076</td>\n",
       "      <td>0.440476</td>\n",
       "      <td>...</td>\n",
       "      <td>0.51313</td>\n",
       "      <td>0.565873</td>\n",
       "      <td>49</td>\n",
       "      <td>0.606712</td>\n",
       "      <td>0.604762</td>\n",
       "      <td>99</td>\n",
       "      <td>0.674317</td>\n",
       "      <td>0.645238</td>\n",
       "      <td>199</td>\n",
       "      <td>0.711322</td>\n",
       "    </tr>\n",
       "    <tr>\n",
       "      <th>it_0</th>\n",
       "      <td>0 days 03:03:43</td>\n",
       "      <td>0.835714</td>\n",
       "      <td>0.781441</td>\n",
       "      <td>0.586508</td>\n",
       "      <td>0</td>\n",
       "      <td>0.598798</td>\n",
       "      <td>0.602381</td>\n",
       "      <td>1</td>\n",
       "      <td>0.62407</td>\n",
       "      <td>0.633333</td>\n",
       "      <td>...</td>\n",
       "      <td>0.538181</td>\n",
       "      <td>0.748413</td>\n",
       "      <td>49</td>\n",
       "      <td>0.695491</td>\n",
       "      <td>0.813492</td>\n",
       "      <td>99</td>\n",
       "      <td>0.758241</td>\n",
       "      <td>0.835714</td>\n",
       "      <td>199</td>\n",
       "      <td>0.781441</td>\n",
       "    </tr>\n",
       "    <tr>\n",
       "      <th rowspan=\"3\" valign=\"top\">pill</th>\n",
       "      <th>it_0</th>\n",
       "      <td>0 days 04:04:35</td>\n",
       "      <td>0.637752</td>\n",
       "      <td>0.808848</td>\n",
       "      <td>0.471086</td>\n",
       "      <td>0</td>\n",
       "      <td>0.564941</td>\n",
       "      <td>0.483906</td>\n",
       "      <td>1</td>\n",
       "      <td>0.642373</td>\n",
       "      <td>0.530278</td>\n",
       "      <td>...</td>\n",
       "      <td>0.729975</td>\n",
       "      <td>0.602837</td>\n",
       "      <td>49</td>\n",
       "      <td>0.773385</td>\n",
       "      <td>0.627114</td>\n",
       "      <td>99</td>\n",
       "      <td>0.79646</td>\n",
       "      <td>0.637752</td>\n",
       "      <td>199</td>\n",
       "      <td>0.808848</td>\n",
       "    </tr>\n",
       "    <tr>\n",
       "      <th>it_0</th>\n",
       "      <td>0 days 04:05:53</td>\n",
       "      <td>0.736498</td>\n",
       "      <td>0.865321</td>\n",
       "      <td>0.58838</td>\n",
       "      <td>0</td>\n",
       "      <td>0.725127</td>\n",
       "      <td>0.677578</td>\n",
       "      <td>1</td>\n",
       "      <td>0.794239</td>\n",
       "      <td>0.721768</td>\n",
       "      <td>...</td>\n",
       "      <td>0.708</td>\n",
       "      <td>0.652482</td>\n",
       "      <td>49</td>\n",
       "      <td>0.820472</td>\n",
       "      <td>0.708947</td>\n",
       "      <td>99</td>\n",
       "      <td>0.854622</td>\n",
       "      <td>0.736498</td>\n",
       "      <td>199</td>\n",
       "      <td>0.865321</td>\n",
       "    </tr>\n",
       "    <tr>\n",
       "      <th>it_0</th>\n",
       "      <td>0 days 04:05:45</td>\n",
       "      <td>0.774686</td>\n",
       "      <td>0.809816</td>\n",
       "      <td>0.458811</td>\n",
       "      <td>0</td>\n",
       "      <td>0.556626</td>\n",
       "      <td>0.499454</td>\n",
       "      <td>1</td>\n",
       "      <td>0.640025</td>\n",
       "      <td>0.506547</td>\n",
       "      <td>...</td>\n",
       "      <td>0.722918</td>\n",
       "      <td>0.726678</td>\n",
       "      <td>49</td>\n",
       "      <td>0.771134</td>\n",
       "      <td>0.760229</td>\n",
       "      <td>99</td>\n",
       "      <td>0.797705</td>\n",
       "      <td>0.774686</td>\n",
       "      <td>199</td>\n",
       "      <td>0.809816</td>\n",
       "    </tr>\n",
       "  </tbody>\n",
       "</table>\n",
       "<p>17 rows × 30 columns</p>\n",
       "</div>"
      ],
      "text/plain": [
       "                        training_timedelta sample_roc.auc pixel_roc.auc  \\\n",
       "normal_class_label it                                                     \n",
       "toothbrush         it_0    0 days 01:02:43       0.441667      0.566823   \n",
       "bottle             it_0    0 days 03:07:15       0.776984       0.84352   \n",
       "toothbrush         it_0    0 days 01:05:16          0.575      0.658524   \n",
       "bottle             it_0    0 days 03:04:31       0.792063      0.768532   \n",
       "                   it_0    0 days 03:05:33       0.793651      0.766604   \n",
       "pill               it_0    0 days 04:08:17       0.679487       0.87943   \n",
       "                   it_0    0 days 04:12:10       0.759411      0.874106   \n",
       "                   it_0    0 days 04:06:37       0.712493      0.814896   \n",
       "toothbrush         it_0    0 days 01:04:18       0.733333      0.659851   \n",
       "                   it_0    0 days 01:02:37       0.611111      0.824026   \n",
       "                   it_0    0 days 01:02:43       0.638889      0.824208   \n",
       "bottle             it_0    0 days 03:03:46            0.7      0.647109   \n",
       "                   it_0    0 days 03:04:07       0.645238      0.711322   \n",
       "                   it_0    0 days 03:03:43       0.835714      0.781441   \n",
       "pill               it_0    0 days 04:04:35       0.637752      0.808848   \n",
       "                   it_0    0 days 04:05:53       0.736498      0.865321   \n",
       "                   it_0    0 days 04:05:45       0.774686      0.809816   \n",
       "\n",
       "                        epoch=00000.sample_roc.auc  \\\n",
       "normal_class_label it                                \n",
       "toothbrush         it_0                   0.383333   \n",
       "bottle             it_0                   0.437302   \n",
       "toothbrush         it_0                   0.686111   \n",
       "bottle             it_0                   0.254762   \n",
       "                   it_0                   0.557937   \n",
       "pill               it_0                    0.41162   \n",
       "                   it_0                   0.668303   \n",
       "                   it_0                   0.477632   \n",
       "toothbrush         it_0                   0.436111   \n",
       "                   it_0                   0.447222   \n",
       "                   it_0                      0.525   \n",
       "bottle             it_0                   0.487302   \n",
       "                   it_0                   0.394444   \n",
       "                   it_0                   0.586508   \n",
       "pill               it_0                   0.471086   \n",
       "                   it_0                    0.58838   \n",
       "                   it_0                   0.458811   \n",
       "\n",
       "                        epoch=00000.sample_roc.epoch  \\\n",
       "normal_class_label it                                  \n",
       "toothbrush         it_0                            0   \n",
       "bottle             it_0                            0   \n",
       "toothbrush         it_0                            0   \n",
       "bottle             it_0                            0   \n",
       "                   it_0                            0   \n",
       "pill               it_0                            0   \n",
       "                   it_0                            0   \n",
       "                   it_0                            0   \n",
       "toothbrush         it_0                            0   \n",
       "                   it_0                            0   \n",
       "                   it_0                            0   \n",
       "bottle             it_0                            0   \n",
       "                   it_0                            0   \n",
       "                   it_0                            0   \n",
       "pill               it_0                            0   \n",
       "                   it_0                            0   \n",
       "                   it_0                            0   \n",
       "\n",
       "                        epoch=00000.pixel_roc.auc epoch=00001.sample_roc.auc  \\\n",
       "normal_class_label it                                                          \n",
       "toothbrush         it_0                  0.442976                   0.372222   \n",
       "bottle             it_0                  0.487539                   0.429365   \n",
       "toothbrush         it_0                  0.584892                   0.483333   \n",
       "bottle             it_0                  0.536866                   0.253175   \n",
       "                   it_0                  0.655776                   0.553175   \n",
       "pill               it_0                  0.619958                   0.461538   \n",
       "                   it_0                  0.719096                   0.680033   \n",
       "                   it_0                  0.580954                   0.526459   \n",
       "toothbrush         it_0                  0.702456                      0.425   \n",
       "                   it_0                  0.591177                       0.45   \n",
       "                   it_0                  0.724635                   0.511111   \n",
       "bottle             it_0                  0.601397                   0.492063   \n",
       "                   it_0                  0.555213                   0.403968   \n",
       "                   it_0                  0.598798                   0.602381   \n",
       "pill               it_0                  0.564941                   0.483906   \n",
       "                   it_0                  0.725127                   0.677578   \n",
       "                   it_0                  0.556626                   0.499454   \n",
       "\n",
       "                        epoch=00001.sample_roc.epoch  \\\n",
       "normal_class_label it                                  \n",
       "toothbrush         it_0                            1   \n",
       "bottle             it_0                            1   \n",
       "toothbrush         it_0                            1   \n",
       "bottle             it_0                            1   \n",
       "                   it_0                            1   \n",
       "pill               it_0                            1   \n",
       "                   it_0                            1   \n",
       "                   it_0                            1   \n",
       "toothbrush         it_0                            1   \n",
       "                   it_0                            1   \n",
       "                   it_0                            1   \n",
       "bottle             it_0                            1   \n",
       "                   it_0                            1   \n",
       "                   it_0                            1   \n",
       "pill               it_0                            1   \n",
       "                   it_0                            1   \n",
       "                   it_0                            1   \n",
       "\n",
       "                        epoch=00001.pixel_roc.auc epoch=00002.sample_roc.auc  \\\n",
       "normal_class_label it                                                          \n",
       "toothbrush         it_0                  0.496424                      0.375   \n",
       "bottle             it_0                  0.509645                   0.477778   \n",
       "toothbrush         it_0                  0.621517                   0.486111   \n",
       "bottle             it_0                   0.55115                   0.259524   \n",
       "                   it_0                  0.677146                    0.58254   \n",
       "pill               it_0                  0.692585                    0.77305   \n",
       "                   it_0                  0.773645                   0.719585   \n",
       "                   it_0                  0.632942                   0.590016   \n",
       "toothbrush         it_0                   0.74553                   0.427778   \n",
       "                   it_0                  0.671588                   0.455556   \n",
       "                   it_0                  0.770005                   0.508333   \n",
       "bottle             it_0                  0.619548                   0.530952   \n",
       "                   it_0                   0.57076                   0.440476   \n",
       "                   it_0                   0.62407                   0.633333   \n",
       "pill               it_0                  0.642373                   0.530278   \n",
       "                   it_0                  0.794239                   0.721768   \n",
       "                   it_0                  0.640025                   0.506547   \n",
       "\n",
       "                         ... epoch=00019.pixel_roc.auc  \\\n",
       "normal_class_label it    ...                             \n",
       "toothbrush         it_0  ...                  0.655371   \n",
       "bottle             it_0  ...                  0.626321   \n",
       "toothbrush         it_0  ...                  0.739722   \n",
       "bottle             it_0  ...                  0.587303   \n",
       "                   it_0  ...                  0.555521   \n",
       "pill               it_0  ...                  0.753698   \n",
       "                   it_0  ...                  0.720391   \n",
       "                   it_0  ...                  0.751892   \n",
       "toothbrush         it_0  ...                  0.845288   \n",
       "                   it_0  ...                  0.832849   \n",
       "                   it_0  ...                  0.835145   \n",
       "bottle             it_0  ...                  0.502244   \n",
       "                   it_0  ...                   0.51313   \n",
       "                   it_0  ...                  0.538181   \n",
       "pill               it_0  ...                  0.729975   \n",
       "                   it_0  ...                     0.708   \n",
       "                   it_0  ...                  0.722918   \n",
       "\n",
       "                        epoch=00049.sample_roc.auc  \\\n",
       "normal_class_label it                                \n",
       "toothbrush         it_0                   0.447222   \n",
       "bottle             it_0                   0.652381   \n",
       "toothbrush         it_0                   0.608333   \n",
       "bottle             it_0                   0.763492   \n",
       "                   it_0                   0.756349   \n",
       "pill               it_0                   0.582379   \n",
       "                   it_0                   0.645936   \n",
       "                   it_0                    0.67485   \n",
       "toothbrush         it_0                   0.794444   \n",
       "                   it_0                        0.7   \n",
       "                   it_0                   0.616667   \n",
       "bottle             it_0                   0.661905   \n",
       "                   it_0                   0.565873   \n",
       "                   it_0                   0.748413   \n",
       "pill               it_0                   0.602837   \n",
       "                   it_0                   0.652482   \n",
       "                   it_0                   0.726678   \n",
       "\n",
       "                        epoch=00049.sample_roc.epoch  \\\n",
       "normal_class_label it                                  \n",
       "toothbrush         it_0                           49   \n",
       "bottle             it_0                           49   \n",
       "toothbrush         it_0                           49   \n",
       "bottle             it_0                           49   \n",
       "                   it_0                           49   \n",
       "pill               it_0                           49   \n",
       "                   it_0                           49   \n",
       "                   it_0                           49   \n",
       "toothbrush         it_0                           49   \n",
       "                   it_0                           49   \n",
       "                   it_0                           49   \n",
       "bottle             it_0                           49   \n",
       "                   it_0                           49   \n",
       "                   it_0                           49   \n",
       "pill               it_0                           49   \n",
       "                   it_0                           49   \n",
       "                   it_0                           49   \n",
       "\n",
       "                        epoch=00049.pixel_roc.auc epoch=00099.sample_roc.auc  \\\n",
       "normal_class_label it                                                          \n",
       "toothbrush         it_0                  0.638918                   0.444444   \n",
       "bottle             it_0                  0.769711                   0.734921   \n",
       "toothbrush         it_0                  0.742534                   0.613889   \n",
       "bottle             it_0                  0.705485                   0.780159   \n",
       "                   it_0                  0.669671                    0.77619   \n",
       "pill               it_0                  0.844443                   0.650846   \n",
       "                   it_0                  0.826866                   0.723404   \n",
       "                   it_0                  0.789665                   0.695581   \n",
       "toothbrush         it_0                  0.833852                   0.816667   \n",
       "                   it_0                  0.881608                       0.65   \n",
       "                   it_0                  0.838799                   0.630556   \n",
       "bottle             it_0                  0.573283                   0.680159   \n",
       "                   it_0                  0.606712                   0.604762   \n",
       "                   it_0                  0.695491                   0.813492   \n",
       "pill               it_0                  0.773385                   0.627114   \n",
       "                   it_0                  0.820472                   0.708947   \n",
       "                   it_0                  0.771134                   0.760229   \n",
       "\n",
       "                        epoch=00099.sample_roc.epoch  \\\n",
       "normal_class_label it                                  \n",
       "toothbrush         it_0                           99   \n",
       "bottle             it_0                           99   \n",
       "toothbrush         it_0                           99   \n",
       "bottle             it_0                           99   \n",
       "                   it_0                           99   \n",
       "pill               it_0                           99   \n",
       "                   it_0                           99   \n",
       "                   it_0                           99   \n",
       "toothbrush         it_0                           99   \n",
       "                   it_0                           99   \n",
       "                   it_0                           99   \n",
       "bottle             it_0                           99   \n",
       "                   it_0                           99   \n",
       "                   it_0                           99   \n",
       "pill               it_0                           99   \n",
       "                   it_0                           99   \n",
       "                   it_0                           99   \n",
       "\n",
       "                        epoch=00099.pixel_roc.auc epoch=00199.sample_roc.auc  \\\n",
       "normal_class_label it                                                          \n",
       "toothbrush         it_0                  0.574155                   0.441667   \n",
       "bottle             it_0                   0.82361                   0.776984   \n",
       "toothbrush         it_0                  0.650239                      0.575   \n",
       "bottle             it_0                  0.749496                   0.792063   \n",
       "                   it_0                  0.735594                   0.793651   \n",
       "pill               it_0                  0.870854                   0.679487   \n",
       "                   it_0                  0.861854                   0.759411   \n",
       "                   it_0                  0.806999                   0.712493   \n",
       "toothbrush         it_0                  0.637239                   0.733333   \n",
       "                   it_0                   0.82984                   0.611111   \n",
       "                   it_0                  0.826367                   0.638889   \n",
       "bottle             it_0                  0.621725                        0.7   \n",
       "                   it_0                  0.674317                   0.645238   \n",
       "                   it_0                  0.758241                   0.835714   \n",
       "pill               it_0                   0.79646                   0.637752   \n",
       "                   it_0                  0.854622                   0.736498   \n",
       "                   it_0                  0.797705                   0.774686   \n",
       "\n",
       "                        epoch=00199.sample_roc.epoch epoch=00199.pixel_roc.auc  \n",
       "normal_class_label it                                                           \n",
       "toothbrush         it_0                          199                  0.566823  \n",
       "bottle             it_0                          199                   0.84352  \n",
       "toothbrush         it_0                          199                  0.658524  \n",
       "bottle             it_0                          199                  0.768532  \n",
       "                   it_0                          199                  0.766604  \n",
       "pill               it_0                          199                   0.87943  \n",
       "                   it_0                          199                  0.874106  \n",
       "                   it_0                          199                  0.814896  \n",
       "toothbrush         it_0                          199                  0.659851  \n",
       "                   it_0                          199                  0.824026  \n",
       "                   it_0                          199                  0.824208  \n",
       "bottle             it_0                          199                  0.647109  \n",
       "                   it_0                          199                  0.711322  \n",
       "                   it_0                          199                  0.781441  \n",
       "pill               it_0                          199                  0.808848  \n",
       "                   it_0                          199                  0.865321  \n",
       "                   it_0                          199                  0.809816  \n",
       "\n",
       "[17 rows x 30 columns]"
      ]
     },
     "execution_count": 19,
     "metadata": {},
     "output_type": "execute_result"
    }
   ],
   "source": [
    "df"
   ]
  },
  {
   "cell_type": "code",
   "execution_count": 32,
   "id": "8802e943-d35c-4d74-9ffa-8272ae7872c2",
   "metadata": {},
   "outputs": [
    {
     "data": {
      "text/plain": [
       "(0.0, 1.0)"
      ]
     },
     "execution_count": 32,
     "metadata": {},
     "output_type": "execute_result"
    }
   ],
   "source": [
    "ax_normalized_max.get_ylim()"
   ]
  },
  {
   "cell_type": "code",
   "execution_count": 34,
   "id": "00e0d6cc-96ad-4900-976d-1432c720266c",
   "metadata": {},
   "outputs": [
    {
     "data": {
      "text/plain": [
       "[<matplotlib.lines.Line2D at 0x7f75d5eff1c0>]"
      ]
     },
     "execution_count": 34,
     "metadata": {},
     "output_type": "execute_result"
    },
    {
     "data": {
      "text/plain": [
       "Text(0.5, 1.0, \"('toothbrush', 'it_0')\")"
      ]
     },
     "execution_count": 34,
     "metadata": {},
     "output_type": "execute_result"
    },
    {
     "data": {
      "text/plain": [
       "(0.0, 1.0)"
      ]
     },
     "execution_count": 34,
     "metadata": {},
     "output_type": "execute_result"
    },
    {
     "data": {
      "text/plain": [
       "[<matplotlib.lines.Line2D at 0x7f75d5eff610>]"
      ]
     },
     "execution_count": 34,
     "metadata": {},
     "output_type": "execute_result"
    },
    {
     "data": {
      "text/plain": [
       "Text(0.5, 1.0, \"('toothbrush', 'it_0') normalized (last)\")"
      ]
     },
     "execution_count": 34,
     "metadata": {},
     "output_type": "execute_result"
    },
    {
     "data": {
      "text/plain": [
       "[<matplotlib.lines.Line2D at 0x7f75d5eff6d0>]"
      ]
     },
     "execution_count": 34,
     "metadata": {},
     "output_type": "execute_result"
    },
    {
     "data": {
      "text/plain": [
       "Text(0.5, 1.0, \"('toothbrush', 'it_0') normalized (max)\")"
      ]
     },
     "execution_count": 34,
     "metadata": {},
     "output_type": "execute_result"
    },
    {
     "data": {
      "text/plain": [
       "[<matplotlib.lines.Line2D at 0x7f75d5effb80>]"
      ]
     },
     "execution_count": 34,
     "metadata": {},
     "output_type": "execute_result"
    },
    {
     "data": {
      "text/plain": [
       "Text(0.5, 1.0, \"('bottle', 'it_0')\")"
      ]
     },
     "execution_count": 34,
     "metadata": {},
     "output_type": "execute_result"
    },
    {
     "data": {
      "text/plain": [
       "(0.0, 1.0)"
      ]
     },
     "execution_count": 34,
     "metadata": {},
     "output_type": "execute_result"
    },
    {
     "data": {
      "text/plain": [
       "[<matplotlib.lines.Line2D at 0x7f75d5efff40>]"
      ]
     },
     "execution_count": 34,
     "metadata": {},
     "output_type": "execute_result"
    },
    {
     "data": {
      "text/plain": [
       "Text(0.5, 1.0, \"('bottle', 'it_0') normalized (last)\")"
      ]
     },
     "execution_count": 34,
     "metadata": {},
     "output_type": "execute_result"
    },
    {
     "data": {
      "text/plain": [
       "[<matplotlib.lines.Line2D at 0x7f75d5f09070>]"
      ]
     },
     "execution_count": 34,
     "metadata": {},
     "output_type": "execute_result"
    },
    {
     "data": {
      "text/plain": [
       "Text(0.5, 1.0, \"('bottle', 'it_0') normalized (max)\")"
      ]
     },
     "execution_count": 34,
     "metadata": {},
     "output_type": "execute_result"
    },
    {
     "data": {
      "text/plain": [
       "[<matplotlib.lines.Line2D at 0x7f75d5f09490>]"
      ]
     },
     "execution_count": 34,
     "metadata": {},
     "output_type": "execute_result"
    },
    {
     "data": {
      "text/plain": [
       "Text(0.5, 1.0, \"('toothbrush', 'it_0')\")"
      ]
     },
     "execution_count": 34,
     "metadata": {},
     "output_type": "execute_result"
    },
    {
     "data": {
      "text/plain": [
       "(0.0, 1.0)"
      ]
     },
     "execution_count": 34,
     "metadata": {},
     "output_type": "execute_result"
    },
    {
     "data": {
      "text/plain": [
       "[<matplotlib.lines.Line2D at 0x7f75d5f097f0>]"
      ]
     },
     "execution_count": 34,
     "metadata": {},
     "output_type": "execute_result"
    },
    {
     "data": {
      "text/plain": [
       "Text(0.5, 1.0, \"('toothbrush', 'it_0') normalized (last)\")"
      ]
     },
     "execution_count": 34,
     "metadata": {},
     "output_type": "execute_result"
    },
    {
     "data": {
      "text/plain": [
       "[<matplotlib.lines.Line2D at 0x7f75d5f09850>]"
      ]
     },
     "execution_count": 34,
     "metadata": {},
     "output_type": "execute_result"
    },
    {
     "data": {
      "text/plain": [
       "Text(0.5, 1.0, \"('toothbrush', 'it_0') normalized (max)\")"
      ]
     },
     "execution_count": 34,
     "metadata": {},
     "output_type": "execute_result"
    },
    {
     "data": {
      "text/plain": [
       "[<matplotlib.lines.Line2D at 0x7f75d5f093a0>]"
      ]
     },
     "execution_count": 34,
     "metadata": {},
     "output_type": "execute_result"
    },
    {
     "data": {
      "text/plain": [
       "Text(0.5, 1.0, \"('bottle', 'it_0')\")"
      ]
     },
     "execution_count": 34,
     "metadata": {},
     "output_type": "execute_result"
    },
    {
     "data": {
      "text/plain": [
       "(0.0, 1.0)"
      ]
     },
     "execution_count": 34,
     "metadata": {},
     "output_type": "execute_result"
    },
    {
     "data": {
      "text/plain": [
       "[<matplotlib.lines.Line2D at 0x7f75d5f097c0>]"
      ]
     },
     "execution_count": 34,
     "metadata": {},
     "output_type": "execute_result"
    },
    {
     "data": {
      "text/plain": [
       "Text(0.5, 1.0, \"('bottle', 'it_0') normalized (last)\")"
      ]
     },
     "execution_count": 34,
     "metadata": {},
     "output_type": "execute_result"
    },
    {
     "data": {
      "text/plain": [
       "[<matplotlib.lines.Line2D at 0x7f75d5f2b160>]"
      ]
     },
     "execution_count": 34,
     "metadata": {},
     "output_type": "execute_result"
    },
    {
     "data": {
      "text/plain": [
       "Text(0.5, 1.0, \"('bottle', 'it_0') normalized (max)\")"
      ]
     },
     "execution_count": 34,
     "metadata": {},
     "output_type": "execute_result"
    },
    {
     "data": {
      "text/plain": [
       "[<matplotlib.lines.Line2D at 0x7f75d5f2b5b0>]"
      ]
     },
     "execution_count": 34,
     "metadata": {},
     "output_type": "execute_result"
    },
    {
     "data": {
      "text/plain": [
       "Text(0.5, 1.0, \"('bottle', 'it_0')\")"
      ]
     },
     "execution_count": 34,
     "metadata": {},
     "output_type": "execute_result"
    },
    {
     "data": {
      "text/plain": [
       "(0.0, 1.0)"
      ]
     },
     "execution_count": 34,
     "metadata": {},
     "output_type": "execute_result"
    },
    {
     "data": {
      "text/plain": [
       "[<matplotlib.lines.Line2D at 0x7f75d5f2b910>]"
      ]
     },
     "execution_count": 34,
     "metadata": {},
     "output_type": "execute_result"
    },
    {
     "data": {
      "text/plain": [
       "Text(0.5, 1.0, \"('bottle', 'it_0') normalized (last)\")"
      ]
     },
     "execution_count": 34,
     "metadata": {},
     "output_type": "execute_result"
    },
    {
     "data": {
      "text/plain": [
       "[<matplotlib.lines.Line2D at 0x7f75d5f2b9d0>]"
      ]
     },
     "execution_count": 34,
     "metadata": {},
     "output_type": "execute_result"
    },
    {
     "data": {
      "text/plain": [
       "Text(0.5, 1.0, \"('bottle', 'it_0') normalized (max)\")"
      ]
     },
     "execution_count": 34,
     "metadata": {},
     "output_type": "execute_result"
    },
    {
     "data": {
      "text/plain": [
       "[<matplotlib.lines.Line2D at 0x7f75d5f2bd60>]"
      ]
     },
     "execution_count": 34,
     "metadata": {},
     "output_type": "execute_result"
    },
    {
     "data": {
      "text/plain": [
       "Text(0.5, 1.0, \"('pill', 'it_0')\")"
      ]
     },
     "execution_count": 34,
     "metadata": {},
     "output_type": "execute_result"
    },
    {
     "data": {
      "text/plain": [
       "(0.0, 1.0)"
      ]
     },
     "execution_count": 34,
     "metadata": {},
     "output_type": "execute_result"
    },
    {
     "data": {
      "text/plain": [
       "[<matplotlib.lines.Line2D at 0x7f75d5f2a130>]"
      ]
     },
     "execution_count": 34,
     "metadata": {},
     "output_type": "execute_result"
    },
    {
     "data": {
      "text/plain": [
       "Text(0.5, 1.0, \"('pill', 'it_0') normalized (last)\")"
      ]
     },
     "execution_count": 34,
     "metadata": {},
     "output_type": "execute_result"
    },
    {
     "data": {
      "text/plain": [
       "[<matplotlib.lines.Line2D at 0x7f75d5f2a430>]"
      ]
     },
     "execution_count": 34,
     "metadata": {},
     "output_type": "execute_result"
    },
    {
     "data": {
      "text/plain": [
       "Text(0.5, 1.0, \"('pill', 'it_0') normalized (max)\")"
      ]
     },
     "execution_count": 34,
     "metadata": {},
     "output_type": "execute_result"
    },
    {
     "data": {
      "text/plain": [
       "[<matplotlib.lines.Line2D at 0x7f75d5f2a820>]"
      ]
     },
     "execution_count": 34,
     "metadata": {},
     "output_type": "execute_result"
    },
    {
     "data": {
      "text/plain": [
       "Text(0.5, 1.0, \"('pill', 'it_0')\")"
      ]
     },
     "execution_count": 34,
     "metadata": {},
     "output_type": "execute_result"
    },
    {
     "data": {
      "text/plain": [
       "(0.0, 1.0)"
      ]
     },
     "execution_count": 34,
     "metadata": {},
     "output_type": "execute_result"
    },
    {
     "data": {
      "text/plain": [
       "[<matplotlib.lines.Line2D at 0x7f75d5f2abe0>]"
      ]
     },
     "execution_count": 34,
     "metadata": {},
     "output_type": "execute_result"
    },
    {
     "data": {
      "text/plain": [
       "Text(0.5, 1.0, \"('pill', 'it_0') normalized (last)\")"
      ]
     },
     "execution_count": 34,
     "metadata": {},
     "output_type": "execute_result"
    },
    {
     "data": {
      "text/plain": [
       "[<matplotlib.lines.Line2D at 0x7f75d5f2ac40>]"
      ]
     },
     "execution_count": 34,
     "metadata": {},
     "output_type": "execute_result"
    },
    {
     "data": {
      "text/plain": [
       "Text(0.5, 1.0, \"('pill', 'it_0') normalized (max)\")"
      ]
     },
     "execution_count": 34,
     "metadata": {},
     "output_type": "execute_result"
    },
    {
     "data": {
      "text/plain": [
       "[<matplotlib.lines.Line2D at 0x7f75d5f2a340>]"
      ]
     },
     "execution_count": 34,
     "metadata": {},
     "output_type": "execute_result"
    },
    {
     "data": {
      "text/plain": [
       "Text(0.5, 1.0, \"('pill', 'it_0')\")"
      ]
     },
     "execution_count": 34,
     "metadata": {},
     "output_type": "execute_result"
    },
    {
     "data": {
      "text/plain": [
       "(0.0, 1.0)"
      ]
     },
     "execution_count": 34,
     "metadata": {},
     "output_type": "execute_result"
    },
    {
     "data": {
      "text/plain": [
       "[<matplotlib.lines.Line2D at 0x7f75d5ec54c0>]"
      ]
     },
     "execution_count": 34,
     "metadata": {},
     "output_type": "execute_result"
    },
    {
     "data": {
      "text/plain": [
       "Text(0.5, 1.0, \"('pill', 'it_0') normalized (last)\")"
      ]
     },
     "execution_count": 34,
     "metadata": {},
     "output_type": "execute_result"
    },
    {
     "data": {
      "text/plain": [
       "[<matplotlib.lines.Line2D at 0x7f75d5ec5580>]"
      ]
     },
     "execution_count": 34,
     "metadata": {},
     "output_type": "execute_result"
    },
    {
     "data": {
      "text/plain": [
       "Text(0.5, 1.0, \"('pill', 'it_0') normalized (max)\")"
      ]
     },
     "execution_count": 34,
     "metadata": {},
     "output_type": "execute_result"
    },
    {
     "data": {
      "text/plain": [
       "[<matplotlib.lines.Line2D at 0x7f75d5ec5970>]"
      ]
     },
     "execution_count": 34,
     "metadata": {},
     "output_type": "execute_result"
    },
    {
     "data": {
      "text/plain": [
       "Text(0.5, 1.0, \"('toothbrush', 'it_0')\")"
      ]
     },
     "execution_count": 34,
     "metadata": {},
     "output_type": "execute_result"
    },
    {
     "data": {
      "text/plain": [
       "(0.0, 1.0)"
      ]
     },
     "execution_count": 34,
     "metadata": {},
     "output_type": "execute_result"
    },
    {
     "data": {
      "text/plain": [
       "[<matplotlib.lines.Line2D at 0x7f75d5ec5cd0>]"
      ]
     },
     "execution_count": 34,
     "metadata": {},
     "output_type": "execute_result"
    },
    {
     "data": {
      "text/plain": [
       "Text(0.5, 1.0, \"('toothbrush', 'it_0') normalized (last)\")"
      ]
     },
     "execution_count": 34,
     "metadata": {},
     "output_type": "execute_result"
    },
    {
     "data": {
      "text/plain": [
       "[<matplotlib.lines.Line2D at 0x7f75d5ec5d90>]"
      ]
     },
     "execution_count": 34,
     "metadata": {},
     "output_type": "execute_result"
    },
    {
     "data": {
      "text/plain": [
       "Text(0.5, 1.0, \"('toothbrush', 'it_0') normalized (max)\")"
      ]
     },
     "execution_count": 34,
     "metadata": {},
     "output_type": "execute_result"
    },
    {
     "data": {
      "text/plain": [
       "[<matplotlib.lines.Line2D at 0x7f75d5ed8220>]"
      ]
     },
     "execution_count": 34,
     "metadata": {},
     "output_type": "execute_result"
    },
    {
     "data": {
      "text/plain": [
       "Text(0.5, 1.0, \"('toothbrush', 'it_0')\")"
      ]
     },
     "execution_count": 34,
     "metadata": {},
     "output_type": "execute_result"
    },
    {
     "data": {
      "text/plain": [
       "(0.0, 1.0)"
      ]
     },
     "execution_count": 34,
     "metadata": {},
     "output_type": "execute_result"
    },
    {
     "data": {
      "text/plain": [
       "[<matplotlib.lines.Line2D at 0x7f75d5ed8610>]"
      ]
     },
     "execution_count": 34,
     "metadata": {},
     "output_type": "execute_result"
    },
    {
     "data": {
      "text/plain": [
       "Text(0.5, 1.0, \"('toothbrush', 'it_0') normalized (last)\")"
      ]
     },
     "execution_count": 34,
     "metadata": {},
     "output_type": "execute_result"
    },
    {
     "data": {
      "text/plain": [
       "[<matplotlib.lines.Line2D at 0x7f75d5ed8670>]"
      ]
     },
     "execution_count": 34,
     "metadata": {},
     "output_type": "execute_result"
    },
    {
     "data": {
      "text/plain": [
       "Text(0.5, 1.0, \"('toothbrush', 'it_0') normalized (max)\")"
      ]
     },
     "execution_count": 34,
     "metadata": {},
     "output_type": "execute_result"
    },
    {
     "data": {
      "text/plain": [
       "[<matplotlib.lines.Line2D at 0x7f75d5ed8ac0>]"
      ]
     },
     "execution_count": 34,
     "metadata": {},
     "output_type": "execute_result"
    },
    {
     "data": {
      "text/plain": [
       "Text(0.5, 1.0, \"('toothbrush', 'it_0')\")"
      ]
     },
     "execution_count": 34,
     "metadata": {},
     "output_type": "execute_result"
    },
    {
     "data": {
      "text/plain": [
       "(0.0, 1.0)"
      ]
     },
     "execution_count": 34,
     "metadata": {},
     "output_type": "execute_result"
    },
    {
     "data": {
      "text/plain": [
       "[<matplotlib.lines.Line2D at 0x7f75d5ed8e80>]"
      ]
     },
     "execution_count": 34,
     "metadata": {},
     "output_type": "execute_result"
    },
    {
     "data": {
      "text/plain": [
       "Text(0.5, 1.0, \"('toothbrush', 'it_0') normalized (last)\")"
      ]
     },
     "execution_count": 34,
     "metadata": {},
     "output_type": "execute_result"
    },
    {
     "data": {
      "text/plain": [
       "[<matplotlib.lines.Line2D at 0x7f75d5ed8f40>]"
      ]
     },
     "execution_count": 34,
     "metadata": {},
     "output_type": "execute_result"
    },
    {
     "data": {
      "text/plain": [
       "Text(0.5, 1.0, \"('toothbrush', 'it_0') normalized (max)\")"
      ]
     },
     "execution_count": 34,
     "metadata": {},
     "output_type": "execute_result"
    },
    {
     "data": {
      "text/plain": [
       "[<matplotlib.lines.Line2D at 0x7f75d5ee3250>]"
      ]
     },
     "execution_count": 34,
     "metadata": {},
     "output_type": "execute_result"
    },
    {
     "data": {
      "text/plain": [
       "Text(0.5, 1.0, \"('bottle', 'it_0')\")"
      ]
     },
     "execution_count": 34,
     "metadata": {},
     "output_type": "execute_result"
    },
    {
     "data": {
      "text/plain": [
       "(0.0, 1.0)"
      ]
     },
     "execution_count": 34,
     "metadata": {},
     "output_type": "execute_result"
    },
    {
     "data": {
      "text/plain": [
       "[<matplotlib.lines.Line2D at 0x7f75d5ee3730>]"
      ]
     },
     "execution_count": 34,
     "metadata": {},
     "output_type": "execute_result"
    },
    {
     "data": {
      "text/plain": [
       "Text(0.5, 1.0, \"('bottle', 'it_0') normalized (last)\")"
      ]
     },
     "execution_count": 34,
     "metadata": {},
     "output_type": "execute_result"
    },
    {
     "data": {
      "text/plain": [
       "[<matplotlib.lines.Line2D at 0x7f75d5ee3790>]"
      ]
     },
     "execution_count": 34,
     "metadata": {},
     "output_type": "execute_result"
    },
    {
     "data": {
      "text/plain": [
       "Text(0.5, 1.0, \"('bottle', 'it_0') normalized (max)\")"
      ]
     },
     "execution_count": 34,
     "metadata": {},
     "output_type": "execute_result"
    },
    {
     "data": {
      "text/plain": [
       "[<matplotlib.lines.Line2D at 0x7f75d5ee3be0>]"
      ]
     },
     "execution_count": 34,
     "metadata": {},
     "output_type": "execute_result"
    },
    {
     "data": {
      "text/plain": [
       "Text(0.5, 1.0, \"('bottle', 'it_0')\")"
      ]
     },
     "execution_count": 34,
     "metadata": {},
     "output_type": "execute_result"
    },
    {
     "data": {
      "text/plain": [
       "(0.0, 1.0)"
      ]
     },
     "execution_count": 34,
     "metadata": {},
     "output_type": "execute_result"
    },
    {
     "data": {
      "text/plain": [
       "[<matplotlib.lines.Line2D at 0x7f75d5ee3fa0>]"
      ]
     },
     "execution_count": 34,
     "metadata": {},
     "output_type": "execute_result"
    },
    {
     "data": {
      "text/plain": [
       "Text(0.5, 1.0, \"('bottle', 'it_0') normalized (last)\")"
      ]
     },
     "execution_count": 34,
     "metadata": {},
     "output_type": "execute_result"
    },
    {
     "data": {
      "text/plain": [
       "[<matplotlib.lines.Line2D at 0x7f75d5eee070>]"
      ]
     },
     "execution_count": 34,
     "metadata": {},
     "output_type": "execute_result"
    },
    {
     "data": {
      "text/plain": [
       "Text(0.5, 1.0, \"('bottle', 'it_0') normalized (max)\")"
      ]
     },
     "execution_count": 34,
     "metadata": {},
     "output_type": "execute_result"
    },
    {
     "data": {
      "text/plain": [
       "[<matplotlib.lines.Line2D at 0x7f75d5ee37f0>]"
      ]
     },
     "execution_count": 34,
     "metadata": {},
     "output_type": "execute_result"
    },
    {
     "data": {
      "text/plain": [
       "Text(0.5, 1.0, \"('bottle', 'it_0')\")"
      ]
     },
     "execution_count": 34,
     "metadata": {},
     "output_type": "execute_result"
    },
    {
     "data": {
      "text/plain": [
       "(0.0, 1.0)"
      ]
     },
     "execution_count": 34,
     "metadata": {},
     "output_type": "execute_result"
    },
    {
     "data": {
      "text/plain": [
       "[<matplotlib.lines.Line2D at 0x7f75d5eee850>]"
      ]
     },
     "execution_count": 34,
     "metadata": {},
     "output_type": "execute_result"
    },
    {
     "data": {
      "text/plain": [
       "Text(0.5, 1.0, \"('bottle', 'it_0') normalized (last)\")"
      ]
     },
     "execution_count": 34,
     "metadata": {},
     "output_type": "execute_result"
    },
    {
     "data": {
      "text/plain": [
       "[<matplotlib.lines.Line2D at 0x7f75d5eee940>]"
      ]
     },
     "execution_count": 34,
     "metadata": {},
     "output_type": "execute_result"
    },
    {
     "data": {
      "text/plain": [
       "Text(0.5, 1.0, \"('bottle', 'it_0') normalized (max)\")"
      ]
     },
     "execution_count": 34,
     "metadata": {},
     "output_type": "execute_result"
    },
    {
     "data": {
      "text/plain": [
       "[<matplotlib.lines.Line2D at 0x7f75d5eeed00>]"
      ]
     },
     "execution_count": 34,
     "metadata": {},
     "output_type": "execute_result"
    },
    {
     "data": {
      "text/plain": [
       "Text(0.5, 1.0, \"('pill', 'it_0')\")"
      ]
     },
     "execution_count": 34,
     "metadata": {},
     "output_type": "execute_result"
    },
    {
     "data": {
      "text/plain": [
       "(0.0, 1.0)"
      ]
     },
     "execution_count": 34,
     "metadata": {},
     "output_type": "execute_result"
    },
    {
     "data": {
      "text/plain": [
       "[<matplotlib.lines.Line2D at 0x7f75d5eeefd0>]"
      ]
     },
     "execution_count": 34,
     "metadata": {},
     "output_type": "execute_result"
    },
    {
     "data": {
      "text/plain": [
       "Text(0.5, 1.0, \"('pill', 'it_0') normalized (last)\")"
      ]
     },
     "execution_count": 34,
     "metadata": {},
     "output_type": "execute_result"
    },
    {
     "data": {
      "text/plain": [
       "[<matplotlib.lines.Line2D at 0x7f75d5e7e130>]"
      ]
     },
     "execution_count": 34,
     "metadata": {},
     "output_type": "execute_result"
    },
    {
     "data": {
      "text/plain": [
       "Text(0.5, 1.0, \"('pill', 'it_0') normalized (max)\")"
      ]
     },
     "execution_count": 34,
     "metadata": {},
     "output_type": "execute_result"
    },
    {
     "data": {
      "text/plain": [
       "[<matplotlib.lines.Line2D at 0x7f75d5e7e580>]"
      ]
     },
     "execution_count": 34,
     "metadata": {},
     "output_type": "execute_result"
    },
    {
     "data": {
      "text/plain": [
       "Text(0.5, 1.0, \"('pill', 'it_0')\")"
      ]
     },
     "execution_count": 34,
     "metadata": {},
     "output_type": "execute_result"
    },
    {
     "data": {
      "text/plain": [
       "(0.0, 1.0)"
      ]
     },
     "execution_count": 34,
     "metadata": {},
     "output_type": "execute_result"
    },
    {
     "data": {
      "text/plain": [
       "[<matplotlib.lines.Line2D at 0x7f75d5e7e8e0>]"
      ]
     },
     "execution_count": 34,
     "metadata": {},
     "output_type": "execute_result"
    },
    {
     "data": {
      "text/plain": [
       "Text(0.5, 1.0, \"('pill', 'it_0') normalized (last)\")"
      ]
     },
     "execution_count": 34,
     "metadata": {},
     "output_type": "execute_result"
    },
    {
     "data": {
      "text/plain": [
       "[<matplotlib.lines.Line2D at 0x7f75d5e7e940>]"
      ]
     },
     "execution_count": 34,
     "metadata": {},
     "output_type": "execute_result"
    },
    {
     "data": {
      "text/plain": [
       "Text(0.5, 1.0, \"('pill', 'it_0') normalized (max)\")"
      ]
     },
     "execution_count": 34,
     "metadata": {},
     "output_type": "execute_result"
    },
    {
     "data": {
      "text/plain": [
       "[<matplotlib.lines.Line2D at 0x7f75d5e7e370>]"
      ]
     },
     "execution_count": 34,
     "metadata": {},
     "output_type": "execute_result"
    },
    {
     "data": {
      "text/plain": [
       "Text(0.5, 1.0, \"('pill', 'it_0')\")"
      ]
     },
     "execution_count": 34,
     "metadata": {},
     "output_type": "execute_result"
    },
    {
     "data": {
      "text/plain": [
       "(0.0, 1.0)"
      ]
     },
     "execution_count": 34,
     "metadata": {},
     "output_type": "execute_result"
    },
    {
     "data": {
      "text/plain": [
       "[<matplotlib.lines.Line2D at 0x7f75d5e7ef70>]"
      ]
     },
     "execution_count": 34,
     "metadata": {},
     "output_type": "execute_result"
    },
    {
     "data": {
      "text/plain": [
       "Text(0.5, 1.0, \"('pill', 'it_0') normalized (last)\")"
      ]
     },
     "execution_count": 34,
     "metadata": {},
     "output_type": "execute_result"
    },
    {
     "data": {
      "text/plain": [
       "[<matplotlib.lines.Line2D at 0x7f75d5e8d2b0>]"
      ]
     },
     "execution_count": 34,
     "metadata": {},
     "output_type": "execute_result"
    },
    {
     "data": {
      "text/plain": [
       "Text(0.5, 1.0, \"('pill', 'it_0') normalized (max)\")"
      ]
     },
     "execution_count": 34,
     "metadata": {},
     "output_type": "execute_result"
    },
    {
     "data": {
      "image/png": "[encoded data removed]",
      "text/plain": [
       "<Figure size 1512x1008 with 9 Axes>"
      ]
     },
     "metadata": {
      "needs_background": "light"
     },
     "output_type": "display_data"
    }
   ],
   "source": [
    "from matplotlib import pyplot as plt\n",
    "from pandas import DataFrame\n",
    "\n",
    "\n",
    "def get_epoch_series(df_: DataFrame) -> (ndarray, ndarray):\n",
    "    epochs_str = sorted({col.split(\".\")[0] for col in df_.columns if col.startswith(\"epoch\")})\n",
    "    epochs = [int(e.split(\"=\")[1]) for e in epochs_str]\n",
    "    pixel_rocauc = df_[[es + \".pixel_roc.auc\" for es in epochs_str]].T.values.ravel()\n",
    "    return epochs, pixel_rocauc\n",
    "\n",
    "map_row2ax = dict(map(reversed, enumerate(sorted(set(df.index)))))\n",
    "naxs = len(map_row2ax)\n",
    "\n",
    "fig, axs = plt.subplots(naxs, 3, figsize=(naxs * (sz := 7), 2 * sz))\n",
    "\n",
    "for idx, dframe in df.iterrows(): \n",
    "    dframe = pd.DataFrame(dframe).T\n",
    "    ax, ax_normalized, ax_normalized_max = axs[map_row2ax[idx]]\n",
    "    epochs, pixel_rocauc = get_epoch_series(dframe);\n",
    "    \n",
    "    ax.plot(epochs, pixel_rocauc);\n",
    "    ax.set_title(idx);\n",
    "    ax.set_ylim(0, 1)\n",
    "    \n",
    "    rocauc_norm_last = pixel_rocauc / pixel_rocauc[-1]\n",
    "    ax_normalized.plot(epochs, rocauc_norm_last);\n",
    "    ax_normalized.set_title(f\"{idx} normalized (last)\");\n",
    "    \n",
    "    rocauc_norm_max = pixel_rocauc / pixel_rocauc.max()\n",
    "    ax_normalized_max.plot(epochs, rocauc_norm_max);\n",
    "    ax_normalized_max.set_title(f\"{idx} normalized (max)\");"
   ]
  },
  {
   "cell_type": "code",
   "execution_count": null,
   "id": "fb3b9140-7832-4069-b9d1-78422b13d2b4",
   "metadata": {},
   "outputs": [],
   "source": []
  },
  {
   "cell_type": "code",
   "execution_count": null,
   "id": "5d385657-e65d-4521-a748-10aabb147757",
   "metadata": {},
   "outputs": [],
   "source": []
  }
 ],
 "metadata": {
  "kernelspec": {
   "display_name": "genv",
   "language": "python",
   "name": "genv"
  },
  "language_info": {
   "codemirror_mode": {
    "name": "ipython",
    "version": 3
   },
   "file_extension": ".py",
   "mimetype": "text/x-python",
   "name": "python",
   "nbconvert_exporter": "python",
   "pygments_lexer": "ipython3",
   "version": "3.9.7"
  }
 },
 "nbformat": 4,
 "nbformat_minor": 5
}

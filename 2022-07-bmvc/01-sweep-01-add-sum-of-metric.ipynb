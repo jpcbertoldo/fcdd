{
 "cells": [
  {
   "cell_type": "markdown",
   "metadata": {},
   "source": [
    "# get runs"
   ]
  },
  {
   "cell_type": "code",
   "execution_count": 4,
   "metadata": {},
   "outputs": [],
   "source": [
    "import numpy as np"
   ]
  },
  {
   "cell_type": "code",
   "execution_count": 5,
   "metadata": {},
   "outputs": [],
   "source": [
    "import pandas as pd \n",
    "import wandb\n",
    "api = wandb.Api()\n",
    "\n",
    "# Project is specified by <entity/project-name>\n",
    "# runs = api.runs(\"mines-paristech-cmm/unetdd-mvtec-00\")\n",
    "\n",
    "# sweep = api.sweep(path/to/sweep)\n",
    "sweep = api.sweep(\"mines-paristech-cmm/unetdd-mvtec-00/7e6qg2bj\")\n",
    "runs = sweep.runs"
   ]
  },
  {
   "cell_type": "code",
   "execution_count": 6,
   "metadata": {},
   "outputs": [],
   "source": [
    "summary_list, config_list, name_list = [], [], []\n",
    "tags_list = []\n",
    "ids_list = []\n",
    "state_list = []\n",
    "\n",
    "for run in runs: \n",
    "    summary_list.append(run.summary._json_dict)\n",
    "    config_list.append(\n",
    "        {k: v for k,v in run.config.items()\n",
    "          if not k.startswith('_')})\n",
    "    name_list.append(run.name)\n",
    "    tags_list.append(run.tags)\n",
    "    ids_list.append(run.id)\n",
    "    state_list.append(run.state)\n",
    "    \n",
    "runs_df = pd.DataFrame({\n",
    "    \"summary\": summary_list,\n",
    "    \"config\": config_list,\n",
    "    \"name\": name_list,\n",
    "    'tags': tags_list,\n",
    "    'id': ids_list,\n",
    "    'state': state_list,\n",
    "})"
   ]
  },
  {
   "cell_type": "code",
   "execution_count": 7,
   "metadata": {},
   "outputs": [
    {
     "data": {
      "text/plain": [
       "(292, 6)"
      ]
     },
     "execution_count": 7,
     "metadata": {},
     "output_type": "execute_result"
    }
   ],
   "source": [
    "runs_df.shape"
   ]
  },
  {
   "cell_type": "code",
   "execution_count": 9,
   "metadata": {},
   "outputs": [
    {
     "data": {
      "text/plain": [
       "Index(['summary', 'config', 'name', 'tags', 'id', 'state'], dtype='object')"
      ]
     },
     "execution_count": 9,
     "metadata": {},
     "output_type": "execute_result"
    }
   ],
   "source": [
    "runs_df.columns"
   ]
  },
  {
   "cell_type": "markdown",
   "metadata": {},
   "source": [
    "# filter runs"
   ]
  },
  {
   "cell_type": "code",
   "execution_count": 10,
   "metadata": {},
   "outputs": [
    {
     "name": "stderr",
     "output_type": "stream",
     "text": [
      "/tmp/ipykernel_24481/2387820682.py:7: UserWarning: Boolean Series key will be reindexed to match DataFrame index.\n",
      "  runs_df_filtered = runs_df_filtered[select_epoch_is_last]\n"
     ]
    },
    {
     "data": {
      "text/plain": [
       "(183, 6)"
      ]
     },
     "execution_count": 10,
     "metadata": {},
     "output_type": "execute_result"
    }
   ],
   "source": [
    "runs_df_filtered = runs_df\n",
    "\n",
    "get_only_finished = runs_df['state'] == 'finished'\n",
    "runs_df_filtered = runs_df_filtered[get_only_finished]\n",
    "\n",
    "select_epoch_is_last = runs_df[\"summary\"].apply(lambda s: s.get(\"epoch\", None)) == 600\n",
    "runs_df_filtered = runs_df_filtered[select_epoch_is_last]\n",
    "\n",
    "runs_df_filtered.shape"
   ]
  },
  {
   "cell_type": "code",
   "execution_count": 11,
   "metadata": {},
   "outputs": [
    {
     "data": {
      "text/plain": [
       "dict_keys(['_timestamp', 'validate/loss', 'test/loss-anomalous-mean', '_step', 'normal_class_label', 'test/score-normals-mean', 'train/loss-normals-mean', '_runtime', 'train/loss', 'test/loss-normals-mean', 'validate/avg-precision', 'train/loss-anomalous-mean', 'train/pixel-count-anomalous', 'validate/pixel-count-anomalous', 'test/loss', 'train/score-mean', 'validate/score-mean', 'test/images-heatmaps-table', 'epoch', '_wandb', 'validate/roc-auc', 'test/roc-curve_table', 'test/score-anomalous-mean', 'validate/loss-anomalous-mean', 'test/avg-precision', 'trainer/global_step', 'batch_size_effective', 'test/pixel-count-normal', 'normal_class_fullqualified', 'validate/loss-normals-mean', 'validate/score-anomalous-mean', 'validate/images-heatmaps-table', 'test/roc-auc', 'test/score-mean', 'mvtec_class_type', 'train/pixel-count-normal', 'train/score-normals-mean', 'test/pixel-count-anomalous', 'train/score-anomalous-mean', 'validate/pixel-count-normal', 'validate/score-normals-mean', 'test/precision-recall-curve_table', 'train/learning_rate_scheduler_idx=0'])"
      ]
     },
     "execution_count": 11,
     "metadata": {},
     "output_type": "execute_result"
    }
   ],
   "source": [
    "runs_df_filtered[\"summary\"].iloc[0].keys()\n"
   ]
  },
  {
   "cell_type": "code",
   "execution_count": 12,
   "metadata": {},
   "outputs": [
    {
     "data": {
      "text/plain": [
       "dict_keys(['it', 'lr', 'pid', 'loss', 'root', 'seed', 'test', 'model', 'epochs', 'logdir', 'datadir', 'dataset', 'in_shape', 'nworkers', 'loss_name', 'net_shape', 'optimizer', 'raw_shape', 'scheduler', 'seeds_str', 'batch_size', 'model_name', 'pin_memory', 'wandb_watch', 'normal_class', 'slurm_job_id', 'wandb_log_pr', 'weight_decay', 'learning_rate', 'preprocessing', 'wandb_log_roc', 'wandb_profile', 'optimizer_name', 'scheduler_name', 'script_version', 'slurm_job_gpus', 'slurm_job_name', 'slurm_job_user', 'slurm_task_pid', 'supervise_mode', 'confighash_full', 'preview_nimages', 'slurmd_nodename', 'confighash_slurm', 'script_start_time', 'slurm_submit_host', 'lightning_ndevices', 'lightning_profiler', 'lightning_strategy', 'loss_stage_weights', 'real_anomaly_limit', 'slurm_array_job_id', 'slurm_cluster_name', 'lightning_precision', 'slurm_array_task_id', 'slurm_job_partition', 'scheduler_parameters', 'wandb_watch_log_freq', 'lightning_accelerator', 'loss_scoremap_strategy', 'lightning_deterministic', 'wandb_log_histogram_loss', 'loss_stage_weights_values', 'wandb_log_histogram_score', 'lightning_gradient_clip_val', 'wandb_log_percentiles_score', 'wandb_log_perinstance_mean_loss', 'wandb_log_image_heatmap_nsamples', 'wandb_log_perinstance_mean_score', 'lightning_accumulate_grad_batches', 'lightning_check_val_every_n_epoch', 'lightning_gradient_clip_algorithm', 'lightning_model_summary_max_depth', 'confighash_dataset_class_supervise', 'wandb_log_image_heatmap_resolution', 'confighash_dataset_class_supervise_loss', 'confighash_dataset_class_supervise_model', 'wandb_log_image_heatmap_contrast_percentiles', 'confighash_dataset_class_supervise_loss_model'])"
      ]
     },
     "execution_count": 12,
     "metadata": {},
     "output_type": "execute_result"
    }
   ],
   "source": [
    "runs_df_filtered[\"config\"].iloc[0].keys()"
   ]
  },
  {
   "cell_type": "markdown",
   "metadata": {},
   "source": [
    "# add metric to  a single run"
   ]
  },
  {
   "cell_type": "code",
   "execution_count": 13,
   "metadata": {},
   "outputs": [],
   "source": [
    "run = runs_df_filtered.iloc[0]\n",
    "runid = run['id']\n",
    "run = api.run(f\"mines-paristech-cmm/unetdd-mvtec-00/{run['id']}\")"
   ]
  },
  {
   "cell_type": "code",
   "execution_count": 14,
   "metadata": {},
   "outputs": [
    {
     "data": {
      "text/html": [
       "<div>\n",
       "<style scoped>\n",
       "    .dataframe tbody tr th:only-of-type {\n",
       "        vertical-align: middle;\n",
       "    }\n",
       "\n",
       "    .dataframe tbody tr th {\n",
       "        vertical-align: top;\n",
       "    }\n",
       "\n",
       "    .dataframe thead th {\n",
       "        text-align: right;\n",
       "    }\n",
       "</style>\n",
       "<table border=\"1\" class=\"dataframe\">\n",
       "  <thead>\n",
       "    <tr style=\"text-align: right;\">\n",
       "      <th></th>\n",
       "      <th>0</th>\n",
       "      <th>1</th>\n",
       "      <th>2</th>\n",
       "      <th>3</th>\n",
       "      <th>4</th>\n",
       "      <th>5</th>\n",
       "      <th>6</th>\n",
       "      <th>7</th>\n",
       "      <th>8</th>\n",
       "      <th>9</th>\n",
       "      <th>...</th>\n",
       "      <th>50</th>\n",
       "      <th>51</th>\n",
       "      <th>52</th>\n",
       "      <th>53</th>\n",
       "      <th>54</th>\n",
       "      <th>55</th>\n",
       "      <th>56</th>\n",
       "      <th>57</th>\n",
       "      <th>58</th>\n",
       "      <th>59</th>\n",
       "    </tr>\n",
       "  </thead>\n",
       "  <tbody>\n",
       "    <tr>\n",
       "      <th>_step</th>\n",
       "      <td>10.000000</td>\n",
       "      <td>22.000000</td>\n",
       "      <td>34.000000</td>\n",
       "      <td>46.000000</td>\n",
       "      <td>58.000000</td>\n",
       "      <td>70.000000</td>\n",
       "      <td>82.00000</td>\n",
       "      <td>94.000000</td>\n",
       "      <td>106.000000</td>\n",
       "      <td>118.000000</td>\n",
       "      <td>...</td>\n",
       "      <td>610.000000</td>\n",
       "      <td>622.000000</td>\n",
       "      <td>634.000000</td>\n",
       "      <td>646.000000</td>\n",
       "      <td>658.000000</td>\n",
       "      <td>670.000000</td>\n",
       "      <td>682.00000</td>\n",
       "      <td>694.000000</td>\n",
       "      <td>706.000000</td>\n",
       "      <td>718.000000</td>\n",
       "    </tr>\n",
       "    <tr>\n",
       "      <th>validate/avg-precision</th>\n",
       "      <td>0.293818</td>\n",
       "      <td>0.114076</td>\n",
       "      <td>0.194144</td>\n",
       "      <td>0.233523</td>\n",
       "      <td>0.295656</td>\n",
       "      <td>0.206246</td>\n",
       "      <td>0.29022</td>\n",
       "      <td>0.333758</td>\n",
       "      <td>0.259987</td>\n",
       "      <td>0.328019</td>\n",
       "      <td>...</td>\n",
       "      <td>0.048452</td>\n",
       "      <td>0.106554</td>\n",
       "      <td>0.038347</td>\n",
       "      <td>0.098874</td>\n",
       "      <td>0.133136</td>\n",
       "      <td>0.107699</td>\n",
       "      <td>0.15804</td>\n",
       "      <td>0.019767</td>\n",
       "      <td>0.061726</td>\n",
       "      <td>0.078268</td>\n",
       "    </tr>\n",
       "  </tbody>\n",
       "</table>\n",
       "<p>2 rows × 60 columns</p>\n",
       "</div>"
      ],
      "text/plain": [
       "                               0          1          2          3          4   \\\n",
       "_step                   10.000000  22.000000  34.000000  46.000000  58.000000   \n",
       "validate/avg-precision   0.293818   0.114076   0.194144   0.233523   0.295656   \n",
       "\n",
       "                               5         6          7           8   \\\n",
       "_step                   70.000000  82.00000  94.000000  106.000000   \n",
       "validate/avg-precision   0.206246   0.29022   0.333758    0.259987   \n",
       "\n",
       "                                9   ...          50          51          52  \\\n",
       "_step                   118.000000  ...  610.000000  622.000000  634.000000   \n",
       "validate/avg-precision    0.328019  ...    0.048452    0.106554    0.038347   \n",
       "\n",
       "                                53          54          55         56  \\\n",
       "_step                   646.000000  658.000000  670.000000  682.00000   \n",
       "validate/avg-precision    0.098874    0.133136    0.107699    0.15804   \n",
       "\n",
       "                                57          58          59  \n",
       "_step                   694.000000  706.000000  718.000000  \n",
       "validate/avg-precision    0.019767    0.061726    0.078268  \n",
       "\n",
       "[2 rows x 60 columns]"
      ]
     },
     "execution_count": 14,
     "metadata": {},
     "output_type": "execute_result"
    }
   ],
   "source": [
    "run.history(keys=[\"validate/avg-precision\"], samples=600).T"
   ]
  },
  {
   "cell_type": "code",
   "execution_count": 15,
   "metadata": {},
   "outputs": [
    {
     "data": {
      "text/plain": [
       "6.074131992384064"
      ]
     },
     "execution_count": 15,
     "metadata": {},
     "output_type": "execute_result"
    }
   ],
   "source": [
    "metric_history = np.array(list(dic[\"validate/avg-precision\"] for dic in run.scan_history(keys=[\"validate/avg-precision\"])))\n",
    "assert metric_history.shape == (60,), f\"Expected shape (600,), got {metric_history.shape}\"\n",
    "metric_history_accumulated = metric_history.sum()\n",
    "metric_history_accumulated"
   ]
  },
  {
   "cell_type": "code",
   "execution_count": 16,
   "metadata": {},
   "outputs": [],
   "source": [
    "run.summary.update({\"avg-precision-accumulated\": metric_history_accumulated})"
   ]
  },
  {
   "cell_type": "code",
   "execution_count": 17,
   "metadata": {},
   "outputs": [
    {
     "data": {
      "text/plain": [
       "6.074131992384064"
      ]
     },
     "execution_count": 17,
     "metadata": {},
     "output_type": "execute_result"
    }
   ],
   "source": [
    "run = runs_df_filtered.iloc[0]\n",
    "runid = run['id']\n",
    "run = api.run(f\"mines-paristech-cmm/unetdd-mvtec-00/{runid}\")\n",
    "run.summary[\"avg-precision-accumulated\"]"
   ]
  },
  {
   "cell_type": "markdown",
   "metadata": {},
   "source": [
    "# apply to all sweep runs"
   ]
  },
  {
   "cell_type": "code",
   "execution_count": 18,
   "metadata": {},
   "outputs": [
    {
     "name": "stderr",
     "output_type": "stream",
     "text": [
      "100% (183 of 183) |######################| Elapsed Time: 0:04:22 Time:  0:04:22\n"
     ]
    }
   ],
   "source": [
    "import progressbar\n",
    "\n",
    "def update_summary_with_accumulated_metric(runid: str, metric_key: str):\n",
    "    run = api.run(f\"mines-paristech-cmm/unetdd-mvtec-00/{runid}\")\n",
    "    metric_history = np.array(list(dic[metric_key] for dic in run.scan_history(keys=[metric_key])))\n",
    "    assert metric_history.shape == (60,), f\"Expected shape (600,), got {metric_history.shape}\"\n",
    "    metric_history_accumulated = metric_history.sum()\n",
    "    metric_history_mean = metric_history.mean()\n",
    "    run.summary.update({\n",
    "        f\"{metric_key}/history-accumulated\": metric_history_accumulated,\n",
    "        f\"{metric_key}/history-mean\": metric_history_mean,\n",
    "    })\n",
    "    run.save()\n",
    "\n",
    "for rowidx, row in progressbar.progressbar(runs_df_filtered.iterrows(), max_value=runs_df_filtered.shape[0]):\n",
    "    update_summary_with_accumulated_metric(row['id'], \"validate/avg-precision\")"
   ]
  },
  {
   "cell_type": "code",
   "execution_count": null,
   "metadata": {},
   "outputs": [],
   "source": []
  }
 ],
 "metadata": {
  "kernelspec": {
   "display_name": "Python 3.9.7 ('genv')",
   "language": "python",
   "name": "python3"
  },
  "language_info": {
   "codemirror_mode": {
    "name": "ipython",
    "version": 3
   },
   "file_extension": ".py",
   "mimetype": "text/x-python",
   "name": "python",
   "nbconvert_exporter": "python",
   "pygments_lexer": "ipython3",
   "version": "3.9.7"
  },
  "orig_nbformat": 4,
  "vscode": {
   "interpreter": {
    "hash": "e172fda16549f1520ae99fe3216fecc634563c3ca5dea275926ce257d88dd6e1"
   }
  }
 },
 "nbformat": 4,
 "nbformat_minor": 2
}

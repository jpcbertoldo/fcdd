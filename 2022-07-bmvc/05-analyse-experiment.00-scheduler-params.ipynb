{
 "cells": [
  {
   "cell_type": "code",
   "execution_count": null,
   "metadata": {},
   "outputs": [],
   "source": [
    "# make a cell print all the outputs instead of just the last one\n",
    "from IPython.core.interactiveshell import InteractiveShell\n",
    "InteractiveShell.ast_node_interactivity = \"all\""
   ]
  },
  {
   "cell_type": "code",
   "execution_count": null,
   "metadata": {},
   "outputs": [],
   "source": [
    "from pathlib import Path\n",
    "\n",
    "data_dir = Path(\"./data\")\n",
    "data_fpath = data_dir / \"2022-07-bmvc-report-01-data00-scheduler-params.csv\"\n",
    "\n",
    "import pandas as pd\n",
    "df = pd.read_csv(data_fpath) \n",
    "\n",
    "def check_df(df):\n",
    "    print(df.shape)\n",
    "    print(df.dtypes)\n",
    "    return df.head(5)\n",
    "\n",
    "check_df(df)"
   ]
  },
  {
   "cell_type": "code",
   "execution_count": null,
   "metadata": {},
   "outputs": [],
   "source": [
    "data_df = pd.read_csv(data_fpath) \n",
    "df = data_df\n",
    "df[\"scheduler_parameters\"] = df[\"scheduler_parameters\"].apply(lambda x: float(x.lstrip(\"[\").rstrip(\"]\")))\n",
    "df[\"scheduler_parameters\"] = df[\"scheduler_parameters\"].apply(lambda x: {0.985000: \"higher decay\", 0.998500: \"equiv. decay\"}[x])\n",
    "df.drop(columns=[\"Name\"], inplace=True)\n",
    "check_df(df)"
   ]
  },
  {
   "cell_type": "code",
   "execution_count": null,
   "metadata": {},
   "outputs": [],
   "source": [
    "data_df = df"
   ]
  },
  {
   "cell_type": "code",
   "execution_count": null,
   "metadata": {},
   "outputs": [],
   "source": [
    "from pandas import DataFrame\n",
    "import pandas as pd\n",
    "import numpy as np\n",
    "from functools import partial\n",
    "\n",
    "def get_color_mask_compare_by_line_every_n_cols(pt, n):\n",
    "    \n",
    "    if n > 2:\n",
    "        raise NotImplemented(\"n > 2 is not implemented ===> deal with color scale!\")\n",
    "    \n",
    "    assert pt.shape[1] % n == 0, f\"pt.shape[1] % n != 0: {pt.shape[1] % n}\"\n",
    "\n",
    "    def get_ordering_signal(arr: np.ndarray) -> np.ndarray:\n",
    "        \"\"\"at each line, the values are assigned a value from 0 to 1 respecting the ordering, such that 0 is the min and 1 is the max\"\"\"\n",
    "        # it's ok to round up to 3 decimals because i will probably never have more than 1001 values\n",
    "        # and it makes the table easier to read/debug\n",
    "        assert arr.shape[1] < 1001, f\"arr.shape[1] < 1001: {arr.shape[1]}\"\n",
    "        return np.round(np.argsort(arr) / (n - 1), decimals=3)\n",
    "\n",
    "    return np.concatenate(\n",
    "        [   \n",
    "            get_ordering_signal(pt.iloc[:, i * n:(i + 1) *n].values)\n",
    "            for i in range(pt.shape[1] // n)\n",
    "        ],\n",
    "        axis=1,\n",
    "    )\n",
    "    \n",
    "COLOR_0 = 'background-color: #DC143C55'\n",
    "COLOR_1 = 'background-color: #228B2255'\n",
    "    \n",
    "def color_from_mask(color_mask: np.ndarray):\n",
    "    \n",
    "    def color(_):\n",
    "        colormap = np.empty_like(color_mask, dtype=object)\n",
    "        colormap[color_mask == 0] = COLOR_0\n",
    "        colormap[color_mask == 1] = COLOR_1\n",
    "        return colormap\n",
    "    \n",
    "    return color"
   ]
  },
  {
   "cell_type": "code",
   "execution_count": null,
   "metadata": {},
   "outputs": [],
   "source": [
    "from pandas import DataFrame\n",
    "import pandas as pd\n",
    "import numpy as np\n",
    "from functools import partial\n",
    "\n",
    "df = data_df.copy()\n",
    "\n",
    "row_cols = [\"mvtec_class_type\", \"normal_class_fullqualified\"]\n",
    "column_cols = [\"supervise_mode\", \"loss\", \"scheduler_parameters\"]\n",
    "\n",
    "metrics = {\n",
    "    # \"test/avg-precision\": [\"mean\", \"std\"],\n",
    "    # \"validate/avg-precision-histavg\": [\"mean\",],\n",
    "    \"test/roc-auc\": [\"mean\", \"std\"],\n",
    "    \"validate/roc-auc-histavg\": [\"mean\",],\n",
    "}\n",
    "metric_cols = [(k, v) for k, list_vals in metrics.items() for v in list_vals]\n",
    "\n",
    "pt_all_metrics = pd.pivot_table(df, index=row_cols, columns=column_cols, aggfunc=metrics)\n",
    "\n",
    "# when it's a percentage\n",
    "pt_all_metrics = 100 * pt_all_metrics\n",
    "\n",
    "# pt_test_avg = pt_all_metrics[(\"test/avg-precision\", \"mean\")]\n",
    "pt_test_avg = pt_all_metrics[(\"test/roc-auc\", \"mean\")]\n",
    "pt_test_avg.loc[(\"\", \"object mean\"), :] = pt_test_avg.loc[\"object\"].mean(axis=0)\n",
    "pt_test_avg.loc[(\"\", \"texture mean\"), :] = pt_test_avg.loc[\"texture\"].mean(axis=0)\n",
    "pt_test_avg.loc[(\"\", \"all mean\"), :] = pt_test_avg.mean(axis=0)\n",
    "\n",
    "# pt_test_std = pt_all_metrics[(\"test/avg-precision\", \"std\")]\n",
    "pt_test_std = pt_all_metrics[(\"test/roc-auc\", \"std\")]\n",
    "pt_test_std.loc[(\"\", \"object mean\"), :] = pt_test_std.loc[\"object\"].mean(axis=0)\n",
    "pt_test_std.loc[(\"\", \"texture mean\"), :] = pt_test_std.loc[\"texture\"].mean(axis=0)\n",
    "pt_test_std.loc[(\"\", \"all mean\"), :] = pt_test_std.mean(axis=0)\n",
    "\n",
    "# pt_validate_histmean_avg = pt_all_metrics[(\"validate/avg-precision-histavg\", \"mean\")]\n",
    "pt_validate_histmean_avg = pt_all_metrics[(\"validate/roc-auc-histavg\", \"mean\")]\n",
    "pt_validate_histmean_avg.loc[(\"\", \"object mean\"), :] = pt_validate_histmean_avg.loc[\"object\"].mean(axis=0)\n",
    "pt_validate_histmean_avg.loc[(\"\", \"texture mean\"), :] = pt_validate_histmean_avg.loc[\"texture\"].mean(axis=0)\n",
    "pt_validate_histmean_avg.loc[(\"\", \"all mean\"), :] = pt_validate_histmean_avg.mean(axis=0)\n",
    "\n",
    "pt_composed = pt_test_avg.applymap(\"{:.1f}\".format) + \" \" + pt_test_std.applymap(\"({:.1f})\".format) + \" \" + pt_validate_histmean_avg.applymap(\"[{:.1f}]\".format)"
   ]
  },
  {
   "cell_type": "markdown",
   "metadata": {},
   "source": [
    "# compare all"
   ]
  },
  {
   "cell_type": "code",
   "execution_count": null,
   "metadata": {},
   "outputs": [],
   "source": [
    "pt = pt_composed.copy()\n",
    "pt_color_from = pt_test_avg.copy()\n",
    "color_mask = get_color_mask_compare_by_line_every_n_cols(pt_color_from, n=2)\n",
    "pt.style.apply(color_from_mask(color_mask), axis=None)"
   ]
  },
  {
   "cell_type": "markdown",
   "metadata": {},
   "source": [
    "# fixed loss"
   ]
  },
  {
   "cell_type": "markdown",
   "metadata": {},
   "source": [
    "## old-fcdd"
   ]
  },
  {
   "cell_type": "code",
   "execution_count": null,
   "metadata": {},
   "outputs": [],
   "source": [
    "pt = pt_composed.loc[:, (slice(None), \"old-fcdd\")].copy()\n",
    "pt_color_from = pt_test_avg.loc[:, (slice(None), \"old-fcdd\")].copy()\n",
    "color_mask = get_color_mask_compare_by_line_every_n_cols(pt_color_from, n=2)\n",
    "pt.style.apply(color_from_mask(color_mask), axis=None)"
   ]
  },
  {
   "cell_type": "markdown",
   "metadata": {},
   "source": [
    "## pixelwise-batch-avg"
   ]
  },
  {
   "cell_type": "code",
   "execution_count": null,
   "metadata": {},
   "outputs": [],
   "source": [
    "pt = pt_composed.loc[:, (slice(None), \"pixelwise-batch-avg\")].copy()\n",
    "pt_color_from = pt_test_avg.loc[:, (slice(None), \"pixelwise-batch-avg\")].copy()\n",
    "color_mask = get_color_mask_compare_by_line_every_n_cols(pt_color_from, n=2)\n",
    "pt.style.apply(color_from_mask(color_mask), axis=None)"
   ]
  },
  {
   "cell_type": "markdown",
   "metadata": {},
   "source": [
    "# fixed decay"
   ]
  },
  {
   "cell_type": "markdown",
   "metadata": {},
   "source": [
    "## higher decay"
   ]
  },
  {
   "cell_type": "code",
   "execution_count": null,
   "metadata": {},
   "outputs": [],
   "source": [
    "pt = pt_composed.loc[:, (slice(None), slice(None), \"higher decay\")].copy()\n",
    "pt_color_from = pt_test_avg.loc[:, (slice(None), slice(None), \"higher decay\")].copy()\n",
    "color_mask = get_color_mask_compare_by_line_every_n_cols(pt_color_from, n=2)\n",
    "pt.style.apply(color_from_mask(color_mask), axis=None)"
   ]
  },
  {
   "cell_type": "markdown",
   "metadata": {},
   "source": [
    "## equiv. decay"
   ]
  },
  {
   "cell_type": "code",
   "execution_count": null,
   "metadata": {},
   "outputs": [],
   "source": [
    "pt = pt_composed.loc[:, (slice(None), slice(None), \"equiv. decay\")].copy()\n",
    "pt_color_from = pt_test_avg.loc[:, (slice(None), slice(None), \"equiv. decay\")].copy()\n",
    "color_mask = get_color_mask_compare_by_line_every_n_cols(pt_color_from, n=2)\n",
    "pt.style.apply(color_from_mask(color_mask), axis=None)"
   ]
  },
  {
   "cell_type": "code",
   "execution_count": null,
   "metadata": {},
   "outputs": [],
   "source": [
    "pt = pt_composed.loc[:, (slice(None), \"old-fcdd\", \"equiv. decay\")].copy()\n",
    "pt\n",
    "pt_color_from = pt_test_avg.loc[:, (slice(None), \"old-fcdd\", \"equiv. decay\")].copy()\n",
    "color_mask = get_color_mask_compare_by_line_every_n_cols(pt_color_from, n=2)\n",
    "# pt.style.apply(color_from_mask(color_mask), axis=None)"
   ]
  }
 ],
 "metadata": {
  "kernelspec": {
   "display_name": "Python 3.9.12 ('genv')",
   "language": "python",
   "name": "python3"
  },
  "language_info": {
   "codemirror_mode": {
    "name": "ipython",
    "version": 3
   },
   "file_extension": ".py",
   "mimetype": "text/x-python",
   "name": "python",
   "nbconvert_exporter": "python",
   "pygments_lexer": "ipython3",
   "version": "3.9.12"
  },
  "orig_nbformat": 4,
  "vscode": {
   "interpreter": {
    "hash": "dbefe0203beb0481e6605383038aac293a16213add0aaad9c445996a9034b637"
   }
  }
 },
 "nbformat": 4,
 "nbformat_minor": 2
}

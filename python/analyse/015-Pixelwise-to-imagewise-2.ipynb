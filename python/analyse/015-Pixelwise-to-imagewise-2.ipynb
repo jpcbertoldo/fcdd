{
 "cells": [
  {
   "cell_type": "markdown",
   "metadata": {},
   "source": [
    "# ROC AUC Plot for Carpet class in mvtec"
   ]
  },
  {
   "cell_type": "code",
   "execution_count": 1,
   "metadata": {},
   "outputs": [],
   "source": [
    "# make a cell print all the outputs instead of just the last one\n",
    "from IPython.core.interactiveshell import InteractiveShell\n",
    "InteractiveShell.ast_node_interactivity = \"all\""
   ]
  },
  {
   "cell_type": "markdown",
   "metadata": {},
   "source": [
    "## Evaluation"
   ]
  },
  {
   "cell_type": "markdown",
   "metadata": {},
   "source": [
    "### Set up"
   ]
  },
  {
   "cell_type": "code",
   "execution_count": 2,
   "metadata": {},
   "outputs": [
    {
     "name": "stdout",
     "output_type": "stream",
     "text": [
      "c:\\Users\\Public\\Documents\\DIMA\\fcdd\\python\\analyse\n"
     ]
    }
   ],
   "source": [
    "%cd \"C:\\Users\\Public\\Documents\\DIMA\\fcdd\\python\\analyse\""
   ]
  },
  {
   "cell_type": "code",
   "execution_count": 3,
   "metadata": {},
   "outputs": [],
   "source": [
    "from pathlib import Path\n",
    "\n",
    "FIGS_DIR = Path(\".\") / \"figs\"\n",
    "FIGS_DIR.mkdir(exist_ok=True)\n",
    "\n",
    "DATA_DIR = Path(\".\") / \"data\" # est-ce le bon dossier ?\n",
    "DATA_DIR.mkdir(exist_ok=True)\n",
    "\n",
    "SNAPSHOTS_DIR = Path(\"../../data\")\n",
    "assert SNAPSHOTS_DIR.exists()\n",
    "\n",
    "MVTECAD_DIR = Path(\"../../data/datasets/mvtec\") # est-ce le bon dossier ?\n",
    "assert MVTECAD_DIR.exists()\n",
    "\n",
    "RECORDS_FPATH = DATA_DIR / \"snapshot.pt\"\n",
    "\n",
    "HEATMAPS_DIR = Path(\".\") / \"data\" / \"generated_heatmaps\" / \"carpet_train_test\""
   ]
  },
  {
   "cell_type": "code",
   "execution_count": 4,
   "metadata": {},
   "outputs": [],
   "source": [
    "%matplotlib inline"
   ]
  },
  {
   "cell_type": "code",
   "execution_count": 5,
   "metadata": {},
   "outputs": [],
   "source": [
    "import numpy as np"
   ]
  },
  {
   "cell_type": "markdown",
   "metadata": {},
   "source": [
    "## Load datasets"
   ]
  },
  {
   "cell_type": "markdown",
   "metadata": {},
   "source": [
    "### Load images"
   ]
  },
  {
   "cell_type": "code",
   "execution_count": 6,
   "metadata": {},
   "outputs": [
    {
     "name": "stdout",
     "output_type": "stream",
     "text": [
      "classdir.name='carpet'\n",
      "testdir.name='test'\n",
      "typedir.name='color'\n",
      "len(img_paths)=19\n",
      "typedir.name='cut'\n",
      "len(img_paths)=17\n",
      "typedir.name='good'\n",
      "len(img_paths)=28\n",
      "typedir.name='hole'\n",
      "len(img_paths)=17\n",
      "typedir.name='metal_contamination'\n",
      "len(img_paths)=17\n",
      "typedir.name='thread'\n",
      "len(img_paths)=19\n",
      "------------------------------\n",
      "len(imgs)=397\n"
     ]
    }
   ],
   "source": [
    "IMAGES_GLOB = \"*.png\"\n",
    "\n",
    "imgs = []\n",
    "\n",
    "# We only want the \"carpet\" class\n",
    "# If you want all the classes, use a for loop (see notebook 010-generate-predictions-from-snapshots)\n",
    "classdir = MVTECAD_DIR / \"carpet\"\n",
    "\n",
    "\n",
    "print(f\"{classdir.name=}\")\n",
    "\n",
    "traindir = classdir / \"train\"\n",
    "testdir = classdir / \"test\"\n",
    "\n",
    "print(f\"{testdir.name=}\")\n",
    "\n",
    "for typedir in testdir.glob(\"*\"):\n",
    "    \n",
    "    if not typedir.is_dir():\n",
    "        continue\n",
    "    \n",
    "    print(f\"{typedir.name=}\")\n",
    "    \n",
    "    img_paths = list(typedir.glob(IMAGES_GLOB))\n",
    "    \n",
    "    if len(img_paths) == 0:\n",
    "        print(\"empty dir\")\n",
    "        continue  \n",
    "    \n",
    "    print(f\"{len(img_paths)=}\")      \n",
    "    \n",
    "    for imgpath in img_paths:\n",
    "        imgs.append({\n",
    "            \"imgpath\": imgpath.resolve(),\n",
    "            \"class\": classdir.name,\n",
    "            \"type\": typedir.name,\n",
    "            \"set\": \"test\",\n",
    "            \"imgidx\": int(imgpath.stem),\n",
    "        })\n",
    "\n",
    "img_paths = list((traindir / \"good\").glob(IMAGES_GLOB))\n",
    "\n",
    "if len(img_paths) == 0:\n",
    "    print(\"empty dir\")\n",
    "\n",
    "else:\n",
    "    for imgpath in img_paths:\n",
    "        imgs.append({\n",
    "            \"imgpath\": imgpath.resolve(),\n",
    "            \"class\": classdir.name,\n",
    "            \"type\": \"good\",\n",
    "            \"set\": \"train\",\n",
    "            \"imgidx\": int(imgpath.stem),\n",
    "        })    \n",
    "\n",
    "print(30 * \"-\")\n",
    "\n",
    "print(f\"{len(imgs)=}\")"
   ]
  },
  {
   "cell_type": "code",
   "execution_count": 7,
   "metadata": {},
   "outputs": [
    {
     "data": {
      "text/html": [
       "<div>\n",
       "<style scoped>\n",
       "    .dataframe tbody tr th:only-of-type {\n",
       "        vertical-align: middle;\n",
       "    }\n",
       "\n",
       "    .dataframe tbody tr th {\n",
       "        vertical-align: top;\n",
       "    }\n",
       "\n",
       "    .dataframe thead th {\n",
       "        text-align: right;\n",
       "    }\n",
       "</style>\n",
       "<table border=\"1\" class=\"dataframe\">\n",
       "  <thead>\n",
       "    <tr style=\"text-align: right;\">\n",
       "      <th></th>\n",
       "      <th></th>\n",
       "      <th></th>\n",
       "      <th></th>\n",
       "      <th>imgpath</th>\n",
       "    </tr>\n",
       "    <tr>\n",
       "      <th>class</th>\n",
       "      <th>set</th>\n",
       "      <th>type</th>\n",
       "      <th>imgidx</th>\n",
       "      <th></th>\n",
       "    </tr>\n",
       "  </thead>\n",
       "  <tbody>\n",
       "    <tr>\n",
       "      <th rowspan=\"11\" valign=\"top\">carpet</th>\n",
       "      <th rowspan=\"5\" valign=\"top\">test</th>\n",
       "      <th rowspan=\"5\" valign=\"top\">color</th>\n",
       "      <th>0</th>\n",
       "      <td>C:\\Users\\Public\\Documents\\DIMA\\fcdd\\data\\datas...</td>\n",
       "    </tr>\n",
       "    <tr>\n",
       "      <th>1</th>\n",
       "      <td>C:\\Users\\Public\\Documents\\DIMA\\fcdd\\data\\datas...</td>\n",
       "    </tr>\n",
       "    <tr>\n",
       "      <th>2</th>\n",
       "      <td>C:\\Users\\Public\\Documents\\DIMA\\fcdd\\data\\datas...</td>\n",
       "    </tr>\n",
       "    <tr>\n",
       "      <th>3</th>\n",
       "      <td>C:\\Users\\Public\\Documents\\DIMA\\fcdd\\data\\datas...</td>\n",
       "    </tr>\n",
       "    <tr>\n",
       "      <th>4</th>\n",
       "      <td>C:\\Users\\Public\\Documents\\DIMA\\fcdd\\data\\datas...</td>\n",
       "    </tr>\n",
       "    <tr>\n",
       "      <th>...</th>\n",
       "      <th>...</th>\n",
       "      <th>...</th>\n",
       "      <td>...</td>\n",
       "    </tr>\n",
       "    <tr>\n",
       "      <th rowspan=\"5\" valign=\"top\">train</th>\n",
       "      <th rowspan=\"5\" valign=\"top\">good</th>\n",
       "      <th>275</th>\n",
       "      <td>C:\\Users\\Public\\Documents\\DIMA\\fcdd\\data\\datas...</td>\n",
       "    </tr>\n",
       "    <tr>\n",
       "      <th>276</th>\n",
       "      <td>C:\\Users\\Public\\Documents\\DIMA\\fcdd\\data\\datas...</td>\n",
       "    </tr>\n",
       "    <tr>\n",
       "      <th>277</th>\n",
       "      <td>C:\\Users\\Public\\Documents\\DIMA\\fcdd\\data\\datas...</td>\n",
       "    </tr>\n",
       "    <tr>\n",
       "      <th>278</th>\n",
       "      <td>C:\\Users\\Public\\Documents\\DIMA\\fcdd\\data\\datas...</td>\n",
       "    </tr>\n",
       "    <tr>\n",
       "      <th>279</th>\n",
       "      <td>C:\\Users\\Public\\Documents\\DIMA\\fcdd\\data\\datas...</td>\n",
       "    </tr>\n",
       "  </tbody>\n",
       "</table>\n",
       "<p>397 rows × 1 columns</p>\n",
       "</div>"
      ],
      "text/plain": [
       "                                                                     imgpath\n",
       "class  set   type  imgidx                                                   \n",
       "carpet test  color 0       C:\\Users\\Public\\Documents\\DIMA\\fcdd\\data\\datas...\n",
       "                   1       C:\\Users\\Public\\Documents\\DIMA\\fcdd\\data\\datas...\n",
       "                   2       C:\\Users\\Public\\Documents\\DIMA\\fcdd\\data\\datas...\n",
       "                   3       C:\\Users\\Public\\Documents\\DIMA\\fcdd\\data\\datas...\n",
       "                   4       C:\\Users\\Public\\Documents\\DIMA\\fcdd\\data\\datas...\n",
       "...                                                                      ...\n",
       "       train good  275     C:\\Users\\Public\\Documents\\DIMA\\fcdd\\data\\datas...\n",
       "                   276     C:\\Users\\Public\\Documents\\DIMA\\fcdd\\data\\datas...\n",
       "                   277     C:\\Users\\Public\\Documents\\DIMA\\fcdd\\data\\datas...\n",
       "                   278     C:\\Users\\Public\\Documents\\DIMA\\fcdd\\data\\datas...\n",
       "                   279     C:\\Users\\Public\\Documents\\DIMA\\fcdd\\data\\datas...\n",
       "\n",
       "[397 rows x 1 columns]"
      ]
     },
     "execution_count": 7,
     "metadata": {},
     "output_type": "execute_result"
    }
   ],
   "source": [
    "import pandas as pd\n",
    "imgs = pd.DataFrame.from_records(data=imgs).set_index([\"class\", \"set\", \"type\", \"imgidx\"])\n",
    "imgs"
   ]
  },
  {
   "cell_type": "code",
   "execution_count": 8,
   "metadata": {},
   "outputs": [
    {
     "data": {
      "text/plain": [
       "(397, 224, 224, 3)"
      ]
     },
     "execution_count": 8,
     "metadata": {},
     "output_type": "execute_result"
    }
   ],
   "source": [
    "from matplotlib import image\n",
    "from skimage import data, color\n",
    "from skimage.transform import rescale, resize, downscale_local_mean\n",
    "\n",
    "images_loaded = []\n",
    "\n",
    "for path in list(imgs[\"imgpath\"].to_numpy()):\n",
    "    img = image.imread(path)\n",
    "    img_resized = resize(img, (224, 224),\n",
    "                       anti_aliasing=True)\n",
    "    images_loaded.append(img_resized)\n",
    "\n",
    "images_loaded = np.array(images_loaded)\n",
    "images_loaded.shape"
   ]
  },
  {
   "cell_type": "code",
   "execution_count": 9,
   "metadata": {},
   "outputs": [
    {
     "data": {
      "text/plain": [
       "(397, 3, 224, 224)"
      ]
     },
     "execution_count": 9,
     "metadata": {},
     "output_type": "execute_result"
    }
   ],
   "source": [
    "images_loaded = np.reshape(images_loaded, (397, 3, 224, 224))\n",
    "images_loaded.shape"
   ]
  },
  {
   "cell_type": "markdown",
   "metadata": {},
   "source": [
    "### Load heatmaps"
   ]
  },
  {
   "cell_type": "code",
   "execution_count": 10,
   "metadata": {},
   "outputs": [
    {
     "data": {
      "text/plain": [
       "(397, 224, 224, 4)"
      ]
     },
     "execution_count": 10,
     "metadata": {},
     "output_type": "execute_result"
    }
   ],
   "source": [
    "IMAGES_GLOB = \"*.png\"\n",
    "\n",
    "heatmaps_loaded = []\n",
    "\n",
    "heatmaps_dir = HEATMAPS_DIR\n",
    "\n",
    "for hm_path in heatmaps_dir.glob(\"*\"):\n",
    "    hm = image.imread(hm_path)\n",
    "    hm_resized = resize(hm, (224, 224),\n",
    "                       anti_aliasing=True)\n",
    "    heatmaps_loaded.append(hm_resized)\n",
    "\n",
    "heatmaps_loaded = np.array(heatmaps_loaded)\n",
    "heatmaps_loaded.shape\n",
    "    "
   ]
  },
  {
   "cell_type": "code",
   "execution_count": 11,
   "metadata": {},
   "outputs": [
    {
     "data": {
      "text/plain": [
       "(397, 224, 224)"
      ]
     },
     "execution_count": 11,
     "metadata": {},
     "output_type": "execute_result"
    }
   ],
   "source": [
    "# We reduce to only one dimension per pixel:\n",
    "\n",
    "heatmaps_reduced_loaded = []\n",
    "\n",
    "for hm in heatmaps_loaded:\n",
    "    # hm.shape\n",
    "    heatmaps_reduced_loaded.append(np.mean(hm, 2))\n",
    "\n",
    "heatmaps_reduced_loaded = np.array(heatmaps_reduced_loaded)\n",
    "heatmaps_reduced_loaded.shape"
   ]
  },
  {
   "cell_type": "code",
   "execution_count": 41,
   "metadata": {},
   "outputs": [
    {
     "data": {
      "text/plain": [
       "<matplotlib.image.AxesImage at 0x23b36af1d90>"
      ]
     },
     "execution_count": 41,
     "metadata": {},
     "output_type": "execute_result"
    },
    {
     "data": {
      "text/plain": [
       "<matplotlib.image.AxesImage at 0x23b369f2b80>"
      ]
     },
     "execution_count": 41,
     "metadata": {},
     "output_type": "execute_result"
    },
    {
     "data": {
      "image/png": "[encoded data removed]",
      "text/plain": [
       "<Figure size 432x288 with 1 Axes>"
      ]
     },
     "metadata": {
      "needs_background": "light"
     },
     "output_type": "display_data"
    }
   ],
   "source": [
    "# im_test1 = heatmaps_loaded[0]\n",
    "# im_test2 = heatmaps_reduced_loaded[0]\n",
    "# import matplotlib.pyplot as plt\n",
    "# plt.imshow(im_test1)\n",
    "# plt.imshow(im_test2)"
   ]
  },
  {
   "cell_type": "markdown",
   "metadata": {},
   "source": [
    "### Pair images and heatmaps"
   ]
  },
  {
   "cell_type": "code",
   "execution_count": 12,
   "metadata": {},
   "outputs": [],
   "source": [
    "import torch"
   ]
  },
  {
   "cell_type": "code",
   "execution_count": 13,
   "metadata": {},
   "outputs": [
    {
     "data": {
      "text/plain": [
       "torch.Size([397, 1, 224, 224])"
      ]
     },
     "execution_count": 13,
     "metadata": {},
     "output_type": "execute_result"
    }
   ],
   "source": [
    "heatmaps_reduced_loaded = torch.from_numpy(heatmaps_reduced_loaded)\n",
    "heatmaps_reduced_loaded = torch.squeeze(heatmaps_reduced_loaded)\n",
    "heatmaps_reduced_loaded = torch.unsqueeze(heatmaps_reduced_loaded, 1)\n",
    "heatmaps_reduced_loaded.shape"
   ]
  },
  {
   "cell_type": "code",
   "execution_count": 14,
   "metadata": {},
   "outputs": [
    {
     "data": {
      "text/plain": [
       "torch.Size([397, 3, 224, 224])"
      ]
     },
     "execution_count": 14,
     "metadata": {},
     "output_type": "execute_result"
    }
   ],
   "source": [
    "images_loaded = torch.from_numpy(images_loaded)\n",
    "images_loaded.shape"
   ]
  },
  {
   "cell_type": "code",
   "execution_count": 15,
   "metadata": {},
   "outputs": [
    {
     "data": {
      "text/plain": [
       "torch.Size([397, 4, 224, 224])"
      ]
     },
     "execution_count": 15,
     "metadata": {},
     "output_type": "execute_result"
    }
   ],
   "source": [
    "train_images = torch.cat((images_loaded, heatmaps_reduced_loaded), 1)\n",
    "train_images.shape"
   ]
  },
  {
   "cell_type": "markdown",
   "metadata": {},
   "source": [
    "## Get labels"
   ]
  },
  {
   "cell_type": "markdown",
   "metadata": {},
   "source": [
    "### Load masks of test set"
   ]
  },
  {
   "cell_type": "code",
   "execution_count": 16,
   "metadata": {},
   "outputs": [
    {
     "name": "stdout",
     "output_type": "stream",
     "text": [
      "classdir.name='carpet'\n",
      "groundtruthdir.name='ground_truth'\n",
      "typedir.name='color'\n",
      "len(masks_paths)=19\n",
      "typedir.name='cut'\n",
      "len(masks_paths)=17\n",
      "typedir.name='hole'\n",
      "len(masks_paths)=17\n",
      "typedir.name='metal_contamination'\n",
      "len(masks_paths)=17\n",
      "typedir.name='thread'\n",
      "len(masks_paths)=19\n",
      "------------------------------\n",
      "len(masks_test)=89\n"
     ]
    }
   ],
   "source": [
    "MASKS_GLOB = \"*.png\"\n",
    "\n",
    "masks_test = []\n",
    "\n",
    "# We only want the \"carpet\" class\n",
    "# If you want all the classes, use a for loop (see notebook 010-generate-predictions-from-snapshots)\n",
    "\n",
    "classdir = MVTECAD_DIR / \"carpet\"\n",
    "\n",
    "print(f\"{classdir.name=}\")\n",
    "\n",
    "groundtruthdir = classdir / \"ground_truth\"\n",
    "\n",
    "print(f\"{groundtruthdir.name=}\")\n",
    "\n",
    "for typedir in groundtruthdir.glob(\"*\"):\n",
    "    \n",
    "    if not typedir.is_dir():\n",
    "        continue\n",
    "    \n",
    "    print(f\"{typedir.name=}\")\n",
    "    \n",
    "    masks_paths = list(typedir.glob(MASKS_GLOB))\n",
    "    \n",
    "    if len(masks_paths) == 0:\n",
    "        print(\"empty dir\")\n",
    "        continue\n",
    "    \n",
    "    print(f\"{len(masks_paths)=}\")\n",
    "    \n",
    "    for maskpath in masks_paths:\n",
    "        masks_test.append({\n",
    "            \"mask_path\": maskpath.resolve(),\n",
    "            \"class\": classdir.name,\n",
    "            \"type\": typedir.name,\n",
    "            \"set\": \"ground_truth\",\n",
    "            \"mask_idx\": int(maskpath.stem[:3]),\n",
    "        })\n",
    "        \n",
    "\n",
    "print(30 * \"-\")\n",
    "\n",
    "print(f\"{len(masks_test)=}\")"
   ]
  },
  {
   "cell_type": "code",
   "execution_count": 18,
   "metadata": {},
   "outputs": [
    {
     "data": {
      "text/html": [
       "<div>\n",
       "<style scoped>\n",
       "    .dataframe tbody tr th:only-of-type {\n",
       "        vertical-align: middle;\n",
       "    }\n",
       "\n",
       "    .dataframe tbody tr th {\n",
       "        vertical-align: top;\n",
       "    }\n",
       "\n",
       "    .dataframe thead th {\n",
       "        text-align: right;\n",
       "    }\n",
       "</style>\n",
       "<table border=\"1\" class=\"dataframe\">\n",
       "  <thead>\n",
       "    <tr style=\"text-align: right;\">\n",
       "      <th></th>\n",
       "      <th></th>\n",
       "      <th></th>\n",
       "      <th></th>\n",
       "      <th>mask_path</th>\n",
       "    </tr>\n",
       "    <tr>\n",
       "      <th>class</th>\n",
       "      <th>type</th>\n",
       "      <th>set</th>\n",
       "      <th>mask_idx</th>\n",
       "      <th></th>\n",
       "    </tr>\n",
       "  </thead>\n",
       "  <tbody>\n",
       "    <tr>\n",
       "      <th rowspan=\"11\" valign=\"top\">carpet</th>\n",
       "      <th rowspan=\"5\" valign=\"top\">color</th>\n",
       "      <th rowspan=\"5\" valign=\"top\">ground_truth</th>\n",
       "      <th>0</th>\n",
       "      <td>C:\\Users\\Public\\Documents\\DIMA\\fcdd\\data\\datas...</td>\n",
       "    </tr>\n",
       "    <tr>\n",
       "      <th>1</th>\n",
       "      <td>C:\\Users\\Public\\Documents\\DIMA\\fcdd\\data\\datas...</td>\n",
       "    </tr>\n",
       "    <tr>\n",
       "      <th>2</th>\n",
       "      <td>C:\\Users\\Public\\Documents\\DIMA\\fcdd\\data\\datas...</td>\n",
       "    </tr>\n",
       "    <tr>\n",
       "      <th>3</th>\n",
       "      <td>C:\\Users\\Public\\Documents\\DIMA\\fcdd\\data\\datas...</td>\n",
       "    </tr>\n",
       "    <tr>\n",
       "      <th>4</th>\n",
       "      <td>C:\\Users\\Public\\Documents\\DIMA\\fcdd\\data\\datas...</td>\n",
       "    </tr>\n",
       "    <tr>\n",
       "      <th>...</th>\n",
       "      <th>...</th>\n",
       "      <th>...</th>\n",
       "      <td>...</td>\n",
       "    </tr>\n",
       "    <tr>\n",
       "      <th rowspan=\"5\" valign=\"top\">thread</th>\n",
       "      <th rowspan=\"5\" valign=\"top\">ground_truth</th>\n",
       "      <th>14</th>\n",
       "      <td>C:\\Users\\Public\\Documents\\DIMA\\fcdd\\data\\datas...</td>\n",
       "    </tr>\n",
       "    <tr>\n",
       "      <th>15</th>\n",
       "      <td>C:\\Users\\Public\\Documents\\DIMA\\fcdd\\data\\datas...</td>\n",
       "    </tr>\n",
       "    <tr>\n",
       "      <th>16</th>\n",
       "      <td>C:\\Users\\Public\\Documents\\DIMA\\fcdd\\data\\datas...</td>\n",
       "    </tr>\n",
       "    <tr>\n",
       "      <th>17</th>\n",
       "      <td>C:\\Users\\Public\\Documents\\DIMA\\fcdd\\data\\datas...</td>\n",
       "    </tr>\n",
       "    <tr>\n",
       "      <th>18</th>\n",
       "      <td>C:\\Users\\Public\\Documents\\DIMA\\fcdd\\data\\datas...</td>\n",
       "    </tr>\n",
       "  </tbody>\n",
       "</table>\n",
       "<p>89 rows × 1 columns</p>\n",
       "</div>"
      ],
      "text/plain": [
       "                                                                             mask_path\n",
       "class  type   set          mask_idx                                                   \n",
       "carpet color  ground_truth 0         C:\\Users\\Public\\Documents\\DIMA\\fcdd\\data\\datas...\n",
       "                           1         C:\\Users\\Public\\Documents\\DIMA\\fcdd\\data\\datas...\n",
       "                           2         C:\\Users\\Public\\Documents\\DIMA\\fcdd\\data\\datas...\n",
       "                           3         C:\\Users\\Public\\Documents\\DIMA\\fcdd\\data\\datas...\n",
       "                           4         C:\\Users\\Public\\Documents\\DIMA\\fcdd\\data\\datas...\n",
       "...                                                                                ...\n",
       "       thread ground_truth 14        C:\\Users\\Public\\Documents\\DIMA\\fcdd\\data\\datas...\n",
       "                           15        C:\\Users\\Public\\Documents\\DIMA\\fcdd\\data\\datas...\n",
       "                           16        C:\\Users\\Public\\Documents\\DIMA\\fcdd\\data\\datas...\n",
       "                           17        C:\\Users\\Public\\Documents\\DIMA\\fcdd\\data\\datas...\n",
       "                           18        C:\\Users\\Public\\Documents\\DIMA\\fcdd\\data\\datas...\n",
       "\n",
       "[89 rows x 1 columns]"
      ]
     },
     "execution_count": 18,
     "metadata": {},
     "output_type": "execute_result"
    }
   ],
   "source": [
    "import pandas as pd\n",
    "df_masks_test = pd.DataFrame.from_records(data=masks_test).set_index([\"class\", \"type\", \"set\", \"mask_idx\"])\n",
    "df_masks_test"
   ]
  },
  {
   "cell_type": "markdown",
   "metadata": {},
   "source": [
    "#### Complete the masks of the test set"
   ]
  },
  {
   "cell_type": "code",
   "execution_count": 19,
   "metadata": {},
   "outputs": [],
   "source": [
    "from matplotlib import image\n",
    "from skimage import data, color\n",
    "from skimage.transform import rescale, resize, downscale_local_mean\n",
    "\n",
    "masks_test_anormal = []\n",
    "\n",
    "for path in list(df_masks_test[\"mask_path\"].to_numpy()):\n",
    "    img = image.imread(path)\n",
    "    img_resized = resize(img, (224, 224),\n",
    "                       anti_aliasing=True)\n",
    "    masks_test_anormal.append(img_resized)"
   ]
  },
  {
   "cell_type": "code",
   "execution_count": 20,
   "metadata": {},
   "outputs": [],
   "source": [
    "masks_test_normal = []\n",
    "for i in range(28):\n",
    "    mask = np.zeros((224,224))\n",
    "    masks_test_normal.append(mask)"
   ]
  },
  {
   "cell_type": "code",
   "execution_count": 21,
   "metadata": {},
   "outputs": [
    {
     "data": {
      "text/plain": [
       "(117, 224, 224)"
      ]
     },
     "execution_count": 21,
     "metadata": {},
     "output_type": "execute_result"
    }
   ],
   "source": [
    "all_masks_test = np.array(masks_test_anormal[:36]+masks_test_normal+masks_test_anormal[36:])\n",
    "all_masks_test.shape"
   ]
  },
  {
   "cell_type": "markdown",
   "metadata": {},
   "source": [
    "### Create the masks of the train set"
   ]
  },
  {
   "cell_type": "code",
   "execution_count": 22,
   "metadata": {},
   "outputs": [
    {
     "data": {
      "text/plain": [
       "(280, 224, 224)"
      ]
     },
     "execution_count": 22,
     "metadata": {},
     "output_type": "execute_result"
    }
   ],
   "source": [
    "masks_train = []\n",
    "\n",
    "img_nb = 280\n",
    "\n",
    "for i in range(img_nb):\n",
    "    mask = np.zeros((224,224))\n",
    "    masks_train.append(mask)\n",
    "\n",
    "masks_train = np.array(masks_train)\n",
    "masks_train.shape"
   ]
  },
  {
   "cell_type": "markdown",
   "metadata": {},
   "source": [
    "### Combine the two sets of masks"
   ]
  },
  {
   "cell_type": "code",
   "execution_count": 23,
   "metadata": {},
   "outputs": [],
   "source": [
    "masks = np.concatenate((all_masks_test, masks_train))"
   ]
  },
  {
   "cell_type": "markdown",
   "metadata": {},
   "source": [
    "### From the masks get the label"
   ]
  },
  {
   "cell_type": "code",
   "execution_count": 56,
   "metadata": {},
   "outputs": [
    {
     "data": {
      "text/plain": [
       "(397,)"
      ]
     },
     "execution_count": 56,
     "metadata": {},
     "output_type": "execute_result"
    },
    {
     "name": "stdout",
     "output_type": "stream",
     "text": [
      "[1. 1. 1. 1. 1. 1. 1. 1. 1. 1. 1. 1. 1. 1. 1. 1. 1. 1. 1. 1. 1. 1. 1. 1.\n",
      " 1. 1. 1. 1. 1. 1. 1. 1. 1. 1. 1. 1. 0. 0. 0. 0. 0. 0. 0. 0. 0. 0. 0. 0.\n",
      " 0. 0. 0. 0. 0. 0. 0. 0. 0. 0. 0. 0. 0. 0. 0. 0. 1. 1. 1. 1. 1. 1. 1. 1.\n",
      " 1. 1. 1. 1. 1. 1. 1. 1. 1. 1. 1. 1. 1. 1. 1. 1. 1. 1. 1. 1. 1. 1. 1. 1.\n",
      " 1. 1. 1. 1. 1. 1. 1. 1. 1. 1. 1. 1. 1. 1. 1. 1. 1. 1. 1. 1. 1. 0. 0. 0.\n",
      " 0. 0. 0. 0. 0. 0. 0. 0. 0. 0. 0. 0. 0. 0. 0. 0. 0. 0. 0. 0. 0. 0. 0. 0.\n",
      " 0. 0. 0. 0. 0. 0. 0. 0. 0. 0. 0. 0. 0. 0. 0. 0. 0. 0. 0. 0. 0. 0. 0. 0.\n",
      " 0. 0. 0. 0. 0. 0. 0. 0. 0. 0. 0. 0. 0. 0. 0. 0. 0. 0. 0. 0. 0. 0. 0. 0.\n",
      " 0. 0. 0. 0. 0. 0. 0. 0. 0. 0. 0. 0. 0. 0. 0. 0. 0. 0. 0. 0. 0. 0. 0. 0.\n",
      " 0. 0. 0. 0. 0. 0. 0. 0. 0. 0. 0. 0. 0. 0. 0. 0. 0. 0. 0. 0. 0. 0. 0. 0.\n",
      " 0. 0. 0. 0. 0. 0. 0. 0. 0. 0. 0. 0. 0. 0. 0. 0. 0. 0. 0. 0. 0. 0. 0. 0.\n",
      " 0. 0. 0. 0. 0. 0. 0. 0. 0. 0. 0. 0. 0. 0. 0. 0. 0. 0. 0. 0. 0. 0. 0. 0.\n",
      " 0. 0. 0. 0. 0. 0. 0. 0. 0. 0. 0. 0. 0. 0. 0. 0. 0. 0. 0. 0. 0. 0. 0. 0.\n",
      " 0. 0. 0. 0. 0. 0. 0. 0. 0. 0. 0. 0. 0. 0. 0. 0. 0. 0. 0. 0. 0. 0. 0. 0.\n",
      " 0. 0. 0. 0. 0. 0. 0. 0. 0. 0. 0. 0. 0. 0. 0. 0. 0. 0. 0. 0. 0. 0. 0. 0.\n",
      " 0. 0. 0. 0. 0. 0. 0. 0. 0. 0. 0. 0. 0. 0. 0. 0. 0. 0. 0. 0. 0. 0. 0. 0.\n",
      " 0. 0. 0. 0. 0. 0. 0. 0. 0. 0. 0. 0. 0.]\n"
     ]
    }
   ],
   "source": [
    "labels = np.any(masks, axis=(1,2)).astype(float)\n",
    "labels.shape\n",
    "print(labels)"
   ]
  },
  {
   "cell_type": "code",
   "execution_count": 57,
   "metadata": {},
   "outputs": [],
   "source": [
    "# # Provisoire\n",
    "# labels = [1. for i in range(36)] + [0. for i in range(28)] + [1. for i in range(53)] + [0. for i in range(280)]\n",
    "# labels = np.array(labels)"
   ]
  },
  {
   "cell_type": "code",
   "execution_count": 58,
   "metadata": {},
   "outputs": [
    {
     "data": {
      "text/plain": [
       "torch.Size([397])"
      ]
     },
     "execution_count": 58,
     "metadata": {},
     "output_type": "execute_result"
    }
   ],
   "source": [
    "labels = torch.from_numpy(labels)\n",
    "labels.shape"
   ]
  },
  {
   "cell_type": "markdown",
   "metadata": {},
   "source": [
    "## Learning of classification"
   ]
  },
  {
   "cell_type": "markdown",
   "metadata": {},
   "source": [
    "### Create sets"
   ]
  },
  {
   "cell_type": "code",
   "execution_count": 59,
   "metadata": {},
   "outputs": [],
   "source": [
    "labels = labels.type(torch.LongTensor)"
   ]
  },
  {
   "cell_type": "code",
   "execution_count": 60,
   "metadata": {},
   "outputs": [
    {
     "data": {
      "text/plain": [
       "torch.Size([265, 4, 224, 224])"
      ]
     },
     "execution_count": 60,
     "metadata": {},
     "output_type": "execute_result"
    },
    {
     "data": {
      "text/plain": [
       "torch.Size([265])"
      ]
     },
     "execution_count": 60,
     "metadata": {},
     "output_type": "execute_result"
    },
    {
     "data": {
      "text/plain": [
       "torch.Size([132, 4, 224, 224])"
      ]
     },
     "execution_count": 60,
     "metadata": {},
     "output_type": "execute_result"
    },
    {
     "data": {
      "text/plain": [
       "torch.Size([132])"
      ]
     },
     "execution_count": 60,
     "metadata": {},
     "output_type": "execute_result"
    }
   ],
   "source": [
    "import sklearn.model_selection as sk\n",
    "\n",
    "X_train, X_test, y_train, y_test = sk.train_test_split(train_images, labels, test_size=0.33, random_state = 42)\n",
    "X_train.shape\n",
    "y_train.shape\n",
    "X_test.shape\n",
    "y_test.shape"
   ]
  },
  {
   "cell_type": "markdown",
   "metadata": {},
   "source": [
    "### Create a CNN"
   ]
  },
  {
   "cell_type": "code",
   "execution_count": 61,
   "metadata": {},
   "outputs": [],
   "source": [
    "import torch.nn as nn\n",
    "import torch.nn.functional as F"
   ]
  },
  {
   "cell_type": "code",
   "execution_count": 62,
   "metadata": {},
   "outputs": [],
   "source": [
    "in_size = 4\n",
    "hid1_size = 8\n",
    "hid2_size = 16\n",
    "hid3_size = 32\n",
    "# hid4_size = 16\n",
    "out_size = 2\n",
    "k_conv_size = 3"
   ]
  },
  {
   "cell_type": "code",
   "execution_count": 63,
   "metadata": {},
   "outputs": [],
   "source": [
    "class ConvNet(nn.Module):\n",
    "\n",
    "    def __init__(self):\n",
    "\n",
    "        super(ConvNet, self).__init__()\n",
    "\n",
    "        self.layer1 = nn.Sequential(\n",
    "            nn.Conv2d(in_size, hid1_size, k_conv_size),\n",
    "            nn.BatchNorm2d(hid1_size),\n",
    "            nn.ReLU(),\n",
    "            # nn.MaxPool2d(kernel_size=2),\n",
    "            nn.Conv2d(hid1_size, hid1_size, kernel_size=2, stride=2, padding=0)\n",
    "        )\n",
    "\n",
    "        self.layer2 = nn.Sequential(\n",
    "            nn.Conv2d(hid1_size, hid2_size, k_conv_size),\n",
    "            nn.BatchNorm2d(hid2_size),\n",
    "            nn.ReLU(),\n",
    "            # nn.MaxPool2d(kernel_size=2),\n",
    "            nn.Conv2d(hid2_size, hid2_size, kernel_size=2, stride=2, padding=0)\n",
    "        )\n",
    "\n",
    "        self.layer3 = nn.Sequential(\n",
    "            nn.Conv2d(hid2_size, hid3_size, k_conv_size),\n",
    "            nn.BatchNorm2d(hid3_size),\n",
    "            nn.ReLU(),\n",
    "            nn.MaxPool2d(kernel_size=2),\n",
    "        )\n",
    "\n",
    "        # self.layer4 = nn.Sequential(\n",
    "        #     nn.Conv2d(hid3_size, hid4_size, 5),\n",
    "        #     nn.BatchNorm2d(hid4_size),\n",
    "        #     nn.ReLU(),\n",
    "        #     nn.MaxPool2d(kernel_size=12),\n",
    "        # )\n",
    "\n",
    "        self.fc = nn.Linear(21632, out_size)\n",
    "\n",
    "    def forward(self, x):\n",
    "        out = self.layer1(x)\n",
    "        print(out.shape)\n",
    "\n",
    "        out = self.layer2(out)\n",
    "        print(out.shape)\n",
    "\n",
    "        out = self.layer3(out)\n",
    "        print(out.shape)\n",
    "\n",
    "        # out = self.layer4(out)\n",
    "        # print(out.shape)\n",
    "\n",
    "        out = torch.reshape(out, (out.size(0), 21632))\n",
    "        print(out.shape)\n",
    "\n",
    "        out = self.fc(out)\n",
    "        print(out.shape)\n",
    "\n",
    "        return out"
   ]
  },
  {
   "cell_type": "code",
   "execution_count": 64,
   "metadata": {},
   "outputs": [],
   "source": [
    "model = ConvNet()"
   ]
  },
  {
   "cell_type": "code",
   "execution_count": 65,
   "metadata": {},
   "outputs": [
    {
     "name": "stdout",
     "output_type": "stream",
     "text": [
      "cpu\n"
     ]
    }
   ],
   "source": [
    "device = torch.device(\"cuda:0\" if torch.cuda.is_available() else \"cpu\")\n",
    "print(device)"
   ]
  },
  {
   "cell_type": "code",
   "execution_count": 66,
   "metadata": {},
   "outputs": [
    {
     "data": {
      "text/plain": [
       "ConvNet(\n",
       "  (layer1): Sequential(\n",
       "    (0): Conv2d(4, 8, kernel_size=(3, 3), stride=(1, 1))\n",
       "    (1): BatchNorm2d(8, eps=1e-05, momentum=0.1, affine=True, track_running_stats=True)\n",
       "    (2): ReLU()\n",
       "    (3): Conv2d(8, 8, kernel_size=(2, 2), stride=(2, 2))\n",
       "  )\n",
       "  (layer2): Sequential(\n",
       "    (0): Conv2d(8, 16, kernel_size=(3, 3), stride=(1, 1))\n",
       "    (1): BatchNorm2d(16, eps=1e-05, momentum=0.1, affine=True, track_running_stats=True)\n",
       "    (2): ReLU()\n",
       "    (3): Conv2d(16, 16, kernel_size=(2, 2), stride=(2, 2))\n",
       "  )\n",
       "  (layer3): Sequential(\n",
       "    (0): Conv2d(16, 32, kernel_size=(3, 3), stride=(1, 1))\n",
       "    (1): BatchNorm2d(32, eps=1e-05, momentum=0.1, affine=True, track_running_stats=True)\n",
       "    (2): ReLU()\n",
       "    (3): MaxPool2d(kernel_size=2, stride=2, padding=0, dilation=1, ceil_mode=False)\n",
       "  )\n",
       "  (fc): Linear(in_features=21632, out_features=2, bias=True)\n",
       ")"
      ]
     },
     "execution_count": 66,
     "metadata": {},
     "output_type": "execute_result"
    }
   ],
   "source": [
    "model.to(device)"
   ]
  },
  {
   "cell_type": "code",
   "execution_count": 67,
   "metadata": {},
   "outputs": [],
   "source": [
    "X_train = X_train.to(device)\n",
    "y_train = y_train.to(device)"
   ]
  },
  {
   "cell_type": "markdown",
   "metadata": {},
   "source": [
    "### Train the CNN"
   ]
  },
  {
   "cell_type": "code",
   "execution_count": 68,
   "metadata": {},
   "outputs": [],
   "source": [
    "learning_rate = .001\n",
    "criterion = nn.CrossEntropyLoss()\n",
    "optimizer = torch.optim.Adam(model.parameters(), lr = learning_rate)"
   ]
  },
  {
   "cell_type": "code",
   "execution_count": 69,
   "metadata": {},
   "outputs": [],
   "source": [
    "num_epochs = 100\n",
    "loss_values = list()"
   ]
  },
  {
   "cell_type": "code",
   "execution_count": 70,
   "metadata": {},
   "outputs": [
    {
     "name": "stdout",
     "output_type": "stream",
     "text": [
      "torch.Size([265, 8, 111, 111])\n",
      "torch.Size([265, 16, 54, 54])\n",
      "torch.Size([265, 32, 26, 26])\n",
      "torch.Size([265, 21632])\n",
      "torch.Size([265, 2])\n",
      "0 0.8407371640205383\n",
      "torch.Size([265, 8, 111, 111])\n",
      "torch.Size([265, 16, 54, 54])\n",
      "torch.Size([265, 32, 26, 26])\n",
      "torch.Size([265, 21632])\n",
      "torch.Size([265, 2])\n",
      "1 7.719083309173584\n",
      "torch.Size([265, 8, 111, 111])\n",
      "torch.Size([265, 16, 54, 54])\n",
      "torch.Size([265, 32, 26, 26])\n",
      "torch.Size([265, 21632])\n",
      "torch.Size([265, 2])\n",
      "2 9.3939847946167\n",
      "torch.Size([265, 8, 111, 111])\n",
      "torch.Size([265, 16, 54, 54])\n",
      "torch.Size([265, 32, 26, 26])\n",
      "torch.Size([265, 21632])\n",
      "torch.Size([265, 2])\n",
      "3 8.450217247009277\n",
      "torch.Size([265, 8, 111, 111])\n",
      "torch.Size([265, 16, 54, 54])\n",
      "torch.Size([265, 32, 26, 26])\n",
      "torch.Size([265, 21632])\n",
      "torch.Size([265, 2])\n",
      "4 6.189974784851074\n",
      "torch.Size([265, 8, 111, 111])\n",
      "torch.Size([265, 16, 54, 54])\n",
      "torch.Size([265, 32, 26, 26])\n",
      "torch.Size([265, 21632])\n",
      "torch.Size([265, 2])\n",
      "5 3.297335386276245\n",
      "torch.Size([265, 8, 111, 111])\n",
      "torch.Size([265, 16, 54, 54])\n",
      "torch.Size([265, 32, 26, 26])\n",
      "torch.Size([265, 21632])\n",
      "torch.Size([265, 2])\n",
      "6 0.301601380109787\n",
      "torch.Size([265, 8, 111, 111])\n",
      "torch.Size([265, 16, 54, 54])\n",
      "torch.Size([265, 32, 26, 26])\n",
      "torch.Size([265, 21632])\n",
      "torch.Size([265, 2])\n",
      "7 10.488982200622559\n",
      "torch.Size([265, 8, 111, 111])\n",
      "torch.Size([265, 16, 54, 54])\n",
      "torch.Size([265, 32, 26, 26])\n",
      "torch.Size([265, 21632])\n",
      "torch.Size([265, 2])\n",
      "8 6.314240455627441\n",
      "torch.Size([265, 8, 111, 111])\n",
      "torch.Size([265, 16, 54, 54])\n",
      "torch.Size([265, 32, 26, 26])\n",
      "torch.Size([265, 21632])\n",
      "torch.Size([265, 2])\n",
      "9 0.2945506274700165\n",
      "torch.Size([265, 8, 111, 111])\n",
      "torch.Size([265, 16, 54, 54])\n",
      "torch.Size([265, 32, 26, 26])\n",
      "torch.Size([265, 21632])\n",
      "torch.Size([265, 2])\n",
      "10 1.6317836046218872\n",
      "torch.Size([265, 8, 111, 111])\n",
      "torch.Size([265, 16, 54, 54])\n",
      "torch.Size([265, 32, 26, 26])\n",
      "torch.Size([265, 21632])\n",
      "torch.Size([265, 2])\n",
      "11 2.5508601665496826\n",
      "torch.Size([265, 8, 111, 111])\n",
      "torch.Size([265, 16, 54, 54])\n",
      "torch.Size([265, 32, 26, 26])\n",
      "torch.Size([265, 21632])\n",
      "torch.Size([265, 2])\n",
      "12 3.033062696456909\n",
      "torch.Size([265, 8, 111, 111])\n",
      "torch.Size([265, 16, 54, 54])\n",
      "torch.Size([265, 32, 26, 26])\n",
      "torch.Size([265, 21632])\n",
      "torch.Size([265, 2])\n",
      "13 3.179011106491089\n",
      "torch.Size([265, 8, 111, 111])\n",
      "torch.Size([265, 16, 54, 54])\n",
      "torch.Size([265, 32, 26, 26])\n",
      "torch.Size([265, 21632])\n",
      "torch.Size([265, 2])\n",
      "14 3.076460123062134\n",
      "torch.Size([265, 8, 111, 111])\n",
      "torch.Size([265, 16, 54, 54])\n",
      "torch.Size([265, 32, 26, 26])\n",
      "torch.Size([265, 21632])\n",
      "torch.Size([265, 2])\n",
      "15 2.797675609588623\n",
      "torch.Size([265, 8, 111, 111])\n",
      "torch.Size([265, 16, 54, 54])\n",
      "torch.Size([265, 32, 26, 26])\n",
      "torch.Size([265, 21632])\n",
      "torch.Size([265, 2])\n",
      "16 2.3997647762298584\n",
      "torch.Size([265, 8, 111, 111])\n",
      "torch.Size([265, 16, 54, 54])\n",
      "torch.Size([265, 32, 26, 26])\n",
      "torch.Size([265, 21632])\n",
      "torch.Size([265, 2])\n",
      "17 1.9231181144714355\n",
      "torch.Size([265, 8, 111, 111])\n",
      "torch.Size([265, 16, 54, 54])\n",
      "torch.Size([265, 32, 26, 26])\n",
      "torch.Size([265, 21632])\n",
      "torch.Size([265, 2])\n",
      "18 1.4021598100662231\n",
      "torch.Size([265, 8, 111, 111])\n",
      "torch.Size([265, 16, 54, 54])\n",
      "torch.Size([265, 32, 26, 26])\n",
      "torch.Size([265, 21632])\n",
      "torch.Size([265, 2])\n",
      "19 0.893867015838623\n",
      "torch.Size([265, 8, 111, 111])\n",
      "torch.Size([265, 16, 54, 54])\n",
      "torch.Size([265, 32, 26, 26])\n",
      "torch.Size([265, 21632])\n",
      "torch.Size([265, 2])\n",
      "20 0.5180566906929016\n",
      "torch.Size([265, 8, 111, 111])\n",
      "torch.Size([265, 16, 54, 54])\n",
      "torch.Size([265, 32, 26, 26])\n",
      "torch.Size([265, 21632])\n",
      "torch.Size([265, 2])\n",
      "21 0.3841499388217926\n",
      "torch.Size([265, 8, 111, 111])\n",
      "torch.Size([265, 16, 54, 54])\n",
      "torch.Size([265, 32, 26, 26])\n",
      "torch.Size([265, 21632])\n",
      "torch.Size([265, 2])\n",
      "22 0.47191527485847473\n",
      "torch.Size([265, 8, 111, 111])\n",
      "torch.Size([265, 16, 54, 54])\n",
      "torch.Size([265, 32, 26, 26])\n",
      "torch.Size([265, 21632])\n",
      "torch.Size([265, 2])\n",
      "23 0.7345108389854431\n",
      "torch.Size([265, 8, 111, 111])\n",
      "torch.Size([265, 16, 54, 54])\n",
      "torch.Size([265, 32, 26, 26])\n",
      "torch.Size([265, 21632])\n",
      "torch.Size([265, 2])\n",
      "24 0.9841480255126953\n",
      "torch.Size([265, 8, 111, 111])\n",
      "torch.Size([265, 16, 54, 54])\n",
      "torch.Size([265, 32, 26, 26])\n",
      "torch.Size([265, 21632])\n",
      "torch.Size([265, 2])\n",
      "25 0.9810469746589661\n",
      "torch.Size([265, 8, 111, 111])\n",
      "torch.Size([265, 16, 54, 54])\n",
      "torch.Size([265, 32, 26, 26])\n",
      "torch.Size([265, 21632])\n",
      "torch.Size([265, 2])\n",
      "26 0.7483985424041748\n",
      "torch.Size([265, 8, 111, 111])\n",
      "torch.Size([265, 16, 54, 54])\n",
      "torch.Size([265, 32, 26, 26])\n",
      "torch.Size([265, 21632])\n",
      "torch.Size([265, 2])\n",
      "27 0.5017454624176025\n",
      "torch.Size([265, 8, 111, 111])\n",
      "torch.Size([265, 16, 54, 54])\n",
      "torch.Size([265, 32, 26, 26])\n",
      "torch.Size([265, 21632])\n",
      "torch.Size([265, 2])\n",
      "28 0.3615131974220276\n",
      "torch.Size([265, 8, 111, 111])\n",
      "torch.Size([265, 16, 54, 54])\n",
      "torch.Size([265, 32, 26, 26])\n",
      "torch.Size([265, 21632])\n",
      "torch.Size([265, 2])\n",
      "29 0.3143552839756012\n",
      "torch.Size([265, 8, 111, 111])\n",
      "torch.Size([265, 16, 54, 54])\n",
      "torch.Size([265, 32, 26, 26])\n",
      "torch.Size([265, 21632])\n",
      "torch.Size([265, 2])\n",
      "30 0.32407087087631226\n",
      "torch.Size([265, 8, 111, 111])\n",
      "torch.Size([265, 16, 54, 54])\n",
      "torch.Size([265, 32, 26, 26])\n",
      "torch.Size([265, 21632])\n",
      "torch.Size([265, 2])\n",
      "31 0.36458131670951843\n",
      "torch.Size([265, 8, 111, 111])\n",
      "torch.Size([265, 16, 54, 54])\n",
      "torch.Size([265, 32, 26, 26])\n",
      "torch.Size([265, 21632])\n",
      "torch.Size([265, 2])\n",
      "32 0.4102974236011505\n",
      "torch.Size([265, 8, 111, 111])\n",
      "torch.Size([265, 16, 54, 54])\n",
      "torch.Size([265, 32, 26, 26])\n",
      "torch.Size([265, 21632])\n",
      "torch.Size([265, 2])\n",
      "33 0.4418282210826874\n",
      "torch.Size([265, 8, 111, 111])\n",
      "torch.Size([265, 16, 54, 54])\n",
      "torch.Size([265, 32, 26, 26])\n",
      "torch.Size([265, 21632])\n",
      "torch.Size([265, 2])\n",
      "34 0.4467048645019531\n",
      "torch.Size([265, 8, 111, 111])\n",
      "torch.Size([265, 16, 54, 54])\n",
      "torch.Size([265, 32, 26, 26])\n",
      "torch.Size([265, 21632])\n",
      "torch.Size([265, 2])\n",
      "35 0.42036744952201843\n",
      "torch.Size([265, 8, 111, 111])\n",
      "torch.Size([265, 16, 54, 54])\n",
      "torch.Size([265, 32, 26, 26])\n",
      "torch.Size([265, 21632])\n",
      "torch.Size([265, 2])\n",
      "36 0.3670114278793335\n",
      "torch.Size([265, 8, 111, 111])\n",
      "torch.Size([265, 16, 54, 54])\n",
      "torch.Size([265, 32, 26, 26])\n",
      "torch.Size([265, 21632])\n",
      "torch.Size([265, 2])\n",
      "37 0.29863473773002625\n",
      "torch.Size([265, 8, 111, 111])\n",
      "torch.Size([265, 16, 54, 54])\n",
      "torch.Size([265, 32, 26, 26])\n",
      "torch.Size([265, 21632])\n",
      "torch.Size([265, 2])\n",
      "38 0.2327001392841339\n",
      "torch.Size([265, 8, 111, 111])\n",
      "torch.Size([265, 16, 54, 54])\n",
      "torch.Size([265, 32, 26, 26])\n",
      "torch.Size([265, 21632])\n",
      "torch.Size([265, 2])\n",
      "39 0.18473173677921295\n",
      "torch.Size([265, 8, 111, 111])\n",
      "torch.Size([265, 16, 54, 54])\n",
      "torch.Size([265, 32, 26, 26])\n",
      "torch.Size([265, 21632])\n",
      "torch.Size([265, 2])\n",
      "40 0.1617167592048645\n",
      "torch.Size([265, 8, 111, 111])\n",
      "torch.Size([265, 16, 54, 54])\n",
      "torch.Size([265, 32, 26, 26])\n",
      "torch.Size([265, 21632])\n",
      "torch.Size([265, 2])\n",
      "41 0.16454647481441498\n",
      "torch.Size([265, 8, 111, 111])\n",
      "torch.Size([265, 16, 54, 54])\n",
      "torch.Size([265, 32, 26, 26])\n",
      "torch.Size([265, 21632])\n",
      "torch.Size([265, 2])\n",
      "42 0.1865428388118744\n",
      "torch.Size([265, 8, 111, 111])\n",
      "torch.Size([265, 16, 54, 54])\n",
      "torch.Size([265, 32, 26, 26])\n",
      "torch.Size([265, 21632])\n",
      "torch.Size([265, 2])\n",
      "43 0.21140198409557343\n",
      "torch.Size([265, 8, 111, 111])\n",
      "torch.Size([265, 16, 54, 54])\n",
      "torch.Size([265, 32, 26, 26])\n",
      "torch.Size([265, 21632])\n",
      "torch.Size([265, 2])\n",
      "44 0.21713854372501373\n",
      "torch.Size([265, 8, 111, 111])\n",
      "torch.Size([265, 16, 54, 54])\n",
      "torch.Size([265, 32, 26, 26])\n",
      "torch.Size([265, 21632])\n",
      "torch.Size([265, 2])\n",
      "45 0.19473658502101898\n",
      "torch.Size([265, 8, 111, 111])\n",
      "torch.Size([265, 16, 54, 54])\n",
      "torch.Size([265, 32, 26, 26])\n",
      "torch.Size([265, 21632])\n",
      "torch.Size([265, 2])\n",
      "46 0.1565397083759308\n",
      "torch.Size([265, 8, 111, 111])\n",
      "torch.Size([265, 16, 54, 54])\n",
      "torch.Size([265, 32, 26, 26])\n",
      "torch.Size([265, 21632])\n",
      "torch.Size([265, 2])\n",
      "47 0.1229763999581337\n",
      "torch.Size([265, 8, 111, 111])\n",
      "torch.Size([265, 16, 54, 54])\n",
      "torch.Size([265, 32, 26, 26])\n",
      "torch.Size([265, 21632])\n",
      "torch.Size([265, 2])\n",
      "48 0.10449296236038208\n",
      "torch.Size([265, 8, 111, 111])\n",
      "torch.Size([265, 16, 54, 54])\n",
      "torch.Size([265, 32, 26, 26])\n",
      "torch.Size([265, 21632])\n",
      "torch.Size([265, 2])\n",
      "49 0.10010991990566254\n",
      "torch.Size([265, 8, 111, 111])\n",
      "torch.Size([265, 16, 54, 54])\n",
      "torch.Size([265, 32, 26, 26])\n",
      "torch.Size([265, 21632])\n",
      "torch.Size([265, 2])\n",
      "50 0.1042284369468689\n",
      "torch.Size([265, 8, 111, 111])\n",
      "torch.Size([265, 16, 54, 54])\n",
      "torch.Size([265, 32, 26, 26])\n",
      "torch.Size([265, 21632])\n",
      "torch.Size([265, 2])\n",
      "51 0.11062871664762497\n",
      "torch.Size([265, 8, 111, 111])\n",
      "torch.Size([265, 16, 54, 54])\n",
      "torch.Size([265, 32, 26, 26])\n",
      "torch.Size([265, 21632])\n",
      "torch.Size([265, 2])\n",
      "52 0.11374630779027939\n",
      "torch.Size([265, 8, 111, 111])\n",
      "torch.Size([265, 16, 54, 54])\n",
      "torch.Size([265, 32, 26, 26])\n",
      "torch.Size([265, 21632])\n",
      "torch.Size([265, 2])\n",
      "53 0.11022131890058517\n",
      "torch.Size([265, 8, 111, 111])\n",
      "torch.Size([265, 16, 54, 54])\n",
      "torch.Size([265, 32, 26, 26])\n",
      "torch.Size([265, 21632])\n",
      "torch.Size([265, 2])\n",
      "54 0.10010504722595215\n",
      "torch.Size([265, 8, 111, 111])\n",
      "torch.Size([265, 16, 54, 54])\n",
      "torch.Size([265, 32, 26, 26])\n",
      "torch.Size([265, 21632])\n",
      "torch.Size([265, 2])\n",
      "55 0.08653406798839569\n",
      "torch.Size([265, 8, 111, 111])\n",
      "torch.Size([265, 16, 54, 54])\n",
      "torch.Size([265, 32, 26, 26])\n",
      "torch.Size([265, 21632])\n",
      "torch.Size([265, 2])\n",
      "56 0.07408472150564194\n",
      "torch.Size([265, 8, 111, 111])\n",
      "torch.Size([265, 16, 54, 54])\n",
      "torch.Size([265, 32, 26, 26])\n",
      "torch.Size([265, 21632])\n",
      "torch.Size([265, 2])\n",
      "57 0.06651134788990021\n",
      "torch.Size([265, 8, 111, 111])\n",
      "torch.Size([265, 16, 54, 54])\n",
      "torch.Size([265, 32, 26, 26])\n",
      "torch.Size([265, 21632])\n",
      "torch.Size([265, 2])\n",
      "58 0.06497000902891159\n",
      "torch.Size([265, 8, 111, 111])\n",
      "torch.Size([265, 16, 54, 54])\n",
      "torch.Size([265, 32, 26, 26])\n",
      "torch.Size([265, 21632])\n",
      "torch.Size([265, 2])\n",
      "59 0.06771229952573776\n",
      "torch.Size([265, 8, 111, 111])\n",
      "torch.Size([265, 16, 54, 54])\n",
      "torch.Size([265, 32, 26, 26])\n",
      "torch.Size([265, 21632])\n",
      "torch.Size([265, 2])\n",
      "60 0.0710439532995224\n",
      "torch.Size([265, 8, 111, 111])\n",
      "torch.Size([265, 16, 54, 54])\n",
      "torch.Size([265, 32, 26, 26])\n",
      "torch.Size([265, 21632])\n",
      "torch.Size([265, 2])\n",
      "61 0.07129153609275818\n",
      "torch.Size([265, 8, 111, 111])\n",
      "torch.Size([265, 16, 54, 54])\n",
      "torch.Size([265, 32, 26, 26])\n",
      "torch.Size([265, 21632])\n",
      "torch.Size([265, 2])\n",
      "62 0.06714629381895065\n",
      "torch.Size([265, 8, 111, 111])\n",
      "torch.Size([265, 16, 54, 54])\n",
      "torch.Size([265, 32, 26, 26])\n",
      "torch.Size([265, 21632])\n",
      "torch.Size([265, 2])\n",
      "63 0.060323815792798996\n",
      "torch.Size([265, 8, 111, 111])\n",
      "torch.Size([265, 16, 54, 54])\n",
      "torch.Size([265, 32, 26, 26])\n",
      "torch.Size([265, 21632])\n",
      "torch.Size([265, 2])\n",
      "64 0.05381644889712334\n",
      "torch.Size([265, 8, 111, 111])\n",
      "torch.Size([265, 16, 54, 54])\n",
      "torch.Size([265, 32, 26, 26])\n",
      "torch.Size([265, 21632])\n",
      "torch.Size([265, 2])\n",
      "65 0.04968112334609032\n",
      "torch.Size([265, 8, 111, 111])\n",
      "torch.Size([265, 16, 54, 54])\n",
      "torch.Size([265, 32, 26, 26])\n",
      "torch.Size([265, 21632])\n",
      "torch.Size([265, 2])\n",
      "66 0.04823627695441246\n",
      "torch.Size([265, 8, 111, 111])\n",
      "torch.Size([265, 16, 54, 54])\n",
      "torch.Size([265, 32, 26, 26])\n",
      "torch.Size([265, 21632])\n",
      "torch.Size([265, 2])\n",
      "67 0.04851961508393288\n",
      "torch.Size([265, 8, 111, 111])\n",
      "torch.Size([265, 16, 54, 54])\n",
      "torch.Size([265, 32, 26, 26])\n",
      "torch.Size([265, 21632])\n",
      "torch.Size([265, 2])\n",
      "68 0.04910391941666603\n",
      "torch.Size([265, 8, 111, 111])\n",
      "torch.Size([265, 16, 54, 54])\n",
      "torch.Size([265, 32, 26, 26])\n",
      "torch.Size([265, 21632])\n",
      "torch.Size([265, 2])\n",
      "69 0.04884065315127373\n",
      "torch.Size([265, 8, 111, 111])\n",
      "torch.Size([265, 16, 54, 54])\n",
      "torch.Size([265, 32, 26, 26])\n",
      "torch.Size([265, 21632])\n",
      "torch.Size([265, 2])\n",
      "70 0.047303251922130585\n",
      "torch.Size([265, 8, 111, 111])\n",
      "torch.Size([265, 16, 54, 54])\n",
      "torch.Size([265, 32, 26, 26])\n",
      "torch.Size([265, 21632])\n",
      "torch.Size([265, 2])\n",
      "71 0.04479209706187248\n",
      "torch.Size([265, 8, 111, 111])\n",
      "torch.Size([265, 16, 54, 54])\n",
      "torch.Size([265, 32, 26, 26])\n",
      "torch.Size([265, 21632])\n",
      "torch.Size([265, 2])\n",
      "72 0.042027030140161514\n",
      "torch.Size([265, 8, 111, 111])\n",
      "torch.Size([265, 16, 54, 54])\n",
      "torch.Size([265, 32, 26, 26])\n",
      "torch.Size([265, 21632])\n",
      "torch.Size([265, 2])\n",
      "73 0.039707012474536896\n",
      "torch.Size([265, 8, 111, 111])\n",
      "torch.Size([265, 16, 54, 54])\n",
      "torch.Size([265, 32, 26, 26])\n",
      "torch.Size([265, 21632])\n",
      "torch.Size([265, 2])\n",
      "74 0.03821161389350891\n",
      "torch.Size([265, 8, 111, 111])\n",
      "torch.Size([265, 16, 54, 54])\n",
      "torch.Size([265, 32, 26, 26])\n",
      "torch.Size([265, 21632])\n",
      "torch.Size([265, 2])\n",
      "75 0.037527021020650864\n",
      "torch.Size([265, 8, 111, 111])\n",
      "torch.Size([265, 16, 54, 54])\n",
      "torch.Size([265, 32, 26, 26])\n",
      "torch.Size([265, 21632])\n",
      "torch.Size([265, 2])\n",
      "76 0.03734053298830986\n",
      "torch.Size([265, 8, 111, 111])\n",
      "torch.Size([265, 16, 54, 54])\n",
      "torch.Size([265, 32, 26, 26])\n",
      "torch.Size([265, 21632])\n",
      "torch.Size([265, 2])\n",
      "77 0.0372205451130867\n",
      "torch.Size([265, 8, 111, 111])\n",
      "torch.Size([265, 16, 54, 54])\n",
      "torch.Size([265, 32, 26, 26])\n",
      "torch.Size([265, 21632])\n",
      "torch.Size([265, 2])\n",
      "78 0.03680278733372688\n",
      "torch.Size([265, 8, 111, 111])\n",
      "torch.Size([265, 16, 54, 54])\n",
      "torch.Size([265, 32, 26, 26])\n",
      "torch.Size([265, 21632])\n",
      "torch.Size([265, 2])\n",
      "79 0.03593163937330246\n",
      "torch.Size([265, 8, 111, 111])\n",
      "torch.Size([265, 16, 54, 54])\n",
      "torch.Size([265, 32, 26, 26])\n",
      "torch.Size([265, 21632])\n",
      "torch.Size([265, 2])\n",
      "80 0.03469524905085564\n",
      "torch.Size([265, 8, 111, 111])\n",
      "torch.Size([265, 16, 54, 54])\n",
      "torch.Size([265, 32, 26, 26])\n",
      "torch.Size([265, 21632])\n",
      "torch.Size([265, 2])\n",
      "81 0.03333637863397598\n",
      "torch.Size([265, 8, 111, 111])\n",
      "torch.Size([265, 16, 54, 54])\n",
      "torch.Size([265, 32, 26, 26])\n",
      "torch.Size([265, 21632])\n",
      "torch.Size([265, 2])\n",
      "82 0.0321083664894104\n",
      "torch.Size([265, 8, 111, 111])\n",
      "torch.Size([265, 16, 54, 54])\n",
      "torch.Size([265, 32, 26, 26])\n",
      "torch.Size([265, 21632])\n",
      "torch.Size([265, 2])\n",
      "83 0.03116360865533352\n",
      "torch.Size([265, 8, 111, 111])\n",
      "torch.Size([265, 16, 54, 54])\n",
      "torch.Size([265, 32, 26, 26])\n",
      "torch.Size([265, 21632])\n",
      "torch.Size([265, 2])\n",
      "84 0.030518604442477226\n",
      "torch.Size([265, 8, 111, 111])\n",
      "torch.Size([265, 16, 54, 54])\n",
      "torch.Size([265, 32, 26, 26])\n",
      "torch.Size([265, 21632])\n",
      "torch.Size([265, 2])\n",
      "85 0.030079973861575127\n",
      "torch.Size([265, 8, 111, 111])\n",
      "torch.Size([265, 16, 54, 54])\n",
      "torch.Size([265, 32, 26, 26])\n",
      "torch.Size([265, 21632])\n",
      "torch.Size([265, 2])\n",
      "86 0.029706180095672607\n",
      "torch.Size([265, 8, 111, 111])\n",
      "torch.Size([265, 16, 54, 54])\n",
      "torch.Size([265, 32, 26, 26])\n",
      "torch.Size([265, 21632])\n",
      "torch.Size([265, 2])\n",
      "87 0.02927168272435665\n",
      "torch.Size([265, 8, 111, 111])\n",
      "torch.Size([265, 16, 54, 54])\n",
      "torch.Size([265, 32, 26, 26])\n",
      "torch.Size([265, 21632])\n",
      "torch.Size([265, 2])\n",
      "88 0.028709663078188896\n",
      "torch.Size([265, 8, 111, 111])\n",
      "torch.Size([265, 16, 54, 54])\n",
      "torch.Size([265, 32, 26, 26])\n",
      "torch.Size([265, 21632])\n",
      "torch.Size([265, 2])\n",
      "89 0.028027720749378204\n",
      "torch.Size([265, 8, 111, 111])\n",
      "torch.Size([265, 16, 54, 54])\n",
      "torch.Size([265, 32, 26, 26])\n",
      "torch.Size([265, 21632])\n",
      "torch.Size([265, 2])\n",
      "90 0.027286972850561142\n",
      "torch.Size([265, 8, 111, 111])\n",
      "torch.Size([265, 16, 54, 54])\n",
      "torch.Size([265, 32, 26, 26])\n",
      "torch.Size([265, 21632])\n",
      "torch.Size([265, 2])\n",
      "91 0.026566902175545692\n",
      "torch.Size([265, 8, 111, 111])\n",
      "torch.Size([265, 16, 54, 54])\n",
      "torch.Size([265, 32, 26, 26])\n",
      "torch.Size([265, 21632])\n",
      "torch.Size([265, 2])\n",
      "92 0.025932231917977333\n",
      "torch.Size([265, 8, 111, 111])\n",
      "torch.Size([265, 16, 54, 54])\n",
      "torch.Size([265, 32, 26, 26])\n",
      "torch.Size([265, 21632])\n",
      "torch.Size([265, 2])\n",
      "93 0.025409827008843422\n",
      "torch.Size([265, 8, 111, 111])\n",
      "torch.Size([265, 16, 54, 54])\n",
      "torch.Size([265, 32, 26, 26])\n",
      "torch.Size([265, 21632])\n",
      "torch.Size([265, 2])\n",
      "94 0.02498551644384861\n",
      "torch.Size([265, 8, 111, 111])\n",
      "torch.Size([265, 16, 54, 54])\n",
      "torch.Size([265, 32, 26, 26])\n",
      "torch.Size([265, 21632])\n",
      "torch.Size([265, 2])\n",
      "95 0.024619590491056442\n",
      "torch.Size([265, 8, 111, 111])\n",
      "torch.Size([265, 16, 54, 54])\n",
      "torch.Size([265, 32, 26, 26])\n",
      "torch.Size([265, 21632])\n",
      "torch.Size([265, 2])\n",
      "96 0.024263279512524605\n",
      "torch.Size([265, 8, 111, 111])\n",
      "torch.Size([265, 16, 54, 54])\n",
      "torch.Size([265, 32, 26, 26])\n",
      "torch.Size([265, 21632])\n",
      "torch.Size([265, 2])\n",
      "97 0.02388080582022667\n",
      "torch.Size([265, 8, 111, 111])\n",
      "torch.Size([265, 16, 54, 54])\n",
      "torch.Size([265, 32, 26, 26])\n",
      "torch.Size([265, 21632])\n",
      "torch.Size([265, 2])\n",
      "98 0.023458268493413925\n",
      "torch.Size([265, 8, 111, 111])\n",
      "torch.Size([265, 16, 54, 54])\n",
      "torch.Size([265, 32, 26, 26])\n",
      "torch.Size([265, 21632])\n",
      "torch.Size([265, 2])\n",
      "99 0.023006057366728783\n"
     ]
    }
   ],
   "source": [
    "for epoch in range(num_epochs):\n",
    "    outputs = model(X_train)\n",
    "    loss = criterion(outputs, y_train)\n",
    "\n",
    "    optimizer.zero_grad()\n",
    "    loss.backward()\n",
    "    optimizer.step()\n",
    "\n",
    "    print(epoch, loss.item())\n",
    "    loss_values.append(loss.item())"
   ]
  },
  {
   "cell_type": "code",
   "execution_count": 72,
   "metadata": {},
   "outputs": [
    {
     "data": {
      "image/png": "[encoded data removed]",
      "text/plain": [
       "<Figure size 576x576 with 1 Axes>"
      ]
     },
     "metadata": {
      "needs_background": "light"
     },
     "output_type": "display_data"
    }
   ],
   "source": [
    "import matplotlib.pyplot as plt\n",
    "\n",
    "x = range(num_epochs)\n",
    "plt.figure(figsize= (8, 8));\n",
    "plt.plot(x, loss_values);\n",
    "plt.xlabel(\"Epoch\");\n",
    "plt.ylabel(\"Loss\");"
   ]
  },
  {
   "cell_type": "markdown",
   "metadata": {},
   "source": [
    "### Evaluate the results"
   ]
  },
  {
   "cell_type": "code",
   "execution_count": 73,
   "metadata": {},
   "outputs": [
    {
     "data": {
      "text/plain": [
       "ConvNet(\n",
       "  (layer1): Sequential(\n",
       "    (0): Conv2d(4, 8, kernel_size=(3, 3), stride=(1, 1))\n",
       "    (1): BatchNorm2d(8, eps=1e-05, momentum=0.1, affine=True, track_running_stats=True)\n",
       "    (2): ReLU()\n",
       "    (3): Conv2d(8, 8, kernel_size=(2, 2), stride=(2, 2))\n",
       "  )\n",
       "  (layer2): Sequential(\n",
       "    (0): Conv2d(8, 16, kernel_size=(3, 3), stride=(1, 1))\n",
       "    (1): BatchNorm2d(16, eps=1e-05, momentum=0.1, affine=True, track_running_stats=True)\n",
       "    (2): ReLU()\n",
       "    (3): Conv2d(16, 16, kernel_size=(2, 2), stride=(2, 2))\n",
       "  )\n",
       "  (layer3): Sequential(\n",
       "    (0): Conv2d(16, 32, kernel_size=(3, 3), stride=(1, 1))\n",
       "    (1): BatchNorm2d(32, eps=1e-05, momentum=0.1, affine=True, track_running_stats=True)\n",
       "    (2): ReLU()\n",
       "    (3): MaxPool2d(kernel_size=2, stride=2, padding=0, dilation=1, ceil_mode=False)\n",
       "  )\n",
       "  (fc): Linear(in_features=21632, out_features=2, bias=True)\n",
       ")"
      ]
     },
     "execution_count": 73,
     "metadata": {},
     "output_type": "execute_result"
    }
   ],
   "source": [
    "model.eval()"
   ]
  },
  {
   "cell_type": "code",
   "execution_count": 74,
   "metadata": {},
   "outputs": [],
   "source": [
    "from sklearn.metrics import accuracy_score, precision_score, recall_score"
   ]
  },
  {
   "cell_type": "code",
   "execution_count": 75,
   "metadata": {},
   "outputs": [
    {
     "name": "stdout",
     "output_type": "stream",
     "text": [
      "torch.Size([132, 8, 111, 111])\n",
      "torch.Size([132, 16, 54, 54])\n",
      "torch.Size([132, 32, 26, 26])\n",
      "torch.Size([132, 21632])\n",
      "torch.Size([132, 2])\n",
      "Accuracy:  0.7424242424242424\n",
      "Precision:  0.7316287878787879\n",
      "Recall:  0.7424242424242424\n"
     ]
    }
   ],
   "source": [
    "with torch.no_grad():\n",
    "    correct = 0\n",
    "    total = 0\n",
    "\n",
    "    CNN_outputs = model(X_test)\n",
    "    _, predictions = torch.max(CNN_outputs.data, 1)\n",
    "\n",
    "    y_test_np = y_test.cpu().numpy()\n",
    "    predictions = predictions.cpu()\n",
    "\n",
    "    print(\"Accuracy: \", accuracy_score(y_test_np, predictions))\n",
    "    print(\"Precision: \", precision_score(y_test_np, predictions, average='weighted'))\n",
    "    print(\"Recall: \", recall_score(y_test_np, predictions, average='weighted'))"
   ]
  },
  {
   "cell_type": "code",
   "execution_count": 76,
   "metadata": {},
   "outputs": [
    {
     "name": "stdout",
     "output_type": "stream",
     "text": [
      "tensor([1, 0, 0, 0, 1, 0, 1, 0, 0, 0, 1, 0, 1, 1, 0, 0, 0, 0, 0, 0, 1, 0, 0, 1,\n",
      "        1, 0, 1, 1, 0, 0, 1, 0, 0, 0, 1, 0, 0, 0, 0, 0, 1, 0, 0, 0, 0, 1, 1, 0,\n",
      "        0, 1, 0, 0, 0, 1, 1, 0, 0, 0, 0, 0, 1, 1, 0, 0, 0, 0, 0, 0, 0, 0, 1, 0,\n",
      "        0, 0, 0, 0, 0, 0, 1, 1, 0, 1, 0, 0, 0, 1, 0, 0, 0, 0, 1, 0, 0, 0, 0, 0,\n",
      "        0, 1, 0, 1, 1, 1, 0, 1, 1, 0, 0, 0, 1, 0, 0, 0, 0, 0, 1, 0, 0, 0, 0, 1,\n",
      "        1, 0, 1, 0, 0, 0, 0, 0, 0, 0, 0, 0])\n",
      "tensor([0, 1, 0, 0, 1, 0, 1, 1, 0, 0, 0, 0, 1, 1, 0, 0, 0, 0, 0, 0, 0, 1, 0, 1,\n",
      "        0, 0, 1, 0, 0, 0, 1, 0, 0, 0, 1, 0, 0, 0, 1, 0, 1, 0, 1, 0, 0, 0, 0, 0,\n",
      "        0, 0, 0, 0, 0, 1, 1, 0, 0, 0, 0, 0, 1, 0, 0, 0, 1, 1, 0, 0, 0, 0, 0, 0,\n",
      "        1, 0, 0, 1, 0, 0, 1, 0, 0, 0, 0, 0, 0, 0, 0, 0, 0, 0, 0, 0, 1, 0, 0, 0,\n",
      "        0, 1, 0, 1, 0, 0, 0, 0, 1, 0, 0, 0, 1, 1, 0, 0, 0, 0, 0, 0, 0, 0, 0, 0,\n",
      "        0, 1, 1, 0, 0, 0, 1, 0, 0, 0, 0, 1])\n"
     ]
    }
   ],
   "source": [
    "print(y_test)\n",
    "print(predictions)"
   ]
  },
  {
   "cell_type": "code",
   "execution_count": null,
   "metadata": {},
   "outputs": [],
   "source": []
  }
 ],
 "metadata": {
  "interpreter": {
   "hash": "8d8d05ed87e337413656f0bd9178462fe9e2ca49219e8d2a45967f66d508bfb6"
  },
  "kernelspec": {
   "display_name": "Python 3.9.7 ('fcdd_dima2022')",
   "language": "python",
   "name": "python3"
  },
  "language_info": {
   "codemirror_mode": {
    "name": "ipython",
    "version": 3
   },
   "file_extension": ".py",
   "mimetype": "text/x-python",
   "name": "python",
   "nbconvert_exporter": "python",
   "pygments_lexer": "ipython3",
   "version": "3.9.7"
  },
  "orig_nbformat": 4
 },
 "nbformat": 4,
 "nbformat_minor": 2
}

{
 "cells": [
  {
   "cell_type": "code",
   "execution_count": 54,
   "metadata": {},
   "outputs": [],
   "source": [
    "import pandas as pd \n",
    "import wandb\n",
    "api = wandb.Api()\n",
    "\n",
    "# Project is specified by <entity/project-name>\n",
    "runs = api.runs(\"mines-paristech-cmm/mvtec-debug\")\n",
    "\n",
    "summary_list, config_list, name_list = [], [], []\n",
    "tags_list = []\n",
    "ids_list = []\n",
    "for run in runs: \n",
    "    summary_list.append(run.summary._json_dict)\n",
    "    config_list.append(\n",
    "        {k: v for k,v in run.config.items()\n",
    "          if not k.startswith('_')})\n",
    "    name_list.append(run.name)\n",
    "    tags_list.append(run.tags)\n",
    "    ids_list.append(run.id)\n",
    "runs_df = pd.DataFrame({\n",
    "    \"summary\": summary_list,\n",
    "    \"config\": config_list,\n",
    "    \"name\": name_list,\n",
    "    'tags': tags_list,\n",
    "    'id': ids_list,\n",
    "    })"
   ]
  },
  {
   "cell_type": "code",
   "execution_count": 55,
   "metadata": {},
   "outputs": [
    {
     "data": {
      "text/plain": [
       "(80, 5)"
      ]
     },
     "execution_count": 55,
     "metadata": {},
     "output_type": "execute_result"
    }
   ],
   "source": [
    "runs_df.shape"
   ]
  },
  {
   "cell_type": "code",
   "execution_count": 56,
   "metadata": {},
   "outputs": [
    {
     "data": {
      "text/plain": [
       "Index(['summary', 'config', 'name', 'tags', 'id'], dtype='object')"
      ]
     },
     "execution_count": 56,
     "metadata": {},
     "output_type": "execute_result"
    }
   ],
   "source": [
    "runs_df.columns"
   ]
  },
  {
   "cell_type": "code",
   "execution_count": 57,
   "metadata": {},
   "outputs": [
    {
     "data": {
      "text/plain": [
       "{'dev01',\n",
       " 'gpu-triple-run',\n",
       " 'parallel-run-test',\n",
       " 'run-n-parallel-1',\n",
       " 'run-n-parallel-2',\n",
       " 'run-n-parallel-3',\n",
       " 'u2net',\n",
       " 'u2net-tweaking',\n",
       " 'u2net-tweaking-01'}"
      ]
     },
     "execution_count": 57,
     "metadata": {},
     "output_type": "execute_result"
    }
   ],
   "source": [
    "# unique tags in runs\n",
    "set.union(*runs_df[\"tags\"].apply(set).tolist())"
   ]
  },
  {
   "cell_type": "code",
   "execution_count": 58,
   "metadata": {},
   "outputs": [
    {
     "data": {
      "text/plain": [
       "(33, 5)"
      ]
     },
     "execution_count": 58,
     "metadata": {},
     "output_type": "execute_result"
    }
   ],
   "source": [
    "searched_tag = \"parallel-run-test\"\n",
    "is_parallel_run_test = runs_df[\"tags\"].apply(lambda tags: searched_tag in tags)\n",
    "df = runs_df[is_parallel_run_test].copy(deep=True)\n",
    "df.shape"
   ]
  },
  {
   "cell_type": "code",
   "execution_count": 59,
   "metadata": {},
   "outputs": [
    {
     "data": {
      "text/plain": [
       "{'dev01',\n",
       " 'parallel-run-test',\n",
       " 'run-n-parallel-1',\n",
       " 'run-n-parallel-2',\n",
       " 'run-n-parallel-3'}"
      ]
     },
     "execution_count": 59,
     "metadata": {},
     "output_type": "execute_result"
    }
   ],
   "source": [
    "# unique tags in the SELECTED runs \n",
    "set.union(*df[\"tags\"].apply(set).tolist())"
   ]
  },
  {
   "cell_type": "code",
   "execution_count": 60,
   "metadata": {},
   "outputs": [],
   "source": [
    "removed_tags = [\"dev01\", \"parallel-run-test\"]\n",
    "df[\"tags\"] = df[\"tags\"].apply(lambda tags: [tag for tag in tags if tag not in removed_tags][0])"
   ]
  },
  {
   "cell_type": "code",
   "execution_count": 68,
   "metadata": {},
   "outputs": [],
   "source": [
    "df[\"nparallel\"] = df[\"tags\"].apply(lambda tag: tag.split(\"-\")[-1]).apply(int)"
   ]
  },
  {
   "cell_type": "code",
   "execution_count": 72,
   "metadata": {},
   "outputs": [
    {
     "name": "stderr",
     "output_type": "stream",
     "text": [
      "100% (33 of 33) |########################| Elapsed Time: 0:03:43 Time:  0:03:43\n"
     ]
    }
   ],
   "source": [
    "import progressbar\n",
    "\n",
    "for rowidx, row in progressbar.progressbar(df.iterrows(), max_value=df.shape[0]):\n",
    "    run = api.run(f\"mines-paristech-cmm/mvtec-debug/{row['id']}\")\n",
    "    run.config.update(dict(nparallel=row[\"nparallel\"]))\n",
    "    run.save()"
   ]
  },
  {
   "cell_type": "code",
   "execution_count": null,
   "metadata": {},
   "outputs": [],
   "source": []
  }
 ],
 "metadata": {
  "kernelspec": {
   "display_name": "Python 3.9.12 ('genv')",
   "language": "python",
   "name": "python3"
  },
  "language_info": {
   "codemirror_mode": {
    "name": "ipython",
    "version": 3
   },
   "file_extension": ".py",
   "mimetype": "text/x-python",
   "name": "python",
   "nbconvert_exporter": "python",
   "pygments_lexer": "ipython3",
   "version": "3.9.12"
  },
  "orig_nbformat": 4,
  "vscode": {
   "interpreter": {
    "hash": "dbefe0203beb0481e6605383038aac293a16213add0aaad9c445996a9034b637"
   }
  }
 },
 "nbformat": 4,
 "nbformat_minor": 2
}

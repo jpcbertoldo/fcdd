{
 "cells": [
  {
   "cell_type": "code",
   "execution_count": 1,
   "metadata": {},
   "outputs": [
    {
     "name": "stdout",
     "output_type": "stream",
     "text": [
      "/usr/local/bin/python\n",
      "the line above should be /usr/local/bin/python\n"
     ]
    }
   ],
   "source": [
    "!which python\n",
    "!echo \"the line above should be /usr/local/bin/python\""
   ]
  },
  {
   "cell_type": "code",
   "execution_count": 2,
   "metadata": {},
   "outputs": [],
   "source": [
    "import pathlib"
   ]
  },
  {
   "cell_type": "code",
   "execution_count": 3,
   "metadata": {},
   "outputs": [
    {
     "data": {
      "application/vnd.google.colaboratory.intrinsic+json": {
       "type": "string"
      },
      "text/plain": [
       "'1.10.0+cu111'"
      ]
     },
     "execution_count": 3,
     "metadata": {},
     "output_type": "execute_result"
    }
   ],
   "source": [
    "import torch as tc\n",
    "tc.__version__"
   ]
  },
  {
   "cell_type": "code",
   "execution_count": 4,
   "metadata": {},
   "outputs": [
    {
     "data": {
      "text/plain": [
       "False"
      ]
     },
     "execution_count": 4,
     "metadata": {},
     "output_type": "execute_result"
    }
   ],
   "source": [
    "tc.cuda.is_available()"
   ]
  },
  {
   "cell_type": "code",
   "execution_count": 6,
   "metadata": {},
   "outputs": [
    {
     "name": "stdout",
     "output_type": "stream",
     "text": [
      "/content/drive/MyDrive/fcdd/python\n",
      "\u001b[K     |████████████████████████████████| 11.2 MB 4.4 MB/s eta 0:00:01\n",
      "\u001b[K     |████████████████████████████████| 60.4 MB 30 kB/s  eta 0:00:012   |██████▉                         | 12.9 MB 36.5 MB/s eta 0:00:02     |█████████████▎                  | 25.0 MB 1.5 MB/s eta 0:00:25     |██████████████████████▍         | 42.3 MB 1.3 MB/s eta 0:00:14     |█████████████████████████████   | 54.8 MB 1.3 MB/s eta 0:00:05\n",
      "\u001b[K     |████████████████████████████████| 38.1 MB 1.2 MB/s eta 0:00:011\n",
      "\u001b[K     |████████████████████████████████| 4.3 MB 39.8 MB/s eta 0:00:01\n",
      "\u001b[K     |████████████████████████████████| 56 kB 4.1 MB/s  eta 0:00:01\n",
      "\u001b[K     |████████████████████████████████| 280 kB 54.1 MB/s eta 0:00:01\n",
      "\u001b[K     |████████████████████████████████| 3.3 MB 42.3 MB/s eta 0:00:01\n",
      "\u001b[K     |████████████████████████████████| 474 kB 42.2 MB/s eta 0:00:01\n",
      "\u001b[K     |████████████████████████████████| 63 kB 1.6 MB/s  eta 0:00:01\n",
      "\u001b[K     |████████████████████████████████| 895 kB 33.8 MB/s eta 0:00:01\n",
      "\u001b[?25h  Building wheel for pprofile (setup.py) ... \u001b[?25l\u001b[?25hdone\n",
      "\u001b[31mERROR: pip's dependency resolver does not currently take into account all the packages that are installed. This behaviour is the source of the following dependency conflicts.\n",
      "tensorflow 2.8.0 requires tf-estimator-nightly==2.8.0.dev2021122109, which is not installed.\n",
      "google-colab 1.0.0 requires requests~=2.23.0, but you have requests 2.27.1 which is incompatible.\n",
      "google-colab 1.0.0 requires six~=1.15.0, but you have six 1.16.0 which is incompatible.\n",
      "datascience 0.10.6 requires folium==0.2.1, but you have folium 0.8.3 which is incompatible.\n",
      "albumentations 0.1.12 requires imgaug<0.2.7,>=0.2.5, but you have imgaug 0.2.9 which is incompatible.\u001b[0m\n"
     ]
    }
   ],
   "source": [
    "%cd /content/drive/MyDrive/fcdd/python\n",
    "%pwd\n",
    "%pip install --quiet --editable ."
   ]
  },
  {
   "cell_type": "code",
   "execution_count": 7,
   "metadata": {},
   "outputs": [],
   "source": [
    "import fcdd"
   ]
  }
 ],
 "metadata": {
  "kernelspec": {
   "display_name": "Python 3",
   "language": "python",
   "name": "python3"
  },
  "language_info": {
   "codemirror_mode": {
    "name": "ipython",
    "version": 3
   },
   "file_extension": ".py",
   "mimetype": "text/x-python",
   "name": "python",
   "nbconvert_exporter": "python",
   "pygments_lexer": "ipython3",
   "version": "3.7.12"
  }
 },
 "nbformat": 4,
 "nbformat_minor": 4
}
